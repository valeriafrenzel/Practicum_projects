{
 "cells": [
  {
   "cell_type": "markdown",
   "id": "22c544a1",
   "metadata": {},
   "source": [
    "**Проект: Статистический анализ данных популярного сервиса аренды самокатов GoFast**"
   ]
  },
  {
   "cell_type": "markdown",
   "id": "1279c26f",
   "metadata": {},
   "source": [
    "**Введение**\n",
    "\n",
    "В последние годы сервис аренды самокатов GoFast значительно расширил свою аудиторию, и для дальнейшего роста компании важно понять поведение пользователей и выявить возможности для оптимизации бизнес-процессов. В рамках данного исследования мы проведем статистический анализ данных о пользователях и их поездках, чтобы проверить ключевые гипотезы, которые могут способствовать улучшению сервиса.\n",
    "\n",
    "*Цель работы*\n",
    "\n",
    "Целью данного проекта является проведение глубокого анализа данных, предоставленных сервисом GoFast, с целью выявления закономерностей в поведении пользователей и проверки гипотез о влиянии различных факторов на доходность и частоту использования сервиса.\n",
    "\n",
    "*План работы*\n",
    "\n",
    "1. Загрузка данных:\n",
    "\n",
    "Импорт данных из CSV-файлов с помощью библиотеки pandas и предварительный просмотр каждого датафрейма.\n",
    "\n",
    "2. Предобработка данных:\n",
    "\n",
    "Приведение типов данных и проверка на наличие пропущенных значений и дубликатов.\n",
    "\n",
    "3. Исследовательский анализ данных:\n",
    "\n",
    "Визуализация информации о пользователях и поездках, включая частоту городов, соотношение подписчиков и пользователей без подписки, возраст пользователей, расстояние и продолжительность поездок.\n",
    "\n",
    "4. Объединение данных:\n",
    "\n",
    "Объединение информации о пользователях, поездках и подписках для более глубокого анализа, а также создание отдельных датафреймов для каждой категории пользователей.\n",
    "\n",
    "5. Подсчет выручки:\n",
    "\n",
    "Подсчет помесячной выручки на основе данных о поездках и условиях подписки, включая агрегацию данных.\n",
    "\n",
    "6. Проверка гипотез:\n",
    "\n",
    "Проверка гипотез о продолжительности поездок и расстоянии, а также анализ выручки от подписчиков и пользователей без подписки.\n",
    "\n",
    "7. Дополнительный анализ:\n",
    "\n",
    "Исследование возможности раздачи промокодов для увеличения числа подписчиков и оценка вероятности открытия уведомлений клиентами с использованием биномиального распределения и его нормальной аппроксимации.\n",
    "\n",
    "*Описание данных*\n",
    "\n",
    "Для анализа используются три основных набора данных:\n",
    "\n",
    "1. Пользователи — `users_go.csv`:\n",
    "   - `user_id`: уникальный идентификатор пользователя.\n",
    "   - `name`: имя пользователя.\n",
    "   - `age`: возраст пользователя.\n",
    "   - `city`: город проживания.\n",
    "   - `subscription_type`: тип подписки (free, ultra).\n",
    "\n",
    "2. Поездки — `rides_go.csv`:\n",
    "   - `user_id`: уникальный идентификатор пользователя.\n",
    "   - `distance`: расстояние, проходимое пользователем за одну поездку (в метрах).\n",
    "   - `duration`: продолжительность поездки (в минутах).\n",
    "   - `date`: дата поездки.\n",
    "\n",
    "3. Подписки — `subscriptions_go.csv`:\n",
    "   - `subscription_type`: тип подписки.\n",
    "   - `minute_price`: стоимость одной минуты поездки для данной подписки.\n",
    "   - `start_ride_price`: стоимость начала поездки.\n",
    "   - `subscription_fee`: ежемесячная стоимость подписки.\n",
    "\n",
    "Данное исследование направлено на улучшение понимания поведения пользователей, выявление ключевых факторов, способствующих их выбору, и предоставление обоснованных рекомендаций для повышения эффективности работы сервиса GoFast."
   ]
  },
  {
   "cell_type": "code",
   "execution_count": 1,
   "id": "df0ac72c",
   "metadata": {},
   "outputs": [],
   "source": [
    "import pandas as pd\n",
    "import matplotlib.pyplot as plt\n",
    "from math import factorial, exp\n",
    "from math import sqrt\n",
    "from scipy.stats import binom, norm\n",
    "from scipy import stats as st\n",
    "import seaborn as sns\n",
    "import warnings\n",
    "import numpy as np\n",
    "\n",
    "# Игнорирование предупреждений\n",
    "warnings.filterwarnings('ignore')"
   ]
  },
  {
   "cell_type": "markdown",
   "id": "21690a77",
   "metadata": {},
   "source": [
    "#### Шаг 1. Загрузка данных"
   ]
  },
  {
   "cell_type": "markdown",
   "id": "9004f9c1",
   "metadata": {},
   "source": [
    "Откроем файл с данными и изучим общую информацию:"
   ]
  },
  {
   "cell_type": "code",
   "execution_count": 2,
   "id": "19a77fbd",
   "metadata": {},
   "outputs": [],
   "source": [
    "users = pd.read_csv('/datasets/users_go.csv')"
   ]
  },
  {
   "cell_type": "code",
   "execution_count": 3,
   "id": "94fbec4b",
   "metadata": {},
   "outputs": [],
   "source": [
    "rides = pd.read_csv('/datasets/rides_go.csv')"
   ]
  },
  {
   "cell_type": "code",
   "execution_count": 4,
   "id": "313e3d66",
   "metadata": {},
   "outputs": [],
   "source": [
    "subscriptions = pd.read_csv('/datasets/subscriptions_go.csv')"
   ]
  },
  {
   "cell_type": "code",
   "execution_count": 5,
   "id": "e9c4ace8",
   "metadata": {},
   "outputs": [
    {
     "name": "stdout",
     "output_type": "stream",
     "text": [
      "<class 'pandas.core.frame.DataFrame'>\n",
      "RangeIndex: 18068 entries, 0 to 18067\n",
      "Data columns (total 4 columns):\n",
      " #   Column    Non-Null Count  Dtype  \n",
      "---  ------    --------------  -----  \n",
      " 0   user_id   18068 non-null  int64  \n",
      " 1   distance  18068 non-null  float64\n",
      " 2   duration  18068 non-null  float64\n",
      " 3   date      18068 non-null  object \n",
      "dtypes: float64(2), int64(1), object(1)\n",
      "memory usage: 564.8+ KB\n"
     ]
    }
   ],
   "source": [
    "rides.info()"
   ]
  },
  {
   "cell_type": "code",
   "execution_count": 6,
   "id": "e8113130",
   "metadata": {},
   "outputs": [
    {
     "data": {
      "text/html": [
       "<div>\n",
       "<style scoped>\n",
       "    .dataframe tbody tr th:only-of-type {\n",
       "        vertical-align: middle;\n",
       "    }\n",
       "\n",
       "    .dataframe tbody tr th {\n",
       "        vertical-align: top;\n",
       "    }\n",
       "\n",
       "    .dataframe thead th {\n",
       "        text-align: right;\n",
       "    }\n",
       "</style>\n",
       "<table border=\"1\" class=\"dataframe\">\n",
       "  <thead>\n",
       "    <tr style=\"text-align: right;\">\n",
       "      <th></th>\n",
       "      <th>user_id</th>\n",
       "      <th>distance</th>\n",
       "      <th>duration</th>\n",
       "      <th>date</th>\n",
       "    </tr>\n",
       "  </thead>\n",
       "  <tbody>\n",
       "    <tr>\n",
       "      <th>0</th>\n",
       "      <td>1</td>\n",
       "      <td>4409.919140</td>\n",
       "      <td>25.599769</td>\n",
       "      <td>2021-01-01</td>\n",
       "    </tr>\n",
       "    <tr>\n",
       "      <th>1</th>\n",
       "      <td>1</td>\n",
       "      <td>2617.592153</td>\n",
       "      <td>15.816871</td>\n",
       "      <td>2021-01-18</td>\n",
       "    </tr>\n",
       "    <tr>\n",
       "      <th>2</th>\n",
       "      <td>1</td>\n",
       "      <td>754.159807</td>\n",
       "      <td>6.232113</td>\n",
       "      <td>2021-04-20</td>\n",
       "    </tr>\n",
       "    <tr>\n",
       "      <th>3</th>\n",
       "      <td>1</td>\n",
       "      <td>2694.783254</td>\n",
       "      <td>18.511000</td>\n",
       "      <td>2021-08-11</td>\n",
       "    </tr>\n",
       "    <tr>\n",
       "      <th>4</th>\n",
       "      <td>1</td>\n",
       "      <td>4028.687306</td>\n",
       "      <td>26.265803</td>\n",
       "      <td>2021-08-28</td>\n",
       "    </tr>\n",
       "  </tbody>\n",
       "</table>\n",
       "</div>"
      ],
      "text/plain": [
       "   user_id     distance   duration        date\n",
       "0        1  4409.919140  25.599769  2021-01-01\n",
       "1        1  2617.592153  15.816871  2021-01-18\n",
       "2        1   754.159807   6.232113  2021-04-20\n",
       "3        1  2694.783254  18.511000  2021-08-11\n",
       "4        1  4028.687306  26.265803  2021-08-28"
      ]
     },
     "execution_count": 6,
     "metadata": {},
     "output_type": "execute_result"
    }
   ],
   "source": [
    "rides.head()"
   ]
  },
  {
   "cell_type": "code",
   "execution_count": 7,
   "id": "6dcc9c50",
   "metadata": {},
   "outputs": [
    {
     "name": "stdout",
     "output_type": "stream",
     "text": [
      "<class 'pandas.core.frame.DataFrame'>\n",
      "RangeIndex: 1565 entries, 0 to 1564\n",
      "Data columns (total 5 columns):\n",
      " #   Column             Non-Null Count  Dtype \n",
      "---  ------             --------------  ----- \n",
      " 0   user_id            1565 non-null   int64 \n",
      " 1   name               1565 non-null   object\n",
      " 2   age                1565 non-null   int64 \n",
      " 3   city               1565 non-null   object\n",
      " 4   subscription_type  1565 non-null   object\n",
      "dtypes: int64(2), object(3)\n",
      "memory usage: 61.3+ KB\n"
     ]
    }
   ],
   "source": [
    "users.info()"
   ]
  },
  {
   "cell_type": "code",
   "execution_count": 8,
   "id": "bae216c3",
   "metadata": {},
   "outputs": [
    {
     "data": {
      "text/html": [
       "<div>\n",
       "<style scoped>\n",
       "    .dataframe tbody tr th:only-of-type {\n",
       "        vertical-align: middle;\n",
       "    }\n",
       "\n",
       "    .dataframe tbody tr th {\n",
       "        vertical-align: top;\n",
       "    }\n",
       "\n",
       "    .dataframe thead th {\n",
       "        text-align: right;\n",
       "    }\n",
       "</style>\n",
       "<table border=\"1\" class=\"dataframe\">\n",
       "  <thead>\n",
       "    <tr style=\"text-align: right;\">\n",
       "      <th></th>\n",
       "      <th>user_id</th>\n",
       "      <th>name</th>\n",
       "      <th>age</th>\n",
       "      <th>city</th>\n",
       "      <th>subscription_type</th>\n",
       "    </tr>\n",
       "  </thead>\n",
       "  <tbody>\n",
       "    <tr>\n",
       "      <th>0</th>\n",
       "      <td>1</td>\n",
       "      <td>Кира</td>\n",
       "      <td>22</td>\n",
       "      <td>Тюмень</td>\n",
       "      <td>ultra</td>\n",
       "    </tr>\n",
       "    <tr>\n",
       "      <th>1</th>\n",
       "      <td>2</td>\n",
       "      <td>Станислав</td>\n",
       "      <td>31</td>\n",
       "      <td>Омск</td>\n",
       "      <td>ultra</td>\n",
       "    </tr>\n",
       "    <tr>\n",
       "      <th>2</th>\n",
       "      <td>3</td>\n",
       "      <td>Алексей</td>\n",
       "      <td>20</td>\n",
       "      <td>Москва</td>\n",
       "      <td>ultra</td>\n",
       "    </tr>\n",
       "    <tr>\n",
       "      <th>3</th>\n",
       "      <td>4</td>\n",
       "      <td>Константин</td>\n",
       "      <td>26</td>\n",
       "      <td>Ростов-на-Дону</td>\n",
       "      <td>ultra</td>\n",
       "    </tr>\n",
       "    <tr>\n",
       "      <th>4</th>\n",
       "      <td>5</td>\n",
       "      <td>Адель</td>\n",
       "      <td>28</td>\n",
       "      <td>Омск</td>\n",
       "      <td>ultra</td>\n",
       "    </tr>\n",
       "  </tbody>\n",
       "</table>\n",
       "</div>"
      ],
      "text/plain": [
       "   user_id        name  age            city subscription_type\n",
       "0        1        Кира   22          Тюмень             ultra\n",
       "1        2   Станислав   31            Омск             ultra\n",
       "2        3     Алексей   20          Москва             ultra\n",
       "3        4  Константин   26  Ростов-на-Дону             ultra\n",
       "4        5       Адель   28            Омск             ultra"
      ]
     },
     "execution_count": 8,
     "metadata": {},
     "output_type": "execute_result"
    }
   ],
   "source": [
    "users.head()"
   ]
  },
  {
   "cell_type": "code",
   "execution_count": 9,
   "id": "9659e5cb",
   "metadata": {},
   "outputs": [
    {
     "name": "stdout",
     "output_type": "stream",
     "text": [
      "<class 'pandas.core.frame.DataFrame'>\n",
      "RangeIndex: 2 entries, 0 to 1\n",
      "Data columns (total 4 columns):\n",
      " #   Column             Non-Null Count  Dtype \n",
      "---  ------             --------------  ----- \n",
      " 0   subscription_type  2 non-null      object\n",
      " 1   minute_price       2 non-null      int64 \n",
      " 2   start_ride_price   2 non-null      int64 \n",
      " 3   subscription_fee   2 non-null      int64 \n",
      "dtypes: int64(3), object(1)\n",
      "memory usage: 192.0+ bytes\n"
     ]
    }
   ],
   "source": [
    "subscriptions.info()"
   ]
  },
  {
   "cell_type": "code",
   "execution_count": 10,
   "id": "022aa4ee",
   "metadata": {},
   "outputs": [
    {
     "data": {
      "text/html": [
       "<div>\n",
       "<style scoped>\n",
       "    .dataframe tbody tr th:only-of-type {\n",
       "        vertical-align: middle;\n",
       "    }\n",
       "\n",
       "    .dataframe tbody tr th {\n",
       "        vertical-align: top;\n",
       "    }\n",
       "\n",
       "    .dataframe thead th {\n",
       "        text-align: right;\n",
       "    }\n",
       "</style>\n",
       "<table border=\"1\" class=\"dataframe\">\n",
       "  <thead>\n",
       "    <tr style=\"text-align: right;\">\n",
       "      <th></th>\n",
       "      <th>subscription_type</th>\n",
       "      <th>minute_price</th>\n",
       "      <th>start_ride_price</th>\n",
       "      <th>subscription_fee</th>\n",
       "    </tr>\n",
       "  </thead>\n",
       "  <tbody>\n",
       "    <tr>\n",
       "      <th>0</th>\n",
       "      <td>free</td>\n",
       "      <td>8</td>\n",
       "      <td>50</td>\n",
       "      <td>0</td>\n",
       "    </tr>\n",
       "    <tr>\n",
       "      <th>1</th>\n",
       "      <td>ultra</td>\n",
       "      <td>6</td>\n",
       "      <td>0</td>\n",
       "      <td>199</td>\n",
       "    </tr>\n",
       "  </tbody>\n",
       "</table>\n",
       "</div>"
      ],
      "text/plain": [
       "  subscription_type  minute_price  start_ride_price  subscription_fee\n",
       "0              free             8                50                 0\n",
       "1             ultra             6                 0               199"
      ]
     },
     "execution_count": 10,
     "metadata": {},
     "output_type": "execute_result"
    }
   ],
   "source": [
    "subscriptions.head()"
   ]
  },
  {
   "cell_type": "markdown",
   "id": "52490885",
   "metadata": {},
   "source": [
    "На основе предоставленных данных можно сделать несколько ключевых выводов о каждом из трех датафреймов.\n",
    "\n",
    "**1. Датафрейм с поездками (rides_go.csv)**\n",
    "\n",
    "Общее количество записей: 18068\n",
    "\n",
    "Столбцы:\n",
    "\n",
    "- user_id: Уникальный идентификатор пользователя (целочисленный тип, не содержит пропусков).\n",
    "- distance: Расстояние, проходимое пользователем за одну поездку (числовой тип, не содержит пропусков).\n",
    "- duration: Длительность поездки в минутах (числовой тип, не содержит пропусков).\n",
    "- date: Дата совершения поездки (строковый тип, не содержит пропусков, требует преобразования в тип datetime).\n",
    "\n",
    "Данные о поездках содержат значительное количество записей, что может обеспечить надежную выборку для анализа.\n",
    "Необходимо преобразовать столбец date в формат даты для дальнейшего анализа.\n",
    "Отсутствие пропусков в данных позволяет уверенно проводить анализ без предварительной обработки.\n",
    "\n",
    "\n",
    "**2. Датафрейм с пользователями (users_go.csv)**\n",
    "\n",
    "Общее количество записей: 1565\n",
    "\n",
    "Столбцы:\n",
    "\n",
    "- user_id: Уникальный идентификатор пользователя (целочисленный тип, не содержит пропусков).\n",
    "- name: Имя пользователя (строковый тип, не содержит пропусков).\n",
    "- age: Возраст пользователя (целочисленный тип, не содержит пропусков).\n",
    "- city: Город пользователя (строковый тип, не содержит пропусков).\n",
    "- subscription_type: Тип подписки пользователя (строковый тип, не содержит пропусков).\n",
    "\n",
    "Размер выборки пользователей позволяет проводить анализ, однако количество записей значительно меньше, чем количество записей о поездках.\n",
    "Необходимо изучить распределение возрастов пользователей и типы подписок, чтобы понять предпочтения клиентов и разработать соответствующие стратегии.\n",
    "\n",
    "**3. Датафрейм с подписками (subscriptions_go.csv)**\n",
    "\n",
    "Общее количество записей: 2\n",
    "\n",
    "Столбцы:\n",
    "\n",
    "- subscription_type: Тип подписки (строковый тип, содержит только 2 уникальных значения).\n",
    "- minute_price: Стоимость одной минуты поездки (целочисленный тип, не содержит пропусков).\n",
    "- start_ride_price: Стоимость начала поездки (целочисленный тип, не содержит пропусков).\n",
    "- subscription_fee: Ежемесячная плата за подписку (целочисленный тип, не содержит пропусков).\n",
    "\n",
    "\n",
    "**Общие выводы:**\n",
    "Необходимо учесть условия использования каждой подписки для оценки потенциальной выручки и расходов компании.\n",
    "В целом, данные содержат необходимую информацию для выполнения статистического анализа, проверки гипотез и формирования выводов о пользователях и их поездках. Необходимо произвести дальнейшую предобработку и анализ, чтобы выявить полезные закономерности, которые могут помочь в принятии бизнес-решений для сервиса аренды самокатов GoFast."
   ]
  },
  {
   "cell_type": "markdown",
   "id": "b5f4a3e6",
   "metadata": {},
   "source": [
    "#### Шаг 2. Предобработка данных"
   ]
  },
  {
   "cell_type": "markdown",
   "id": "b657af04",
   "metadata": {},
   "source": [
    "Преобразуем столбец date в формат даты для дальнейшего анализа:"
   ]
  },
  {
   "cell_type": "code",
   "execution_count": 11,
   "id": "e8f9d3d6",
   "metadata": {},
   "outputs": [
    {
     "data": {
      "text/html": [
       "<div>\n",
       "<style scoped>\n",
       "    .dataframe tbody tr th:only-of-type {\n",
       "        vertical-align: middle;\n",
       "    }\n",
       "\n",
       "    .dataframe tbody tr th {\n",
       "        vertical-align: top;\n",
       "    }\n",
       "\n",
       "    .dataframe thead th {\n",
       "        text-align: right;\n",
       "    }\n",
       "</style>\n",
       "<table border=\"1\" class=\"dataframe\">\n",
       "  <thead>\n",
       "    <tr style=\"text-align: right;\">\n",
       "      <th></th>\n",
       "      <th>user_id</th>\n",
       "      <th>distance</th>\n",
       "      <th>duration</th>\n",
       "      <th>date</th>\n",
       "    </tr>\n",
       "  </thead>\n",
       "  <tbody>\n",
       "    <tr>\n",
       "      <th>0</th>\n",
       "      <td>1</td>\n",
       "      <td>4409.919140</td>\n",
       "      <td>25.599769</td>\n",
       "      <td>2021-01-01</td>\n",
       "    </tr>\n",
       "    <tr>\n",
       "      <th>1</th>\n",
       "      <td>1</td>\n",
       "      <td>2617.592153</td>\n",
       "      <td>15.816871</td>\n",
       "      <td>2021-01-18</td>\n",
       "    </tr>\n",
       "    <tr>\n",
       "      <th>2</th>\n",
       "      <td>1</td>\n",
       "      <td>754.159807</td>\n",
       "      <td>6.232113</td>\n",
       "      <td>2021-04-20</td>\n",
       "    </tr>\n",
       "    <tr>\n",
       "      <th>3</th>\n",
       "      <td>1</td>\n",
       "      <td>2694.783254</td>\n",
       "      <td>18.511000</td>\n",
       "      <td>2021-08-11</td>\n",
       "    </tr>\n",
       "    <tr>\n",
       "      <th>4</th>\n",
       "      <td>1</td>\n",
       "      <td>4028.687306</td>\n",
       "      <td>26.265803</td>\n",
       "      <td>2021-08-28</td>\n",
       "    </tr>\n",
       "  </tbody>\n",
       "</table>\n",
       "</div>"
      ],
      "text/plain": [
       "   user_id     distance   duration       date\n",
       "0        1  4409.919140  25.599769 2021-01-01\n",
       "1        1  2617.592153  15.816871 2021-01-18\n",
       "2        1   754.159807   6.232113 2021-04-20\n",
       "3        1  2694.783254  18.511000 2021-08-11\n",
       "4        1  4028.687306  26.265803 2021-08-28"
      ]
     },
     "execution_count": 11,
     "metadata": {},
     "output_type": "execute_result"
    }
   ],
   "source": [
    "rides['date'] = pd.to_datetime(rides['date'], format='%Y-%m-%d')\n",
    "rides.head()"
   ]
  },
  {
   "cell_type": "markdown",
   "id": "cb788da9",
   "metadata": {},
   "source": [
    "Проверим, что тип даты изменился на datetime:"
   ]
  },
  {
   "cell_type": "code",
   "execution_count": 12,
   "id": "46dcc83f",
   "metadata": {},
   "outputs": [
    {
     "name": "stdout",
     "output_type": "stream",
     "text": [
      "<class 'pandas.core.frame.DataFrame'>\n",
      "RangeIndex: 18068 entries, 0 to 18067\n",
      "Data columns (total 4 columns):\n",
      " #   Column    Non-Null Count  Dtype         \n",
      "---  ------    --------------  -----         \n",
      " 0   user_id   18068 non-null  int64         \n",
      " 1   distance  18068 non-null  float64       \n",
      " 2   duration  18068 non-null  float64       \n",
      " 3   date      18068 non-null  datetime64[ns]\n",
      "dtypes: datetime64[ns](1), float64(2), int64(1)\n",
      "memory usage: 564.8 KB\n"
     ]
    }
   ],
   "source": [
    "rides.info()"
   ]
  },
  {
   "cell_type": "markdown",
   "id": "8b61a39d",
   "metadata": {},
   "source": [
    "Необходимо извлечь месяц из столбца с датами поездок и создать новый столбец для упрощения последующего анализа. Это позволит более удобно группировать данные по месяцам и проводить анализ динамики поездок."
   ]
  },
  {
   "cell_type": "code",
   "execution_count": 13,
   "id": "3d992a57",
   "metadata": {},
   "outputs": [
    {
     "name": "stdout",
     "output_type": "stream",
     "text": [
      "<class 'pandas.core.frame.DataFrame'>\n",
      "RangeIndex: 18068 entries, 0 to 18067\n",
      "Data columns (total 5 columns):\n",
      " #   Column    Non-Null Count  Dtype         \n",
      "---  ------    --------------  -----         \n",
      " 0   user_id   18068 non-null  int64         \n",
      " 1   distance  18068 non-null  float64       \n",
      " 2   duration  18068 non-null  float64       \n",
      " 3   date      18068 non-null  datetime64[ns]\n",
      " 4   month     18068 non-null  int64         \n",
      "dtypes: datetime64[ns](1), float64(2), int64(2)\n",
      "memory usage: 705.9 KB\n"
     ]
    }
   ],
   "source": [
    "rides['month'] = rides['date'].dt.month\n",
    "rides.info()"
   ]
  },
  {
   "cell_type": "markdown",
   "id": "65fdfb9f",
   "metadata": {},
   "source": [
    "Дополнительно проверим данные за какой период у нас имеются, чтобы в дальнейшем не допустить ошибок при группировке по месяцам:"
   ]
  },
  {
   "cell_type": "code",
   "execution_count": 14,
   "id": "6557b21f",
   "metadata": {},
   "outputs": [
    {
     "name": "stdout",
     "output_type": "stream",
     "text": [
      "Данные о поездках представлены за период: 2021-01-01 -- 2021-12-30\n"
     ]
    }
   ],
   "source": [
    "print('Данные о поездках представлены за период:', rides['date'].dt.date.min(),'--', rides['date'].dt.date.max())"
   ]
  },
  {
   "cell_type": "markdown",
   "id": "f66132ed",
   "metadata": {},
   "source": [
    "Теперь нам необходимо осуществить проверку данных на наличие дубликатов и пропущенных значений в таблицах пользователей, поездок и подписок. С помощью методов `duplicated()` и `isna()` мы определяем количество дублирующих записей и отсутствующих значений. Этот анализ важен для оценки качества данных и выявления потенциальных проблем, которые могут повлиять на дальнейший статистический анализ и интерпретацию результатов. Выявление дубликатов и пропусков позволит нам провести необходимую предобработку и обеспечить корректность дальнейших расчетов."
   ]
  },
  {
   "cell_type": "code",
   "execution_count": 15,
   "id": "4e911115",
   "metadata": {},
   "outputs": [
    {
     "name": "stdout",
     "output_type": "stream",
     "text": [
      "Количество дубликатов в таблице users: 31\n",
      "Количество пропусков в таблице users:\n",
      "user_id              0\n",
      "name                 0\n",
      "age                  0\n",
      "city                 0\n",
      "subscription_type    0\n",
      "dtype: int64\n",
      "\n",
      "Количество дубликатов в таблице rides: 0\n",
      "Количество пропусков в таблице rides:\n",
      "user_id     0\n",
      "distance    0\n",
      "duration    0\n",
      "date        0\n",
      "month       0\n",
      "dtype: int64\n",
      "\n",
      "Количество дубликатов в таблице subscriptions: 0\n",
      "Количество пропусков в таблице subscriptions:\n",
      "subscription_type    0\n",
      "minute_price         0\n",
      "start_ride_price     0\n",
      "subscription_fee     0\n",
      "dtype: int64\n"
     ]
    }
   ],
   "source": [
    "print('Количество дубликатов в таблице users:', users.duplicated().sum())\n",
    "print(f'Количество пропусков в таблице users:\\n{users.isna().sum()}\\n')\n",
    "print('Количество дубликатов в таблице rides:', rides.duplicated().sum())\n",
    "print(f'Количество пропусков в таблице rides:\\n{rides.isna().sum()}\\n')\n",
    "print('Количество дубликатов в таблице subscriptions:', subscriptions.duplicated().sum())\n",
    "print(f'Количество пропусков в таблице subscriptions:\\n{subscriptions.isna().sum()}')"
   ]
  },
  {
   "cell_type": "markdown",
   "id": "2aa9d095",
   "metadata": {},
   "source": [
    "Теперь мы проанализировали результаты проверки на дубликаты и пропуски в таблицах. В таблице **users** было найдено 31 дубликат, но отсутствуют пропущенные значения в всех столбцах. Это указывает на необходимость очистки данных, чтобы избежать повторного учета пользователей в последующих анализах.\n",
    "\n",
    "В таблице **rides** не выявлено дубликатов, и все значения также заполнены. Это говорит о высоком качестве данных, касающихся поездок.\n",
    "\n",
    "Таблица **subscriptions** также не содержит дубликатов и пропусков, что подтверждает корректность информации о подписках."
   ]
  },
  {
   "cell_type": "code",
   "execution_count": 16,
   "id": "86f49c90",
   "metadata": {},
   "outputs": [
    {
     "name": "stdout",
     "output_type": "stream",
     "text": [
      "Количество дубликатов в таблице users после удаления: 0\n"
     ]
    }
   ],
   "source": [
    "users = users.drop_duplicates()\n",
    "print('Количество дубликатов в таблице users после удаления:', users.duplicated().sum())"
   ]
  },
  {
   "cell_type": "markdown",
   "id": "31b00b11",
   "metadata": {},
   "source": [
    "Для обеспечения точности анализа мы удалили дубликаты из таблицы **users** с помощью метода `drop_duplicates()`. После удаления количество дубликатов в этой таблице стало равно нулю, что подтверждает успешную очистку данных и готовность к дальнейшему анализу."
   ]
  },
  {
   "cell_type": "markdown",
   "id": "2b5b453d",
   "metadata": {},
   "source": [
    "#### Шаг 3. Исследовательский анализ данных"
   ]
  },
  {
   "cell_type": "markdown",
   "id": "040c86d0",
   "metadata": {},
   "source": [
    "Теперь мы будем проводить исследовательский анализ данных, чтобы получить более глубокое понимание пользователей и их поездок. В рамках этого этапа мы:\n",
    "\n",
    "1. **Исследуем частоту встречаемости городов**: это поможет нам выявить, в каких городах сервис наиболее популярен и где наблюдается наибольшее количество пользователей.\n",
    "\n",
    "2. **Проанализируем соотношение пользователей с подпиской и без подписки**: это важно для понимания структуры пользовательской базы и оценки потенциального роста числа подписчиков.\n",
    "\n",
    "3. **Изучим возраст пользователей**: анализ возрастной группы пользователей позволит понять, какая категория наиболее активна и целесообразно ли адаптировать маркетинговые стратегии под различные возрастные сегменты.\n",
    "\n",
    "4. **Оценим расстояние, которое пользователь преодолел за одну поездку**: это поможет выявить среднюю длину поездок и оптимальные маршруты, что может быть полезно для оптимизации сервиса.\n",
    "\n",
    "5. **Исследуем продолжительность поездок**: анализ времени, проведенного в поездках, может дать представление о том, насколько активно пользователи используют сервис и есть ли возможность увеличить длительность поездок.\n",
    "\n",
    "Визуализация этих данных позволит нам лучше интерпретировать результаты и сделать выводы о потребительских предпочтениях, что, в свою очередь, может помочь в принятии бизнес-решений."
   ]
  },
  {
   "cell_type": "markdown",
   "id": "b71b087c",
   "metadata": {},
   "source": [
    "**1. Частота встречаемости городов:**"
   ]
  },
  {
   "cell_type": "code",
   "execution_count": 17,
   "id": "58628ad6",
   "metadata": {},
   "outputs": [
    {
     "data": {
      "image/png": "[encoded data removed]",
      "text/plain": [
       "<Figure size 720x360 with 1 Axes>"
      ]
     },
     "metadata": {
      "needs_background": "light"
     },
     "output_type": "display_data"
    },
    {
     "name": "stdout",
     "output_type": "stream",
     "text": [
      "Частота встречаемости городов: \n",
      "\n",
      "Пятигорск         219\n",
      "Екатеринбург      204\n",
      "Ростов-на-Дону    198\n",
      "Краснодар         193\n",
      "Сочи              189\n",
      "Омск              183\n",
      "Тюмень            180\n",
      "Москва            168\n",
      "Name: city, dtype: int64\n"
     ]
    }
   ],
   "source": [
    "# Подсчет частоты встречаемости городов\n",
    "city_counts = users['city'].value_counts()\n",
    "\n",
    "# Сортировка по убыванию\n",
    "city_counts = city_counts.sort_values(ascending=False)\n",
    "\n",
    "# Настройка графиков\n",
    "fig, axes = plt.subplots(figsize=(10, 5))\n",
    "# Используем barplot для категориальных данных\n",
    "sns.barplot(y=city_counts.index, x=city_counts.values, palette='rocket', ax=axes)  \n",
    "axes.set_title('Частота встречаемости городов')\n",
    "axes.set_xlabel('Города')\n",
    "axes.set_ylabel('Частота')\n",
    "plt.tight_layout()\n",
    "plt.show()\n",
    "\n",
    "print(f'Частота встречаемости городов: \\n\\n{users[\"city\"].value_counts().sort_values(ascending=False)}')"
   ]
  },
  {
   "cell_type": "markdown",
   "id": "063862c0",
   "metadata": {},
   "source": [
    "<div class=\"alert alert-block alert-warning\">\n",
    "<b>🔁Комментарий ревьюера:</b> \n",
    "\n",
    "Для удобства можно повернуть график на 90 градусов и сделать сортировку по убыванию.</div>"
   ]
  },
  {
   "cell_type": "markdown",
   "id": "6242f726",
   "metadata": {},
   "source": [
    "<div class=\"alert alert-block alert-success\">\n",
    "<b>✅Комментарий ревьюера 2:</b> Отлично, исправлено!👍  </div>"
   ]
  },
  {
   "cell_type": "markdown",
   "id": "c7dfef6c",
   "metadata": {},
   "source": [
    "<div class=\"alert alert-block alert-info\">\n",
    "<b>🔄Комментарий Лера:</b> \n",
    " График перевернула, сортировка по убыванию была изначально ✔\n",
    "</div>"
   ]
  },
  {
   "cell_type": "markdown",
   "id": "cc5c0662",
   "metadata": {},
   "source": [
    "Частота встречаемости городов: Как видно на графике, наиболее активные города среди пользователей сервиса GoFast включают Пятигорск, Екатеринбург, Ростов-на-Дону и Краснодар. \n",
    "\n",
    "Пятигорск занимает лидирующую позицию с 219 поездками, что указывает на высокий уровень популярности сервиса в этом городе. \n",
    "\n",
    "Это может быть полезной информацией для целевых маркетинговых акций, направленных на привлечение новых пользователей в регионах с меньшей активностью, таких как Москва, которая имеет только 168 поездок."
   ]
  },
  {
   "cell_type": "markdown",
   "id": "60ad3b18",
   "metadata": {},
   "source": [
    "**2. Соотношение пользователей с подпиской и без подписки**"
   ]
  },
  {
   "cell_type": "code",
   "execution_count": 18,
   "id": "cf6fb2d3",
   "metadata": {},
   "outputs": [
    {
     "data": {
      "image/png": "[encoded data removed]",
      "text/plain": [
       "<Figure size 360x360 with 1 Axes>"
      ]
     },
     "metadata": {},
     "output_type": "display_data"
    },
    {
     "name": "stdout",
     "output_type": "stream",
     "text": [
      "Cоотношение пользователей с подпиской и без подписки: \n",
      "free     835\n",
      "ultra    699\n",
      "Name: subscription_type, dtype: int64\n"
     ]
    }
   ],
   "source": [
    "users['subscription_type'].value_counts().plot(kind='pie', autopct='%1.1f%%', figsize=(5, 5))\n",
    "plt.title('Распределение типов подписки')\n",
    "\n",
    "# Отобразим диаграмму\n",
    "plt.ylabel('') # Убираем автоматическую метку оси Y\n",
    "plt.show()\n",
    "\n",
    "print(f'Cоотношение пользователей с подпиской и без подписки: \\n{users[\"subscription_type\"].value_counts()}')"
   ]
  },
  {
   "cell_type": "markdown",
   "id": "3a4c2bed",
   "metadata": {},
   "source": [
    "Соотношение пользователей с подпиской и без подписки: Из 1534 пользователей 699 (около 45%) имеют подписку Ultra, в то время как 835 (55%) используют бесплатный тариф. Это указывает на то, что большинство пользователей предпочитают использовать сервис без подписки, что может свидетельствовать о недостаточной привлекательности платных предложений. \n",
    "\n",
    "Данная информация может стать основой для улучшения предложения Ultra и повышения интереса к подписке."
   ]
  },
  {
   "cell_type": "markdown",
   "id": "f9064877",
   "metadata": {},
   "source": [
    "**2. Распределение возрастов  пользователейи**"
   ]
  },
  {
   "cell_type": "code",
   "execution_count": 19,
   "id": "c8c5c2c0",
   "metadata": {},
   "outputs": [
    {
     "data": {
      "image/png": "[encoded data removed]",
      "text/plain": [
       "<Figure size 720x360 with 1 Axes>"
      ]
     },
     "metadata": {
      "needs_background": "light"
     },
     "output_type": "display_data"
    }
   ],
   "source": [
    "# Настройка графиков\n",
    "fig, axes = plt.subplots(figsize=(10, 5))\n",
    "sns.histplot(users['age'], bins=15, kde=True)\n",
    "axes.set_title('Распределение возрастов пользователей')\n",
    "axes.set_xlabel('Возраст')\n",
    "axes.set_ylabel('Частота')\n",
    "plt.tight_layout()\n",
    "plt.show()"
   ]
  },
  {
   "cell_type": "code",
   "execution_count": 20,
   "id": "33b0339a",
   "metadata": {},
   "outputs": [
    {
     "data": {
      "image/png": "[encoded data removed]",
      "text/plain": [
       "<Figure size 432x288 with 1 Axes>"
      ]
     },
     "metadata": {
      "needs_background": "light"
     },
     "output_type": "display_data"
    }
   ],
   "source": [
    "warnings.filterwarnings(\"ignore\")\n",
    "\n",
    "sns.boxplot(x=users['age'])\n",
    "plt.title('Boxplot возрастов пользователей')\n",
    "plt.xlabel('Возраст')\n",
    "plt.show()"
   ]
  },
  {
   "cell_type": "code",
   "execution_count": 21,
   "id": "1a8bc425",
   "metadata": {
    "scrolled": true
   },
   "outputs": [
    {
     "data": {
      "text/plain": [
       "count    1534.000000\n",
       "mean       24.903520\n",
       "std         4.572367\n",
       "min        12.000000\n",
       "25%        22.000000\n",
       "50%        25.000000\n",
       "75%        28.000000\n",
       "max        43.000000\n",
       "Name: age, dtype: float64"
      ]
     },
     "execution_count": 21,
     "metadata": {},
     "output_type": "execute_result"
    }
   ],
   "source": [
    "users['age'].describe()"
   ]
  },
  {
   "cell_type": "markdown",
   "id": "d1a9f6ec",
   "metadata": {},
   "source": [
    "Средний возраст пользователей составляет примерно 25 лет, с диапазоном от 12 до 43 лет. Это указывает на наличие разнообразной возрастной группы среди пользователей, однако основная аудитория все же состоит из молодежи и молодых людей. Учитывая, что большинство пользователей находятся в возрасте 20-30 лет, это может стать основой для разработки маркетинговых стратегий, ориентированных на эту категорию."
   ]
  },
  {
   "cell_type": "markdown",
   "id": "e69a818b",
   "metadata": {},
   "source": [
    "**4. Расстояние, которое пользователь преодолел за одну поездку:**"
   ]
  },
  {
   "cell_type": "markdown",
   "id": "f17cd26b",
   "metadata": {},
   "source": [
    "Для начала мы ознакомимся с описательной статистикой (метод `describe`) расстояний поездок, чтобы убедиться в отсутствии аномалий в данных."
   ]
  },
  {
   "cell_type": "code",
   "execution_count": 22,
   "id": "6ef3d155",
   "metadata": {},
   "outputs": [
    {
     "data": {
      "text/plain": [
       "count    18068.000000\n",
       "mean      3070.659976\n",
       "std       1116.831209\n",
       "min          0.855683\n",
       "25%       2543.226360\n",
       "50%       3133.609994\n",
       "75%       3776.222735\n",
       "max       7211.007745\n",
       "Name: distance, dtype: float64"
      ]
     },
     "execution_count": 22,
     "metadata": {},
     "output_type": "execute_result"
    }
   ],
   "source": [
    "rides['distance'].describe()"
   ]
  },
  {
   "cell_type": "markdown",
   "id": "683a448c",
   "metadata": {},
   "source": [
    "На основании описательной статистики можно сделать следующие выводы о дистанциях поездок: средняя дистанция составляет 3070 метров, что указывает на то, что пользователи в основном используют сервис для средних по длительности поездок. Наличие минимального значения расстояния всего 0.86 метров может быть связано с тестированием самокатов или проверкой его работы, поэтому такие данные следует остаивть в анализе для последующего расчета выручки.\n",
    "\n",
    "Квартильный анализ показывает, что 25% поездок имеют дистанцию менее 2543 метров, 50% — менее 3133 метров, и 75% — менее 3776 метров, что также подчеркивает наличие как коротких, так и более длинных маршрутов в поведении пользователей. Эти данные могут служить основой для оптимизации предложений и услуг сервиса, учитывая потребности различных групп пользователей.\n"
   ]
  },
  {
   "cell_type": "markdown",
   "id": "5d88ec60",
   "metadata": {},
   "source": [
    "После предварительного анализа данных можем приступить к построению графиков:"
   ]
  },
  {
   "cell_type": "code",
   "execution_count": 23,
   "id": "19bb1dbb",
   "metadata": {},
   "outputs": [
    {
     "data": {
      "image/png": "[encoded data removed]",
      "text/plain": [
       "<Figure size 720x360 with 1 Axes>"
      ]
     },
     "metadata": {
      "needs_background": "light"
     },
     "output_type": "display_data"
    }
   ],
   "source": [
    "warnings.filterwarnings(\"ignore\")\n",
    "\n",
    "fig, axes = plt.subplots(figsize=(10, 5))\n",
    "sns.histplot(rides['distance'], bins=15, kde=True, color='green')\n",
    "axes.set_title('Расстояние, которое пользователь преодолел за одну поездку')\n",
    "axes.set_xlabel('Расстояние, м')\n",
    "axes.set_ylabel('Частота')\n",
    "plt.tight_layout()\n",
    "plt.show()\n"
   ]
  },
  {
   "cell_type": "code",
   "execution_count": 24,
   "id": "212cdba3",
   "metadata": {},
   "outputs": [
    {
     "data": {
      "image/png": "[encoded data removed]",
      "text/plain": [
       "<Figure size 432x288 with 1 Axes>"
      ]
     },
     "metadata": {
      "needs_background": "light"
     },
     "output_type": "display_data"
    }
   ],
   "source": [
    "warnings.filterwarnings(\"ignore\")\n",
    "sns.boxplot(x=rides['distance'])\n",
    "plt.title('Boxplot преодоленных расстояний')\n",
    "plt.xlabel('Расстояние, м')\n",
    "plt.show()"
   ]
  },
  {
   "cell_type": "code",
   "execution_count": 25,
   "id": "2025be07",
   "metadata": {},
   "outputs": [
    {
     "data": {
      "text/plain": [
       "count    18068.000000\n",
       "mean      3070.659976\n",
       "std       1116.831209\n",
       "min          0.855683\n",
       "25%       2543.226360\n",
       "50%       3133.609994\n",
       "75%       3776.222735\n",
       "max       7211.007745\n",
       "Name: distance, dtype: float64"
      ]
     },
     "execution_count": 25,
     "metadata": {},
     "output_type": "execute_result"
    }
   ],
   "source": [
    "rides['distance'].describe()"
   ]
  },
  {
   "cell_type": "markdown",
   "id": "e7418517",
   "metadata": {},
   "source": [
    "Описанные выше данные подтверждаются построенными графиками. Видим пик частоты поездок на уровне 3070 метров. Уплотнения на ящике с усами наблюдаются в диапазонах до 1000 метров, а также от 5700 до 7000 метров. Эти уплотнения могут свидетельствовать о том, что существует категория пользователей, предпочитающих короткие поездки, такие как поездки на работу или учебу, а также пользователи, осуществляющие более длинные поездки, возможно, связанные с путешествиями или досугом. Данные паттерны могут служить основой для оптимизации предложений и услуг сервиса, учитывая потребности различных групп пользователей."
   ]
  },
  {
   "cell_type": "markdown",
   "id": "c5a101a6",
   "metadata": {},
   "source": [
    "**5. Продолжительность поездок:**"
   ]
  },
  {
   "cell_type": "markdown",
   "id": "5316003d",
   "metadata": {},
   "source": [
    "Для начала рассмотрим описательную статистику (метод describe) продолжительности поездок. "
   ]
  },
  {
   "cell_type": "code",
   "execution_count": 26,
   "id": "44d0e02b",
   "metadata": {
    "scrolled": true
   },
   "outputs": [
    {
     "data": {
      "text/plain": [
       "count    18068.000000\n",
       "mean        17.805011\n",
       "std          6.091051\n",
       "min          0.500000\n",
       "25%         13.597563\n",
       "50%         17.678395\n",
       "75%         21.724800\n",
       "max         40.823963\n",
       "Name: duration, dtype: float64"
      ]
     },
     "execution_count": 26,
     "metadata": {},
     "output_type": "execute_result"
    }
   ],
   "source": [
    "rides['duration'].describe()"
   ]
  },
  {
   "cell_type": "markdown",
   "id": "24a8b23b",
   "metadata": {},
   "source": [
    "Приступим к визуализации данных о продолжительности поездок:"
   ]
  },
  {
   "cell_type": "code",
   "execution_count": 27,
   "id": "7d6672a0",
   "metadata": {},
   "outputs": [
    {
     "data": {
      "image/png": "[encoded data removed]",
      "text/plain": [
       "<Figure size 720x360 with 1 Axes>"
      ]
     },
     "metadata": {
      "needs_background": "light"
     },
     "output_type": "display_data"
    }
   ],
   "source": [
    "warnings.filterwarnings(\"ignore\")\n",
    "\n",
    "fig, axes = plt.subplots(figsize=(10, 5))\n",
    "sns.histplot(rides['duration'], bins=15, kde=True, color='orange')\n",
    "axes.set_title('Продолжительность поездок')\n",
    "axes.set_xlabel('Время, мин')\n",
    "axes.set_ylabel('Частота')\n",
    "plt.tight_layout()\n",
    "plt.show()\n"
   ]
  },
  {
   "cell_type": "code",
   "execution_count": 28,
   "id": "61a08bce",
   "metadata": {},
   "outputs": [
    {
     "data": {
      "image/png": "[encoded data removed]",
      "text/plain": [
       "<Figure size 432x288 with 1 Axes>"
      ]
     },
     "metadata": {
      "needs_background": "light"
     },
     "output_type": "display_data"
    }
   ],
   "source": [
    "warnings.filterwarnings(\"ignore\")\n",
    "sns.boxplot(x=rides['duration'])\n",
    "plt.title('Boxplot продолжительности поездок')\n",
    "plt.xlabel('Продолжительность')\n",
    "plt.show()"
   ]
  },
  {
   "cell_type": "markdown",
   "id": "2f8d19ed",
   "metadata": {},
   "source": [
    "На основании предоставленной статистики о длительности поездок можно сделать несколько выводов.\n",
    "\n",
    " Среднее значение длительности поездки составляет 17.8 минут. Это свидетельствует о том, что пользователи активно используют сервис для передвижения по городу, что предполагает востребованность и практичность данного сервиса.\n",
    "\n",
    "Стандартное отклонение равно 6.09, что указывает на наличие значительного разброса в длительности поездок. Минимальное значение составляет 0.5 минуты, в то время как максимальное достигает 40.82 минут, что говорит о наличии как коротких, так и длительных поездок.\n",
    "\n",
    "Квартильный анализ: 25% поездок имеют длительность менее 13.6 минут, а 75% – более 21.72 минут. Это подтверждает, что большая часть пользователей использует сервис для более длительных поездок.\n",
    "\n",
    "График ящик с усами: Анализ графика ящик с усами позволяет визуально оценить распределение данных. Наличие толстого хвоста в диапазоне 35-40 минут может свидетельствовать о том, что часть пользователей активно использует сервис для длительных поездок, выбирая разнообразные маршруты, что также может быть связано с сезонными факторами и временем суток, влияющими на продолжительность поездок."
   ]
  },
  {
   "cell_type": "markdown",
   "id": "a2aaba1e",
   "metadata": {},
   "source": [
    "#### Шаг 4. Объединение данных"
   ]
  },
  {
   "cell_type": "markdown",
   "id": "80f245d7",
   "metadata": {},
   "source": [
    "Объединим данные о пользователях, поездках и подписках в один датафрейм. \n",
    "Для этого воспользуемся методом merge()."
   ]
  },
  {
   "cell_type": "code",
   "execution_count": 29,
   "id": "820b9465",
   "metadata": {},
   "outputs": [
    {
     "name": "stdout",
     "output_type": "stream",
     "text": [
      "<class 'pandas.core.frame.DataFrame'>\n",
      "Int64Index: 18068 entries, 0 to 18067\n",
      "Data columns (total 12 columns):\n",
      " #   Column             Non-Null Count  Dtype         \n",
      "---  ------             --------------  -----         \n",
      " 0   user_id            18068 non-null  int64         \n",
      " 1   name               18068 non-null  object        \n",
      " 2   age                18068 non-null  int64         \n",
      " 3   city               18068 non-null  object        \n",
      " 4   subscription_type  18068 non-null  object        \n",
      " 5   distance           18068 non-null  float64       \n",
      " 6   duration           18068 non-null  float64       \n",
      " 7   date               18068 non-null  datetime64[ns]\n",
      " 8   month              18068 non-null  int64         \n",
      " 9   minute_price       18068 non-null  int64         \n",
      " 10  start_ride_price   18068 non-null  int64         \n",
      " 11  subscription_fee   18068 non-null  int64         \n",
      "dtypes: datetime64[ns](1), float64(2), int64(6), object(3)\n",
      "memory usage: 1.8+ MB\n"
     ]
    }
   ],
   "source": [
    "data_merged = users.merge(rides, on='user_id', how='right')\n",
    "data_merged = data_merged.merge(subscriptions, on='subscription_type', how='left')\n",
    "data_merged.info()"
   ]
  },
  {
   "cell_type": "markdown",
   "id": "cbc5d3eb",
   "metadata": {},
   "source": [
    "Проверим количество строк полученной таблицы и сравним ее с количеством строк таблиц до объединения, чтобы убедиться что мы ничего не потеряли и не добавили лишнего."
   ]
  },
  {
   "cell_type": "code",
   "execution_count": 30,
   "id": "0a1223cd",
   "metadata": {},
   "outputs": [
    {
     "name": "stdout",
     "output_type": "stream",
     "text": [
      "Количество строк в изначальной таблице до объединения: 18068\n",
      "Количество строк в таблице после объединения: 18068\n"
     ]
    }
   ],
   "source": [
    "print('Количество строк в изначальной таблице до объединения:', rides['user_id'].count())\n",
    "print('Количество строк в таблице после объединения:', data_merged['user_id'].count())"
   ]
  },
  {
   "cell_type": "markdown",
   "id": "f9eae3d4",
   "metadata": {},
   "source": [
    "Так же убедимся, что в объединенной таблице не появились пропуски:"
   ]
  },
  {
   "cell_type": "code",
   "execution_count": 31,
   "id": "8a9994f4",
   "metadata": {},
   "outputs": [
    {
     "data": {
      "text/plain": [
       "user_id              0\n",
       "name                 0\n",
       "age                  0\n",
       "city                 0\n",
       "subscription_type    0\n",
       "distance             0\n",
       "duration             0\n",
       "date                 0\n",
       "month                0\n",
       "minute_price         0\n",
       "start_ride_price     0\n",
       "subscription_fee     0\n",
       "dtype: int64"
      ]
     },
     "execution_count": 31,
     "metadata": {},
     "output_type": "execute_result"
    }
   ],
   "source": [
    "data_merged.isna().sum()"
   ]
  },
  {
   "cell_type": "markdown",
   "id": "6e57a9bc",
   "metadata": {},
   "source": [
    "Отлично, количество строк сохранено, пропусков в объединенной таблице нет. приступим к следующему заданию."
   ]
  },
  {
   "cell_type": "markdown",
   "id": "cf6201d1",
   "metadata": {},
   "source": [
    "Создадим ещё два датафрейма из датафрейма data_merged:\n",
    "- c данными о пользователях без подписки;\n",
    "- с данными о пользователях с подпиской."
   ]
  },
  {
   "cell_type": "code",
   "execution_count": 32,
   "id": "9d3d7b59",
   "metadata": {},
   "outputs": [
    {
     "data": {
      "text/html": [
       "<div>\n",
       "<style scoped>\n",
       "    .dataframe tbody tr th:only-of-type {\n",
       "        vertical-align: middle;\n",
       "    }\n",
       "\n",
       "    .dataframe tbody tr th {\n",
       "        vertical-align: top;\n",
       "    }\n",
       "\n",
       "    .dataframe thead th {\n",
       "        text-align: right;\n",
       "    }\n",
       "</style>\n",
       "<table border=\"1\" class=\"dataframe\">\n",
       "  <thead>\n",
       "    <tr style=\"text-align: right;\">\n",
       "      <th></th>\n",
       "      <th>user_id</th>\n",
       "      <th>name</th>\n",
       "      <th>age</th>\n",
       "      <th>city</th>\n",
       "      <th>subscription_type</th>\n",
       "      <th>distance</th>\n",
       "      <th>duration</th>\n",
       "      <th>date</th>\n",
       "      <th>month</th>\n",
       "      <th>minute_price</th>\n",
       "      <th>start_ride_price</th>\n",
       "      <th>subscription_fee</th>\n",
       "    </tr>\n",
       "  </thead>\n",
       "  <tbody>\n",
       "    <tr>\n",
       "      <th>0</th>\n",
       "      <td>1</td>\n",
       "      <td>Кира</td>\n",
       "      <td>22</td>\n",
       "      <td>Тюмень</td>\n",
       "      <td>ultra</td>\n",
       "      <td>4409.919140</td>\n",
       "      <td>25.599769</td>\n",
       "      <td>2021-01-01</td>\n",
       "      <td>1</td>\n",
       "      <td>6</td>\n",
       "      <td>0</td>\n",
       "      <td>199</td>\n",
       "    </tr>\n",
       "    <tr>\n",
       "      <th>1</th>\n",
       "      <td>1</td>\n",
       "      <td>Кира</td>\n",
       "      <td>22</td>\n",
       "      <td>Тюмень</td>\n",
       "      <td>ultra</td>\n",
       "      <td>2617.592153</td>\n",
       "      <td>15.816871</td>\n",
       "      <td>2021-01-18</td>\n",
       "      <td>1</td>\n",
       "      <td>6</td>\n",
       "      <td>0</td>\n",
       "      <td>199</td>\n",
       "    </tr>\n",
       "    <tr>\n",
       "      <th>2</th>\n",
       "      <td>1</td>\n",
       "      <td>Кира</td>\n",
       "      <td>22</td>\n",
       "      <td>Тюмень</td>\n",
       "      <td>ultra</td>\n",
       "      <td>754.159807</td>\n",
       "      <td>6.232113</td>\n",
       "      <td>2021-04-20</td>\n",
       "      <td>4</td>\n",
       "      <td>6</td>\n",
       "      <td>0</td>\n",
       "      <td>199</td>\n",
       "    </tr>\n",
       "    <tr>\n",
       "      <th>3</th>\n",
       "      <td>1</td>\n",
       "      <td>Кира</td>\n",
       "      <td>22</td>\n",
       "      <td>Тюмень</td>\n",
       "      <td>ultra</td>\n",
       "      <td>2694.783254</td>\n",
       "      <td>18.511000</td>\n",
       "      <td>2021-08-11</td>\n",
       "      <td>8</td>\n",
       "      <td>6</td>\n",
       "      <td>0</td>\n",
       "      <td>199</td>\n",
       "    </tr>\n",
       "    <tr>\n",
       "      <th>4</th>\n",
       "      <td>1</td>\n",
       "      <td>Кира</td>\n",
       "      <td>22</td>\n",
       "      <td>Тюмень</td>\n",
       "      <td>ultra</td>\n",
       "      <td>4028.687306</td>\n",
       "      <td>26.265803</td>\n",
       "      <td>2021-08-28</td>\n",
       "      <td>8</td>\n",
       "      <td>6</td>\n",
       "      <td>0</td>\n",
       "      <td>199</td>\n",
       "    </tr>\n",
       "  </tbody>\n",
       "</table>\n",
       "</div>"
      ],
      "text/plain": [
       "   user_id  name  age    city subscription_type     distance   duration  \\\n",
       "0        1  Кира   22  Тюмень             ultra  4409.919140  25.599769   \n",
       "1        1  Кира   22  Тюмень             ultra  2617.592153  15.816871   \n",
       "2        1  Кира   22  Тюмень             ultra   754.159807   6.232113   \n",
       "3        1  Кира   22  Тюмень             ultra  2694.783254  18.511000   \n",
       "4        1  Кира   22  Тюмень             ultra  4028.687306  26.265803   \n",
       "\n",
       "        date  month  minute_price  start_ride_price  subscription_fee  \n",
       "0 2021-01-01      1             6                 0               199  \n",
       "1 2021-01-18      1             6                 0               199  \n",
       "2 2021-04-20      4             6                 0               199  \n",
       "3 2021-08-11      8             6                 0               199  \n",
       "4 2021-08-28      8             6                 0               199  "
      ]
     },
     "execution_count": 32,
     "metadata": {},
     "output_type": "execute_result"
    }
   ],
   "source": [
    "ultra_users = data_merged.query('subscription_type == \"ultra\"')\n",
    "ultra_users.head()"
   ]
  },
  {
   "cell_type": "code",
   "execution_count": 33,
   "id": "17f47a25",
   "metadata": {},
   "outputs": [
    {
     "data": {
      "text/html": [
       "<div>\n",
       "<style scoped>\n",
       "    .dataframe tbody tr th:only-of-type {\n",
       "        vertical-align: middle;\n",
       "    }\n",
       "\n",
       "    .dataframe tbody tr th {\n",
       "        vertical-align: top;\n",
       "    }\n",
       "\n",
       "    .dataframe thead th {\n",
       "        text-align: right;\n",
       "    }\n",
       "</style>\n",
       "<table border=\"1\" class=\"dataframe\">\n",
       "  <thead>\n",
       "    <tr style=\"text-align: right;\">\n",
       "      <th></th>\n",
       "      <th>user_id</th>\n",
       "      <th>name</th>\n",
       "      <th>age</th>\n",
       "      <th>city</th>\n",
       "      <th>subscription_type</th>\n",
       "      <th>distance</th>\n",
       "      <th>duration</th>\n",
       "      <th>date</th>\n",
       "      <th>month</th>\n",
       "      <th>minute_price</th>\n",
       "      <th>start_ride_price</th>\n",
       "      <th>subscription_fee</th>\n",
       "    </tr>\n",
       "  </thead>\n",
       "  <tbody>\n",
       "    <tr>\n",
       "      <th>6500</th>\n",
       "      <td>700</td>\n",
       "      <td>Айдар</td>\n",
       "      <td>22</td>\n",
       "      <td>Омск</td>\n",
       "      <td>free</td>\n",
       "      <td>2515.690719</td>\n",
       "      <td>14.944286</td>\n",
       "      <td>2021-01-02</td>\n",
       "      <td>1</td>\n",
       "      <td>8</td>\n",
       "      <td>50</td>\n",
       "      <td>0</td>\n",
       "    </tr>\n",
       "    <tr>\n",
       "      <th>6501</th>\n",
       "      <td>700</td>\n",
       "      <td>Айдар</td>\n",
       "      <td>22</td>\n",
       "      <td>Омск</td>\n",
       "      <td>free</td>\n",
       "      <td>846.932642</td>\n",
       "      <td>16.234663</td>\n",
       "      <td>2021-02-01</td>\n",
       "      <td>2</td>\n",
       "      <td>8</td>\n",
       "      <td>50</td>\n",
       "      <td>0</td>\n",
       "    </tr>\n",
       "    <tr>\n",
       "      <th>6502</th>\n",
       "      <td>700</td>\n",
       "      <td>Айдар</td>\n",
       "      <td>22</td>\n",
       "      <td>Омск</td>\n",
       "      <td>free</td>\n",
       "      <td>4004.434142</td>\n",
       "      <td>20.016628</td>\n",
       "      <td>2021-02-04</td>\n",
       "      <td>2</td>\n",
       "      <td>8</td>\n",
       "      <td>50</td>\n",
       "      <td>0</td>\n",
       "    </tr>\n",
       "    <tr>\n",
       "      <th>6503</th>\n",
       "      <td>700</td>\n",
       "      <td>Айдар</td>\n",
       "      <td>22</td>\n",
       "      <td>Омск</td>\n",
       "      <td>free</td>\n",
       "      <td>1205.911290</td>\n",
       "      <td>9.782872</td>\n",
       "      <td>2021-02-10</td>\n",
       "      <td>2</td>\n",
       "      <td>8</td>\n",
       "      <td>50</td>\n",
       "      <td>0</td>\n",
       "    </tr>\n",
       "    <tr>\n",
       "      <th>6504</th>\n",
       "      <td>700</td>\n",
       "      <td>Айдар</td>\n",
       "      <td>22</td>\n",
       "      <td>Омск</td>\n",
       "      <td>free</td>\n",
       "      <td>3047.379435</td>\n",
       "      <td>17.427673</td>\n",
       "      <td>2021-02-14</td>\n",
       "      <td>2</td>\n",
       "      <td>8</td>\n",
       "      <td>50</td>\n",
       "      <td>0</td>\n",
       "    </tr>\n",
       "  </tbody>\n",
       "</table>\n",
       "</div>"
      ],
      "text/plain": [
       "      user_id   name  age  city subscription_type     distance   duration  \\\n",
       "6500      700  Айдар   22  Омск              free  2515.690719  14.944286   \n",
       "6501      700  Айдар   22  Омск              free   846.932642  16.234663   \n",
       "6502      700  Айдар   22  Омск              free  4004.434142  20.016628   \n",
       "6503      700  Айдар   22  Омск              free  1205.911290   9.782872   \n",
       "6504      700  Айдар   22  Омск              free  3047.379435  17.427673   \n",
       "\n",
       "           date  month  minute_price  start_ride_price  subscription_fee  \n",
       "6500 2021-01-02      1             8                50                 0  \n",
       "6501 2021-02-01      2             8                50                 0  \n",
       "6502 2021-02-04      2             8                50                 0  \n",
       "6503 2021-02-10      2             8                50                 0  \n",
       "6504 2021-02-14      2             8                50                 0  "
      ]
     },
     "execution_count": 33,
     "metadata": {},
     "output_type": "execute_result"
    }
   ],
   "source": [
    "free_users = data_merged.query('subscription_type == \"free\"')\n",
    "free_users.head()"
   ]
  },
  {
   "cell_type": "markdown",
   "id": "ad978cce",
   "metadata": {},
   "source": [
    "Визуализируем информацию о расстоянии и времени поездок для пользователей обеих категорий."
   ]
  },
  {
   "cell_type": "code",
   "execution_count": 34,
   "id": "edebdd2c",
   "metadata": {},
   "outputs": [
    {
     "data": {
      "image/png": "[encoded data removed]",
      "text/plain": [
       "<Figure size 720x432 with 1 Axes>"
      ]
     },
     "metadata": {
      "needs_background": "light"
     },
     "output_type": "display_data"
    }
   ],
   "source": [
    "# Визуализация данных о расстоянии поездок\n",
    "plt.figure(figsize=(10, 6))\n",
    "\n",
    "# Расстояние поездок для пользователей без подписки\n",
    "sns.histplot(free_users['distance'], bins=20, kde=True, color='purple', label='Без подписки', alpha=0.5)\n",
    "\n",
    "# Расстояние поездок для пользователей с подпиской\n",
    "sns.histplot(ultra_users['distance'], bins=20, kde=True, color='white', label='С подпиской', alpha=0.5)\n",
    "\n",
    "plt.title('Распределение расстояний поездок: пользователи с подпиской и без')\n",
    "plt.xlabel('Расстояние (м)')\n",
    "plt.ylabel('Частота')\n",
    "plt.legend()  # Добавляем легенду для групп\n",
    "plt.tight_layout()\n",
    "plt.show()\n"
   ]
  },
  {
   "cell_type": "code",
   "execution_count": 35,
   "id": "984762d4",
   "metadata": {},
   "outputs": [
    {
     "data": {
      "image/png": "[encoded data removed]",
      "text/plain": [
       "<Figure size 720x432 with 1 Axes>"
      ]
     },
     "metadata": {
      "needs_background": "light"
     },
     "output_type": "display_data"
    }
   ],
   "source": [
    "# Визуализация данных о времени поездок\n",
    "plt.figure(figsize=(10, 6))\n",
    "\n",
    "# Время поездок для пользователей без подписки\n",
    "sns.histplot(free_users['duration'], bins=20, kde=True, color='green', label='Без подписки', alpha=0.5)\n",
    "\n",
    "# Время поездок для пользователей с подпиской\n",
    "sns.histplot(ultra_users['duration'], bins=20, kde=True, color='white', label='С подпиской', alpha=0.5)\n",
    "\n",
    "plt.title('Распределение времени поездок: пользователи с подпиской и без')\n",
    "plt.xlabel('Время (минуты)')\n",
    "plt.ylabel('Частота')\n",
    "plt.legend()  # Добавляем легенду для групп\n",
    "plt.tight_layout()\n",
    "plt.show()\n"
   ]
  },
  {
   "cell_type": "markdown",
   "id": "90411573",
   "metadata": {},
   "source": [
    "Как показывают графики, распределение данных имеет одинаковую форму для обеих категорий пользователей, с поправкой на меньшее количество поездок у пользователей с подпиской.\n",
    "\n",
    "Так же для визуализации данных о расстоянии поездок построем графики с использованием boxplot."
   ]
  },
  {
   "cell_type": "code",
   "execution_count": 36,
   "id": "de212b83",
   "metadata": {},
   "outputs": [
    {
     "data": {
      "image/png": "[encoded data removed]",
      "text/plain": [
       "<Figure size 1080x432 with 2 Axes>"
      ]
     },
     "metadata": {
      "needs_background": "light"
     },
     "output_type": "display_data"
    },
    {
     "data": {
      "image/png": "[encoded data removed]",
      "text/plain": [
       "<Figure size 1080x432 with 2 Axes>"
      ]
     },
     "metadata": {
      "needs_background": "light"
     },
     "output_type": "display_data"
    }
   ],
   "source": [
    "# Визуализация данных о расстоянии поездок с использованием boxplot\n",
    "fig, axes = plt.subplots(1, 2, figsize=(15, 6))\n",
    "\n",
    "# Расстояние поездок для пользователей без подписки\n",
    "sns.boxplot(y=free_users['distance'], color='blue', ax=axes[0])\n",
    "axes[0].set_title('Расстояние поездок: Пользователи без подписки')\n",
    "axes[0].set_ylabel('Расстояние (км)')\n",
    "\n",
    "# Расстояние поездок для пользователей с подпиской\n",
    "sns.boxplot(y=ultra_users['distance'], color='green', ax=axes[1])\n",
    "axes[1].set_title('Расстояние поездок: Пользователи с подпиской')\n",
    "axes[1].set_ylabel('Расстояние (км)')\n",
    "\n",
    "plt.tight_layout()\n",
    "plt.show()\n",
    "\n",
    "# Визуализация данных о времени поездок с использованием boxplot\n",
    "fig, axes = plt.subplots(1, 2, figsize=(15, 6))\n",
    "\n",
    "# Время поездок для пользователей без подписки\n",
    "sns.boxplot(y=free_users['duration'], color='blue', ax=axes[0])\n",
    "axes[0].set_title('Время поездок: Пользователи без подписки')\n",
    "axes[0].set_ylabel('Время (минуты)')\n",
    "\n",
    "# Время поездок для пользователей с подпиской\n",
    "sns.boxplot(y=ultra_users['duration'], color='green', ax=axes[1])\n",
    "axes[1].set_title('Время поездок: Пользователи с подпиской')\n",
    "axes[1].set_ylabel('Время (минуты)')\n",
    "\n",
    "plt.tight_layout()\n",
    "plt.show()\n"
   ]
  },
  {
   "cell_type": "code",
   "execution_count": 37,
   "id": "f367306c",
   "metadata": {},
   "outputs": [
    {
     "name": "stdout",
     "output_type": "stream",
     "text": [
      "ultra_users count    6500.000000\n",
      "mean     3115.445388\n",
      "std       836.895330\n",
      "min       244.210438\n",
      "25%      2785.444017\n",
      "50%      3148.637229\n",
      "75%      3560.574425\n",
      "max      5699.769662\n",
      "Name: distance, dtype: float64\n",
      "free_users count    11568.000000\n",
      "mean      3045.495282\n",
      "std       1246.173806\n",
      "min          0.855683\n",
      "25%       2366.562689\n",
      "50%       3114.648465\n",
      "75%       3905.697894\n",
      "max       7211.007745\n",
      "Name: distance, dtype: float64\n",
      "ultra_users count    6500.000000\n",
      "mean       18.541985\n",
      "std         5.572048\n",
      "min         3.760353\n",
      "25%        14.524654\n",
      "50%        18.178153\n",
      "75%        21.884129\n",
      "max        40.823963\n",
      "Name: duration, dtype: float64\n",
      "free_users count    11568.000000\n",
      "mean        17.390909\n",
      "std          6.326803\n",
      "min          0.500000\n",
      "25%         12.958437\n",
      "50%         17.326890\n",
      "75%         21.594071\n",
      "max         34.948498\n",
      "Name: duration, dtype: float64\n"
     ]
    }
   ],
   "source": [
    "print('ultra_users', ultra_users['distance'].describe())\n",
    "print('free_users', free_users['distance'].describe())\n",
    "print('ultra_users', ultra_users['duration'].describe())\n",
    "print('free_users', free_users['duration'].describe())"
   ]
  },
  {
   "cell_type": "markdown",
   "id": "9768384a",
   "metadata": {},
   "source": [
    "Сравнительная таблица по дистанциям поездок\n",
    "\n",
    "| Параметр                       | Пользователи с подпиской (ultra_users) | Пользователи без подписки (free_users) | Выводы                                                                           |\n",
    "|--------------------------------|-----------------------------------------|-----------------------------------------|-----------------------------------------------------------------------------------|\n",
    "| **Количество записей о поездках** | 6500                                    | 11568                                   | Пользователи с подпиской имеют меньше поездок, возможно, из-за особенностей тарифов.  |\n",
    "| **Среднее (distance)**         | 3115.45 м                              | 3045.49 м                              | Средние значения дистанций схожи, но немного выше у пользователей с подпиской.                 |\n",
    "| **Стандартное отклонение (distance)** | 836.90 м                              | 1246.17 м                             | У пользователей без подписки больший разброс в дистанциях.                       |\n",
    "| **Минимум (distance)**         | 244.21 м                               | 0.85 м                                 | Пользователи без подписки имеют очень короткие поездки, возможно, это тестовые поездки для проверки функционала сервиса или поездки в рамках акции.     |\n",
    "| **25% (distance)**             | 2785.44 м                              | 2366.56 м                              | Нижняя четверть подписчиков делает более длинные поездки.                        |\n",
    "| **50% (Медиана, distance)**    | 3148.64 м                              | 3114.64 м                              | Медиана дистанций у обеих категорий близка.                                     |\n",
    "| **75% (distance)**             | 3560.57 м                              | 3905.69 м                              | Пользователи без подписки также совершают длинные поездки, хотя средние значения у подписчиков выше. |\n",
    "| **Максимум (distance)**        | 5699.77 м                              | 7211.01 м                              | У пользователей без подписки фиксируются экстремально длинные поездки.            |\n",
    "\n",
    "Сравнительная таблица по длительности поездок\n",
    "\n",
    "| Параметр                       | Пользователи с подпиской (ultra_users) | Пользователи без подписки (free_users) | Выводы                                                                           |\n",
    "|--------------------------------|-----------------------------------------|-----------------------------------------|-----------------------------------------------------------------------------------|\n",
    "| **Количество записей о поездках** | 6500                                    | 11568                                   | Пользователи с подпиской имеют меньше поездок, что может быть связано с особенностями тарифов. |\n",
    "| **Среднее (duration)**         | 18.54 мин                              | 17.39 мин                              | Подписчики в среднем проводят больше времени в поездках.                          |\n",
    "| **Стандартное отклонение (duration)** | 5.57 мин                             | 6.32 мин                               | Время поездок у пользователей без подписки более вариативно.                     |\n",
    "| **Минимум (duration)**         | 3.76 мин                               | 0.5 мин                               | Минимальная длительность поездок в обеих категориях может быть очень короткой, и экстермально короткой 0,5 мин у пользователей без подписки.   |\n",
    "| **25% (duration)**             | 14.52 мин                              | 12.96 мин                              | Пользователи с подпиской чаще совершают более продолжительные поездки.                          |\n",
    "| **50% (Медиана, duration)**    | 18.18 мин                              | 17.32 мин                              | Медиана времени поездок немного выше у пользователей с подпиской.                              |\n",
    "| **75% (duration)**             | 21.88 мин                              | 21.59 мин                              | Различия во времени поездок между категориями минимальны.                        |\n",
    "| **Максимум (duration)**        | 40.82 мин                              | 34.94 мин                              | Пользователи с подпиской совершают более продолжительные поездки (с выбросами).                |\n",
    "\n",
    "Эти таблицы наглядно демонстрируют статистические различия между пользователями с подпиской и без неё, подчеркивая как схожесть, так и различия в их поведении во время поездок.\n",
    "\n",
    "Как показывает график, анализ расстояний и времени поездок для пользователей обеих категорий выявил интересные закономерности. Для пользователей с подпиской средняя дистанция поездки составляет 3115 метров с стандартным отклонением 836 метров, что указывает на довольно стабильные и предсказуемые расстояния. В то же время пользователи без подписки показывают немного меньшую среднюю дистанцию в 3045 метров, однако их стандартное отклонение составляет 1246 метров, что указывает на более широкий разброс значений и возможные крайние случаи. Минимальная дистанция у пользователей с подпиской зафиксирована на уровне 244 метров, тогда как у пользователей без подписки зафиксированы поездки 0,85 метров, что может говорить о наличии тестовых или акционные поездок, отражающих их реальное поведение при использовании сервиса.\n",
    "\n",
    "Что касается времени поездок, средняя длительность для пользователей с подпиской составляет 18.54 минуты, тогда как для пользователей без подписки она равна 17.39 минут. Разница в значениях также подтверждается стандартным отклонением, которое составляет 5.57 и 6.32 минуты соответственно. Это говорит о том, что пользователи с подпиской совершают более продолжительные поездки, что может быть связано с особенностями тарифного плана. Минимальная длительность поездок у пользователей с подпиской составляет 3.76 минуты, тогда как у пользователей без подписки она составляет 0,5 минут. Пиковые значения на графиках, отображающие короткие поездки, указывают на наличие тестовых поездок, которые, хотя и могут восприниматься как выбросы, не были удалены из анализа, так как они отражают реальное поведение пользователей при взаимодействии с сервисом.\n",
    "\n",
    "Таким образом, данные показывают, что обе группы пользователей активно используют сервис, но с различиями в расстояниях и длительности поездок. Это может быть важно для дальнейшего анализа и разработки стратегий, направленных на улучшение пользовательского опыта."
   ]
  },
  {
   "cell_type": "markdown",
   "id": "e87d00e6",
   "metadata": {},
   "source": [
    "#### Шаг 5. Подсчёт выручки"
   ]
  },
  {
   "cell_type": "markdown",
   "id": "466bf05a",
   "metadata": {},
   "source": [
    "Создадим датафрейм с агрегированными данными о поездках на основе датафрейма с объединёнными данными из шага 4: найдем суммарное расстояние, количество поездок и суммарное время для каждого пользователя за каждый месяц."
   ]
  },
  {
   "cell_type": "code",
   "execution_count": 38,
   "id": "c41715ac",
   "metadata": {},
   "outputs": [
    {
     "data": {
      "text/html": [
       "<div>\n",
       "<style scoped>\n",
       "    .dataframe tbody tr th:only-of-type {\n",
       "        vertical-align: middle;\n",
       "    }\n",
       "\n",
       "    .dataframe tbody tr th {\n",
       "        vertical-align: top;\n",
       "    }\n",
       "\n",
       "    .dataframe thead th {\n",
       "        text-align: right;\n",
       "    }\n",
       "</style>\n",
       "<table border=\"1\" class=\"dataframe\">\n",
       "  <thead>\n",
       "    <tr style=\"text-align: right;\">\n",
       "      <th></th>\n",
       "      <th>user_id</th>\n",
       "      <th>month</th>\n",
       "      <th>rides_count</th>\n",
       "      <th>distance</th>\n",
       "      <th>duration</th>\n",
       "      <th>subscription_type</th>\n",
       "      <th>subscription_fee</th>\n",
       "      <th>minute_price</th>\n",
       "      <th>start_ride_price</th>\n",
       "      <th>monthly_revenue</th>\n",
       "    </tr>\n",
       "  </thead>\n",
       "  <tbody>\n",
       "    <tr>\n",
       "      <th>0</th>\n",
       "      <td>1</td>\n",
       "      <td>1</td>\n",
       "      <td>2</td>\n",
       "      <td>7027.511294</td>\n",
       "      <td>42.0</td>\n",
       "      <td>ultra</td>\n",
       "      <td>199</td>\n",
       "      <td>6</td>\n",
       "      <td>0</td>\n",
       "      <td>451.0</td>\n",
       "    </tr>\n",
       "    <tr>\n",
       "      <th>1</th>\n",
       "      <td>1</td>\n",
       "      <td>4</td>\n",
       "      <td>1</td>\n",
       "      <td>754.159807</td>\n",
       "      <td>7.0</td>\n",
       "      <td>ultra</td>\n",
       "      <td>199</td>\n",
       "      <td>6</td>\n",
       "      <td>0</td>\n",
       "      <td>241.0</td>\n",
       "    </tr>\n",
       "    <tr>\n",
       "      <th>2</th>\n",
       "      <td>1</td>\n",
       "      <td>8</td>\n",
       "      <td>2</td>\n",
       "      <td>6723.470560</td>\n",
       "      <td>46.0</td>\n",
       "      <td>ultra</td>\n",
       "      <td>199</td>\n",
       "      <td>6</td>\n",
       "      <td>0</td>\n",
       "      <td>475.0</td>\n",
       "    </tr>\n",
       "    <tr>\n",
       "      <th>3</th>\n",
       "      <td>1</td>\n",
       "      <td>10</td>\n",
       "      <td>2</td>\n",
       "      <td>5809.911100</td>\n",
       "      <td>32.0</td>\n",
       "      <td>ultra</td>\n",
       "      <td>199</td>\n",
       "      <td>6</td>\n",
       "      <td>0</td>\n",
       "      <td>391.0</td>\n",
       "    </tr>\n",
       "    <tr>\n",
       "      <th>4</th>\n",
       "      <td>1</td>\n",
       "      <td>11</td>\n",
       "      <td>3</td>\n",
       "      <td>7003.499363</td>\n",
       "      <td>56.0</td>\n",
       "      <td>ultra</td>\n",
       "      <td>199</td>\n",
       "      <td>6</td>\n",
       "      <td>0</td>\n",
       "      <td>535.0</td>\n",
       "    </tr>\n",
       "  </tbody>\n",
       "</table>\n",
       "</div>"
      ],
      "text/plain": [
       "   user_id  month  rides_count     distance  duration subscription_type  \\\n",
       "0        1      1            2  7027.511294      42.0             ultra   \n",
       "1        1      4            1   754.159807       7.0             ultra   \n",
       "2        1      8            2  6723.470560      46.0             ultra   \n",
       "3        1     10            2  5809.911100      32.0             ultra   \n",
       "4        1     11            3  7003.499363      56.0             ultra   \n",
       "\n",
       "   subscription_fee  minute_price  start_ride_price  monthly_revenue  \n",
       "0               199             6                 0            451.0  \n",
       "1               199             6                 0            241.0  \n",
       "2               199             6                 0            475.0  \n",
       "3               199             6                 0            391.0  \n",
       "4               199             6                 0            535.0  "
      ]
     },
     "metadata": {},
     "output_type": "display_data"
    }
   ],
   "source": [
    "# Округляем продолжительность поездок\n",
    "data_merged['duration'] = np.ceil(data_merged['duration'])\n",
    "\n",
    "# Создание сводной таблицы для агрегированных данных\n",
    "pivot_table = data_merged.pivot_table(\n",
    "    index=['user_id', 'month'],\n",
    "    values=['distance', 'duration', 'date'],  # 'date' для подсчета количества поездок\n",
    "    aggfunc={'distance': 'sum', 'duration': 'sum', 'date': 'count'}\n",
    ").reset_index()\n",
    "\n",
    "# Переименуем колонку 'date' в 'rides_count' для ясности\n",
    "pivot_table.rename(columns={'date': 'rides_count'}, inplace=True)\n",
    "\n",
    "# Объединяем данные из исходного датафрейма с данными сводной таблицы\n",
    "pivot_table = pd.merge(\n",
    "    pivot_table,\n",
    "    data_merged[['user_id', 'subscription_type', 'subscription_fee', 'minute_price', 'start_ride_price']],\n",
    "    on='user_id',\n",
    "    how='left'\n",
    ")\n",
    "\n",
    "# Удаляем дубликаты (если они есть)\n",
    "pivot_table = pivot_table.drop_duplicates(subset=['user_id', 'month'])\n",
    "\n",
    "# Применяем формулу для расчёта выручки\n",
    "pivot_table['monthly_revenue'] = (\n",
    "    pivot_table['rides_count'] * pivot_table['start_ride_price'] +\n",
    "    pivot_table['duration'] * pivot_table['minute_price']+\n",
    "    pivot_table['subscription_fee']\n",
    ")\n",
    "\n",
    "# Пересчитываем индексы заново, если возникли пропуски\n",
    "pivot_table = pivot_table.reset_index(drop=True)\n",
    "\n",
    "# Выводим результат\n",
    "display(pivot_table.head())\n",
    "pivot_table.to_csv('pivot_table.csv', index=False)\n"
   ]
  },
  {
   "cell_type": "markdown",
   "id": "d0ba5fec",
   "metadata": {},
   "source": [
    "#### Шаг 6. Проверка гипотез"
   ]
  },
  {
   "cell_type": "markdown",
   "id": "a714cad2",
   "metadata": {},
   "source": [
    "Теперь мы перейдем к шагу 6, посвященному проверке гипотез, в рамках которого продакт-менеджеры сервиса хотят увеличить количество пользователей с подпиской. Для этого они планируют проводить различные акции, но прежде необходимо выяснить несколько важных моментов."
   ]
  },
  {
   "cell_type": "markdown",
   "id": "0831a03b",
   "metadata": {},
   "source": [
    "**6.1 Важно понять, тратят ли пользователи с подпиской больше времени на поездки. Если это так, то они могут оказаться более выгодными для компании. Мы проведем проверку этой гипотезы, используя исходные данные о продолжительности каждой сессии для обеих категорий пользователей — подписчиков и тех, у кого нет подписки.**\n",
    "\n",
    "Чтобы ответить на вопрос о том, тратят ли пользователи с подпиской больше времени на поездки,  структурируем наш ответ по этапам:\n",
    "\n",
    "1. Формулировка гипотез\n",
    "\n",
    "- **Нулевая гипотеза (H0)**: Среднее время поездки пользователей с подпиской **меньше или равно** среднему времени поездки пользователей без подписки (H0: μ₁ ≤ μ₂).\n",
    "- **Альтернативная гипотеза (H1)**: Среднее время поездки пользователей с подпиской **больше** среднего времени поездки пользователей без подписки (H1: μ₁ > μ₂).\n"
   ]
  },
  {
   "cell_type": "code",
   "execution_count": 39,
   "id": "0b284d13",
   "metadata": {},
   "outputs": [
    {
     "name": "stdout",
     "output_type": "stream",
     "text": [
      "Среднее время поездки у пользователей с подпиской: 18.54198516280583\n",
      "Среднее время поездки у пользователей без подписки: 17.39090929866399\n",
      "p-value: 1.2804098316645618e-34\n",
      "Отвергаем нулевую гипотезу\n"
     ]
    }
   ],
   "source": [
    "alpha = 0.05\n",
    "\n",
    "result = st.ttest_ind(\n",
    "    ultra_users['duration'],\n",
    "    free_users['duration'],\n",
    "    alternative = 'greater')\n",
    "\n",
    "print('Среднее время поездки у пользователей с подпиской:',ultra_users['duration'].mean())\n",
    "print('Среднее время поездки у пользователей без подписки:',free_users['duration'].mean())\n",
    "print('p-value:', result.pvalue)\n",
    "\n",
    "if result.pvalue < alpha:\n",
    "    print('Отвергаем нулевую гипотезу')\n",
    "else:\n",
    "    print('Не удалось отвергнуть нулевую гипотезу')\n"
   ]
  },
  {
   "cell_type": "markdown",
   "id": "d3160d9a",
   "metadata": {},
   "source": [
    "2. Результаты теста\n",
    "\n",
    "- Среднее время поездки у пользователей с подпиской: **18.54** минут.\n",
    "- Среднее время поездки у пользователей без подписки: **17.39** минут.\n",
    "- Полученное значение p-value: **1.280e-34**.\n",
    "\n",
    "3. Сравнение p-value с уровнем значимости\n",
    "\n",
    "- Обычно уровень значимости (alpha) устанавливается на **0.05**.\n",
    "- Поскольку **p-value (1.280e-34) < 0.05**, мы отвергаем нулевую гипотезу.\n",
    "\n",
    "4. Выводы\n",
    "\n",
    "- **На основании проведенного анализа**: Мы отвергли нулевую гипотезу и приняли альтернативную гипотезу, что среднее время поездки пользователей с подпиской больше, чем у пользователей без подписки.\n",
    "- Это подтверждается тем, что среднее время поездки у пользователей с подпиской (18.54 минуты)  больше, чем у пользователей без подписки (17.39 минуты).\n",
    "\n",
    "5. Рекомендации\n",
    "\n",
    "- Пользователи с подпиской действительно тратят больше времени на поездки, что может свидетельствовать о том, что они используют сервис более активно. \n",
    "- Это открывает возможность для компании рассмотреть дополнительные предложения и акции для подписчиков, которые могут увеличить их лояльность и удовлетворенность сервисом.\n"
   ]
  },
  {
   "cell_type": "markdown",
   "id": "968b387f",
   "metadata": {},
   "source": [
    "**6.2 Учитывая, что расстояние одной поездки в 3130 метров считается оптимальным с точки зрения износа самоката, можно ли сказать, что среднее расстояние, которое проезжают пользователи с подпиской за одну поездку, не превышает \n",
    "3130 метров? Проверим гипотезу и сделаем выводы.**\n"
   ]
  },
  {
   "cell_type": "markdown",
   "id": "ecab0ae9",
   "metadata": {},
   "source": [
    "**Формулировка гипотез:**\n",
    "\n",
    "Нулевая гипотеза (H0): Среднее расстояние, которое проезжают пользователи с подпиской за одну поездку, меньше или равно 3130 метров.\n",
    "\n",
    "𝐻0: 𝜇 ≤ 3130\n",
    "\n",
    "Альтернативная гипотеза (H1): Среднее расстояние, которое проезжают пользователи с подпиской за одну поездку, больше 3130 метров.\n",
    "\n",
    "𝐻1: 𝜇 > 3130\n"
   ]
  },
  {
   "cell_type": "code",
   "execution_count": 40,
   "id": "1d0368f1",
   "metadata": {},
   "outputs": [
    {
     "name": "stdout",
     "output_type": "stream",
     "text": [
      "p-value: 0.9195368847849785\n",
      "Не удалось отвергнуть нулевую гипотезу\n",
      "Среднее расстояние пользователей с подпиской не превышает 3130 метров\n"
     ]
    }
   ],
   "source": [
    "alpha = 0.05\n",
    "\n",
    "optimal_distance = 3130\n",
    "\n",
    "result = st.ttest_1samp(\n",
    "    ultra_users['distance'],\n",
    "    optimal_distance,\n",
    "    alternative = 'greater')\n",
    "\n",
    "print('p-value:', result.pvalue)\n",
    "\n",
    "# Проверяем результат\n",
    "if result.pvalue < alpha:\n",
    "    print('Отвергаем нулевую гипотезу')\n",
    "    print('Среднее расстояние пользователей с подпиской превышает 3130 метров')\n",
    "else:\n",
    "    print('Не удалось отвергнуть нулевую гипотезу')\n",
    "    print('Среднее расстояние пользователей с подпиской не превышает 3130 метров')\n"
   ]
  },
  {
   "cell_type": "markdown",
   "id": "6e10e79d",
   "metadata": {},
   "source": [
    "2. Результаты t-теста\n",
    "\n",
    "- Мы провели одновыборочный t-тест, чтобы проверить гипотезу.\n",
    "- Полученное значение p-value составило **0.9195**.\n",
    "\n",
    "3. Сравнение p-value с уровнем значимости\n",
    "\n",
    "- Уровень значимости (alpha) установлен на **0.05**.\n",
    "- Поскольку **0.9195 > 0.05**, мы не можем отвергнуть нулевую гипотезу.\n",
    "\n",
    "4. Выводы\n",
    "\n",
    "Поскольку **p-value** больше \\( \\alpha = 0.05 \\), то мы не можем отвергнуть нулевую гипотезу, и на основании данных можно сказать, что среднее расстояние поездок пользователей с подпиской не превышает 3130 метров."
   ]
  },
  {
   "cell_type": "markdown",
   "id": "554cc7a2",
   "metadata": {},
   "source": [
    "**6.3 Следующим шагом будет проверка гипотезы о том, будет ли помесячная выручка от пользователей с подпиской по месяцам выше, чем выручка от пользователей без подписки. После проверки мы сделаем выводы на основе полученных данных.**\n",
    "\n",
    "Для проверки гипотезы о том, является ли помесячная выручка от пользователей с подпиской выше, чем выручка от пользователей без подписки, сформулируем гипотезы:\n",
    "\n",
    "**Нулевая гипотеза (H₀):**\n",
    "Средняя выручка от пользователей с подпиской **не выше** выручки от пользователей без подписки. Это означает, что средняя выручка от подписчиков меньше или равна средней выручке от пользователей без подписки. \n",
    "\n",
    "- H₀: μ₁ ≤ μ₂  \n",
    "  (где μ₁ — средняя выручка от пользователей с подпиской, а μ₂ — средняя выручка от пользователей без подписки)\n",
    "\n",
    "**Альтернативная гипотеза (H₁):**\n",
    "Средняя выручка от пользователей с подпиской **выше** средней выручки от пользователей без подписки.\n",
    "\n",
    "- H₁: μ₁ > μ₂  \n",
    "\n",
    "Логика теста:\n",
    "- Если p-value меньше уровня значимости (0.05), это означает, что у нас достаточно статистических данных, чтобы **отвергнуть нулевую гипотезу** и принять альтернативную гипотезу (то есть выручка от подписчиков действительно выше).\n",
    "- Если p-value больше уровня значимости, мы **не отвергаем нулевую гипотезу**, что означает, что нельзя утверждать, что выручка от подписчиков выше."
   ]
  },
  {
   "cell_type": "code",
   "execution_count": 41,
   "id": "88493191",
   "metadata": {},
   "outputs": [
    {
     "name": "stdout",
     "output_type": "stream",
     "text": [
      "Средняя выручка за месяц от пользователей с подпиской: 362.7921906022502\n",
      "Средняя выручка за месяц от пользователей без подписки: 328.6413651073845\n",
      "p-value: 1.8850394384715216e-31\n",
      "Отвергаем нулевую гипотезу\n",
      "Средняя выручка от пользователей с подпиской выше чем средняя выручка от пользователей без подписки\n"
     ]
    }
   ],
   "source": [
    "monthly_revenue_ultra = pivot_table.query('subscription_type == \"ultra\"')\n",
    "monthly_revenue_free = pivot_table.query('subscription_type == \"free\"')\n",
    "\n",
    "print('Средняя выручка за месяц от пользователей с подпиской:', monthly_revenue_ultra['monthly_revenue'].mean())\n",
    "print('Средняя выручка за месяц от пользователей без подписки:', monthly_revenue_free['monthly_revenue'].mean())\n",
    "\n",
    "alpha = 0.05\n",
    "\n",
    "result = st.ttest_ind(\n",
    "    monthly_revenue_ultra['monthly_revenue'],\n",
    "    monthly_revenue_free['monthly_revenue'],\n",
    "    alternative = 'greater')\n",
    "\n",
    "print('p-value:', result.pvalue)\n",
    "\n",
    "if result.pvalue < alpha:\n",
    "    print('Отвергаем нулевую гипотезу')\n",
    "    print('Средняя выручка от пользователей с подпиской выше чем средняя выручка от пользователей без подписки')\n",
    "    \n",
    "else:\n",
    "    print('Не удалось отвергнуть нулевую гипотезу')\n",
    "    print('Средняя выручка от пользователей с подпиской не превышает среднюю выручку от пользователей без подписки')"
   ]
  },
  {
   "cell_type": "markdown",
   "id": "683162b9",
   "metadata": {},
   "source": [
    "Для проверки гипотезы о том, будет ли помесячная выручка от пользователей с подпиской выше, чем выручка от пользователей без подписки, мы провели t-тест для независимых выборок.\n",
    "\n",
    "Интерпретация результатов:\n",
    "\n",
    "1. **Средняя выручка:**\n",
    "   - Средняя выручка от пользователей с подпиской составляет **362.79** рублей.\n",
    "   - Средняя выручка от пользователей без подписки составляет **328.64** рублей.\n",
    "   \n",
    "   Это говорит о том, что пользователи с подпиской приносят в среднем больше выручки по сравнению с пользователями без подписки.\n",
    "\n",
    "2. **p-value:**\n",
    "   - Значение p-value составляет **1.8850e-31**. Это указывает на то, что вероятность наблюдать такую разницу в средних значениях (или больше) при условии, что нулевая гипотеза верна, почти невозможна. В данном случае нулевая гипотеза предполагает, что средняя выручка от пользователей с подпиской не выше, чем от пользователей без подписки.\n",
    "\n",
    "3. **Вывод:**\n",
    "   - Поскольку p-value **1.8850e-31** меньше уровня значимости **α = 0.05**, это означает, что у нас есть достаточные основания для того, чтобы отвергнуть нулевую гипотезу. \n",
    "   - Следовательно, мы выяснили, что помесячная выручка от пользователей с подпиской выше, чем от пользователей без подписки. На основании полученных данных можно сделать вывод, что пользователи с подпиской приносят значительно больше выручки.\n",
    "\n",
    " Заключение:\n",
    "\n",
    "Пользователи с подпиской приносят больше выручки, что делает их важной целевой аудиторией для бизнеса.\n",
    "Рекомендуется усилить маркетинговые усилия по привлечению клиентов к подписке, так как это стратегически важный сегмент, который напрямую влияет на рост выручки компании. \n",
    "\n",
    "Можно разработать привлекательные подписочные планы, предложить дополнительные бонусы для подписчиков или внедрить кампании по удержанию существующих подписчиков.\n",
    "\n",
    "\n",
    "Привлечение большего числа пользователей к подписке, а также акцент на продвижении подписок среди текущих пользователей, может существенно увеличить доходы компании в долгосрочной перспективе.\n",
    "\n",
    "**6.4 Представим такую ситуацию: техническая команда сервиса обновила сервера, с которыми взаимодействует мобильное приложение. Она надеется, что из-за этого количество обращений в техподдержку значимо снизилось. Некоторый файл содержит для каждого пользователя данные о количестве обращений до обновления и после него. Какой тест мы бы использовали для проверки этой гипотезы?**\n",
    "\n",
    " В этом случае у нас есть данные о количестве обращений в техподдержку до и после обновления серверов. Мы будем сравнивать количество обращений до и после для одних и тех же пользователей, а значит, нужно использовать **парный t-тест**, чтобы проверить, уменьшилось ли количество обращений после обновления.\n",
    " \n",
    " Для данной задачи мы формулируем гипотезы следующим образом:\n",
    "\n",
    " **Нулевая гипотеза (H₀):**\n",
    "**Количество обращений в техподдержку не уменьшилось после обновления серверов**. Иными словами, среднее количество обращений до обновления серверов либо такое же, либо выше, чем после обновления.\n",
    "\n",
    "𝐻0: 𝜇 before ≤ 𝜇 after\n",
    "\n",
    "\n",
    "**Альтернативная гипотеза (H₁):**\n",
    "**Количество обращений в техподдержку значительно уменьшилось после обновления серверов**. Это означает, что среднее количество обращений до обновления серверов было больше, чем после обновления.\n",
    "\n",
    "𝐻1: 𝜇 before > 𝜇 after\n",
    "\n",
    "Обоснование:\n",
    "Мы сравниваем среднее количество обращений до и после обновления для одних и тех же пользователей, поэтому используем **парный t-тест** (так как данные связаны). Мы предполагаем, что количество обращений могло **уменьшиться** после улучшения серверов, следовательно, тестируем **на уменьшение** (alternative = 'greater', так как нам надо доказать что количество обращений ДО обновлений - было больше чем после обновления серверов).\n"
   ]
  },
  {
   "cell_type": "markdown",
   "id": "ae85f8ae",
   "metadata": {},
   "source": [
    "Код:\n",
    "\n",
    "```python\n",
    "# Предположим, что у нас есть датафрейм 'support_requests' с колонками 'user_id', 'before_update' и 'after_update'\n",
    "# Проведем парный t-тест\n",
    "t_stat, p_value = stats.ttest_rel(support_requests['before_update'], support_requests['after_update'], alternative ='greater')\n",
    "\n",
    "# Выводим результаты\n",
    "print(f\"T-statistic: {t_stat}, P-value: {p_value}\")\n",
    "\n",
    "# Интерпретация\n",
    "alpha = 0.05\n",
    "if p_value < alpha:\n",
    "    print(\"Отвергаем нулевую гипотезу: количество обращений значительно снизилось после обновления.\")\n",
    "else:\n",
    "    print(\"Не можем отвергнуть нулевую гипотезу: нет значительного уменьшения обращений после обновления.\")\n",
    "```\n",
    "\n",
    "\n",
    "Интерпретация:\n",
    "- Если **p-value** окажется меньше уровня значимости (α = 0.05), мы отвергнем нулевую гипотезу и примем альтернативную, что означает, что обновление серверов действительно снизило количество обращений.\n",
    "- Если **p-value** больше α, мы не сможем отвергнуть нулевую гипотезу, что укажет на отсутствие значимого изменения количества обращений.\n"
   ]
  },
  {
   "cell_type": "markdown",
   "id": "48570bf4",
   "metadata": {},
   "source": [
    "#### Шаг 7. Распределения"
   ]
  },
  {
   "cell_type": "markdown",
   "id": "9c3f5e3f",
   "metadata": {},
   "source": [
    "Отделу маркетинга GoFast поставили задачу: нужно провести акцию с раздачей промокодов на один бесплатный месяц подписки, в рамках которой как минимум 100 существующих клиентов должны продлить эту подписку. То есть по завершении периода действия подписки пользователь может либо отказаться от неё, либо продлить, совершив соответствующий платёж. \n",
    "\n",
    "Эта акция уже проводилась ранее и по итогу выяснилось, что после бесплатного пробного периода подписку продлевают \n",
    "10% пользователей. Наша задача выяснить, какое минимальное количество промокодов нужно разослать, чтобы вероятность не выполнить план была примерно 5 %. Подберем параметры распределения, описывающего эту ситуацию, построим график распределения и сформулируем ответ на вопрос о количестве промокодов."
   ]
  },
  {
   "cell_type": "code",
   "execution_count": 42,
   "id": "d057c985",
   "metadata": {},
   "outputs": [
    {
     "name": "stdout",
     "output_type": "stream",
     "text": [
      "Минимальное количество промокодов для разослания: 1161\n"
     ]
    },
    {
     "data": {
      "image/png": "[encoded data removed]",
      "text/plain": [
       "<Figure size 864x432 with 2 Axes>"
      ]
     },
     "metadata": {
      "needs_background": "light"
     },
     "output_type": "display_data"
    }
   ],
   "source": [
    "\n",
    "# Функция для нахождения минимального N\n",
    "def find_minimum_n(target, p, alpha):\n",
    "    n = target  # Начальное значение N\n",
    "    # Пока вероятность продления 100 и более пользователей выше alpha\n",
    "    while True:\n",
    "        # Вычисляем вероятность того, что менее 100 пользователей продлят подписку\n",
    "        prob = binom.cdf(target - 1, n, p)  # Вероятность, что продлят меньше 100\n",
    "        if prob <= alpha:\n",
    "            break\n",
    "        n += 1  # Увеличиваем N\n",
    "    return n\n",
    "\n",
    "# Параметры\n",
    "target = 100  # Целевое количество продлений\n",
    "p = 0.1  # Вероятность продления\n",
    "alpha = 0.05  # Уровень значимости\n",
    "\n",
    "# Нахождение минимального N\n",
    "min_n = find_minimum_n(target, p, alpha)\n",
    "print(f\"Минимальное количество промокодов для разослания: {min_n}\")\n",
    "\n",
    "# Построение графика PMF (Функция плотности вероятности)\n",
    "x = np.arange(0, min_n + 50)  # Диапазон значений\n",
    "\n",
    "plt.figure(figsize=(12, 6))  # Ширина 12 дюймов, высота 6 дюймов\n",
    "\n",
    "# PMF график\n",
    "plt.subplot(1, 2, 1)  # Первый график в сетке 1x2\n",
    "plt.plot(x, binom.pmf(x, min_n, p), 'bo-', label='PMF')  # Функция плотности вероятности\n",
    "plt.axvline(x=target, color='r', linestyle='--', label='Целевое значение (100)')\n",
    "plt.title('Биномиальное распределение продлений подписки (PMF)')\n",
    "plt.xlabel('Количество продлений')\n",
    "plt.ylabel('Вероятность')\n",
    "plt.legend()\n",
    "plt.grid()\n",
    "\n",
    "# CDF график (Кумулятивная функция распределения)\n",
    "plt.subplot(1, 2, 2)  # Второй график в сетке 1x2\n",
    "plt.plot(x, binom.cdf(x, min_n, p), 'bo-', label='CDF', color='green')  # Кумулятивная вероятность\n",
    "plt.axvline(x=target, color='r', linestyle='--', label='Целевое значение (100)')\n",
    "plt.title('Кумулятивная функция распределения (CDF) продлений подписки')\n",
    "plt.xlabel('Количество продлений')\n",
    "plt.ylabel('Накопленная вероятность')\n",
    "plt.legend()\n",
    "plt.grid()\n",
    "\n",
    "plt.tight_layout()  # Чтобы графики не налезали друг на друга\n",
    "plt.show()\n"
   ]
  },
  {
   "cell_type": "markdown",
   "id": "dbee00dc",
   "metadata": {},
   "source": [
    "Для решения задачи определения минимального количества промокодов, необходимых для достижения цели в 100 продлений подписки, мы написали функцию, которая находит это количество, исходя из известных параметров. Мы установили, что вероятность продления подписки после бесплатного месяца составляет 10% (0.1), и задали уровень значимости в 5% (0.05).\n",
    "\n",
    "В функции find_minimum_n мы итеративно увеличиваем значение \n",
    "𝑛\n",
    "n (количество промокодов), пока вероятность того, что менее 100 пользователей продлят подписку, не станет меньше или равной заданному уровню значимости. Результаты вычислений показали, что минимальное количество промокодов, которое необходимо разослать, составляет 1161.\n",
    "\n",
    "Кроме того, мы построили графики функции плотности вероятности (PMF) и кумулятивной функции распределения (CDF), которые визуализируют распределение вероятностей продлений подписки в зависимости от количества разосланных промокодов. Это позволяет более наглядно увидеть, как увеличивается вероятность успешного продления подписки по мере увеличения числа разосланных промокодов. Таким образом, для достижения цели в 100 продлений подписки маркетинговому отделу GoFast следует разослать 1161 промокод на бесплатный месяц подписки.\n",
    "\n",
    "Вместе графики показывают, что чтобы с 95%-ной уверенностью получить 100 продлений, необходимо разослать не менее 1161 промокодов, что следует из параметров биномиального распределения."
   ]
  },
  {
   "cell_type": "markdown",
   "id": "8179e665",
   "metadata": {},
   "source": [
    "**7.2 Отдел маркетинга рассылает клиентам push-уведомления в мобильном приложении. Клиенты могут открыть его или не открывать. Известно, что уведомления открывают около \n",
    "40% получивших клиентов. Отдел планирует разослать 1 млн уведомлений. С помощью аппроксимации построим примерный график распределения и оцените вероятность того, что уведомление откроют не более 399,5 тыс. пользователей.**\n"
   ]
  },
  {
   "cell_type": "code",
   "execution_count": 43,
   "id": "667f68c5",
   "metadata": {},
   "outputs": [
    {
     "name": "stdout",
     "output_type": "stream",
     "text": [
      "Вероятность того, что откроют не более 399500 уведомлений: 0.15372\n"
     ]
    },
    {
     "data": {
      "image/png": "[encoded data removed]",
      "text/plain": [
       "<Figure size 720x432 with 1 Axes>"
      ]
     },
     "metadata": {
      "needs_background": "light"
     },
     "output_type": "display_data"
    }
   ],
   "source": [
    "# Параметры задачи\n",
    "n = 1000000  # Количество пользователей\n",
    "p = 0.4  # Вероятность открытия уведомления\n",
    "target = 399500  # Целевое значение количества открытий уведомлений\n",
    "\n",
    "# Параметры нормального распределения (аппроксимация биномиального)\n",
    "mu = n * p  # Математическое ожидание\n",
    "sigma = np.sqrt(n * p * (1 - p))  # Стандартное отклонение\n",
    "\n",
    "# Нахождение вероятности, что откроют не более 399,5 тысяч пользователей\n",
    "prob = norm.cdf(target, mu, sigma)\n",
    "print(f\"Вероятность того, что откроют не более {target} уведомлений: {prob:.5f}\")\n",
    "\n",
    "# Построение графиков\n",
    "\n",
    "# 1. Настоящее биномиальное распределение\n",
    "x_binom = np.arange(int(mu - 4*sigma), int(mu + 4*sigma))  # Диапазон значений для биномиального\n",
    "y_binom = binom.pmf(x_binom, n, p)  # Истинное биномиальное распределение\n",
    "\n",
    "# 2. Нормальная аппроксимация\n",
    "x_norm = np.linspace(mu - 4*sigma, mu + 4*sigma, 1000)  # Диапазон значений для нормального\n",
    "y_norm = norm.pdf(x_norm, mu, sigma)  # Аппроксимированное нормальное распределение\n",
    "\n",
    "# Построение графика\n",
    "plt.figure(figsize=(10, 6))\n",
    "\n",
    "# График истинного биномиального распределения - точки, увеличим размер и добавим прозрачности\n",
    "plt.plot(x_binom, y_binom, 'bo', label='Истинное биномиальное распределение (точки)', alpha=0.5, markersize=6, color=\"yellow\")\n",
    "\n",
    "# График аппроксимированного нормального распределения - тонкая красная линия\n",
    "plt.plot(x_norm, y_norm, 'r-', label='Нормальная аппроксимация (линия)', alpha=0.7, linewidth=3)\n",
    "\n",
    "# Вертикальная линия для целевого значения\n",
    "plt.axvline(x=target, color='g', linestyle='--', label=f'Целевое значение ({target})')\n",
    "\n",
    "# Оформление графика\n",
    "plt.title('Сравнение биномиального и нормального распределений')\n",
    "plt.xlabel('Количество открытий уведомлений')\n",
    "plt.ylabel('Плотность вероятности')\n",
    "plt.legend()\n",
    "plt.grid(True)\n",
    "\n",
    "# Показать график\n",
    "plt.show()\n"
   ]
  },
  {
   "cell_type": "markdown",
   "id": "29f19d6b",
   "metadata": {},
   "source": [
    "В ходе анализа вероятности открытия push-уведомлений, которые будут разосланы **1 миллионом клиентов**, мы использовали **нормальную аппроксимацию биномиального распределения**.  \n",
    "Известно, что вероятность открытия уведомления составляет **40%** \\( p = 0.4 \\).  \n",
    "Целевое значение для открытия уведомлений установлено на уровне **399 500**.\n",
    "\n",
    "Математическое ожидание:\n",
    "\n",
    "$$\n",
    "\\mu = n \\cdot p = 1\\,000\\,000 \\cdot 0.4 = 400\\,000\n",
    "$$\n",
    "\n",
    "Стандартное отклонение:\n",
    "\n",
    "$$\n",
    "\\sigma = \\sqrt{n \\cdot p \\cdot (1-p)} \\approx 499.999 \\ (\\approx 500)\n",
    "$$\n",
    "\n",
    "Используя эти параметры, мы оценили вероятность того, что **не более 399 500** уведомлений будут открыты, через кумулятивную функцию нормального распределения:\n",
    "\n",
    "$$\n",
    "P(X \\le 399\\,500) = \\text{norm.cdf}(399\\,500, 400\\,000, 500)\n",
    "$$\n",
    "\n",
    "Результаты вычислений показали, что вероятность открытия уведомлений в количестве не более 399 500 пользователей составляет примерно **0.15372** (15.372%).\n",
    "\n",
    "Кроме того, мы построили графики, сравнивающие истинное биномиальное распределение и его нормальную аппроксимацию.  \n",
    "На графиках видно, как распределения сходятся, а также визуализируется целевое значение \\( 399\\,500 \\), что позволяет лучше понять вероятностные характеристики этой ситуации."
   ]
  },
  {
   "cell_type": "markdown",
   "id": "b36a18ef",
   "metadata": {},
   "source": [
    "**Общий вывод**\n",
    "\n",
    "Общий вывод по проделанной работе:\n",
    "\n",
    "Мы провели исследование данных сервиса аренды самокатов GoFast для анализа поведения пользователей и проверки гипотез, направленных на оптимизацию бизнес-процессов. \n",
    "\n",
    "Основные результаты:\n",
    "\n",
    "1. Города и активность:\n",
    "   - Пятигорск стал самым активным городом с 219 поездками, за ним следуют Екатеринбург (204 поездки) и Ростов-на-Дону (198 поездок). В то же время, Москва показала меньше активности – всего 168 поездок, что указывает на необходимость усиления маркетинговых усилий в столице.\n",
    "\n",
    "2. Пользователи с подпиской и без подписки:\n",
    "   - Из 1534 пользователей, 45% (699 человек) используют подписку Ultra, в то время как 55% (835 человек) предпочитают бесплатный тариф. Это свидетельствует о необходимости улучшения предложений для подписчиков, чтобы увеличить их число.\n",
    "\n",
    "3. Возрастная группа:\n",
    "   - Средний возраст пользователей составляет 25 лет. Основная аудитория — это молодые люди от 20 до 30 лет. Это указывает на важность таргетированных маркетинговых стратегий, ориентированных на молодежь.\n",
    "\n",
    "4. Расстояния поездок:\n",
    "   - Среднее расстояние поездок составило 3070 метров. Однако в исходных данных встречаются и аномальные значения — поездки менее 100 метров при длительности более 5 минут, такие данные не удалялись из анализа (так как могут быть вполне корректными), но нуждаются в уточнении и дополнительной проверке корректности у коллег, предоставляющих данные.\n",
    "\n",
    "5. Продолжительность поездок:\n",
    "   - В результате исследования мы определелили, что средняя длительность поездок составила 17,8 минут. Пользователи с подпиской проводят в поездке больше времени — 18,54 минут против 17,39 минут у тех, кто использует бесплатный тариф.\n",
    "\n",
    "6. Статистический анализ и гипотезы:\n",
    "   - Гипотеза о времени поездок: Пользователи с подпиской действительно проводят больше времени в поездках, чем те, кто без подписки (p-value < 0,05). Мы отвергли нулевую гипотезу и приняли альтернативную гипотезу, что среднее время поездки пользователей с подпиской больше, чем у пользователей без подписки.Это подтверждается тем, что среднее время поездки у пользователей с подпиской (18.54 минуты)  больше, чем у пользователей без подписки (17.39 минуты).\n",
    "   - Гипотеза о расстояниях: Поскольку p-value больше ( \\alpha = 0.05 ), то мы не отвергаем нулевую гипотезу, и на основании данных можно сказать, что среднее расстояние поездок пользователей с подпиской не превышает 3130 метров.\n",
    "   - Гипотеза о выручке: ППользователи с подпиской приносят больше выручки, что делает их важной целевой аудиторией для бизнеса. Рекомендуется усилить маркетинговые усилия по привлечению клиентов к подписке, так как это стратегически важный сегмент, который напрямую влияет на рост выручки компании. Средняя выручка за месяц от пользователей с подпиской составила 362.79 рубля против среднеей выручка за месяц от пользователей без подписки 328.64 рубля.\n",
    "   \n",
    "   \n",
    "   \n",
    "7. Короткие поездки и тестовые сценарии:\n",
    "\n",
    "Анализ показал наличие значительного количества коротких поездок, включая поездки с дистанцией менее 100 метров. Эти поездки могут быть связаны с тестированием самокатов или проверки системы пользователями (например, перед оформлением подписки). Мы решили не удалять эти данные, так как они отражают реальные сценарии использования, хоть и не оказывают значительного влияния на общую картину.\n",
    "\n",
    "8. Результаты по промокодам:\n",
    "\n",
    "Вопрос отдела маркетинга, касающийся акции с промокодами, показал, что для достижения целевого количества продлений подписки (100 продлений) с вероятностью успеха 95%, нужно разослать как минимум 1161 промокод. Это важно учитывать при планировании будущих маркетинговых кампаний.\n",
    "\n",
    "\n",
    "9. Показатели открытия push-уведомлений:\n",
    "\n",
    "Мы также рассмотрели вероятность того, что push-уведомления будут открыты не более 399,5 тыс. раз из 1 миллиона разосланных. Результаты показали, что вероятность такого исхода составляет около 15%, что демонстрирует стабильность взаимодействия с пользователями на уровне 40% открытий. Эти данные могут быть использованы для корректировки стратегии рассылок и улучшения вовлеченности пользователей.\n",
    "\n",
    "\n",
    "Ответы на основные вопросы, поставленные во введении:\n",
    "\n",
    "1. Поведение пользователей:\n",
    "   - Основная аудитория сервиса GoFast — молодые люди в возрасте от 20 до 30 лет, которые активно используют самокаты для коротких поездок, в среднем в пределах 3 км и продолжительностью около 18 минут. Пользователи с подпиской совершают более длительные поездки, однако не обеспечивают такой же уровень доходности, как пользователи без подписки.\n",
    "\n",
    "2. Влияние различных факторов на доходность:\n",
    "   - Пользователи с подпиской генерируют меньший доход на одну поездку по сравнению с пользователями без подписки. Большая часть дохода поступает от клиентов, использующих бесплатный тариф. Для повышения общей выручки сервиса необходимо рассмотреть стратегии, которые увеличат количество поездок.\n",
    "\n",
    "### Рекомендации:\n",
    "\n",
    "1. Развитие подписки Ultra:\n",
    "\n",
    "- Пользователи с подпиской приносят больше выручки, что делает их важной целевой аудиторией для бизнеса.\n",
    "Рекомендуется усилить маркетинговые усилия по привлечению клиентов к подписке, так как это стратегически важный сегмент, который напрямую влияет на рост выручки компании. \n",
    "\n",
    "- Можно разработать привлекательные подписочные планы, предложить дополнительные бонусы для подписчиков или внедрить кампании по удержанию существующих подписчиков. Привлечение большего числа пользователей к подписке, а также акцент на продвижении подписок среди текущих пользователей, может существенно увеличить доходы компании в долгосрочной перспективе.\n",
    "\n",
    "2. Целевая реклама и продвижение:\n",
    "   - Усилить маркетинговые кампании в менее активных городах, таких как Москва, с акцентом на молодежную аудиторию. Использование специальных акций, приуроченных к молодежным событиям, может стимулировать спрос на услуги сервиса.\n",
    "\n",
    "3. Оптимизация использования самокатов:\n",
    "   - Разработать систему, которая предотвращает ошибки и аномалии в данных о поездках, например, внедрить автоматическое завершение поездки при длительном отсутствии активности пользователя. Это поможет улучшить точность данных и удовлетворенность клиентов.\n",
    "\n",
    "Дополнительные рекомендации:\n",
    "\n",
    "- Анализ коротких поездок:\n",
    "  - При помощи дополнителньых геоданных провести более детальный анализ коротких поездок (например, менее 500 метров) для выявления причин использования сервиса. Это позволит улучшить пользовательский опыт, предоставив более понятные инструкции и специальные предложения для пользователей, чьи ожидания не были удовлетворены.\n",
    "\n",
    "- Оценка эффективности маркетинговых акций:\n",
    "  - В будущих кампаниях с использованием промокодов и других стимулирующих мероприятий, таких как push-уведомления, важно учитывать собранные данные для точного прогнозирования и управления рисками. Это поможет снизить вероятность невыполнения целей и оптимизировать затраты на маркетинг.\n",
    "\n",
    "- Анализ отклонений:\n",
    "  - Для предотвращения аномалий в данных (например, некорректных длительных поездок на короткие дистанции или наоборот) можно внедрить систему контроля данных в реальном времени. Это позволит автоматически корректировать аномальные случаи и поддерживать высокую точность данных, что, в свою очередь, улучшит процесс принятия решений.\n",
    "\n",
    "### Заключение:\n",
    "Проведенный анализ предоставляет четкое представление о поведении пользователей сервиса GoFast, указывает на возможные направления для оптимизации и подчеркивает важные аспекты, которые следует учитывать в дальнейшей стратегии развития. Фокусируясь на ключевых метриках, таких как продолжительность поездок, доходность пользователей с подпиской и без, а также на поведении пользователей при взаимодействии с push-уведомлениями, сервис сможет повысить свою эффективность и предложить клиентам более ценный опыт.\n",
    "\n",
    "Эти шаги помогут улучшить качество обслуживания и увеличить доходность сервиса."
   ]
  }
 ],
 "metadata": {
  "ExecuteTimeLog": [
   {
    "duration": 1513,
    "start_time": "2025-05-12T10:56:21.727Z"
   },
   {
    "duration": 31,
    "start_time": "2025-05-12T10:56:23.242Z"
   },
   {
    "duration": 34,
    "start_time": "2025-05-12T10:56:23.275Z"
   },
   {
    "duration": 136,
    "start_time": "2025-05-12T10:56:23.311Z"
   },
   {
    "duration": 13,
    "start_time": "2025-05-12T10:56:23.448Z"
   },
   {
    "duration": 12,
    "start_time": "2025-05-12T10:56:23.463Z"
   },
   {
    "duration": 21,
    "start_time": "2025-05-12T10:56:23.478Z"
   },
   {
    "duration": 82,
    "start_time": "2025-05-12T10:56:23.501Z"
   },
   {
    "duration": 43,
    "start_time": "2025-05-12T10:56:23.585Z"
   },
   {
    "duration": 7,
    "start_time": "2025-05-12T10:56:23.631Z"
   },
   {
    "duration": 32,
    "start_time": "2025-05-12T10:56:23.640Z"
   },
   {
    "duration": 22,
    "start_time": "2025-05-12T10:56:23.674Z"
   },
   {
    "duration": 13,
    "start_time": "2025-05-12T10:56:23.698Z"
   },
   {
    "duration": 18,
    "start_time": "2025-05-12T10:56:23.713Z"
   },
   {
    "duration": 33,
    "start_time": "2025-05-12T10:56:23.733Z"
   },
   {
    "duration": 13,
    "start_time": "2025-05-12T10:56:23.768Z"
   },
   {
    "duration": 433,
    "start_time": "2025-05-12T10:56:23.783Z"
   },
   {
    "duration": 94,
    "start_time": "2025-05-12T10:56:24.218Z"
   },
   {
    "duration": 350,
    "start_time": "2025-05-12T10:56:24.313Z"
   },
   {
    "duration": 118,
    "start_time": "2025-05-12T10:56:24.664Z"
   },
   {
    "duration": 12,
    "start_time": "2025-05-12T10:56:24.785Z"
   },
   {
    "duration": 77,
    "start_time": "2025-05-12T10:56:24.798Z"
   },
   {
    "duration": 532,
    "start_time": "2025-05-12T10:56:24.876Z"
   },
   {
    "duration": 119,
    "start_time": "2025-05-12T10:56:25.409Z"
   },
   {
    "duration": 9,
    "start_time": "2025-05-12T10:56:25.530Z"
   },
   {
    "duration": 105,
    "start_time": "2025-05-12T10:56:25.540Z"
   },
   {
    "duration": 811,
    "start_time": "2025-05-12T10:56:25.646Z"
   },
   {
    "duration": 121,
    "start_time": "2025-05-12T10:56:26.461Z"
   },
   {
    "duration": 33,
    "start_time": "2025-05-12T10:56:26.584Z"
   },
   {
    "duration": 4,
    "start_time": "2025-05-12T10:56:26.619Z"
   },
   {
    "duration": 18,
    "start_time": "2025-05-12T10:56:26.625Z"
   },
   {
    "duration": 120,
    "start_time": "2025-05-12T10:56:26.645Z"
   },
   {
    "duration": 107,
    "start_time": "2025-05-12T10:56:26.767Z"
   },
   {
    "duration": 692,
    "start_time": "2025-05-12T10:56:26.876Z"
   },
   {
    "duration": 786,
    "start_time": "2025-05-12T10:56:27.570Z"
   },
   {
    "duration": 756,
    "start_time": "2025-05-12T10:56:28.358Z"
   },
   {
    "duration": 21,
    "start_time": "2025-05-12T10:56:29.115Z"
   },
   {
    "duration": 255,
    "start_time": "2025-05-12T10:56:29.138Z"
   },
   {
    "duration": 9,
    "start_time": "2025-05-12T10:56:29.395Z"
   },
   {
    "duration": 51,
    "start_time": "2025-05-12T10:56:29.405Z"
   },
   {
    "duration": 21,
    "start_time": "2025-05-12T10:56:29.458Z"
   },
   {
    "duration": 858,
    "start_time": "2025-05-12T10:56:29.481Z"
   },
   {
    "duration": 424,
    "start_time": "2025-05-12T10:56:30.341Z"
   },
   {
    "duration": 1331,
    "start_time": "2025-05-12T10:56:30.767Z"
   }
  ],
  "kernelspec": {
   "display_name": "Python 3 (ipykernel)",
   "language": "python",
   "name": "python3"
  },
  "language_info": {
   "codemirror_mode": {
    "name": "ipython",
    "version": 3
   },
   "file_extension": ".py",
   "mimetype": "text/x-python",
   "name": "python",
   "nbconvert_exporter": "python",
   "pygments_lexer": "ipython3",
   "version": "3.12.4"
  },
  "toc": {
   "base_numbering": 1,
   "nav_menu": {},
   "number_sections": true,
   "sideBar": true,
   "skip_h1_title": true,
   "title_cell": "Table of Contents",
   "title_sidebar": "Contents",
   "toc_cell": false,
   "toc_position": {},
   "toc_section_display": true,
   "toc_window_display": false
  }
 },
 "nbformat": 4,
 "nbformat_minor": 5
}
