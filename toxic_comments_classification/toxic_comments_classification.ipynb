{
 "cells": [
  {
   "cell_type": "markdown",
   "metadata": {
    "toc": true
   },
   "source": [
    "<h1>Содержание<span class=\"tocSkip\"></span></h1>\n",
    "<div class=\"toc\"><ul class=\"toc-item\"><li><span><a href=\"#Проект-для-«Викишоп»\" data-toc-modified-id=\"Проект-для-«Викишоп»-1\"><span class=\"toc-item-num\">1&nbsp;&nbsp;</span>Проект для «Викишоп»</a></span><ul class=\"toc-item\"><li><ul class=\"toc-item\"><li><span><a href=\"#Цель-проекта\" data-toc-modified-id=\"Цель-проекта-1.0.1\"><span class=\"toc-item-num\">1.0.1&nbsp;&nbsp;</span>Цель проекта</a></span></li><li><span><a href=\"#Этапы-работы\" data-toc-modified-id=\"Этапы-работы-1.0.2\"><span class=\"toc-item-num\">1.0.2&nbsp;&nbsp;</span>Этапы работы</a></span></li><li><span><a href=\"#Описание-данных\" data-toc-modified-id=\"Описание-данных-1.0.3\"><span class=\"toc-item-num\">1.0.3&nbsp;&nbsp;</span>Описание данных</a></span></li></ul></li><li><span><a href=\"#Шаг-1:-Загрузка-и-подготовка-данных\" data-toc-modified-id=\"Шаг-1:-Загрузка-и-подготовка-данных-1.1\"><span class=\"toc-item-num\">1.1&nbsp;&nbsp;</span>Шаг 1: Загрузка и подготовка данных</a></span></li><li><span><a href=\"#Шаг-2:-Анализ-данных\" data-toc-modified-id=\"Шаг-2:-Анализ-данных-1.2\"><span class=\"toc-item-num\">1.2&nbsp;&nbsp;</span>Шаг 2: Анализ данных</a></span></li><li><span><a href=\"#Шаг-3:-Обучение-и-оценка-моделей\" data-toc-modified-id=\"Шаг-3:-Обучение-и-оценка-моделей-1.3\"><span class=\"toc-item-num\">1.3&nbsp;&nbsp;</span>Шаг 3: Обучение и оценка моделей</a></span></li><li><span><a href=\"#Шаг-4:-Тестирование\" data-toc-modified-id=\"Шаг-4:-Тестирование-1.4\"><span class=\"toc-item-num\">1.4&nbsp;&nbsp;</span>Шаг 4: Тестирование</a></span></li><li><span><a href=\"#Шаг-5:-Выводы\" data-toc-modified-id=\"Шаг-5:-Выводы-1.5\"><span class=\"toc-item-num\">1.5&nbsp;&nbsp;</span>Шаг 5: Выводы</a></span></li><li><span><a href=\"#Чек-лист-проверки\" data-toc-modified-id=\"Чек-лист-проверки-1.6\"><span class=\"toc-item-num\">1.6&nbsp;&nbsp;</span>Чек-лист проверки</a></span></li></ul></li></ul></div>"
   ]
  },
  {
   "cell_type": "markdown",
   "metadata": {},
   "source": [
    "## Проект для «Викишоп»\n",
    "\n",
    "В условиях постоянного роста количества пользователей и активности на платформах электронной коммерции, таких как «Викишоп», становится важным эффективно контролировать контент, создаваемый пользователями. Это особенно актуально для комментариев, которые могут содержать токсичное или неподобающие высказывания. Для улучшения качества пользовательского опыта необходимо внедрить систему автоматической модерации, способную выявлять такие комментарии. В рамках данного проекта предстоит разработать модель машинного обучения для классификации комментариев как токсичных или нетоксичных.\n",
    "\n",
    "Целью проекта является создание модели, способной точно определять токсичные комментарии с использованием набора данных, в котором каждый комментарий размечен меткой токсичности. Модель должна достигать показателя F1 не менее 0.75, что обеспечит её достаточно высокой точностью и сбалансированностью для реального применения в условиях интернет-магазина.\n",
    "\n",
    "#### Цель проекта\n",
    "\n",
    "Целью данного проекта является построение модели классификации, которая будет разделять комментарии пользователей на позитивные и токсичные. Модель должна обучаться на основе подготовленных данных, проверяться на валидационной выборке и достигать метрики F1 не менее 0.75, что обеспечит хорошую производительность при классификации токсичных комментариев.\n",
    "\n",
    "#### Этапы работы\n",
    "\n",
    "1. **Загрузка и подготовка данных:**\n",
    "   - Загрузка данных из CSV-файла, содержащего комментарии пользователей и метки токсичности.\n",
    "   - Очистка и подготовка текста (удаление стоп-слов, приведение к нижнему регистру, токенизация и лемматизация).\n",
    "   \n",
    "2. **Анализ данных:**\n",
    "   - Проведение анализа распределения меток и изучение структуры текста.\n",
    "   - Исследование статистики по длине текста и токсичности комментариев.\n",
    "   \n",
    "3. **Обучение и оценка моделей:**\n",
    "   - Построение различных моделей машинного обучения для классификации комментариев\n",
    "   - Обучение моделей на обучающих данных и их настройка.\n",
    "   - Использование метрики F1 для оценки качества моделей.\n",
    "   - Выбор наилучшей модели с максимальным значением F1 на валидационной выборке.\n",
    "   \n",
    "4. **Тестирование:**\n",
    "   - Применение лучшей модели для тестирования на тестовой выборке и получение итогового F1-значения.\n",
    "   \n",
    "5. **Выводы:**\n",
    "   - Формулировка выводов по результатам экспериментов.\n",
    "   - Обсуждение причин выбора лучших гиперпараметров и моделей.\n",
    "\n",
    "#### Описание данных\n",
    "\n",
    "Данные, используемые в проекте, находятся в файле `toxic_comments.csv`. В нем содержатся два столбца:\n",
    "\n",
    "1. **text:** текст комментария пользователя. Это поле содержит сам текст правки или комментария, который должен быть классифицирован.\n",
    "2. **toxic:** целевой признак, который указывает на токсичность комментария. Значения в этом столбце могут быть:\n",
    "   - 0: комментарий не токсичный;\n",
    "   - 1: комментарий токсичный.\n",
    "\n",
    "Задача состоит в том, чтобы на основе текста комментария предсказать его токсичность с высокой точностью, используя различные алгоритмы машинного обучения.\n"
   ]
  },
  {
   "cell_type": "markdown",
   "metadata": {},
   "source": [
    "### Шаг 1: Загрузка и подготовка данных"
   ]
  },
  {
   "cell_type": "code",
   "execution_count": 7,
   "metadata": {},
   "outputs": [],
   "source": [
    "# General libraries\n",
    "import numpy as np\n",
    "import pandas as pd\n",
    "import re\n",
    "import nltk\n",
    "import matplotlib.pyplot as plt\n",
    "import seaborn as sns\n",
    "\n",
    "# NLTK libraries\n",
    "from nltk.corpus import stopwords, wordnet\n",
    "from nltk.tokenize import word_tokenize\n",
    "from nltk.stem import WordNetLemmatizer\n",
    "from nltk import pos_tag\n",
    "\n",
    "# Scikit-learn libraries\n",
    "from sklearn.model_selection import train_test_split\n",
    "from sklearn.model_selection import cross_val_score\n",
    "from sklearn.feature_extraction.text import TfidfVectorizer\n",
    "from sklearn.linear_model import LogisticRegression\n",
    "from sklearn.naive_bayes import MultinomialNB\n",
    "from sklearn.ensemble import RandomForestClassifier, GradientBoostingClassifier\n",
    "from sklearn.neighbors import KNeighborsClassifier\n",
    "from sklearn.metrics import f1_score\n",
    "from sklearn.metrics import classification_report, confusion_matrix, roc_auc_score\n",
    "from sklearn.metrics import make_scorer\n",
    "from sklearn.model_selection import GridSearchCV\n",
    "\n",
    "\n",
    "# CatBoost\n",
    "from catboost import CatBoostClassifier\n"
   ]
  },
  {
   "cell_type": "code",
   "execution_count": 9,
   "metadata": {},
   "outputs": [],
   "source": [
    "# Загрузим данные\n",
    "try:\n",
    "    data = pd.read_csv('/datasets/toxic_comments.csv')\n",
    "except:\n",
    "    data = pd.read_csv('https://code.s3.yandex.net/datasets/toxic_comments.csv')\n"
   ]
  },
  {
   "cell_type": "code",
   "execution_count": 10,
   "metadata": {},
   "outputs": [
    {
     "data": {
      "text/html": [
       "<div>\n",
       "<style scoped>\n",
       "    .dataframe tbody tr th:only-of-type {\n",
       "        vertical-align: middle;\n",
       "    }\n",
       "\n",
       "    .dataframe tbody tr th {\n",
       "        vertical-align: top;\n",
       "    }\n",
       "\n",
       "    .dataframe thead th {\n",
       "        text-align: right;\n",
       "    }\n",
       "</style>\n",
       "<table border=\"1\" class=\"dataframe\">\n",
       "  <thead>\n",
       "    <tr style=\"text-align: right;\">\n",
       "      <th></th>\n",
       "      <th>Unnamed: 0</th>\n",
       "      <th>text</th>\n",
       "      <th>toxic</th>\n",
       "    </tr>\n",
       "  </thead>\n",
       "  <tbody>\n",
       "    <tr>\n",
       "      <th>0</th>\n",
       "      <td>0</td>\n",
       "      <td>Explanation\\nWhy the edits made under my usern...</td>\n",
       "      <td>0</td>\n",
       "    </tr>\n",
       "    <tr>\n",
       "      <th>1</th>\n",
       "      <td>1</td>\n",
       "      <td>D'aww! He matches this background colour I'm s...</td>\n",
       "      <td>0</td>\n",
       "    </tr>\n",
       "    <tr>\n",
       "      <th>2</th>\n",
       "      <td>2</td>\n",
       "      <td>Hey man, I'm really not trying to edit war. It...</td>\n",
       "      <td>0</td>\n",
       "    </tr>\n",
       "    <tr>\n",
       "      <th>3</th>\n",
       "      <td>3</td>\n",
       "      <td>\"\\nMore\\nI can't make any real suggestions on ...</td>\n",
       "      <td>0</td>\n",
       "    </tr>\n",
       "    <tr>\n",
       "      <th>4</th>\n",
       "      <td>4</td>\n",
       "      <td>You, sir, are my hero. Any chance you remember...</td>\n",
       "      <td>0</td>\n",
       "    </tr>\n",
       "  </tbody>\n",
       "</table>\n",
       "</div>"
      ],
      "text/plain": [
       "   Unnamed: 0                                               text  toxic\n",
       "0           0  Explanation\\nWhy the edits made under my usern...      0\n",
       "1           1  D'aww! He matches this background colour I'm s...      0\n",
       "2           2  Hey man, I'm really not trying to edit war. It...      0\n",
       "3           3  \"\\nMore\\nI can't make any real suggestions on ...      0\n",
       "4           4  You, sir, are my hero. Any chance you remember...      0"
      ]
     },
     "execution_count": 10,
     "metadata": {},
     "output_type": "execute_result"
    }
   ],
   "source": [
    "data.head()"
   ]
  },
  {
   "cell_type": "markdown",
   "metadata": {},
   "source": [
    "Удалим ненужный столбец:"
   ]
  },
  {
   "cell_type": "code",
   "execution_count": 12,
   "metadata": {},
   "outputs": [],
   "source": [
    "data.drop(columns=['Unnamed: 0'], inplace=True)"
   ]
  },
  {
   "cell_type": "code",
   "execution_count": 13,
   "metadata": {},
   "outputs": [
    {
     "data": {
      "text/html": [
       "<div>\n",
       "<style scoped>\n",
       "    .dataframe tbody tr th:only-of-type {\n",
       "        vertical-align: middle;\n",
       "    }\n",
       "\n",
       "    .dataframe tbody tr th {\n",
       "        vertical-align: top;\n",
       "    }\n",
       "\n",
       "    .dataframe thead th {\n",
       "        text-align: right;\n",
       "    }\n",
       "</style>\n",
       "<table border=\"1\" class=\"dataframe\">\n",
       "  <thead>\n",
       "    <tr style=\"text-align: right;\">\n",
       "      <th></th>\n",
       "      <th>text</th>\n",
       "      <th>toxic</th>\n",
       "    </tr>\n",
       "  </thead>\n",
       "  <tbody>\n",
       "    <tr>\n",
       "      <th>0</th>\n",
       "      <td>Explanation\\nWhy the edits made under my usern...</td>\n",
       "      <td>0</td>\n",
       "    </tr>\n",
       "    <tr>\n",
       "      <th>1</th>\n",
       "      <td>D'aww! He matches this background colour I'm s...</td>\n",
       "      <td>0</td>\n",
       "    </tr>\n",
       "    <tr>\n",
       "      <th>2</th>\n",
       "      <td>Hey man, I'm really not trying to edit war. It...</td>\n",
       "      <td>0</td>\n",
       "    </tr>\n",
       "    <tr>\n",
       "      <th>3</th>\n",
       "      <td>\"\\nMore\\nI can't make any real suggestions on ...</td>\n",
       "      <td>0</td>\n",
       "    </tr>\n",
       "    <tr>\n",
       "      <th>4</th>\n",
       "      <td>You, sir, are my hero. Any chance you remember...</td>\n",
       "      <td>0</td>\n",
       "    </tr>\n",
       "  </tbody>\n",
       "</table>\n",
       "</div>"
      ],
      "text/plain": [
       "                                                text  toxic\n",
       "0  Explanation\\nWhy the edits made under my usern...      0\n",
       "1  D'aww! He matches this background colour I'm s...      0\n",
       "2  Hey man, I'm really not trying to edit war. It...      0\n",
       "3  \"\\nMore\\nI can't make any real suggestions on ...      0\n",
       "4  You, sir, are my hero. Any chance you remember...      0"
      ]
     },
     "execution_count": 13,
     "metadata": {},
     "output_type": "execute_result"
    }
   ],
   "source": [
    "data.head()"
   ]
  },
  {
   "cell_type": "code",
   "execution_count": 14,
   "metadata": {},
   "outputs": [
    {
     "name": "stdout",
     "output_type": "stream",
     "text": [
      "<class 'pandas.core.frame.DataFrame'>\n",
      "RangeIndex: 159292 entries, 0 to 159291\n",
      "Data columns (total 2 columns):\n",
      " #   Column  Non-Null Count   Dtype \n",
      "---  ------  --------------   ----- \n",
      " 0   text    159292 non-null  object\n",
      " 1   toxic   159292 non-null  int64 \n",
      "dtypes: int64(1), object(1)\n",
      "memory usage: 2.4+ MB\n"
     ]
    }
   ],
   "source": [
    "data.info()"
   ]
  },
  {
   "cell_type": "markdown",
   "metadata": {},
   "source": [
    "Типы данных соответствуют."
   ]
  },
  {
   "cell_type": "code",
   "execution_count": 16,
   "metadata": {
    "scrolled": true
   },
   "outputs": [
    {
     "data": {
      "text/plain": [
       "toxic\n",
       "0    143106\n",
       "1     16186\n",
       "Name: count, dtype: int64"
      ]
     },
     "execution_count": 16,
     "metadata": {},
     "output_type": "execute_result"
    }
   ],
   "source": [
    "data['toxic'].value_counts()"
   ]
  },
  {
   "cell_type": "markdown",
   "metadata": {},
   "source": [
    "Проверим на пропуски и дубли:"
   ]
  },
  {
   "cell_type": "code",
   "execution_count": 19,
   "metadata": {},
   "outputs": [
    {
     "data": {
      "text/plain": [
       "0"
      ]
     },
     "execution_count": 19,
     "metadata": {},
     "output_type": "execute_result"
    }
   ],
   "source": [
    "data.duplicated().sum()"
   ]
  },
  {
   "cell_type": "code",
   "execution_count": 20,
   "metadata": {},
   "outputs": [
    {
     "data": {
      "text/plain": [
       "text     0\n",
       "toxic    0\n",
       "dtype: int64"
      ]
     },
     "execution_count": 20,
     "metadata": {},
     "output_type": "execute_result"
    }
   ],
   "source": [
    "data.isna().sum()"
   ]
  },
  {
   "cell_type": "markdown",
   "metadata": {},
   "source": [
    "Мы проведем подготовку текста: загружаем необходимые библиотеки, инициализируем лемматизатор и загружаем список стоп-слов. Затем создаём функцию очистки текста, которая приводит его к нижнему регистру, удаляет небуквенные символы, лишние пробелы, стоп-слова и лемматизирует слова. В итоге, применяем эту функцию ко всем комментариям, чтобы подготовить данные для дальнейшего анализа и обучения модели."
   ]
  },
  {
   "cell_type": "code",
   "execution_count": 22,
   "metadata": {
    "scrolled": true
   },
   "outputs": [
    {
     "name": "stderr",
     "output_type": "stream",
     "text": [
      "[nltk_data] Downloading package punkt to\n",
      "[nltk_data]     /Users/lerusafrenzel/nltk_data...\n",
      "[nltk_data]   Package punkt is already up-to-date!\n",
      "[nltk_data] Downloading package stopwords to\n",
      "[nltk_data]     /Users/lerusafrenzel/nltk_data...\n",
      "[nltk_data]   Package stopwords is already up-to-date!\n",
      "[nltk_data] Downloading package wordnet to\n",
      "[nltk_data]     /Users/lerusafrenzel/nltk_data...\n",
      "[nltk_data]   Package wordnet is already up-to-date!\n",
      "[nltk_data] Downloading package averaged_perceptron_tagger to\n",
      "[nltk_data]     /Users/lerusafrenzel/nltk_data...\n",
      "[nltk_data]   Package averaged_perceptron_tagger is already up-to-\n",
      "[nltk_data]       date!\n"
     ]
    },
    {
     "name": "stdout",
     "output_type": "stream",
     "text": [
      "Оригинал: Explanation\n",
      "Why the edits made under my username Hardcore Metallica Fan were reverted? They weren't vandalisms, just closure on some GAs after I voted at New York Dolls FAC. And please don't remove the template from the talk page since I'm retired now.89.205.38.27\n",
      "Обработано: explanation edits make username hardcore metallica fan revert vandalism closure gas vote new york doll fac please remove template talk page since retire 89 205 38 27\n",
      "--------------------------------------------------------------------------------\n",
      "Оригинал: D'aww! He matches this background colour I'm seemingly stuck with. Thanks.  (talk) 21:51, January 11, 2016 (UTC)\n",
      "Обработано: aww match background colour seemingly stuck thanks talk 21 51 january 11 2016 utc\n",
      "--------------------------------------------------------------------------------\n",
      "Оригинал: Hey man, I'm really not trying to edit war. It's just that this guy is constantly removing relevant information and talking to me through edits instead of my talk page. He seems to care more about the formatting than the actual info.\n",
      "Обработано: hey man really try edit war guy constantly remove relevant information talk edits instead talk page seem care format actual info\n",
      "--------------------------------------------------------------------------------\n",
      "Оригинал: \"\n",
      "More\n",
      "I can't make any real suggestions on improvement - I wondered if the section statistics should be later on, or a subsection of \"\"types of accidents\"\"  -I think the references may need tidying so that they are all in the exact same format ie date format etc. I can do that later on, if no-one else does first - if you have any preferences for formatting style on references or want to do it yourself please let me know.\n",
      "\n",
      "There appears to be a backlog on articles for review so I guess there may be a delay until a reviewer turns up. It's listed in the relevant form eg Wikipedia:Good_article_nominations#Transport  \"\n",
      "Обработано: make real suggestion improvement wonder section statistic later subsection type accident think reference may need tidy exact format ie date format etc later one else first preference format style reference want please let know appear backlog article review guess may delay reviewer turn list relevant form eg wikipedia good_article_nominations transport\n",
      "--------------------------------------------------------------------------------\n",
      "Оригинал: You, sir, are my hero. Any chance you remember what page that's on?\n",
      "Обработано: sir hero chance remember page\n",
      "--------------------------------------------------------------------------------\n"
     ]
    }
   ],
   "source": [
    "# Загрузка необходимых пакетов NLTK\n",
    "nltk.download('punkt')\n",
    "nltk.download('stopwords')\n",
    "nltk.download('wordnet')\n",
    "nltk.download('averaged_perceptron_tagger')\n",
    "\n",
    "# Инициализация лемматизатора\n",
    "lemmatizer = WordNetLemmatizer()\n",
    "\n",
    "# Загрузка стоп-слов\n",
    "stop_words = set(stopwords.words('english'))\n",
    "\n",
    "# Функция для преобразования POS-тега NLTK в формат WordNet\n",
    "def get_wordnet_pos(word):\n",
    "    tag = pos_tag([word])[0][1][0].upper()  # Получаем POS-тег и берем только первую букву\n",
    "    tag_dict = {\"J\": wordnet.ADJ, \"N\": wordnet.NOUN, \"V\": wordnet.VERB, \"R\": wordnet.ADV}  # Соответствие тегов WordNet\n",
    "    return tag_dict.get(tag, wordnet.NOUN)  # По умолчанию используем существительное\n",
    "\n",
    "# Функция для очистки и лемматизации текста\n",
    "def clean_and_lemmatize_text(text):\n",
    "    text = text.lower()  # Приводим к нижнему регистру\n",
    "    text = re.sub(r'\\W', ' ', text)  # Убираем все небуквенные символы\n",
    "    text = re.sub(r'\\s+', ' ', text)  # Убираем лишние пробелы\n",
    "\n",
    "    # Токенизируем текст (разбиваем на слова)\n",
    "    words = word_tokenize(text)\n",
    "\n",
    "    # Убираем стоп-слова и лемматизируем с учетом части речи\n",
    "    cleaned_words = [lemmatizer.lemmatize(word, get_wordnet_pos(word)) for word in words if word not in stop_words]\n",
    "    \n",
    "    # Соединяем слова обратно в строку\n",
    "    return ' '.join(cleaned_words)\n",
    "\n",
    "# Применяем очистку и лемматизацию ко всем текстам в колонке 'text'\n",
    "data['cleaned_text'] = data['text'].apply(clean_and_lemmatize_text)\n",
    "\n",
    "# Выводим примеры до/после\n",
    "num_examples = 5  # Количество примеров для вывода\n",
    "for i in range(num_examples):\n",
    "    print(f\"Оригинал: {data['text'].iloc[i]}\")\n",
    "    print(f\"Обработано: {data['cleaned_text'].iloc[i]}\")\n",
    "    print('-' * 80)"
   ]
  },
  {
   "cell_type": "markdown",
   "metadata": {},
   "source": [
    "**Промежуточный вывод по загрузке и подготовке данных:** Данные успешно загружены и предварительно обработаны: удалён лишний столбец, подтверждено отсутствие дублей и пропусков. Датасет содержит 159 292 комментария, из которых 16 186 (около 10%) отмечены как токсичные. Для подготовки текстов применена очистка, токенизация и лемматизация с удалением стоп-слов, что позволит улучшить качество обучения модели."
   ]
  },
  {
   "cell_type": "markdown",
   "metadata": {},
   "source": [
    "### Шаг 2: Анализ данных"
   ]
  },
  {
   "cell_type": "markdown",
   "metadata": {},
   "source": [
    "1. Анализ распределения меток:"
   ]
  },
  {
   "cell_type": "code",
   "execution_count": 29,
   "metadata": {},
   "outputs": [
    {
     "data": {
      "image/png": "[encoded data removed]",
      "text/plain": [
       "<Figure size 600x400 with 1 Axes>"
      ]
     },
     "metadata": {},
     "output_type": "display_data"
    }
   ],
   "source": [
    "plt.figure(figsize=(6, 4))\n",
    "sns.countplot(x='toxic', data=data)\n",
    "plt.title('Распределение токсичности комментариев')\n",
    "plt.xlabel('Токсичность')\n",
    "plt.ylabel('Количество комментариев')\n",
    "plt.xticks([0, 1], ['Не токсичный', 'Токсичный'])\n",
    "plt.show()"
   ]
  },
  {
   "cell_type": "code",
   "execution_count": 30,
   "metadata": {},
   "outputs": [
    {
     "data": {
      "text/plain": [
       "toxic\n",
       "0    143106\n",
       "1     16186\n",
       "Name: count, dtype: int64"
      ]
     },
     "execution_count": 30,
     "metadata": {},
     "output_type": "execute_result"
    }
   ],
   "source": [
    "data['toxic'].value_counts()"
   ]
  },
  {
   "cell_type": "markdown",
   "metadata": {},
   "source": [
    "2. Статистика по длине текста комментариев"
   ]
  },
  {
   "cell_type": "code",
   "execution_count": 32,
   "metadata": {},
   "outputs": [
    {
     "name": "stdout",
     "output_type": "stream",
     "text": [
      "Основная статистика по длине текста комментариев:\n",
      "count    159292.000000\n",
      "mean        393.691303\n",
      "std         590.111825\n",
      "min           5.000000\n",
      "25%          95.000000\n",
      "50%         205.000000\n",
      "75%         435.000000\n",
      "max        5000.000000\n",
      "Name: text_length, dtype: float64\n"
     ]
    }
   ],
   "source": [
    "data['text_length'] = data['text'].apply(len)\n",
    "data['text_length']\n",
    "# Основные статистики по длине текста\n",
    "print(\"Основная статистика по длине текста комментариев:\")\n",
    "print(data['text_length'].describe())"
   ]
  },
  {
   "cell_type": "code",
   "execution_count": 33,
   "metadata": {},
   "outputs": [
    {
     "data": {
      "image/png": "[encoded data removed]",
      "text/plain": [
       "<Figure size 800x400 with 1 Axes>"
      ]
     },
     "metadata": {},
     "output_type": "display_data"
    }
   ],
   "source": [
    "# Гистограмма длины комментариев\n",
    "plt.figure(figsize=(8, 4))\n",
    "sns.histplot(data['text_length'], bins=50, kde=True)\n",
    "plt.title('Распределение длины текста комментариев')\n",
    "plt.xlabel('Длина текста')\n",
    "plt.ylabel('Частота')\n",
    "plt.show()"
   ]
  },
  {
   "cell_type": "markdown",
   "metadata": {},
   "source": [
    "3. Считаем среднюю длину текста для токсичных и нетоксичных комментариев"
   ]
  },
  {
   "cell_type": "code",
   "execution_count": 35,
   "metadata": {},
   "outputs": [
    {
     "name": "stdout",
     "output_type": "stream",
     "text": [
      "Средняя длина токсичных комментариев: 302.93\n",
      "Средняя длина нетоксичных комментариев: 403.96\n"
     ]
    }
   ],
   "source": [
    "mean_length_toxic = data[data['toxic'] == 1]['text_length'].mean()\n",
    "mean_length_non_toxic = data[data['toxic'] == 0]['text_length'].mean()\n",
    "\n",
    "print(f\"Средняя длина токсичных комментариев: {mean_length_toxic:.2f}\")\n",
    "print(f\"Средняя длина нетоксичных комментариев: {mean_length_non_toxic:.2f}\")"
   ]
  },
  {
   "cell_type": "code",
   "execution_count": 36,
   "metadata": {},
   "outputs": [],
   "source": [
    "data.drop(columns=['text_length'], inplace=True)"
   ]
  },
  {
   "cell_type": "code",
   "execution_count": 37,
   "metadata": {},
   "outputs": [
    {
     "data": {
      "text/html": [
       "<div>\n",
       "<style scoped>\n",
       "    .dataframe tbody tr th:only-of-type {\n",
       "        vertical-align: middle;\n",
       "    }\n",
       "\n",
       "    .dataframe tbody tr th {\n",
       "        vertical-align: top;\n",
       "    }\n",
       "\n",
       "    .dataframe thead th {\n",
       "        text-align: right;\n",
       "    }\n",
       "</style>\n",
       "<table border=\"1\" class=\"dataframe\">\n",
       "  <thead>\n",
       "    <tr style=\"text-align: right;\">\n",
       "      <th></th>\n",
       "      <th>text</th>\n",
       "      <th>toxic</th>\n",
       "      <th>cleaned_text</th>\n",
       "    </tr>\n",
       "  </thead>\n",
       "  <tbody>\n",
       "    <tr>\n",
       "      <th>0</th>\n",
       "      <td>Explanation\\nWhy the edits made under my usern...</td>\n",
       "      <td>0</td>\n",
       "      <td>explanation edits make username hardcore metal...</td>\n",
       "    </tr>\n",
       "    <tr>\n",
       "      <th>1</th>\n",
       "      <td>D'aww! He matches this background colour I'm s...</td>\n",
       "      <td>0</td>\n",
       "      <td>aww match background colour seemingly stuck th...</td>\n",
       "    </tr>\n",
       "    <tr>\n",
       "      <th>2</th>\n",
       "      <td>Hey man, I'm really not trying to edit war. It...</td>\n",
       "      <td>0</td>\n",
       "      <td>hey man really try edit war guy constantly rem...</td>\n",
       "    </tr>\n",
       "    <tr>\n",
       "      <th>3</th>\n",
       "      <td>\"\\nMore\\nI can't make any real suggestions on ...</td>\n",
       "      <td>0</td>\n",
       "      <td>make real suggestion improvement wonder sectio...</td>\n",
       "    </tr>\n",
       "    <tr>\n",
       "      <th>4</th>\n",
       "      <td>You, sir, are my hero. Any chance you remember...</td>\n",
       "      <td>0</td>\n",
       "      <td>sir hero chance remember page</td>\n",
       "    </tr>\n",
       "  </tbody>\n",
       "</table>\n",
       "</div>"
      ],
      "text/plain": [
       "                                                text  toxic  \\\n",
       "0  Explanation\\nWhy the edits made under my usern...      0   \n",
       "1  D'aww! He matches this background colour I'm s...      0   \n",
       "2  Hey man, I'm really not trying to edit war. It...      0   \n",
       "3  \"\\nMore\\nI can't make any real suggestions on ...      0   \n",
       "4  You, sir, are my hero. Any chance you remember...      0   \n",
       "\n",
       "                                        cleaned_text  \n",
       "0  explanation edits make username hardcore metal...  \n",
       "1  aww match background colour seemingly stuck th...  \n",
       "2  hey man really try edit war guy constantly rem...  \n",
       "3  make real suggestion improvement wonder sectio...  \n",
       "4                      sir hero chance remember page  "
      ]
     },
     "execution_count": 37,
     "metadata": {},
     "output_type": "execute_result"
    }
   ],
   "source": [
    "data.head()"
   ]
  },
  {
   "cell_type": "markdown",
   "metadata": {},
   "source": [
    "**Промежуточный вывод по анализу данных:**\n",
    "\n",
    "1. **Распределение токсичных и нетоксичных комментариев:**\n",
    "   - В наборе данных **143,106** комментариев, которые не являются токсичными (метка 0), и **16,186** комментариев, которые токсичны (метка 1).\n",
    "\n",
    "2. **Статистика по длине текста:**\n",
    "   - Средняя длина комментариев составляет **393.69** символов, при этом стандартное отклонение **590.11** указывает на значительные колебания в длине текста.\n",
    "   - Минимальная длина комментария равна **5** символов, а максимальная длина — **5000** символов, что подтверждает наличие очень длинных комментариев, которые могут содержать значительный объем данных.\n",
    "\n",
    "3. **Распределение длины текста:**\n",
    "   - **25%** комментариев имеют длину менее **95** символов, **50%** — менее **205** символов, и **75%** — менее **435** символов.\n",
    "   - Это подтверждает, что большинство комментариев относительно короткие, однако существуют и значительно более длинные, которые могут требовать особого внимания при обработке.\n",
    "\n",
    "4. **Средняя длина токсичных и нетоксичных комментариев:**\n",
    "   - Средняя длина токсичных комментариев составляет **302.93** символа.\n",
    "   - Средняя длина нетоксичных комментариев составляет **403.96** символов.\n",
    "   - Это может свидетельствовать о том, что токсичные комментарии имеют тенденцию быть несколько короче, что заслуживает внимания при дальнейшем анализе."
   ]
  },
  {
   "cell_type": "markdown",
   "metadata": {},
   "source": [
    "### Шаг 3: Обучение и оценка моделей"
   ]
  },
  {
   "cell_type": "markdown",
   "metadata": {},
   "source": [
    "Мы разделим данные на обучающую, тестовую и валидационную выборки, используя соотношение 80%/20%, чтобы обеспечить адекватную оценку модели и предотвратить переобучение."
   ]
  },
  {
   "cell_type": "code",
   "execution_count": 42,
   "metadata": {},
   "outputs": [],
   "source": [
    "# Разделим данные на обучающую и тестовую выборки (80%/20%)\n",
    "X_train_texts, X_test_texts, y_train, y_test = train_test_split(data['text'], data['toxic'], test_size=0.2, random_state=42)\n",
    "\n",
    "# Разделим обучающую выборку еще на обучающую и валидационную (80%/20%)\n",
    "X_train_texts, X_val_texts, y_train, y_val = train_test_split(X_train_texts, y_train, test_size=0.2, random_state=42)\n"
   ]
  },
  {
   "cell_type": "markdown",
   "metadata": {},
   "source": [
    "Для подготовки текстовых данных к обучению модели мы используем метод векторизации TF-IDF. Этот метод преобразует текст в числовые векторы, которые отражают важность каждого слова в контексте всего набора данных.\n",
    "- TfidfVectorizer с параметром max_features=5000 ограничивает количество признаков (слов) до 5000 наиболее значимых для классификации.\n",
    "- После векторизации текстовых данных с помощью fit_transform, мы получаем матрицу признаков X, где каждый текст представлен в виде вектора чисел.\n",
    "- Целевой признак y представляет собой метку токсичности каждого комментария: 1 — токсичный, 0 — нетоксичный.\n",
    "\n",
    "Этап векторизации необходим для того, чтобы алгоритмы машинного обучения могли работать с текстовыми данными, превращая их в числовое представление."
   ]
  },
  {
   "cell_type": "code",
   "execution_count": 46,
   "metadata": {},
   "outputs": [],
   "source": [
    "# Инициализация векторизатора TF-IDF\n",
    "tfidf_vectorizer = TfidfVectorizer(max_features=5000)  # Ограничиваем число признаков\n",
    "\n",
    "# Обучаем векторизатор только на обучающих данных и трансформируем выборки\n",
    "X_train = tfidf_vectorizer.fit_transform(X_train_texts)\n",
    "X_val = tfidf_vectorizer.transform(X_val_texts)\n",
    "X_test = tfidf_vectorizer.transform(X_test_texts)"
   ]
  },
  {
   "cell_type": "markdown",
   "metadata": {},
   "source": [
    "Для начала мы обучим несколько моделей чтобы определить, какие из них по умолчанию лучше справляются с задачей классификации токсичных комментариев. В качестве моделей мы используем логистическую регрессию, наивный байесовский классификатор, случайный лес, градиентный бустинг, K-ближайших соседей и CatBoost. Каждую модель будем оценивать с помощью метрики F1 на валидационной выборке."
   ]
  },
  {
   "cell_type": "code",
   "execution_count": 48,
   "metadata": {},
   "outputs": [
    {
     "name": "stdout",
     "output_type": "stream",
     "text": [
      "Training Logistic Regression...\n",
      "Logistic Regression - Train F1: 0.8130 | Validation F1: 0.7794\n",
      "Training Naive Bayes...\n",
      "Naive Bayes - Train F1: 0.6772 | Validation F1: 0.6742\n",
      "Training Random Forest...\n",
      "Random Forest - Train F1: 0.9946 | Validation F1: 0.5940\n",
      "Training Gradient Boosting...\n",
      "Gradient Boosting - Train F1: 0.6191 | Validation F1: 0.6164\n",
      "Training K-Neighbors...\n",
      "K-Neighbors - Train F1: 0.9976 | Validation F1: 0.3651\n",
      "Training CatBoost...\n",
      "CatBoost - Train F1: 0.7694 | Validation F1: 0.7433\n",
      "\n",
      "Best Model: Logistic Regression with Validation F1: 0.7794\n"
     ]
    }
   ],
   "source": [
    "# Инициализация моделей\n",
    "models = {\n",
    "    'Logistic Regression': LogisticRegression(\n",
    "        max_iter=5000, \n",
    "        C=10,  # Контроль регуляризации \n",
    "        penalty='l2',# L2-регуляризация\n",
    "    ),\n",
    "    \n",
    "    'Naive Bayes': MultinomialNB(\n",
    "        alpha=0.5  # Регуляризация для сглаживания вероятностей\n",
    "    ),\n",
    "    \n",
    "    'Random Forest': RandomForestClassifier(\n",
    "        random_state=42, \n",
    "        n_jobs=-1,\n",
    "        class_weight='balanced'\n",
    "    ),\n",
    "    \n",
    "    'Gradient Boosting': GradientBoostingClassifier(),\n",
    "    \n",
    "    'K-Neighbors': KNeighborsClassifier(\n",
    "        n_neighbors=7,  # Оптимальное количество соседей\n",
    "        weights='distance'  # Влияет на значимость соседей\n",
    "    ),\n",
    "    \n",
    "    'CatBoost': CatBoostClassifier(\n",
    "        iterations=500,  # Больше итераций для точности\n",
    "        learning_rate=0.05,  # Снижение скорости обучения для устойчивости\n",
    "        depth=8,  # Глубина деревьев\n",
    "        verbose=0\n",
    "    )\n",
    "}\n",
    "\n",
    "# Для хранения результатов\n",
    "results = {}\n",
    "\n",
    "# Обучение и оценка каждой модели отдельно на валидационной выборке\n",
    "for name, model in models.items():\n",
    "    print(f\"Training {name}...\")\n",
    "    \n",
    "    # Обучение модели\n",
    "    model.fit(X_train, y_train)\n",
    "    \n",
    "    # Предсказания на обучающей и валидационной выборке\n",
    "    y_train_pred = model.predict(X_train)\n",
    "    y_val_pred = model.predict(X_val)\n",
    "    \n",
    "    # Оценка F1 с параметром 'binary' для бинарной классификации\n",
    "    train_f1 = f1_score(y_train, y_train_pred, average='binary')\n",
    "    val_f1 = f1_score(y_val, y_val_pred, average='binary')\n",
    "    \n",
    "    # Выводим результаты\n",
    "    print(f\"{name} - Train F1: {train_f1:.4f} | Validation F1: {val_f1:.4f}\")\n",
    "    \n",
    "    # Сохраняем результаты для дальнейшего анализа\n",
    "    results[name] = {'train_f1': train_f1, 'val_f1': val_f1}\n",
    "    \n",
    "# Найдем лучшую модель на основе F1-скора на валидации\n",
    "best_model_name = max(results, key=lambda x: results[x]['val_f1'])\n",
    "best_model = models[best_model_name]\n",
    "\n",
    "print(f\"\\nBest Model: {best_model_name} with Validation F1: {results[best_model_name]['val_f1']:.4f}\")"
   ]
  },
  {
   "cell_type": "markdown",
   "metadata": {},
   "source": [
    "**Промежуточный вывод по обучению моделей**\n",
    "\n",
    "По результатам тестирования различных моделей, Logistic Regression показала наилучшие результаты на валидационной выборке с F1-метрикой 0.7794, что делает её наиболее эффективной среди протестированных моделей. Эта модель показала сбалансированную производительность, как на обучающей, так и на валидационной выборке, не демонстрируя явных признаков переобучения.\n",
    "\n",
    "В то время как Naive Bayes продемонстрировала значительно более низкие результаты с F1-метрикой 0.6742 на валидации, Random Forest показала отличные результаты на обучающей выборке (F1 = 0.9946), но её производительность на валидации была значительно ниже (F1 = 0.5940), что указывает на возможное переобучение. Модели Gradient Boosting и CatBoost продемонстрировали стабильные результаты, с F1-метрикой около 0.62-0.74, но не превзошли логистическую регрессию. K-Neighbors показала хорошие результаты на обучающей выборке (F1 = 0.9976), однако её производительность на валидации была крайне низкой (F1 = 0.3651), что также свидетельствует о переобучении.\n",
    "\n",
    "Исходя из этих наблюдений, Logistic Regression была выбрана в качестве финальной модели для дальнейшего использования, так как она показала наилучший баланс между точностью и обобщаемостью, что делает её наиболее подходящей для задачи классификации."
   ]
  },
  {
   "cell_type": "markdown",
   "metadata": {},
   "source": [
    "### Шаг 4: Тестирование"
   ]
  },
  {
   "cell_type": "code",
   "execution_count": 63,
   "metadata": {},
   "outputs": [
    {
     "name": "stdout",
     "output_type": "stream",
     "text": [
      "Logistic Regression - Test F1: 0.7683\n",
      "Confusion Matrix:\n",
      "[[28337   321]\n",
      " [ 1004  2197]]\n",
      "Classification Report:\n",
      "              precision    recall  f1-score   support\n",
      "\n",
      "           0       0.97      0.99      0.98     28658\n",
      "           1       0.87      0.69      0.77      3201\n",
      "\n",
      "    accuracy                           0.96     31859\n",
      "   macro avg       0.92      0.84      0.87     31859\n",
      "weighted avg       0.96      0.96      0.96     31859\n",
      "\n",
      "ROC-AUC: 0.9633\n",
      "True Positives: 2197\n",
      "False Positives: 321\n",
      "True Negatives: 28337\n",
      "False Negatives: 1004\n"
     ]
    },
    {
     "data": {
      "image/png": "[encoded data removed]",
      "text/plain": [
       "<Figure size 800x600 with 2 Axes>"
      ]
     },
     "metadata": {},
     "output_type": "display_data"
    }
   ],
   "source": [
    "# Предсказания на тестовой выборке\n",
    "y_test_pred = best_model.predict(X_test)\n",
    "y_test_proba = best_model.predict_proba(X_test)[:, 1]  # Для ROC-AUC\n",
    "\n",
    "# Оценка F1-метрики\n",
    "test_f1 = f1_score(y_test, y_test_pred, average='binary')\n",
    "print(f\"Logistic Regression - Test F1: {test_f1:.4f}\")\n",
    "\n",
    "# Матрица ошибок\n",
    "print(\"Confusion Matrix:\")\n",
    "conf_matrix = confusion_matrix(y_test, y_test_pred)\n",
    "print(conf_matrix)\n",
    "\n",
    "# Подробный отчет классификации\n",
    "print(\"Classification Report:\")\n",
    "class_report = classification_report(y_test, y_test_pred)\n",
    "print(class_report)\n",
    "\n",
    "# Оценка ROC-AUC\n",
    "test_roc_auc = roc_auc_score(y_test, y_test_proba)\n",
    "print(f\"ROC-AUC: {test_roc_auc:.4f}\")\n",
    "\n",
    "# Дополнительная информация по меткам (для бинарной классификации)\n",
    "print(\"True Positives:\", conf_matrix[1, 1])\n",
    "print(\"False Positives:\", conf_matrix[0, 1])\n",
    "print(\"True Negatives:\", conf_matrix[0, 0])\n",
    "print(\"False Negatives:\", conf_matrix[1, 0])\n",
    "\n",
    "# Визуализация матрицы ошибок\n",
    "plt.figure(figsize=(8, 6))\n",
    "sns.heatmap(conf_matrix, annot=True, fmt='d', cmap='Blues', xticklabels=['Non-toxic', 'Toxic'], yticklabels=['Non-toxic', 'Toxic'])\n",
    "plt.xlabel('Predicted')\n",
    "plt.ylabel('True')\n",
    "plt.title('Confusion Matrix')\n",
    "plt.show()"
   ]
  },
  {
   "cell_type": "markdown",
   "metadata": {},
   "source": [
    "**Промежуточный вывод по результатам тестирования модели Logistic Regression**\n",
    "\n",
    "Модель **Logistic Regression** показала хорошие результаты на тестовой выборке с **F1-метрикой 0.7683**, что подтверждает её эффективность для классификации токсичных комментариев. Результаты метрик говорят о сбалансированности предсказаний, с акцентом на правильное выявление как токсичных, так и нетоксичных комментариев.\n",
    "\n",
    "🔹 **Основные метрики:**\n",
    "- **Точность (Precision)** для токсичных комментариев: 0.87  \n",
    "  → 87% предсказанных токсичных комментариев действительно являются токсичными.\n",
    "  \n",
    "- **Полнота (Recall)** для токсичных комментариев: 0.69  \n",
    "  → Модель выявила 69% всех реальных токсичных комментариев, что достаточно для дальнейшего улучшения.\n",
    "\n",
    "- **Общий баланс между Precision и Recall (F1-метрика)**: 0.77  \n",
    "  → Это подтверждает, что модель справляется с задачей классификации, однако ещё остаются возможности для улучшения полноты.\n",
    "\n",
    "📊 **Дополнительно:**\n",
    "- **ROC-AUC**: 0.9633  \n",
    "  → Отличное разделение классов, что свидетельствует о высоком качестве работы модели.\n",
    "\n",
    "- **Матрица ошибок:**\n",
    "  - **True Positives (TP)**: 2197\n",
    "  - **False Positives (FP)**: 321\n",
    "  - **True Negatives (TN)**: 28337\n",
    "  - **False Negatives (FN)**: 1004\n",
    "\n",
    "\n",
    "Модель **Logistic Regression** демонстрирует хорошее общее качество предсказаний, с небольшим упором на точность, но при этом имеет возможности для улучшения полноты (Recall). Это подтверждается высокими значениями точности, хорошим ROC-AUC и относительно невысокой ошибкой для токсичных комментариев.\n",
    "\n",
    "----"
   ]
  },
  {
   "cell_type": "markdown",
   "metadata": {},
   "source": [
    "### Шаг 5: Выводы"
   ]
  },
  {
   "cell_type": "markdown",
   "metadata": {},
   "source": [
    "В ходе работы был проведён полный цикл подготовки данных, анализа, выбора и оптимизации модели для классификации токсичных комментариев.\n",
    "\n",
    "✅ Выбор модели и гиперпараметров\n",
    "\n",
    "После тестирования нескольких алгоритмов, наилучшие результаты показала модель **Logistic Regression**. Эта модель эффективно справляется с задачей классификации токсичных комментариев благодаря своей простоте и хорошей адаптации к данным с балансом классов.\n",
    "\n",
    "Для оптимизации модели были выбраны следующие гиперпараметры:\n",
    "- **`max_iter = 5000`** — увеличивает количество итераций для обеспечения сходимости.\n",
    "- **`C = 10`** — контролирует регуляризацию, обеспечивая баланс между переобучением и недообучением.\n",
    "- **`penalty = 'l2'`** — использована L2-регуляризация, что помогает уменьшить влияние шума.\n",
    "\n",
    "В результате, **Logistic Regression** показала **F1-метрику 0.7683** на тестовой выборке, что подтверждает её хорошую эффективность для данной задачи.\n",
    "\n",
    "📌 Основные выводы:\n",
    "- **Точность (Precision) = 0.87** означает, что среди предсказанных токсичных комментариев **87% действительно токсичные**.\n",
    "- **Полнота (Recall) = 0.69** говорит о том, что модель выявляет **69% всех токсичных комментариев**.\n",
    "- **ROC-AUC = 0.9633** указывает на отличное разделение классов.\n",
    "\n",
    "💡 Рекомендации для заказчика:\n",
    "\n",
    "   - Рекомендуется **дополнительно тестировать модель на реальных пользовательских данных**, чтобы оценить её поведение в продакшене.\n",
    "   - Внедрить **механизм пересмотра сложных случаев вручную**, чтобы корректировать работу модели и улучшать её со временем.\n",
    "   - Со временем токсичные выражения и стили общения могут меняться, поэтому важно **периодически дообучать модель** на актуальных данных.\n",
    "   - Можно внедрить **адаптивную систему обновления**, которая будет учитывать новые примеры токсичных комментариев.\n",
    "\n",
    "\n",
    "Разработанная модель **Logistic Regression** успешно решает задачу классификации токсичных комментариев, соответствуя требованиям заказчика с метрикой **f1 > 0,75**."
   ]
  },
  {
   "cell_type": "markdown",
   "metadata": {},
   "source": [
    "### Чек-лист проверки"
   ]
  },
  {
   "cell_type": "markdown",
   "metadata": {},
   "source": [
    "- [x]  Jupyter Notebook открыт\n",
    "- [x]  Весь код выполняется без ошибок\n",
    "- [x]  Ячейки с кодом расположены в порядке исполнения\n",
    "- [x]  Данные загружены и подготовлены\n",
    "- [x]  Модели обучены\n",
    "- [x]  Значение метрики *F1* не меньше 0.75\n",
    "- [x]  Выводы написаны"
   ]
  }
 ],
 "metadata": {
  "kernelspec": {
   "display_name": "Python 3 (ipykernel)",
   "language": "python",
   "name": "python3"
  },
  "language_info": {
   "codemirror_mode": {
    "name": "ipython",
    "version": 3
   },
   "file_extension": ".py",
   "mimetype": "text/x-python",
   "name": "python",
   "nbconvert_exporter": "python",
   "pygments_lexer": "ipython3",
   "version": "3.12.4"
  },
  "toc": {
   "base_numbering": 1,
   "nav_menu": {},
   "number_sections": true,
   "sideBar": true,
   "skip_h1_title": true,
   "title_cell": "Содержание",
   "title_sidebar": "Contents",
   "toc_cell": true,
   "toc_position": {
    "height": "calc(100% - 180px)",
    "left": "10px",
    "top": "150px",
    "width": "302.391px"
   },
   "toc_section_display": true,
   "toc_window_display": false
  }
 },
 "nbformat": 4,
 "nbformat_minor": 4
}
