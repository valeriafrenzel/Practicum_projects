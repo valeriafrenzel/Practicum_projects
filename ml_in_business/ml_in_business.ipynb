{
 "cells": [
  {
   "cell_type": "markdown",
   "metadata": {},
   "source": [
    "# Выбор локации для скважины"
   ]
  },
  {
   "cell_type": "markdown",
   "metadata": {},
   "source": [
    "### Введение\n",
    "\n",
    "Компания «ГлавРосГосНефть» ставит перед собой задачу выбрать регион для бурения новой скважины. Для этого необходимо определить, в каком из трёх предложенных регионов добыча нефти принесёт наибольшую прибыль. Для решения задачи будут использованы методы машинного обучения, анализа рисков и техники Bootstrap, чтобы предсказать объём запасов нефти, оценить прибыль и риски в каждом регионе.\n",
    "\n",
    "### Цель исследования\n",
    "\n",
    "Целью данного проекта является разработка модели, которая поможет выбрать оптимальный регион для бурения скважины, исходя из ожидаемой прибыли и риска. Модель будет обучена на данных о качестве нефти и объёме её запасов, с учётом бюджета компании и стоимости разработки скважин.\n",
    "\n",
    "### Описание данных\n",
    "\n",
    "Данные о скважинах в трёх регионах представлены в виде таблиц, в которых для каждой скважины указаны следующие признаки:\n",
    "- **id**: уникальный идентификатор скважины;\n",
    "- **f0, f1, f2**: три признака, которые характеризуют различные параметры месторождения;\n",
    "- **product**: объём запасов нефти в скважине (в тысячах баррелей).\n",
    "\n",
    "Каждый регион содержит данные о 10 000 месторождениях, и для каждого из них необходимо предсказать объём запасов нефти и выбрать месторождения с наибольшими объёмами для максимальной прибыли.\n",
    "\n",
    "### Этапы исследования\n",
    "\n",
    "1. **Подготовка данных**:\n",
    "   - Загрузка и очистка данных для каждого региона.\n",
    "   - Преобразование данных в формат, пригодный для машинного обучения.\n",
    "\n",
    "2. **Обучение и проверка модели**:\n",
    "   - Разделение данных на обучающую и валидационную выборки в соотношении 75:25.\n",
    "   - Обучение модели линейной регрессии для каждого региона.\n",
    "   - Оценка точности модели с использованием RMSE и анализ предсказанных значений.\n",
    "\n",
    "3. **Расчёт прибыли**:\n",
    "   - Оценка объёма нефти, необходимого для безубыточной разработки.\n",
    "   - Выбор месторождений с наибольшими предсказанными объёмами.\n",
    "   - Расчёт прибыли на основе предсказанных объёмов нефти.\n",
    "\n",
    "4. **Анализ рисков с использованием техники Bootstrap**:\n",
    "   - Применение Bootstrap для оценки распределения прибыли по 1000 выборкам.\n",
    "   - Вычисление средней прибыли, 95%-го доверительного интервала и риска убытков.\n",
    "\n",
    "5. **Выбор региона**:\n",
    "   - Определение региона с наибольшей средней прибылью и наименьшим риском убытков (менее 2.5%).\n",
    "   - Обоснование выбора региона для бурения на основе анализа рисков и прибыли.\n",
    "\n",
    "В результате выполнения этих шагов будет выбран оптимальный регион для бурения, учитывая все риски и возможности для получения прибыли."
   ]
  },
  {
   "cell_type": "code",
   "execution_count": 1,
   "metadata": {},
   "outputs": [],
   "source": [
    "# Импортируем библиотеки и модули\n",
    "!pip install phik -q \n",
    "!pip install -U scikit-learn -q \n",
    "\n",
    "import warnings\n",
    "from warnings import simplefilter\n",
    "\n",
    "import matplotlib.pyplot as plt\n",
    "import numpy as np\n",
    "import pandas as pd\n",
    "import seaborn as sns\n",
    "from phik import phik_matrix\n",
    "from phik.report import plot_correlation_matrix\n",
    "from sklearn.model_selection import train_test_split\n",
    "from sklearn.linear_model import LinearRegression\n",
    "from sklearn.metrics import mean_squared_error\n",
    "from sklearn.preprocessing import StandardScaler\n",
    "\n",
    "pd.set_option('display.max_columns', None)\n",
    "pd.set_option('display.max_rows', None)\n",
    "pd.options.mode.chained_assignment = None\n",
    "\n",
    "warnings.filterwarnings(\"ignore\", \"is_categorical_dtype\")\n",
    "warnings.filterwarnings(\"ignore\", \"use_inf_as_na\")\n",
    "simplefilter(action='ignore', category=FutureWarning)\n",
    "\n",
    "# устанавливаем константы\n",
    "RANDOM_STATE = 42\n",
    "test_size=0.25\n",
    "state = np.random.RandomState(42)\n",
    "# Параметры\n",
    "TOTAL_BUDGET = 10**10  # Бюджет на разработку (в тысячах рублей)\n",
    "REVENUE_PER_UNIT = 450000  # Доход с единицы продукта\n",
    "BEST_OBJECTS_NUM = 200  # Количество лучших скважин для разработки\n",
    "CHOOSEN_WELLS = 500  # Количество выбранных скважин для bootstrap\n",
    "MAX_PROBABILITY_OF_LOSS = 0.025  # Максимально допустимая вероятность убытка\n"
   ]
  },
  {
   "cell_type": "markdown",
   "metadata": {},
   "source": [
    "## Загрузка и подготовка данных"
   ]
  },
  {
   "cell_type": "code",
   "execution_count": 2,
   "metadata": {},
   "outputs": [],
   "source": [
    "# Загрузим данные\n",
    "try:\n",
    "    geo_data_0 = pd.read_csv('/datasets/geo_data_0.csv')\n",
    "    geo_data_1 = pd.read_csv('/datasets/geo_data_1.csv')\n",
    "    geo_data_2 = pd.read_csv('/datasets/geo_data_2.csv')\n",
    "\n",
    "except:\n",
    "    geo_data_0 = pd.read_csv('https://code.s3.yandex.net/datasets/geo_data_0.csv')\n",
    "    geo_data_1 = pd.read_csv('https://code.s3.yandex.net/datasets/geo_data_1.csv')\n",
    "    geo_data_2 = pd.read_csv('https://code.s3.yandex.net/datasets/geo_data_2.csv')"
   ]
  },
  {
   "cell_type": "markdown",
   "metadata": {},
   "source": [
    "Напишем функцию `info_df(df)`, которая будет выводить полезную информацию о датафрейме. Она выполняет следующие шаги:\n",
    "\n",
    "1. **Выводит первые строки датафрейма** с помощью `df.head()`, чтобы можно было быстро оценить структуру данных.\n",
    "2. **Показывает общую информацию** о датафрейме (тип данных и количество ненулевых значений в каждом столбце) через `df.info()`.\n",
    "3. **Представляет основные статистики для числовых данных**, такие как среднее, стандартное отклонение, минимальные и максимальные значения, а также квартили с помощью `df.describe()`.\n",
    "4. **Подсчитывает количество дубликатов** в датафрейме с помощью `df.duplicated().sum()`, что позволяет выявить повторяющиеся строки.\n",
    "5. **Отображает количество пропусков** в каждом столбце с помощью `df.isna().sum()`, чтобы оценить полноту данных.\n",
    "\n",
    "Эта функция помогает быстро проанализировать структуру, качество и статистику данных."
   ]
  },
  {
   "cell_type": "code",
   "execution_count": 3,
   "metadata": {},
   "outputs": [],
   "source": [
    "def info_df(df):\n",
    "    # Шаг 1: Вывод первых строк датафрейма\n",
    "    print(\"Первые строки датафрейма:\")\n",
    "    display(df.head())\n",
    "    print(\" \")\n",
    "    \n",
    "    # Шаг 2: Информация о датафрейме\n",
    "    print(\"Информация о датафрейме:\")\n",
    "    display(df.info())\n",
    "    print(\" \")\n",
    "    \n",
    "    # Шаг 3: Основные статистики числовых данных\n",
    "    print(\"Основные статистики числовых данных:\")\n",
    "    display(df.describe().T)\n",
    "    print(\" \")\n",
    "    \n",
    "    # Шаг 4: Количество дубликатов\n",
    "    print(\"Количество дубликатов в датафрейме:\")\n",
    "    print(df.duplicated().sum())\n",
    "    \n",
    "    # Шаг 5: Количество пропусков\n",
    "    print(\"Количество пропусков в датафрейме:\")\n",
    "    print(df.isna().sum())"
   ]
  },
  {
   "cell_type": "code",
   "execution_count": 4,
   "metadata": {},
   "outputs": [
    {
     "name": "stdout",
     "output_type": "stream",
     "text": [
      "Первые строки датафрейма:\n"
     ]
    },
    {
     "data": {
      "text/html": [
       "<div>\n",
       "<style scoped>\n",
       "    .dataframe tbody tr th:only-of-type {\n",
       "        vertical-align: middle;\n",
       "    }\n",
       "\n",
       "    .dataframe tbody tr th {\n",
       "        vertical-align: top;\n",
       "    }\n",
       "\n",
       "    .dataframe thead th {\n",
       "        text-align: right;\n",
       "    }\n",
       "</style>\n",
       "<table border=\"1\" class=\"dataframe\">\n",
       "  <thead>\n",
       "    <tr style=\"text-align: right;\">\n",
       "      <th></th>\n",
       "      <th>id</th>\n",
       "      <th>f0</th>\n",
       "      <th>f1</th>\n",
       "      <th>f2</th>\n",
       "      <th>product</th>\n",
       "    </tr>\n",
       "  </thead>\n",
       "  <tbody>\n",
       "    <tr>\n",
       "      <th>0</th>\n",
       "      <td>txEyH</td>\n",
       "      <td>0.705745</td>\n",
       "      <td>-0.497823</td>\n",
       "      <td>1.221170</td>\n",
       "      <td>105.280062</td>\n",
       "    </tr>\n",
       "    <tr>\n",
       "      <th>1</th>\n",
       "      <td>2acmU</td>\n",
       "      <td>1.334711</td>\n",
       "      <td>-0.340164</td>\n",
       "      <td>4.365080</td>\n",
       "      <td>73.037750</td>\n",
       "    </tr>\n",
       "    <tr>\n",
       "      <th>2</th>\n",
       "      <td>409Wp</td>\n",
       "      <td>1.022732</td>\n",
       "      <td>0.151990</td>\n",
       "      <td>1.419926</td>\n",
       "      <td>85.265647</td>\n",
       "    </tr>\n",
       "    <tr>\n",
       "      <th>3</th>\n",
       "      <td>iJLyR</td>\n",
       "      <td>-0.032172</td>\n",
       "      <td>0.139033</td>\n",
       "      <td>2.978566</td>\n",
       "      <td>168.620776</td>\n",
       "    </tr>\n",
       "    <tr>\n",
       "      <th>4</th>\n",
       "      <td>Xdl7t</td>\n",
       "      <td>1.988431</td>\n",
       "      <td>0.155413</td>\n",
       "      <td>4.751769</td>\n",
       "      <td>154.036647</td>\n",
       "    </tr>\n",
       "  </tbody>\n",
       "</table>\n",
       "</div>"
      ],
      "text/plain": [
       "      id        f0        f1        f2     product\n",
       "0  txEyH  0.705745 -0.497823  1.221170  105.280062\n",
       "1  2acmU  1.334711 -0.340164  4.365080   73.037750\n",
       "2  409Wp  1.022732  0.151990  1.419926   85.265647\n",
       "3  iJLyR -0.032172  0.139033  2.978566  168.620776\n",
       "4  Xdl7t  1.988431  0.155413  4.751769  154.036647"
      ]
     },
     "metadata": {},
     "output_type": "display_data"
    },
    {
     "name": "stdout",
     "output_type": "stream",
     "text": [
      " \n",
      "Информация о датафрейме:\n",
      "<class 'pandas.core.frame.DataFrame'>\n",
      "RangeIndex: 100000 entries, 0 to 99999\n",
      "Data columns (total 5 columns):\n",
      " #   Column   Non-Null Count   Dtype  \n",
      "---  ------   --------------   -----  \n",
      " 0   id       100000 non-null  object \n",
      " 1   f0       100000 non-null  float64\n",
      " 2   f1       100000 non-null  float64\n",
      " 3   f2       100000 non-null  float64\n",
      " 4   product  100000 non-null  float64\n",
      "dtypes: float64(4), object(1)\n",
      "memory usage: 3.8+ MB\n"
     ]
    },
    {
     "data": {
      "text/plain": [
       "None"
      ]
     },
     "metadata": {},
     "output_type": "display_data"
    },
    {
     "name": "stdout",
     "output_type": "stream",
     "text": [
      " \n",
      "Основные статистики числовых данных:\n"
     ]
    },
    {
     "data": {
      "text/html": [
       "<div>\n",
       "<style scoped>\n",
       "    .dataframe tbody tr th:only-of-type {\n",
       "        vertical-align: middle;\n",
       "    }\n",
       "\n",
       "    .dataframe tbody tr th {\n",
       "        vertical-align: top;\n",
       "    }\n",
       "\n",
       "    .dataframe thead th {\n",
       "        text-align: right;\n",
       "    }\n",
       "</style>\n",
       "<table border=\"1\" class=\"dataframe\">\n",
       "  <thead>\n",
       "    <tr style=\"text-align: right;\">\n",
       "      <th></th>\n",
       "      <th>count</th>\n",
       "      <th>mean</th>\n",
       "      <th>std</th>\n",
       "      <th>min</th>\n",
       "      <th>25%</th>\n",
       "      <th>50%</th>\n",
       "      <th>75%</th>\n",
       "      <th>max</th>\n",
       "    </tr>\n",
       "  </thead>\n",
       "  <tbody>\n",
       "    <tr>\n",
       "      <th>f0</th>\n",
       "      <td>100000.0</td>\n",
       "      <td>0.500419</td>\n",
       "      <td>0.871832</td>\n",
       "      <td>-1.408605</td>\n",
       "      <td>-0.072580</td>\n",
       "      <td>0.502360</td>\n",
       "      <td>1.073581</td>\n",
       "      <td>2.362331</td>\n",
       "    </tr>\n",
       "    <tr>\n",
       "      <th>f1</th>\n",
       "      <td>100000.0</td>\n",
       "      <td>0.250143</td>\n",
       "      <td>0.504433</td>\n",
       "      <td>-0.848218</td>\n",
       "      <td>-0.200881</td>\n",
       "      <td>0.250252</td>\n",
       "      <td>0.700646</td>\n",
       "      <td>1.343769</td>\n",
       "    </tr>\n",
       "    <tr>\n",
       "      <th>f2</th>\n",
       "      <td>100000.0</td>\n",
       "      <td>2.502647</td>\n",
       "      <td>3.248248</td>\n",
       "      <td>-12.088328</td>\n",
       "      <td>0.287748</td>\n",
       "      <td>2.515969</td>\n",
       "      <td>4.715088</td>\n",
       "      <td>16.003790</td>\n",
       "    </tr>\n",
       "    <tr>\n",
       "      <th>product</th>\n",
       "      <td>100000.0</td>\n",
       "      <td>92.500000</td>\n",
       "      <td>44.288691</td>\n",
       "      <td>0.000000</td>\n",
       "      <td>56.497507</td>\n",
       "      <td>91.849972</td>\n",
       "      <td>128.564089</td>\n",
       "      <td>185.364347</td>\n",
       "    </tr>\n",
       "  </tbody>\n",
       "</table>\n",
       "</div>"
      ],
      "text/plain": [
       "            count       mean        std        min        25%        50%  \\\n",
       "f0       100000.0   0.500419   0.871832  -1.408605  -0.072580   0.502360   \n",
       "f1       100000.0   0.250143   0.504433  -0.848218  -0.200881   0.250252   \n",
       "f2       100000.0   2.502647   3.248248 -12.088328   0.287748   2.515969   \n",
       "product  100000.0  92.500000  44.288691   0.000000  56.497507  91.849972   \n",
       "\n",
       "                75%         max  \n",
       "f0         1.073581    2.362331  \n",
       "f1         0.700646    1.343769  \n",
       "f2         4.715088   16.003790  \n",
       "product  128.564089  185.364347  "
      ]
     },
     "metadata": {},
     "output_type": "display_data"
    },
    {
     "name": "stdout",
     "output_type": "stream",
     "text": [
      " \n",
      "Количество дубликатов в датафрейме:\n",
      "0\n",
      "Количество пропусков в датафрейме:\n",
      "id         0\n",
      "f0         0\n",
      "f1         0\n",
      "f2         0\n",
      "product    0\n",
      "dtype: int64\n"
     ]
    }
   ],
   "source": [
    "info_df(geo_data_0)"
   ]
  },
  {
   "cell_type": "code",
   "execution_count": 5,
   "metadata": {},
   "outputs": [
    {
     "name": "stdout",
     "output_type": "stream",
     "text": [
      "Первые строки датафрейма:\n"
     ]
    },
    {
     "data": {
      "text/html": [
       "<div>\n",
       "<style scoped>\n",
       "    .dataframe tbody tr th:only-of-type {\n",
       "        vertical-align: middle;\n",
       "    }\n",
       "\n",
       "    .dataframe tbody tr th {\n",
       "        vertical-align: top;\n",
       "    }\n",
       "\n",
       "    .dataframe thead th {\n",
       "        text-align: right;\n",
       "    }\n",
       "</style>\n",
       "<table border=\"1\" class=\"dataframe\">\n",
       "  <thead>\n",
       "    <tr style=\"text-align: right;\">\n",
       "      <th></th>\n",
       "      <th>id</th>\n",
       "      <th>f0</th>\n",
       "      <th>f1</th>\n",
       "      <th>f2</th>\n",
       "      <th>product</th>\n",
       "    </tr>\n",
       "  </thead>\n",
       "  <tbody>\n",
       "    <tr>\n",
       "      <th>0</th>\n",
       "      <td>kBEdx</td>\n",
       "      <td>-15.001348</td>\n",
       "      <td>-8.276000</td>\n",
       "      <td>-0.005876</td>\n",
       "      <td>3.179103</td>\n",
       "    </tr>\n",
       "    <tr>\n",
       "      <th>1</th>\n",
       "      <td>62mP7</td>\n",
       "      <td>14.272088</td>\n",
       "      <td>-3.475083</td>\n",
       "      <td>0.999183</td>\n",
       "      <td>26.953261</td>\n",
       "    </tr>\n",
       "    <tr>\n",
       "      <th>2</th>\n",
       "      <td>vyE1P</td>\n",
       "      <td>6.263187</td>\n",
       "      <td>-5.948386</td>\n",
       "      <td>5.001160</td>\n",
       "      <td>134.766305</td>\n",
       "    </tr>\n",
       "    <tr>\n",
       "      <th>3</th>\n",
       "      <td>KcrkZ</td>\n",
       "      <td>-13.081196</td>\n",
       "      <td>-11.506057</td>\n",
       "      <td>4.999415</td>\n",
       "      <td>137.945408</td>\n",
       "    </tr>\n",
       "    <tr>\n",
       "      <th>4</th>\n",
       "      <td>AHL4O</td>\n",
       "      <td>12.702195</td>\n",
       "      <td>-8.147433</td>\n",
       "      <td>5.004363</td>\n",
       "      <td>134.766305</td>\n",
       "    </tr>\n",
       "  </tbody>\n",
       "</table>\n",
       "</div>"
      ],
      "text/plain": [
       "      id         f0         f1        f2     product\n",
       "0  kBEdx -15.001348  -8.276000 -0.005876    3.179103\n",
       "1  62mP7  14.272088  -3.475083  0.999183   26.953261\n",
       "2  vyE1P   6.263187  -5.948386  5.001160  134.766305\n",
       "3  KcrkZ -13.081196 -11.506057  4.999415  137.945408\n",
       "4  AHL4O  12.702195  -8.147433  5.004363  134.766305"
      ]
     },
     "metadata": {},
     "output_type": "display_data"
    },
    {
     "name": "stdout",
     "output_type": "stream",
     "text": [
      " \n",
      "Информация о датафрейме:\n",
      "<class 'pandas.core.frame.DataFrame'>\n",
      "RangeIndex: 100000 entries, 0 to 99999\n",
      "Data columns (total 5 columns):\n",
      " #   Column   Non-Null Count   Dtype  \n",
      "---  ------   --------------   -----  \n",
      " 0   id       100000 non-null  object \n",
      " 1   f0       100000 non-null  float64\n",
      " 2   f1       100000 non-null  float64\n",
      " 3   f2       100000 non-null  float64\n",
      " 4   product  100000 non-null  float64\n",
      "dtypes: float64(4), object(1)\n",
      "memory usage: 3.8+ MB\n"
     ]
    },
    {
     "data": {
      "text/plain": [
       "None"
      ]
     },
     "metadata": {},
     "output_type": "display_data"
    },
    {
     "name": "stdout",
     "output_type": "stream",
     "text": [
      " \n",
      "Основные статистики числовых данных:\n"
     ]
    },
    {
     "data": {
      "text/html": [
       "<div>\n",
       "<style scoped>\n",
       "    .dataframe tbody tr th:only-of-type {\n",
       "        vertical-align: middle;\n",
       "    }\n",
       "\n",
       "    .dataframe tbody tr th {\n",
       "        vertical-align: top;\n",
       "    }\n",
       "\n",
       "    .dataframe thead th {\n",
       "        text-align: right;\n",
       "    }\n",
       "</style>\n",
       "<table border=\"1\" class=\"dataframe\">\n",
       "  <thead>\n",
       "    <tr style=\"text-align: right;\">\n",
       "      <th></th>\n",
       "      <th>count</th>\n",
       "      <th>mean</th>\n",
       "      <th>std</th>\n",
       "      <th>min</th>\n",
       "      <th>25%</th>\n",
       "      <th>50%</th>\n",
       "      <th>75%</th>\n",
       "      <th>max</th>\n",
       "    </tr>\n",
       "  </thead>\n",
       "  <tbody>\n",
       "    <tr>\n",
       "      <th>f0</th>\n",
       "      <td>100000.0</td>\n",
       "      <td>1.141296</td>\n",
       "      <td>8.965932</td>\n",
       "      <td>-31.609576</td>\n",
       "      <td>-6.298551</td>\n",
       "      <td>1.153055</td>\n",
       "      <td>8.621015</td>\n",
       "      <td>29.421755</td>\n",
       "    </tr>\n",
       "    <tr>\n",
       "      <th>f1</th>\n",
       "      <td>100000.0</td>\n",
       "      <td>-4.796579</td>\n",
       "      <td>5.119872</td>\n",
       "      <td>-26.358598</td>\n",
       "      <td>-8.267985</td>\n",
       "      <td>-4.813172</td>\n",
       "      <td>-1.332816</td>\n",
       "      <td>18.734063</td>\n",
       "    </tr>\n",
       "    <tr>\n",
       "      <th>f2</th>\n",
       "      <td>100000.0</td>\n",
       "      <td>2.494541</td>\n",
       "      <td>1.703572</td>\n",
       "      <td>-0.018144</td>\n",
       "      <td>1.000021</td>\n",
       "      <td>2.011479</td>\n",
       "      <td>3.999904</td>\n",
       "      <td>5.019721</td>\n",
       "    </tr>\n",
       "    <tr>\n",
       "      <th>product</th>\n",
       "      <td>100000.0</td>\n",
       "      <td>68.825000</td>\n",
       "      <td>45.944423</td>\n",
       "      <td>0.000000</td>\n",
       "      <td>26.953261</td>\n",
       "      <td>57.085625</td>\n",
       "      <td>107.813044</td>\n",
       "      <td>137.945408</td>\n",
       "    </tr>\n",
       "  </tbody>\n",
       "</table>\n",
       "</div>"
      ],
      "text/plain": [
       "            count       mean        std        min        25%        50%  \\\n",
       "f0       100000.0   1.141296   8.965932 -31.609576  -6.298551   1.153055   \n",
       "f1       100000.0  -4.796579   5.119872 -26.358598  -8.267985  -4.813172   \n",
       "f2       100000.0   2.494541   1.703572  -0.018144   1.000021   2.011479   \n",
       "product  100000.0  68.825000  45.944423   0.000000  26.953261  57.085625   \n",
       "\n",
       "                75%         max  \n",
       "f0         8.621015   29.421755  \n",
       "f1        -1.332816   18.734063  \n",
       "f2         3.999904    5.019721  \n",
       "product  107.813044  137.945408  "
      ]
     },
     "metadata": {},
     "output_type": "display_data"
    },
    {
     "name": "stdout",
     "output_type": "stream",
     "text": [
      " \n",
      "Количество дубликатов в датафрейме:\n",
      "0\n",
      "Количество пропусков в датафрейме:\n",
      "id         0\n",
      "f0         0\n",
      "f1         0\n",
      "f2         0\n",
      "product    0\n",
      "dtype: int64\n"
     ]
    }
   ],
   "source": [
    "info_df(geo_data_1)"
   ]
  },
  {
   "cell_type": "code",
   "execution_count": 6,
   "metadata": {},
   "outputs": [
    {
     "name": "stdout",
     "output_type": "stream",
     "text": [
      "Первые строки датафрейма:\n"
     ]
    },
    {
     "data": {
      "text/html": [
       "<div>\n",
       "<style scoped>\n",
       "    .dataframe tbody tr th:only-of-type {\n",
       "        vertical-align: middle;\n",
       "    }\n",
       "\n",
       "    .dataframe tbody tr th {\n",
       "        vertical-align: top;\n",
       "    }\n",
       "\n",
       "    .dataframe thead th {\n",
       "        text-align: right;\n",
       "    }\n",
       "</style>\n",
       "<table border=\"1\" class=\"dataframe\">\n",
       "  <thead>\n",
       "    <tr style=\"text-align: right;\">\n",
       "      <th></th>\n",
       "      <th>id</th>\n",
       "      <th>f0</th>\n",
       "      <th>f1</th>\n",
       "      <th>f2</th>\n",
       "      <th>product</th>\n",
       "    </tr>\n",
       "  </thead>\n",
       "  <tbody>\n",
       "    <tr>\n",
       "      <th>0</th>\n",
       "      <td>fwXo0</td>\n",
       "      <td>-1.146987</td>\n",
       "      <td>0.963328</td>\n",
       "      <td>-0.828965</td>\n",
       "      <td>27.758673</td>\n",
       "    </tr>\n",
       "    <tr>\n",
       "      <th>1</th>\n",
       "      <td>WJtFt</td>\n",
       "      <td>0.262778</td>\n",
       "      <td>0.269839</td>\n",
       "      <td>-2.530187</td>\n",
       "      <td>56.069697</td>\n",
       "    </tr>\n",
       "    <tr>\n",
       "      <th>2</th>\n",
       "      <td>ovLUW</td>\n",
       "      <td>0.194587</td>\n",
       "      <td>0.289035</td>\n",
       "      <td>-5.586433</td>\n",
       "      <td>62.871910</td>\n",
       "    </tr>\n",
       "    <tr>\n",
       "      <th>3</th>\n",
       "      <td>q6cA6</td>\n",
       "      <td>2.236060</td>\n",
       "      <td>-0.553760</td>\n",
       "      <td>0.930038</td>\n",
       "      <td>114.572842</td>\n",
       "    </tr>\n",
       "    <tr>\n",
       "      <th>4</th>\n",
       "      <td>WPMUX</td>\n",
       "      <td>-0.515993</td>\n",
       "      <td>1.716266</td>\n",
       "      <td>5.899011</td>\n",
       "      <td>149.600746</td>\n",
       "    </tr>\n",
       "  </tbody>\n",
       "</table>\n",
       "</div>"
      ],
      "text/plain": [
       "      id        f0        f1        f2     product\n",
       "0  fwXo0 -1.146987  0.963328 -0.828965   27.758673\n",
       "1  WJtFt  0.262778  0.269839 -2.530187   56.069697\n",
       "2  ovLUW  0.194587  0.289035 -5.586433   62.871910\n",
       "3  q6cA6  2.236060 -0.553760  0.930038  114.572842\n",
       "4  WPMUX -0.515993  1.716266  5.899011  149.600746"
      ]
     },
     "metadata": {},
     "output_type": "display_data"
    },
    {
     "name": "stdout",
     "output_type": "stream",
     "text": [
      " \n",
      "Информация о датафрейме:\n",
      "<class 'pandas.core.frame.DataFrame'>\n",
      "RangeIndex: 100000 entries, 0 to 99999\n",
      "Data columns (total 5 columns):\n",
      " #   Column   Non-Null Count   Dtype  \n",
      "---  ------   --------------   -----  \n",
      " 0   id       100000 non-null  object \n",
      " 1   f0       100000 non-null  float64\n",
      " 2   f1       100000 non-null  float64\n",
      " 3   f2       100000 non-null  float64\n",
      " 4   product  100000 non-null  float64\n",
      "dtypes: float64(4), object(1)\n",
      "memory usage: 3.8+ MB\n"
     ]
    },
    {
     "data": {
      "text/plain": [
       "None"
      ]
     },
     "metadata": {},
     "output_type": "display_data"
    },
    {
     "name": "stdout",
     "output_type": "stream",
     "text": [
      " \n",
      "Основные статистики числовых данных:\n"
     ]
    },
    {
     "data": {
      "text/html": [
       "<div>\n",
       "<style scoped>\n",
       "    .dataframe tbody tr th:only-of-type {\n",
       "        vertical-align: middle;\n",
       "    }\n",
       "\n",
       "    .dataframe tbody tr th {\n",
       "        vertical-align: top;\n",
       "    }\n",
       "\n",
       "    .dataframe thead th {\n",
       "        text-align: right;\n",
       "    }\n",
       "</style>\n",
       "<table border=\"1\" class=\"dataframe\">\n",
       "  <thead>\n",
       "    <tr style=\"text-align: right;\">\n",
       "      <th></th>\n",
       "      <th>count</th>\n",
       "      <th>mean</th>\n",
       "      <th>std</th>\n",
       "      <th>min</th>\n",
       "      <th>25%</th>\n",
       "      <th>50%</th>\n",
       "      <th>75%</th>\n",
       "      <th>max</th>\n",
       "    </tr>\n",
       "  </thead>\n",
       "  <tbody>\n",
       "    <tr>\n",
       "      <th>f0</th>\n",
       "      <td>100000.0</td>\n",
       "      <td>0.002023</td>\n",
       "      <td>1.732045</td>\n",
       "      <td>-8.760004</td>\n",
       "      <td>-1.162288</td>\n",
       "      <td>0.009424</td>\n",
       "      <td>1.158535</td>\n",
       "      <td>7.238262</td>\n",
       "    </tr>\n",
       "    <tr>\n",
       "      <th>f1</th>\n",
       "      <td>100000.0</td>\n",
       "      <td>-0.002081</td>\n",
       "      <td>1.730417</td>\n",
       "      <td>-7.084020</td>\n",
       "      <td>-1.174820</td>\n",
       "      <td>-0.009482</td>\n",
       "      <td>1.163678</td>\n",
       "      <td>7.844801</td>\n",
       "    </tr>\n",
       "    <tr>\n",
       "      <th>f2</th>\n",
       "      <td>100000.0</td>\n",
       "      <td>2.495128</td>\n",
       "      <td>3.473445</td>\n",
       "      <td>-11.970335</td>\n",
       "      <td>0.130359</td>\n",
       "      <td>2.484236</td>\n",
       "      <td>4.858794</td>\n",
       "      <td>16.739402</td>\n",
       "    </tr>\n",
       "    <tr>\n",
       "      <th>product</th>\n",
       "      <td>100000.0</td>\n",
       "      <td>95.000000</td>\n",
       "      <td>44.749921</td>\n",
       "      <td>0.000000</td>\n",
       "      <td>59.450441</td>\n",
       "      <td>94.925613</td>\n",
       "      <td>130.595027</td>\n",
       "      <td>190.029838</td>\n",
       "    </tr>\n",
       "  </tbody>\n",
       "</table>\n",
       "</div>"
      ],
      "text/plain": [
       "            count       mean        std        min        25%        50%  \\\n",
       "f0       100000.0   0.002023   1.732045  -8.760004  -1.162288   0.009424   \n",
       "f1       100000.0  -0.002081   1.730417  -7.084020  -1.174820  -0.009482   \n",
       "f2       100000.0   2.495128   3.473445 -11.970335   0.130359   2.484236   \n",
       "product  100000.0  95.000000  44.749921   0.000000  59.450441  94.925613   \n",
       "\n",
       "                75%         max  \n",
       "f0         1.158535    7.238262  \n",
       "f1         1.163678    7.844801  \n",
       "f2         4.858794   16.739402  \n",
       "product  130.595027  190.029838  "
      ]
     },
     "metadata": {},
     "output_type": "display_data"
    },
    {
     "name": "stdout",
     "output_type": "stream",
     "text": [
      " \n",
      "Количество дубликатов в датафрейме:\n",
      "0\n",
      "Количество пропусков в датафрейме:\n",
      "id         0\n",
      "f0         0\n",
      "f1         0\n",
      "f2         0\n",
      "product    0\n",
      "dtype: int64\n"
     ]
    }
   ],
   "source": [
    "info_df(geo_data_2)"
   ]
  },
  {
   "cell_type": "markdown",
   "metadata": {},
   "source": [
    "### Промежуточные выводы по данным:\n",
    "\n",
    "1. **Общие характеристики данных:**\n",
    "   - Все три датасета содержат по 100,000 строк и 5 столбцов: `id`, `f0`, `f1`, `f2`, `product`.\n",
    "   - Пропуски и дубликаты отсутствуют.\n",
    "   - Столбец `id` имеет тип `object` и представляет собой уникальные идентификаторы. Остальные столбцы содержат числовые данные типа `float64`.\n",
    "\n",
    "---\n",
    "\n",
    "2. **Описание столбцов:**\n",
    "   - `f0`, `f1`, `f2` — числовые признаки, характеристики месторождений.\n",
    "   - `product` — целевой признак, объём добычи нефти (в тысячах баррелей).\n",
    "\n",
    "---\n",
    "\n",
    "3. **Датасет 1 (`geo_data_0`):**\n",
    "   - Распределение признаков:\n",
    "     - `f0`, `f1` и `f2` имеют средние значения около 0 для первых двух признаков и около 2.5 для `f2`.\n",
    "     - Признак `f2` показывает наибольший разброс: от -12 до 16.\n",
    "   - Целевой признак:\n",
    "     - Среднее значение объёма добычи — 92.5.\n",
    "     - Разброс (стандартное отклонение) — 44.29.\n",
    "     - Максимальное значение — 185.36.\n",
    "\n",
    "---\n",
    "\n",
    "4. **Датасет 2 (`geo_data_1`):**\n",
    "   - Распределение признаков:\n",
    "     - Признаки `f0` и `f1` имеют большие диапазоны (например, от -31.6 до 29.4 для `f0`).\n",
    "     - `f2` отличается меньшим разбросом: от -0.01 до 5.02.\n",
    "   - Целевой признак:\n",
    "     - Среднее значение объёма добычи — 68.83, что ниже, чем в других регионах.\n",
    "     - Разброс — 45.94.\n",
    "     - Максимальное значение — 137.94.\n",
    "\n",
    "---\n",
    "\n",
    "5. **Датасет 3 (`geo_data_2`):**\n",
    "   - Распределение признаков:\n",
    "     - Признаки `f0` и `f1` имеют практически нулевые средние значения и сбалансированное распределение.\n",
    "     - Признак `f2` имеет наиболее широкий диапазон: от -12 до 16.7.\n",
    "   - Целевой признак:\n",
    "     - Среднее значение объёма добычи — 95.0.\n",
    "     - Разброс — 44.75.\n",
    "     - Максимальное значение — 190.03.\n",
    "\n",
    "---\n",
    "\n",
    "6. **Сравнение между датасетами:**\n",
    "   - Наибольший разброс значений у признаков `f0` и `f1` наблюдается в датасете `geo_data_1`.\n",
    "   - Датасеты `geo_data_0` и `geo_data_2` имеют схожее распределение целевого признака (`product`), с близкими средними значениями.\n",
    "   - Наименьший средний объём добычи нефти — в датасете `geo_data_1` (68.83), что может указывать на меньшее среднее содержание ресурсов в этом регионе.\n",
    "\n",
    "---\n",
    "\n",
    "**Выводы:**\n",
    "Данные готовы для дальнейшей обработки и анализа. Необходимо провести исследование взаимосвязи признаков с целевым показателем (`product`) в каждом регионе, чтобы выбрать лучшие стратегии для обучения модели."
   ]
  },
  {
   "cell_type": "markdown",
   "metadata": {},
   "source": [
    "### Исследовательский анализ данных"
   ]
  },
  {
   "cell_type": "markdown",
   "metadata": {},
   "source": [
    "Напишем функцию для автоматического построения графиков:"
   ]
  },
  {
   "cell_type": "code",
   "execution_count": 7,
   "metadata": {},
   "outputs": [],
   "source": [
    "def numerical_plot(df):\n",
    "    # Отбираем только числовые столбцы, исключая 'id'\n",
    "    numeric_df = df.select_dtypes(include='number').drop(columns=['id'], errors='ignore')\n",
    "\n",
    "    # Для каждого числового столбца строим соответствующие графики\n",
    "    for col in numeric_df.columns:\n",
    "        # Определяем, является ли признак дискретным (не более 10 уникальных значений)\n",
    "        if numeric_df[col].nunique() <= 10:\n",
    "            # Строим countplot для признаков с менее 20 уникальными значениями\n",
    "            fig, axes = plt.subplots(ncols=1, figsize=(8, 6))\n",
    "            sorted_categories = numeric_df[col].value_counts().index\n",
    "            sns.countplot(y=numeric_df[col], order=sorted_categories, palette='Set2', ax=axes)\n",
    "            axes.set_title(f'Распределение значений для {col}')\n",
    "            axes.set_ylabel('Частота')\n",
    "            axes.set_xlabel(col)\n",
    "        else:\n",
    "            # Строим гистограмму и ящичную диаграмму для признаков с более чем 20 уникальными значениями\n",
    "            fig, axes = plt.subplots(ncols=2, figsize=(12, 4))\n",
    "\n",
    "            # Гистограмма для визуализации распределения\n",
    "            sns.histplot(numeric_df[col], kde=True, ax=axes[0], color='skyblue')\n",
    "            axes[0].set_title(f'Гистограмма для {col}')\n",
    "            axes[0].set_xlabel(col)\n",
    "            axes[0].set_ylabel('Частота')\n",
    "\n",
    "            # Ящичная диаграмма для распределения\n",
    "            sns.boxplot(y=numeric_df[col], ax=axes[1], color='lightgreen')\n",
    "            axes[1].set_title(f'Ящичная диаграмма для {col}')\n",
    "            axes[1].set_xlabel(col)\n",
    "\n",
    "        # Отображаем графики\n",
    "        plt.tight_layout()\n",
    "        plt.show()"
   ]
  },
  {
   "cell_type": "markdown",
   "metadata": {},
   "source": [
    "Построим графики для `geo_data_0`:"
   ]
  },
  {
   "cell_type": "code",
   "execution_count": 8,
   "metadata": {},
   "outputs": [
    {
     "data": {
      "image/png": "[encoded data removed]",
      "text/plain": [
       "<Figure size 864x288 with 2 Axes>"
      ]
     },
     "metadata": {
      "needs_background": "light"
     },
     "output_type": "display_data"
    },
    {
     "data": {
      "image/png": "[encoded data removed]",
      "text/plain": [
       "<Figure size 864x288 with 2 Axes>"
      ]
     },
     "metadata": {
      "needs_background": "light"
     },
     "output_type": "display_data"
    },
    {
     "data": {
      "image/png": "[encoded data removed]",
      "text/plain": [
       "<Figure size 864x288 with 2 Axes>"
      ]
     },
     "metadata": {
      "needs_background": "light"
     },
     "output_type": "display_data"
    },
    {
     "data": {
      "image/png": "[encoded data removed]",
      "text/plain": [
       "<Figure size 864x288 with 2 Axes>"
      ]
     },
     "metadata": {
      "needs_background": "light"
     },
     "output_type": "display_data"
    }
   ],
   "source": [
    "numerical_plot(geo_data_0)"
   ]
  },
  {
   "cell_type": "markdown",
   "metadata": {},
   "source": [
    "построим графики для `geo_data_1`:"
   ]
  },
  {
   "cell_type": "code",
   "execution_count": 9,
   "metadata": {},
   "outputs": [
    {
     "data": {
      "image/png": "[encoded data removed]",
      "text/plain": [
       "<Figure size 864x288 with 2 Axes>"
      ]
     },
     "metadata": {
      "needs_background": "light"
     },
     "output_type": "display_data"
    },
    {
     "data": {
      "image/png": "[encoded data removed]",
      "text/plain": [
       "<Figure size 864x288 with 2 Axes>"
      ]
     },
     "metadata": {
      "needs_background": "light"
     },
     "output_type": "display_data"
    },
    {
     "data": {
      "image/png": "[encoded data removed]",
      "text/plain": [
       "<Figure size 864x288 with 2 Axes>"
      ]
     },
     "metadata": {
      "needs_background": "light"
     },
     "output_type": "display_data"
    },
    {
     "data": {
      "image/png": "[encoded data removed]",
      "text/plain": [
       "<Figure size 864x288 with 2 Axes>"
      ]
     },
     "metadata": {
      "needs_background": "light"
     },
     "output_type": "display_data"
    }
   ],
   "source": [
    "numerical_plot(geo_data_1)"
   ]
  },
  {
   "cell_type": "markdown",
   "metadata": {},
   "source": [
    "построим графики для `geo_data_2`:"
   ]
  },
  {
   "cell_type": "code",
   "execution_count": 10,
   "metadata": {},
   "outputs": [
    {
     "data": {
      "image/png": "[encoded data removed]",
      "text/plain": [
       "<Figure size 864x288 with 2 Axes>"
      ]
     },
     "metadata": {
      "needs_background": "light"
     },
     "output_type": "display_data"
    },
    {
     "data": {
      "image/png": "[encoded data removed]",
      "text/plain": [
       "<Figure size 864x288 with 2 Axes>"
      ]
     },
     "metadata": {
      "needs_background": "light"
     },
     "output_type": "display_data"
    },
    {
     "data": {
      "image/png": "[encoded data removed]",
      "text/plain": [
       "<Figure size 864x288 with 2 Axes>"
      ]
     },
     "metadata": {
      "needs_background": "light"
     },
     "output_type": "display_data"
    },
    {
     "data": {
      "image/png": "[encoded data removed]",
      "text/plain": [
       "<Figure size 864x288 with 2 Axes>"
      ]
     },
     "metadata": {
      "needs_background": "light"
     },
     "output_type": "display_data"
    }
   ],
   "source": [
    "numerical_plot(geo_data_2)"
   ]
  },
  {
   "cell_type": "markdown",
   "metadata": {},
   "source": [
    "По результатам исследовательского анализа распределения данных, можно сделать следующие выводы для каждого региона:\n",
    "\n",
    "В **регионе 0** значения признаков **f0**, **f1** и **f2** имеют следующие особенности:\n",
    "- Признак **f0** имеет среднее значение 0.50, стандартное отклонение 0.87, и диапазон значений от -1.41 до 2.36. Это указывает на умеренную вариативность значений, с концентрацией данных вблизи 0.\n",
    "- Признак **f1** имеет среднее значение 0.25 и стандартное отклонение 0.50, с диапазоном от -0.85 до 1.34. Эти данные также имеют умеренную вариативность и распределены более равномерно.\n",
    "- Признак **f2** имеет более широкий диапазон значений от -12.09 до 16.00, что связано с более высоким стандартным отклонением (3.25). Это говорит о большем разбросе данных по этому признаку.\n",
    "- Целевой признак **product** имеет среднее значение 92.50 и стандартное отклонение 44.29, с диапазоном от 0 до 185.36. Это распределение имеет множество пиков, что может говорить о наличии разных групп или факторов, влияющих на данный показатель.\n",
    "\n",
    "В **регионе 1** статистики для признаков и целевого признака выглядят несколько иначе:\n",
    "- Признак **f0** имеет среднее значение 1.14, стандартное отклонение 8.97 и диапазон от -31.61 до 29.42. Это очень широкий диапазон значений, что указывает на наличие значительных аномалий или выбросов.\n",
    "- Признак **f1** имеет среднее значение -4.80 и стандартное отклонение 5.12, с диапазоном от -26.36 до 18.73. Распределение признака также весьма асимметричное, что может указывать на нестандартное поведение данных.\n",
    "- Признак **f2** находитсчя в диапазоне от -0.02 до 5.02 и стандартным отклонением 1.70.\n",
    "- Целевой признак **product** имеет среднее значение 68.83 и стандартное отклонение 45.94, с диапазоном от 0 до 137.95. Распределение **product** в этом регионе отличается от других, возможно, из-за наличия искусственно созданных или дискретных данных, что стоит проверить и учесть при анализе.\n",
    "\n",
    "В **регионе 2** данные выглядят более симметрично, но также имеют свои особенности:\n",
    "- Признак **f0** имеет очень низкое среднее значение (0.00) и стандартное отклонение 1.73, с диапазоном от -8.76 до 7.24. Это также свидетельствует о значительном разбросе данных.\n",
    "- Признак **f1** имеет среднее значение -0.00 и стандартное отклонение 1.73, с диапазоном от -7.08 до 7.84. Это распределение также указывает на некоторую симметричность, но данные все равно имеют широкий диапазон.\n",
    "- Признак **f2** в этом регионе имеет стандартное отклонение 3.47 и диапазон от -11.97 до 16.74, что говорит о значительном разбросе данных, схожем с **f2** в других регионах.\n",
    "- Целевой признак **product** в **регионе 2** имеет среднее значение 95.00 и стандартное отклонение 44.75, с диапазоном от 0 до 190.03. Это распределение с несколькими пиками, что может быть связано с более широкими значениями, чем в других регионах.\n",
    "\n",
    "В целом, **регион 1** выделяется необычным распределением данных, особенно для признака **product**, который имеет явные признаки дискретности и возможно был искусственно введен. В то время как **регионы 0** и **2** демонстрируют более традиционные распределения, с нормальными или близкими к нормальным формами для большинства признаков."
   ]
  },
  {
   "cell_type": "markdown",
   "metadata": {},
   "source": [
    "Напишем функцию для построения матрицы корреляции:"
   ]
  },
  {
   "cell_type": "code",
   "execution_count": 11,
   "metadata": {},
   "outputs": [],
   "source": [
    "def plot_corr_matrix(data, interval_cols):\n",
    "    \"\"\"\n",
    "    Строит корреляционную матрицу PhiK для исходных данных до кодирования и разделения.\n",
    "\n",
    "    Parameters:\n",
    "        data (pd.DataFrame): Входной датафрейм.\n",
    "        interval_cols (list): Список названий числовых (интервальных) признаков для расчета корреляции.\n",
    "    \"\"\"\n",
    "\n",
    "    # 1. Расчет корреляционной матрицы PhiK для всех признаков (кроме 'id') с использованием PhiK\n",
    "    phik_corr_matrix = data.drop('id', axis=1).phik_matrix(interval_cols=interval_cols)\n",
    "\n",
    "    # 2. Создание маски для верхней треугольной части матрицы, чтобы избежать повторного отображения значений\n",
    "    mask = np.triu(np.ones_like(phik_corr_matrix, dtype=bool))\n",
    "\n",
    "    # 3. Настройка графика\n",
    "    plt.figure(figsize=(15, 8))\n",
    "\n",
    "    # 4. Визуализация корреляционной матрицы с помощью тепловой карты\n",
    "    sns.heatmap(phik_corr_matrix, annot=True, fmt=\".2f\", cmap=\"coolwarm\", mask=mask)\n",
    "\n",
    "    # 5. Добавление заголовка графика\n",
    "    plt.title(\"Корреляционная матрица (PhiK)\")\n",
    "\n",
    "    # 6. Отображение графика\n",
    "    plt.show()\n",
    "    \n",
    "    # 7. Вывод таблицы корреляции в консоль\n",
    "    print(\"Корреляционная матрица PhiK:\")\n",
    "    display(phik_corr_matrix)"
   ]
  },
  {
   "cell_type": "code",
   "execution_count": 12,
   "metadata": {},
   "outputs": [
    {
     "data": {
      "image/png": "[encoded data removed]",
      "text/plain": [
       "<Figure size 1080x576 with 2 Axes>"
      ]
     },
     "metadata": {
      "needs_background": "light"
     },
     "output_type": "display_data"
    },
    {
     "name": "stdout",
     "output_type": "stream",
     "text": [
      "Корреляционная матрица PhiK:\n"
     ]
    },
    {
     "data": {
      "text/html": [
       "<div>\n",
       "<style scoped>\n",
       "    .dataframe tbody tr th:only-of-type {\n",
       "        vertical-align: middle;\n",
       "    }\n",
       "\n",
       "    .dataframe tbody tr th {\n",
       "        vertical-align: top;\n",
       "    }\n",
       "\n",
       "    .dataframe thead th {\n",
       "        text-align: right;\n",
       "    }\n",
       "</style>\n",
       "<table border=\"1\" class=\"dataframe\">\n",
       "  <thead>\n",
       "    <tr style=\"text-align: right;\">\n",
       "      <th></th>\n",
       "      <th>f0</th>\n",
       "      <th>f1</th>\n",
       "      <th>f2</th>\n",
       "      <th>product</th>\n",
       "    </tr>\n",
       "  </thead>\n",
       "  <tbody>\n",
       "    <tr>\n",
       "      <th>f0</th>\n",
       "      <td>1.000000</td>\n",
       "      <td>0.762170</td>\n",
       "      <td>0.000000</td>\n",
       "      <td>0.215525</td>\n",
       "    </tr>\n",
       "    <tr>\n",
       "      <th>f1</th>\n",
       "      <td>0.762170</td>\n",
       "      <td>1.000000</td>\n",
       "      <td>0.000000</td>\n",
       "      <td>0.253544</td>\n",
       "    </tr>\n",
       "    <tr>\n",
       "      <th>f2</th>\n",
       "      <td>0.000000</td>\n",
       "      <td>0.000000</td>\n",
       "      <td>1.000000</td>\n",
       "      <td>0.475901</td>\n",
       "    </tr>\n",
       "    <tr>\n",
       "      <th>product</th>\n",
       "      <td>0.215525</td>\n",
       "      <td>0.253544</td>\n",
       "      <td>0.475901</td>\n",
       "      <td>1.000000</td>\n",
       "    </tr>\n",
       "  </tbody>\n",
       "</table>\n",
       "</div>"
      ],
      "text/plain": [
       "               f0        f1        f2   product\n",
       "f0       1.000000  0.762170  0.000000  0.215525\n",
       "f1       0.762170  1.000000  0.000000  0.253544\n",
       "f2       0.000000  0.000000  1.000000  0.475901\n",
       "product  0.215525  0.253544  0.475901  1.000000"
      ]
     },
     "metadata": {},
     "output_type": "display_data"
    },
    {
     "data": {
      "image/png": "[encoded data removed]",
      "text/plain": [
       "<Figure size 1080x576 with 2 Axes>"
      ]
     },
     "metadata": {
      "needs_background": "light"
     },
     "output_type": "display_data"
    },
    {
     "name": "stdout",
     "output_type": "stream",
     "text": [
      "Корреляционная матрица PhiK:\n"
     ]
    },
    {
     "data": {
      "text/html": [
       "<div>\n",
       "<style scoped>\n",
       "    .dataframe tbody tr th:only-of-type {\n",
       "        vertical-align: middle;\n",
       "    }\n",
       "\n",
       "    .dataframe tbody tr th {\n",
       "        vertical-align: top;\n",
       "    }\n",
       "\n",
       "    .dataframe thead th {\n",
       "        text-align: right;\n",
       "    }\n",
       "</style>\n",
       "<table border=\"1\" class=\"dataframe\">\n",
       "  <thead>\n",
       "    <tr style=\"text-align: right;\">\n",
       "      <th></th>\n",
       "      <th>f0</th>\n",
       "      <th>f1</th>\n",
       "      <th>f2</th>\n",
       "      <th>product</th>\n",
       "    </tr>\n",
       "  </thead>\n",
       "  <tbody>\n",
       "    <tr>\n",
       "      <th>f0</th>\n",
       "      <td>1.000000</td>\n",
       "      <td>0.196080</td>\n",
       "      <td>0.000000</td>\n",
       "      <td>0.628482</td>\n",
       "    </tr>\n",
       "    <tr>\n",
       "      <th>f1</th>\n",
       "      <td>0.196080</td>\n",
       "      <td>1.000000</td>\n",
       "      <td>0.000000</td>\n",
       "      <td>0.185965</td>\n",
       "    </tr>\n",
       "    <tr>\n",
       "      <th>f2</th>\n",
       "      <td>0.000000</td>\n",
       "      <td>0.000000</td>\n",
       "      <td>1.000000</td>\n",
       "      <td>0.978936</td>\n",
       "    </tr>\n",
       "    <tr>\n",
       "      <th>product</th>\n",
       "      <td>0.628482</td>\n",
       "      <td>0.185965</td>\n",
       "      <td>0.978936</td>\n",
       "      <td>1.000000</td>\n",
       "    </tr>\n",
       "  </tbody>\n",
       "</table>\n",
       "</div>"
      ],
      "text/plain": [
       "               f0        f1        f2   product\n",
       "f0       1.000000  0.196080  0.000000  0.628482\n",
       "f1       0.196080  1.000000  0.000000  0.185965\n",
       "f2       0.000000  0.000000  1.000000  0.978936\n",
       "product  0.628482  0.185965  0.978936  1.000000"
      ]
     },
     "metadata": {},
     "output_type": "display_data"
    },
    {
     "data": {
      "image/png": "[encoded data removed]",
      "text/plain": [
       "<Figure size 1080x576 with 2 Axes>"
      ]
     },
     "metadata": {
      "needs_background": "light"
     },
     "output_type": "display_data"
    },
    {
     "name": "stdout",
     "output_type": "stream",
     "text": [
      "Корреляционная матрица PhiK:\n"
     ]
    },
    {
     "data": {
      "text/html": [
       "<div>\n",
       "<style scoped>\n",
       "    .dataframe tbody tr th:only-of-type {\n",
       "        vertical-align: middle;\n",
       "    }\n",
       "\n",
       "    .dataframe tbody tr th {\n",
       "        vertical-align: top;\n",
       "    }\n",
       "\n",
       "    .dataframe thead th {\n",
       "        text-align: right;\n",
       "    }\n",
       "</style>\n",
       "<table border=\"1\" class=\"dataframe\">\n",
       "  <thead>\n",
       "    <tr style=\"text-align: right;\">\n",
       "      <th></th>\n",
       "      <th>f0</th>\n",
       "      <th>f1</th>\n",
       "      <th>f2</th>\n",
       "      <th>product</th>\n",
       "    </tr>\n",
       "  </thead>\n",
       "  <tbody>\n",
       "    <tr>\n",
       "      <th>f0</th>\n",
       "      <td>1.000000</td>\n",
       "      <td>0.000000</td>\n",
       "      <td>0.000000</td>\n",
       "      <td>0.201068</td>\n",
       "    </tr>\n",
       "    <tr>\n",
       "      <th>f1</th>\n",
       "      <td>0.000000</td>\n",
       "      <td>1.000000</td>\n",
       "      <td>0.000000</td>\n",
       "      <td>0.221022</td>\n",
       "    </tr>\n",
       "    <tr>\n",
       "      <th>f2</th>\n",
       "      <td>0.000000</td>\n",
       "      <td>0.000000</td>\n",
       "      <td>1.000000</td>\n",
       "      <td>0.443287</td>\n",
       "    </tr>\n",
       "    <tr>\n",
       "      <th>product</th>\n",
       "      <td>0.201068</td>\n",
       "      <td>0.221022</td>\n",
       "      <td>0.443287</td>\n",
       "      <td>1.000000</td>\n",
       "    </tr>\n",
       "  </tbody>\n",
       "</table>\n",
       "</div>"
      ],
      "text/plain": [
       "               f0        f1        f2   product\n",
       "f0       1.000000  0.000000  0.000000  0.201068\n",
       "f1       0.000000  1.000000  0.000000  0.221022\n",
       "f2       0.000000  0.000000  1.000000  0.443287\n",
       "product  0.201068  0.221022  0.443287  1.000000"
      ]
     },
     "metadata": {},
     "output_type": "display_data"
    }
   ],
   "source": [
    "interval_cols = ['f0','f1', 'f2', 'product']\n",
    "plot_corr_matrix(geo_data_0, interval_cols)\n",
    "plot_corr_matrix(geo_data_1, interval_cols)\n",
    "plot_corr_matrix(geo_data_2, interval_cols)"
   ]
  },
  {
   "cell_type": "markdown",
   "metadata": {},
   "source": [
    "**Промежуточный вывод:**\n",
    "\n",
    "В результате анализа корреляции признаков с целевым параметром в разных регионах можно сделать следующие выводы. В **регионе 0** наибольшую корреляцию с целевым признаком \"product\" показывает признак **f2** (коэффициент 0.48), что указывает на умеренное влияние этого признака на объем продукта. Признаки **f0** и **f1** также имеют слабую положительную корреляцию с \"product\" (0.22 и 0.25 соответственно), что свидетельствует о менее значимом влиянии этих признаков на объем продукции.\n",
    "\n",
    "В **регионе 1** корреляция между признаком **f2** и \"product\" очень сильная (0.98), что говорит о почти полной зависимости объема продукта от этого признака. Признак **f0** также имеет умеренную положительную корреляцию с \"product\" (0.63), тогда как корреляция с **f1** намного слабее (0.19).\n",
    "\n",
    "В **регионе 2** признак **f2** снова показывает умеренную корреляцию с \"product\" (0.44), но в целом, связь с целевым признаком слабее, чем в других регионах. Признаки **f0** и **f1** имеют слабую положительную корреляцию с \"product\" (0.20 и 0.22 соответственно), что также указывает на их меньшую роль в предсказаниях объема продукта.\n",
    "\n",
    "Таким образом, в **регионе 1** объем продукта почти полностью зависит от признака **f2**, в то время как в других регионах наиболее сильное влияние на объем продукта оказывает этот же признак, но с более умеренной корреляцией."
   ]
  },
  {
   "cell_type": "markdown",
   "metadata": {},
   "source": [
    "### Подготовка признаков"
   ]
  },
  {
   "cell_type": "markdown",
   "metadata": {},
   "source": [
    "Установим 'id' в качестве индекса для наших выборок, и обязательно проверим не появились ли дубликаты после переноса 'id' в индекс:"
   ]
  },
  {
   "cell_type": "code",
   "execution_count": 13,
   "metadata": {},
   "outputs": [
    {
     "data": {
      "text/plain": [
       "0"
      ]
     },
     "execution_count": 13,
     "metadata": {},
     "output_type": "execute_result"
    }
   ],
   "source": [
    "# Индексируем тестовую выборку с использованием 'id'\n",
    "geo_data_0 = geo_data_0.set_index('id')\n",
    "geo_data_0.duplicated().sum()"
   ]
  },
  {
   "cell_type": "code",
   "execution_count": 14,
   "metadata": {},
   "outputs": [
    {
     "data": {
      "text/plain": [
       "0"
      ]
     },
     "execution_count": 14,
     "metadata": {},
     "output_type": "execute_result"
    }
   ],
   "source": [
    "# Индексируем тестовую выборку с использованием 'id'\n",
    "geo_data_1 = geo_data_1.set_index('id')\n",
    "geo_data_1.duplicated().sum()"
   ]
  },
  {
   "cell_type": "code",
   "execution_count": 15,
   "metadata": {},
   "outputs": [
    {
     "data": {
      "text/plain": [
       "0"
      ]
     },
     "execution_count": 15,
     "metadata": {},
     "output_type": "execute_result"
    }
   ],
   "source": [
    "# Индексируем тестовую выборку с использованием 'id'\n",
    "geo_data_2 = geo_data_2.set_index('id')\n",
    "geo_data_2.duplicated().sum()"
   ]
  },
  {
   "cell_type": "markdown",
   "metadata": {},
   "source": [
    "Отлично! Выборки проиндексированы, повторяющихся элементов после индексации не обнаружено.\n",
    "Выполним выделение признаков (X) и целевого признака (y) для каждого региона. Затем разделим данные на обучающую и валидационную выборки в соотношении 75:25. После разделения выведем размеры выборок для каждого региона, чтобы убедиться в корректности выполнения."
   ]
  },
  {
   "cell_type": "code",
   "execution_count": 16,
   "metadata": {},
   "outputs": [
    {
     "name": "stdout",
     "output_type": "stream",
     "text": [
      "Размерности выборок после разделения:\n",
      "Регион 0: X_train: (75000, 3), X_valid: (25000, 3), y_train: (75000,), y_valid: (25000,)\n",
      "Регион 1: X_train: (75000, 3), X_valid: (25000, 3), y_train: (75000,), y_valid: (25000,)\n",
      "Регион 2: X_train: (75000, 3), X_valid: (25000, 3), y_train: (75000,), y_valid: (25000,)\n"
     ]
    }
   ],
   "source": [
    "# Выделение признаков (X) и целевого признака (y) для каждого региона\n",
    "\n",
    "# Для первого региона\n",
    "X_0 = geo_data_0.drop(columns='product')\n",
    "y_0 = geo_data_0['product']\n",
    "\n",
    "# Для второго региона\n",
    "X_1 = geo_data_1.drop(columns='product')\n",
    "y_1 = geo_data_1['product']\n",
    "\n",
    "# Для третьего региона\n",
    "X_2 = geo_data_2.drop(columns='product')\n",
    "y_2 = geo_data_2['product']\n",
    "\n",
    "# Разделение данных на train и valid для каждого региона\n",
    "X_train_0, X_valid_0, y_train_0, y_valid_0 = train_test_split(X_0, y_0, test_size=test_size, random_state=RANDOM_STATE)\n",
    "X_train_1, X_valid_1, y_train_1, y_valid_1 = train_test_split(X_1, y_1, test_size=test_size, random_state=RANDOM_STATE)\n",
    "X_train_2, X_valid_2, y_train_2, y_valid_2 = train_test_split(X_2, y_2, test_size=test_size, random_state=RANDOM_STATE)\n",
    "\n",
    "# Вывод размерностей выборок\n",
    "print(\"Размерности выборок после разделения:\")\n",
    "print(f\"Регион 0: X_train: {X_train_0.shape}, X_valid: {X_valid_0.shape}, y_train: {y_train_0.shape}, y_valid: {y_valid_0.shape}\")\n",
    "print(f\"Регион 1: X_train: {X_train_1.shape}, X_valid: {X_valid_1.shape}, y_train: {y_train_1.shape}, y_valid: {y_valid_1.shape}\")\n",
    "print(f\"Регион 2: X_train: {X_train_2.shape}, X_valid: {X_valid_2.shape}, y_train: {y_train_2.shape}, y_valid: {y_valid_2.shape}\")\n"
   ]
  },
  {
   "cell_type": "markdown",
   "metadata": {},
   "source": [
    "Размерности совпадают, приступим к обучению модели."
   ]
  },
  {
   "cell_type": "markdown",
   "metadata": {},
   "source": [
    "## Обучение и проверка модели"
   ]
  },
  {
   "cell_type": "markdown",
   "metadata": {},
   "source": [
    "Выполним стандартизацию данных для каждого региона с использованием `StandardScaler`, чтобы привести признаки к единой шкале. После этого обучим модели линейной регрессии для каждого региона на стандартизированных данных. Для оценки качества моделей рассчитаем метрику RMSE (корень из среднеквадратичной ошибки) и выведем средние предсказанные значения объема сырья. Результаты позволят оценить точность предсказаний для каждого региона."
   ]
  },
  {
   "cell_type": "code",
   "execution_count": 17,
   "metadata": {},
   "outputs": [],
   "source": [
    "# Функция для обучения модели, вычисления метрик и подготовки результатов\n",
    "def train_and_evaluate_model(region, X_train, X_valid, y_train, y_valid):\n",
    "    # Создание объектов StandardScaler и LinearRegression\n",
    "    scaler = StandardScaler()\n",
    "    model = LinearRegression()\n",
    "\n",
    "    # Стандартизация данных\n",
    "    X_train_scaled = scaler.fit_transform(X_train)\n",
    "    X_valid_scaled = scaler.transform(X_valid)\n",
    "\n",
    "    # Обучение модели\n",
    "    model.fit(X_train_scaled, y_train)\n",
    "\n",
    "    # Предсказания\n",
    "    predictions = model.predict(X_valid_scaled)\n",
    "\n",
    "    # Метрики\n",
    "    mse = mean_squared_error(y_valid, predictions)\n",
    "    rmse = mse ** 0.5\n",
    "\n",
    "    # Создание результата\n",
    "    results = pd.DataFrame({'y_valid': y_valid, 'predictions': predictions})\n",
    "\n",
    "    # Вывод результатов\n",
    "    print(f\"Результаты модели для региона {region}:\")\n",
    "    print(f\"Средний предсказанный объем продукта: {predictions.mean():.2f}\")\n",
    "    print(f\"Средний фактический объем продукта: {y_valid.mean():.2f}\")\n",
    "    print(f\"RMSE: {rmse:.2f}\")\n",
    "    print()\n",
    "\n",
    "    return model, scaler, results, rmse\n",
    "\n"
   ]
  },
  {
   "cell_type": "code",
   "execution_count": 18,
   "metadata": {},
   "outputs": [
    {
     "name": "stdout",
     "output_type": "stream",
     "text": [
      "Результаты модели для региона 0:\n",
      "Средний предсказанный объем продукта: 92.40\n",
      "Средний фактический объем продукта: 92.33\n",
      "RMSE: 37.76\n",
      "\n",
      "Результаты модели для региона 1:\n",
      "Средний предсказанный объем продукта: 68.71\n",
      "Средний фактический объем продукта: 68.73\n",
      "RMSE: 0.89\n",
      "\n",
      "Результаты модели для региона 2:\n",
      "Средний предсказанный объем продукта: 94.77\n",
      "Средний фактический объем продукта: 95.15\n",
      "RMSE: 40.15\n",
      "\n"
     ]
    }
   ],
   "source": [
    "# Список данных для регионов\n",
    "regions_data = [\n",
    "    (0, X_train_0, X_valid_0, y_train_0, y_valid_0),\n",
    "    (1, X_train_1, X_valid_1, y_train_1, y_valid_1),\n",
    "    (2, X_train_2, X_valid_2, y_train_2, y_valid_2),\n",
    "]\n",
    "\n",
    "# Переменные для хранения результатов\n",
    "models = []\n",
    "scalers = []\n",
    "results_list = []\n",
    "rmses = []\n",
    "\n",
    "# Цикл по регионам\n",
    "for region, X_train, X_valid, y_train, y_valid in regions_data:\n",
    "    model, scaler, results, rmse = train_and_evaluate_model(region, X_train, X_valid, y_train, y_valid)\n",
    "    models.append(model)\n",
    "    scalers.append(scaler)\n",
    "    results_list.append(results)\n",
    "    rmses.append(rmse)\n",
    "\n",
    "# Разворачивание результатов по регионам\n",
    "model_0, model_1, model_2 = models\n",
    "scaler_0, scaler_1, scaler_2 = scalers\n",
    "results_0, results_1, results_2 = results_list\n",
    "rmse_0, rmse_1, rmse_2 = rmses\n"
   ]
  },
  {
   "cell_type": "markdown",
   "metadata": {},
   "source": [
    "**Промежуточный вывод:**\n",
    "\n",
    "\n",
    "Модель для региона 1 демонстрирует наивысшую точность предсказаний, что подтверждается самым низким значением RMSE (0.89). Средний предсказанный объем продукта (68.71 тыс. баррелей) практически совпадает со средним фактическим объемом (68.73 тыс. баррелей).  \n",
    "\n",
    "В регионах 0 и 2 наблюдаются более высокие средние предсказанные объемы продукта (92.40 и 94.77 тыс. баррелей соответственно), однако значения RMSE для этих регионов значительно выше (37.76 и 40.15), что указывает на большие ошибки в предсказаниях.  \n",
    "\n",
    "Таким образом, регион 1 выглядит предпочтительным с точки зрения точности модели, что может стать ключевым фактором для дальнейшего анализа и принятия решений."
   ]
  },
  {
   "cell_type": "markdown",
   "metadata": {},
   "source": [
    "## Подготовка к расчёту прибыли"
   ]
  },
  {
   "cell_type": "markdown",
   "metadata": {},
   "source": [
    "Посчитаем минимально необходимый объём сырья на одну скважину для безубыточной разработки. Для этого используем следующие параметры: общий бюджет на разработку, доход с единицы сырья и количество лучших скважин для разработки. Мы делим общий бюджет на произведение дохода с одного барреля и количества скважин, чтобы определить минимально необходимый объём сырья, который должен быть извлечён из каждой скважины для обеспечения безубыточности проекта.\n",
    "\n",
    "Результат покажет, сколько тысяч баррелей сырья нужно получить с каждой скважины для того, чтобы проект был прибыльным."
   ]
  },
  {
   "cell_type": "code",
   "execution_count": 19,
   "metadata": {},
   "outputs": [
    {
     "name": "stdout",
     "output_type": "stream",
     "text": [
      "Минимальный объём сырья на одну скважину для безубыточной разработки: 111.11 тыс. баррелей\n"
     ]
    }
   ],
   "source": [
    "# Расчёт минимального объёма сырья для безубыточной разработки на одну скважину\n",
    "required_volume_per_well = TOTAL_BUDGET / (REVENUE_PER_UNIT * BEST_OBJECTS_NUM)\n",
    "print(f\"Минимальный объём сырья на одну скважину для безубыточной разработки: {required_volume_per_well:.2f} тыс. баррелей\")"
   ]
  },
  {
   "cell_type": "code",
   "execution_count": 20,
   "metadata": {},
   "outputs": [
    {
     "name": "stdout",
     "output_type": "stream",
     "text": [
      "Минимальный объём сырья на одну скважину для безубыточной разработки: 111.11 тыс. баррелей\n",
      "\n",
      "Средние значения и сравнение с безубыточным объёмом:\n",
      "\n",
      "Регион 0:\n",
      "Среднее фактическое значение: 92.33 тыс. баррелей\n",
      "Среднее предсказанное значение: 92.40 тыс. баррелей\n",
      "Недостаточно сырья для безубыточной разработки\n",
      "\n",
      "Регион 1:\n",
      "Среднее фактическое значение: 68.73 тыс. баррелей\n",
      "Среднее предсказанное значение: 68.71 тыс. баррелей\n",
      "Недостаточно сырья для безубыточной разработки\n",
      "\n",
      "Регион 2:\n",
      "Среднее фактическое значение: 95.15 тыс. баррелей\n",
      "Среднее предсказанное значение: 94.77 тыс. баррелей\n",
      "Недостаточно сырья для безубыточной разработки\n",
      "\n"
     ]
    }
   ],
   "source": [
    "# Средние значения целевой переменной и предсказаний для каждого региона\n",
    "avg_target_0 = results_0['y_valid'].mean()\n",
    "avg_target_1 = results_1['y_valid'].mean()\n",
    "avg_target_2 = results_2['y_valid'].mean()\n",
    "\n",
    "avg_predictions_0 = results_0['predictions'].mean()\n",
    "avg_predictions_1 = results_1['predictions'].mean()\n",
    "avg_predictions_2 = results_2['predictions'].mean()\n",
    "\n",
    "# Минимально необходимый объём сырья для безубыточной разработки\n",
    "print(f\"Минимальный объём сырья на одну скважину для безубыточной разработки: {required_volume_per_well:.2f} тыс. баррелей\\n\")\n",
    "\n",
    "# Печатаем средние значения и делаем сравнение\n",
    "print(\"Средние значения и сравнение с безубыточным объёмом:\\n\")\n",
    "\n",
    "print(f\"Регион 0:\")\n",
    "print(f\"Среднее фактическое значение: {avg_target_0:.2f} тыс. баррелей\")\n",
    "print(f\"Среднее предсказанное значение: {avg_predictions_0:.2f} тыс. баррелей\")\n",
    "print(f\"{'Достаточно' if avg_target_0 >= required_volume_per_well else 'Недостаточно'} сырья для безубыточной разработки\\n\")\n",
    "\n",
    "print(f\"Регион 1:\")\n",
    "print(f\"Среднее фактическое значение: {avg_target_1:.2f} тыс. баррелей\")\n",
    "print(f\"Среднее предсказанное значение: {avg_predictions_1:.2f} тыс. баррелей\")\n",
    "print(f\"{'Достаточно' if avg_target_1 >= required_volume_per_well else 'Недостаточно'} сырья для безубыточной разработки\\n\")\n",
    "\n",
    "print(f\"Регион 2:\")\n",
    "print(f\"Среднее фактическое значение: {avg_target_2:.2f} тыс. баррелей\")\n",
    "print(f\"Среднее предсказанное значение: {avg_predictions_2:.2f} тыс. баррелей\")\n",
    "print(f\"{'Достаточно' if avg_target_2 >= required_volume_per_well else 'Недостаточно'} сырья для безубыточной разработки\\n\")\n"
   ]
  },
  {
   "cell_type": "markdown",
   "metadata": {},
   "source": [
    "**Промежуточный вывод:**\n",
    "\n",
    "Минимально необходимый объём сырья для безубыточной разработки составляет 111.11 тыс. баррелей на одну скважину. При сравнении с фактическими и предсказанными средними значениями объёма сырья для каждого региона можно сделать следующие выводы:\n",
    "\n",
    "1. **Регион 0:**  \n",
    "   Среднее фактическое значение объёма сырья составляет 92.33 тыс. баррелей, а среднее предсказанное — 92.40 тыс. баррелей. Эти значения ниже минимального порога безубыточности, что означает, что для достижения безубыточности в регионе потребуется тщательный выбор лучших скважин с наибольшим объёмом сырья.\n",
    "\n",
    "2. **Регион 1:**  \n",
    "   Среднее фактическое значение объёма сырья — 68.73 тыс. баррелей, среднее предсказанное — 68.71 тыс. баррелей. Обе оценки также ниже требуемого уровня, что подчёркивает важность отборочных критериев для выбора наиболее перспективных скважин.\n",
    "\n",
    "3. **Регион 2:**  \n",
    "   Среднее фактическое значение составляет 95.15 тыс. баррелей, а среднее предсказанное — 94.77 тыс. баррелей. Несмотря на то что эти показатели ближе к минимальному требованию, их всё равно недостаточно для безубыточности. Необходим тщательный отбор скважин с большими запасами для успешной разработки.\n",
    "\n",
    "**Общий вывод:**  \n",
    "Для успешной разработки в каждом из регионов необходимо провести более тщательный отбор скважин с большими объёмами сырья. Это позволит значительно повысить вероятность безубыточности и обеспечить более эффективное использование имеющихся ресурсов."
   ]
  },
  {
   "cell_type": "markdown",
   "metadata": {},
   "source": [
    "## Расчёт прибыли и рисков "
   ]
  },
  {
   "cell_type": "markdown",
   "metadata": {},
   "source": [
    "Посчитаем прибыль для выбранных скважин с использованием техники бутстрэп. Мы выберем 500 скважин (CHOOSEN_WELLS) для случайных выборок и определим прибыль, основываясь на 200 лучших предсказанных значениях объёма сырья (BEST_OBJECTS_NUM). Для этого отсортируем данные по предсказанным объёмам сырья и просуммируем значения, соответствующие этим скважинам. Полученную сумму умножим на доход с одного барреля (REVENUE_PER_UNIT) и вычтем общий бюджет на разработку (TOTAL_BUDGET), чтобы рассчитать прибыль."
   ]
  },
  {
   "cell_type": "code",
   "execution_count": 21,
   "metadata": {},
   "outputs": [],
   "source": [
    "# Функция для расчёта прибыли\n",
    "def profit_calc(result):\n",
    "    # Сортировка по предсказанным значениям (по убыванию)\n",
    "    result_200 = result.sort_values(by='predictions', ascending=False).head(BEST_OBJECTS_NUM)\n",
    "    \n",
    "    # Расчёт прибыли\n",
    "    profit = (result_200['y_valid'].sum() * REVENUE_PER_UNIT) - TOTAL_BUDGET\n",
    "    return profit"
   ]
  },
  {
   "cell_type": "markdown",
   "metadata": {},
   "source": [
    "Для оценки доходности и рисков применим метод бутстрэп с 1000 итераций. В каждой итерации будем случайным образом выбирать 500 скважин (CHOOSEN_WELLS) с возвращением из исходных данных и рассчитывать прибыль для этих скважин. Затем вычислим средний доход, а также 95% доверительный интервал для прибыли. Рассчитаем вероятность убытка как долю случаев с отрицательной прибылью. Результаты помогут оценить ожидаемую прибыль и риски для каждого региона."
   ]
  },
  {
   "cell_type": "code",
   "execution_count": 22,
   "metadata": {},
   "outputs": [
    {
     "name": "stdout",
     "output_type": "stream",
     "text": [
      "Регион 0\n",
      "95% доверительный интервал доходности находится в пределах от -110.47 до 897.46 млн рублей\n",
      "Средний доход     : 399.58 млн рублей\n",
      "Вероятность убытка: 6.0%\n",
      "\n",
      "Регион 1\n",
      "95% доверительный интервал доходности находится в пределах от 61.68 до 845.34 млн рублей\n",
      "Средний доход     : 452.05 млн рублей\n",
      "Вероятность убытка: 1.5%\n",
      "\n",
      "Регион 2\n",
      "95% доверительный интервал доходности находится в пределах от -144.77 до 888.39 млн рублей\n",
      "Средний доход     : 375.01 млн рублей\n",
      "Вероятность убытка: 8.0%\n"
     ]
    }
   ],
   "source": [
    "# Функция для расчёта доходов и убытков\n",
    "def profit_and_loss(result):\n",
    "    # Создание датафрейма с целевыми значениями и предсказаниями\n",
    "\n",
    "    # Значение для random_state\n",
    "    state = np.random.RandomState(42)\n",
    "    \n",
    "    # Массив доходности после применения техники бутстрэп\n",
    "    profit_bootstrap = []\n",
    "    \n",
    "    # Применение бутстрэп (1000 итераций)\n",
    "    for i in range(1000):\n",
    "        # Случайная выборка с возвращением\n",
    "        result_sample = result.sample(n=CHOOSEN_WELLS, replace=True, random_state=state)\n",
    "        \n",
    "        # Расчет прибыли для выборки\n",
    "        profit_bootstrap.append(profit_calc(result_sample))\n",
    "    \n",
    "    # Преобразуем список в pandas Series для удобства вычислений\n",
    "    profit_bootstrap = pd.Series(profit_bootstrap)\n",
    "    \n",
    "    # Средний доход (в миллионах рублей)\n",
    "    mean_profit = profit_bootstrap.mean() / 1_000_000  # Переводим в миллионы\n",
    "    mean_profit = round(mean_profit, 2)  # Округление до 2 знаков после запятой\n",
    "    \n",
    "    # Нижний и верхний квантиль (95% доверительный интервал)\n",
    "    lower_profit = profit_bootstrap.quantile(0.025) / 1_000_000  # Переводим в миллионы\n",
    "    upper_profit = profit_bootstrap.quantile(0.975) / 1_000_000  # Переводим в миллионы\n",
    "    \n",
    "    # Вероятность убытка\n",
    "    probability_of_loss = (profit_bootstrap < 0).mean()\n",
    "    \n",
    "    print(f'95% доверительный интервал доходности находится в пределах от {round(lower_profit, 2)} до {round(upper_profit, 2)} млн рублей')\n",
    "    print(f'Средний доход     : {mean_profit} млн рублей')\n",
    "    print(f'Вероятность убытка: {probability_of_loss * 100}%')\n",
    "    \n",
    "    return mean_profit, probability_of_loss\n",
    "\n",
    "# Массив для хранения средней доходности и вероятности убытков\n",
    "mean_profits = []\n",
    "probabilities_of_losses = []\n",
    "\n",
    "# Расчет прибыли и рисков для каждого региона\n",
    "\n",
    "# Регион 0\n",
    "print('Регион 0')\n",
    "mean_profit, probability_of_loss = profit_and_loss(results_0)\n",
    "mean_profits.append(mean_profit)\n",
    "probabilities_of_losses.append(probability_of_loss)\n",
    "print('')\n",
    "\n",
    "# Регион 1\n",
    "print('Регион 1')\n",
    "mean_profit, probability_of_loss = profit_and_loss(results_1)\n",
    "mean_profits.append(mean_profit)\n",
    "probabilities_of_losses.append(probability_of_loss)\n",
    "print('')\n",
    "\n",
    "# Регион 2\n",
    "print('Регион 2')\n",
    "mean_profit, probability_of_loss = profit_and_loss(results_2)\n",
    "mean_profits.append(mean_profit)\n",
    "probabilities_of_losses.append(probability_of_loss)"
   ]
  },
  {
   "cell_type": "markdown",
   "metadata": {},
   "source": [
    "Для выбора региона для инвестиций мы сначала фильтруем регионы с допустимой вероятностью убытков (менее 2,5%). Затем среди оставшихся регионов выбираем тот, который имеет наибольшую ожидаемую прибыль. После этого выводим информацию о выбранном регионе, включая его доходность и вероятность убытка, чтобы помочь принять обоснованное решение о вложениях."
   ]
  },
  {
   "cell_type": "code",
   "execution_count": 23,
   "metadata": {},
   "outputs": [
    {
     "name": "stdout",
     "output_type": "stream",
     "text": [
      "Для инвестирования предлагается выбрать первый регион. В этом регионе ожидаемая доходность 452.05 млн рублей, а вероятность убытка 1.5%. Среди регионов с вероятностью убытка, находящегося в пределах допустимого значения 2.5%, в данном регионе самая высокая ожидаемая прибыль.\n"
     ]
    }
   ],
   "source": [
    "# Выводы расчета прибыли и рисков\n",
    "mppl_df = pd.DataFrame({\n",
    "    'profit': mean_profits, \n",
    "    'probability_of_loss': probabilities_of_losses\n",
    "})\n",
    "\n",
    "# Отбираем только регионы с допустимой вероятностью убытков\n",
    "mppl_df = mppl_df.loc[mppl_df['probability_of_loss'] < MAX_PROBABILITY_OF_LOSS]\n",
    "\n",
    "# Выбираем регион с наибольшей прибылью среди оставшихся\n",
    "mppl_df = mppl_df.loc[mppl_df['profit'] == mppl_df['profit'].max()]\n",
    "\n",
    "# Нумерация для вывода\n",
    "num = {0: 'нулевой', 1: 'первый', 2: 'второй'}\n",
    "\n",
    "# Печатаем результат\n",
    "print(f\"Для инвестирования предлагается выбрать {num[mppl_df.index[0]]} регион. \"\n",
    "      f\"В этом регионе ожидаемая доходность {mppl_df.loc[mppl_df.index[0], 'profit']} млн рублей, \"\n",
    "      f\"а вероятность убытка {mppl_df.loc[mppl_df.index[0], 'probability_of_loss'] * 100}%. \"\n",
    "      f\"Среди регионов с вероятностью убытка, находящегося \"\n",
    "      f\"в пределах допустимого значения {MAX_PROBABILITY_OF_LOSS * 100}%, \"\n",
    "      f\"в данном регионе самая высокая ожидаемая прибыль.\")\n"
   ]
  },
  {
   "cell_type": "markdown",
   "metadata": {},
   "source": [
    "**Итоговый вывод:**\n",
    "\n",
    "Цели проекта достигнуты, и был выбран оптимальный регион для инвестирования. Этот выбор основан на глубоком анализе рисков и прибыли, с учётом полученных результатов. В процессе выполнения проекта были решены следующие задачи:\n",
    "\n",
    "1. **Загрузка и подготовка данных**. Для начала были собраны и загружены данные по каждому региону. Затем данные были обработаны: были проверены дубликаты, установлены индексы, выделены необходимые признаки для дальнейшего анализа и разделения на обучающую и валидационную выборки.\n",
    "\n",
    "2. **Обучение и проверка моделей**. Для каждого региона была построена модель линейной регрессии, которая позволила прогнозировать объемы добычи. Для каждой модели была рассчитана метрика RMSE, которая показала точность предсказаний. Модели были обучены и проверены на стандартизированных данных, что позволило получить более точные прогнозы.\n",
    "Модель для региона 1 демонстрирует наивысшую точность предсказаний, что подтверждается самым низким значением RMSE (0.89). Средний предсказанный объем продукта (68.71 тыс. баррелей) практически совпадает со средним фактическим объемом (68.73 тыс. баррелей). В регионах 0 и 2 наблюдаются более высокие средние предсказанные объемы продукта (92.40 и 94.77 тыс. баррелей соответственно), однако значения RMSE для этих регионов значительно выше (37.76 и 40.15), что указывает на большие ошибки в предсказаниях.\n",
    "Таким образом, регион 1 выглядит предпочтительным с точки зрения точности модели, что может стать ключевым фактором для дальнейшего анализа и принятия решений.\n",
    "\n",
    "3. **Подготовка к расчёту прибыли**. Была определена точка безубыточности для каждой скважины. На основе полученных предсказаний была создана функция для расчета прибыли в лучших месторождениях. \n",
    "Минимально необходимый объём сырья для безубыточной разработки составляет 111.11 тыс. баррелей на одну скважину. При сравнении фактических и предсказанных средних значений объёма сырья для каждого региона было установлено, что:\n",
    "•\tВ регионе 0 средние фактические и предсказанные значения объёма сырья (92.33 тыс. и 92.40 тыс. баррелей) ниже минимального порога. Это указывает на необходимость тщательного выбора лучших скважин с большими объёмами для обеспечения безубыточности.\n",
    "•\tВ регионе 1 средние фактические и предсказанные значения (68.73 тыс. и 68.71 тыс. баррелей) также ниже минимального объёма. Необходимо также сосредоточиться на отборе скважин с большим объёмом.\n",
    "•\tВ регионе 2 средние значения объёма сырья (95.15 тыс. и 94.77 тыс. баррелей) приближаются к требуемому минимуму, но для обеспечения безубыточности тоже следует выбрать наиболее перспективные скважины с более высокими запасами.\n",
    "\n",
    "4. **Расчёт рисков и прибыли для каждого региона**. Используя технику бутстрэп, были смоделированы доходность и вероятность убытка. Для каждого региона были вычислены средняя прибыль, вероятности убытков и доверительные интервалы. Это позволило объективно оценить наилучший вариант для инвестирования.\n",
    "\n",
    "Для всех регионов требуется тщательно отбирать скважины с наиболее высокими запасами, чтобы обеспечить безубыточность разработки. Это подчеркивает важность анализа и выбора лучших объектов для инвестирования.\n",
    "В результате исследования для инвестирования рекомендуется выбрать первый регион, так как он демонстрирует наибольшую ожидаемую прибыль среди всех регионов, которые соответствуют установленному порогу риска убытков. Ожидаемая доходность в этом регионе составляет 452,05 млн рублей, что является наивысшим результатом среди всех анализируемых регионов. При этом вероятность убытка в регионе составляет всего 1,5%, что значительно ниже максимально допустимой вероятности убытка в 2,5%. Это означает, что первый регион не только имеет наибольшую прибыль, но и низкий риск финансовых потерь, что делает его наиболее привлекательным для инвестиций.\n",
    "\n",
    "Рекомендации:\n",
    "1. **Сосредоточить инвестиции на первом регионе**. На основании анализа, первый регион демонстрирует наибольшую ожидаемую прибыль и низкий риск убытков. Это делает его наиболее выгодным для разработки скважин.\n",
    "\n",
    "2. **Провести дополнительную оценку рисков в других регионах**. Хотя первый регион является наилучшим вариантом, стоит также провести более глубокий анализ других регионов, чтобы выявить возможные скрытые возможности или улучшить точность прогнозов.\n",
    "\n",
    "3. **Мониторинг и улучшение качества прогнозов**. Постоянно обновлять модели на основе новых данных и улучшать точность предсказаний, чтобы своевременно реагировать на изменения в экономических и природных условиях.\n",
    "\n",
    "4. **Диверсификация портфеля**. Рассмотреть возможность распределения инвестиций между несколькими регионами, чтобы снизить риски и обеспечить стабильную прибыль в случае изменений в конкретном регионе.\n",
    "\n",
    "5. **Риски, связанные с внешними факторами**. Необходимо учитывать возможные изменения в законодательстве, ценах на нефть, экологические факторы и другие внешние риски, которые могут повлиять на рентабельность проектов.\n",
    "\n",
    "6. **Использование инновационных технологий**. Внедрение современных технологий для повышения эффективности разработки скважин, таких как автоматизация процессов, улучшение методов добычи и мониторинга, может дополнительно повысить прибыльность и уменьшить риски."
   ]
  },
  {
   "cell_type": "markdown",
   "metadata": {},
   "source": [
    "## Чек-лист готовности проекта"
   ]
  },
  {
   "cell_type": "markdown",
   "metadata": {},
   "source": [
    "Поставьте 'x' в выполненных пунктах. Далее нажмите Shift+Enter."
   ]
  },
  {
   "cell_type": "markdown",
   "metadata": {},
   "source": [
    "- [x]  Jupyter Notebook открыт\n",
    "- [x]  Весь код выполняется без ошибок\n",
    "- [x]  Ячейки с кодом расположены в порядке исполнения\n",
    "- [x]  Выполнен шаг 1: данные подготовлены\n",
    "- [x]  Выполнен шаг 2: модели обучены и проверены\n",
    "    - [x]  Данные корректно разбиты на обучающую и валидационную выборки\n",
    "    - [x]  Модели обучены, предсказания сделаны\n",
    "    - [x]  Предсказания и правильные ответы на валидационной выборке сохранены\n",
    "    - [x]  На экране напечатаны результаты\n",
    "    - [x]  Сделаны выводы\n",
    "- [x]  Выполнен шаг 3: проведена подготовка к расчёту прибыли\n",
    "    - [x]  Для всех ключевых значений созданы константы Python\n",
    "    - [x]  Посчитано минимальное среднее количество продукта в месторождениях региона, достаточное для разработки\n",
    "    - [x]  По предыдущему пункту сделаны выводы\n",
    "    - [x]  Написана функция расчёта прибыли\n",
    "- [x]  Выполнен шаг 4: посчитаны риски и прибыль\n",
    "    - [x]  Проведена процедура *Bootstrap*\n",
    "    - [x]  Все параметры бутстрепа соответствуют условию\n",
    "    - [x]  Найдены все нужные величины\n",
    "    - [x]  Предложен регион для разработки месторождения\n",
    "    - [x]  Выбор региона обоснован"
   ]
  },
  {
   "cell_type": "code",
   "execution_count": null,
   "metadata": {},
   "outputs": [],
   "source": []
  }
 ],
 "metadata": {
  "ExecuteTimeLog": [
   {
    "duration": 21730,
    "start_time": "2024-12-13T13:35:31.346Z"
   },
   {
    "duration": 796,
    "start_time": "2024-12-13T13:44:22.144Z"
   },
   {
    "duration": 5,
    "start_time": "2024-12-13T13:44:24.378Z"
   },
   {
    "duration": 195,
    "start_time": "2024-12-13T13:44:26.026Z"
   },
   {
    "duration": 126,
    "start_time": "2024-12-13T13:44:58.867Z"
   },
   {
    "duration": 165,
    "start_time": "2024-12-13T13:45:02.692Z"
   },
   {
    "duration": 10,
    "start_time": "2024-12-17T11:39:16.885Z"
   },
   {
    "duration": 34188,
    "start_time": "2024-12-17T11:40:01.784Z"
   },
   {
    "duration": 1554,
    "start_time": "2024-12-17T11:40:35.974Z"
   },
   {
    "duration": 4,
    "start_time": "2024-12-17T11:40:37.529Z"
   },
   {
    "duration": 103,
    "start_time": "2024-12-17T11:40:37.534Z"
   },
   {
    "duration": 114,
    "start_time": "2024-12-17T11:40:37.639Z"
   },
   {
    "duration": 105,
    "start_time": "2024-12-17T11:40:37.754Z"
   },
   {
    "duration": 5,
    "start_time": "2024-12-17T11:40:37.861Z"
   },
   {
    "duration": 3715,
    "start_time": "2024-12-17T11:40:37.868Z"
   },
   {
    "duration": 3103,
    "start_time": "2024-12-17T11:47:00.013Z"
   },
   {
    "duration": 3932,
    "start_time": "2024-12-17T11:47:58.990Z"
   },
   {
    "duration": 7,
    "start_time": "2024-12-17T11:49:36.042Z"
   },
   {
    "duration": 3584,
    "start_time": "2024-12-17T11:49:36.782Z"
   },
   {
    "duration": 3155,
    "start_time": "2024-12-17T11:49:40.368Z"
   },
   {
    "duration": 4043,
    "start_time": "2024-12-17T11:49:43.524Z"
   },
   {
    "duration": 7,
    "start_time": "2024-12-17T11:49:53.772Z"
   },
   {
    "duration": 3700,
    "start_time": "2024-12-17T11:49:53.971Z"
   },
   {
    "duration": 3644,
    "start_time": "2024-12-17T11:49:57.673Z"
   },
   {
    "duration": 4170,
    "start_time": "2024-12-17T11:50:01.318Z"
   },
   {
    "duration": 5,
    "start_time": "2024-12-17T11:53:39.679Z"
   },
   {
    "duration": 1539,
    "start_time": "2024-12-17T11:54:48.623Z"
   },
   {
    "duration": 33,
    "start_time": "2024-12-17T11:58:02.016Z"
   },
   {
    "duration": 144,
    "start_time": "2024-12-17T11:58:37.330Z"
   },
   {
    "duration": 12,
    "start_time": "2024-12-17T11:58:51.837Z"
   },
   {
    "duration": 28,
    "start_time": "2024-12-17T11:58:57.841Z"
   },
   {
    "duration": 33,
    "start_time": "2024-12-17T11:59:16.001Z"
   },
   {
    "duration": 10,
    "start_time": "2024-12-17T12:01:09.100Z"
   },
   {
    "duration": 12868,
    "start_time": "2024-12-17T12:01:59.117Z"
   },
   {
    "duration": 351,
    "start_time": "2024-12-17T12:02:11.987Z"
   },
   {
    "duration": 5,
    "start_time": "2024-12-17T12:02:12.339Z"
   },
   {
    "duration": 122,
    "start_time": "2024-12-17T12:02:12.346Z"
   },
   {
    "duration": 100,
    "start_time": "2024-12-17T12:02:12.470Z"
   },
   {
    "duration": 105,
    "start_time": "2024-12-17T12:02:12.572Z"
   },
   {
    "duration": 6,
    "start_time": "2024-12-17T12:02:12.678Z"
   },
   {
    "duration": 3757,
    "start_time": "2024-12-17T12:02:12.685Z"
   },
   {
    "duration": 3637,
    "start_time": "2024-12-17T12:02:16.444Z"
   },
   {
    "duration": 4006,
    "start_time": "2024-12-17T12:02:20.082Z"
   },
   {
    "duration": 5,
    "start_time": "2024-12-17T12:02:24.089Z"
   },
   {
    "duration": 1561,
    "start_time": "2024-12-17T12:02:24.096Z"
   },
   {
    "duration": 35,
    "start_time": "2024-12-17T12:02:25.659Z"
   },
   {
    "duration": 25,
    "start_time": "2024-12-17T12:02:25.697Z"
   },
   {
    "duration": 54,
    "start_time": "2024-12-17T12:02:25.723Z"
   },
   {
    "duration": 11442,
    "start_time": "2024-12-17T12:02:25.779Z"
   },
   {
    "duration": 35,
    "start_time": "2024-12-17T12:11:45.282Z"
   },
   {
    "duration": 97,
    "start_time": "2024-12-17T12:19:24.051Z"
   },
   {
    "duration": 309,
    "start_time": "2024-12-17T12:21:15.544Z"
   },
   {
    "duration": 127,
    "start_time": "2024-12-17T12:54:45.535Z"
   },
   {
    "duration": 63312,
    "start_time": "2024-12-17T12:55:03.547Z"
   },
   {
    "duration": 64323,
    "start_time": "2024-12-17T12:57:15.680Z"
   },
   {
    "duration": 63553,
    "start_time": "2024-12-17T13:00:20.593Z"
   },
   {
    "duration": 63897,
    "start_time": "2024-12-17T13:03:33.885Z"
   },
   {
    "duration": 164,
    "start_time": "2024-12-17T13:04:45.290Z"
   },
   {
    "duration": 19,
    "start_time": "2024-12-17T13:04:45.711Z"
   },
   {
    "duration": 63671,
    "start_time": "2024-12-17T13:07:08.550Z"
   },
   {
    "duration": 20,
    "start_time": "2024-12-17T13:11:21.813Z"
   },
   {
    "duration": 213,
    "start_time": "2024-12-17T13:12:51.041Z"
   },
   {
    "duration": 55038,
    "start_time": "2024-12-17T13:15:57.586Z"
   },
   {
    "duration": 54842,
    "start_time": "2024-12-17T13:19:38.331Z"
   },
   {
    "duration": 9,
    "start_time": "2024-12-17T13:36:12.781Z"
   },
   {
    "duration": 19,
    "start_time": "2024-12-17T13:36:56.728Z"
   },
   {
    "duration": 54210,
    "start_time": "2024-12-17T13:38:24.807Z"
   },
   {
    "duration": 55315,
    "start_time": "2024-12-17T13:42:17.806Z"
   },
   {
    "duration": 53564,
    "start_time": "2024-12-17T13:43:51.382Z"
   },
   {
    "duration": 149,
    "start_time": "2024-12-17T13:49:39.220Z"
   },
   {
    "duration": 4,
    "start_time": "2024-12-17T14:04:57.222Z"
   },
   {
    "duration": 11,
    "start_time": "2024-12-17T14:05:16.206Z"
   },
   {
    "duration": 6631,
    "start_time": "2024-12-17T14:07:31.298Z"
   },
   {
    "duration": 5,
    "start_time": "2024-12-17T14:55:45.854Z"
   },
   {
    "duration": 10,
    "start_time": "2024-12-17T14:57:14.176Z"
   },
   {
    "duration": 10,
    "start_time": "2024-12-17T14:57:38.162Z"
   },
   {
    "duration": 13157,
    "start_time": "2024-12-17T15:00:03.035Z"
   },
   {
    "duration": 342,
    "start_time": "2024-12-17T15:00:16.195Z"
   },
   {
    "duration": 4,
    "start_time": "2024-12-17T15:00:16.538Z"
   },
   {
    "duration": 125,
    "start_time": "2024-12-17T15:00:16.543Z"
   },
   {
    "duration": 107,
    "start_time": "2024-12-17T15:00:16.670Z"
   },
   {
    "duration": 112,
    "start_time": "2024-12-17T15:00:16.779Z"
   },
   {
    "duration": 6,
    "start_time": "2024-12-17T15:00:16.892Z"
   },
   {
    "duration": 3660,
    "start_time": "2024-12-17T15:00:16.899Z"
   },
   {
    "duration": 3811,
    "start_time": "2024-12-17T15:00:20.560Z"
   },
   {
    "duration": 4098,
    "start_time": "2024-12-17T15:00:24.373Z"
   },
   {
    "duration": 4,
    "start_time": "2024-12-17T15:00:28.472Z"
   },
   {
    "duration": 1578,
    "start_time": "2024-12-17T15:00:28.478Z"
   },
   {
    "duration": 34,
    "start_time": "2024-12-17T15:00:30.057Z"
   },
   {
    "duration": 50,
    "start_time": "2024-12-17T15:00:30.093Z"
   },
   {
    "duration": 66,
    "start_time": "2024-12-17T15:00:30.145Z"
   },
   {
    "duration": 115,
    "start_time": "2024-12-17T15:00:30.212Z"
   },
   {
    "duration": 232,
    "start_time": "2024-12-17T15:00:30.329Z"
   },
   {
    "duration": 104,
    "start_time": "2024-12-17T15:00:30.653Z"
   },
   {
    "duration": 88,
    "start_time": "2024-12-17T15:00:30.758Z"
   },
   {
    "duration": 50731,
    "start_time": "2024-12-17T15:00:30.847Z"
   },
   {
    "duration": 5,
    "start_time": "2024-12-17T15:01:21.580Z"
   },
   {
    "duration": 153,
    "start_time": "2024-12-17T15:01:21.586Z"
   },
   {
    "duration": 0,
    "start_time": "2024-12-17T15:01:21.742Z"
   },
   {
    "duration": 0,
    "start_time": "2024-12-17T15:01:21.743Z"
   },
   {
    "duration": 0,
    "start_time": "2024-12-17T15:01:21.752Z"
   },
   {
    "duration": 11,
    "start_time": "2024-12-17T15:02:15.192Z"
   },
   {
    "duration": 12834,
    "start_time": "2024-12-17T15:02:57.561Z"
   },
   {
    "duration": 347,
    "start_time": "2024-12-17T15:03:10.397Z"
   },
   {
    "duration": 4,
    "start_time": "2024-12-17T15:03:10.745Z"
   },
   {
    "duration": 115,
    "start_time": "2024-12-17T15:03:10.751Z"
   },
   {
    "duration": 100,
    "start_time": "2024-12-17T15:03:10.868Z"
   },
   {
    "duration": 115,
    "start_time": "2024-12-17T15:03:10.970Z"
   },
   {
    "duration": 6,
    "start_time": "2024-12-17T15:03:11.087Z"
   },
   {
    "duration": 3768,
    "start_time": "2024-12-17T15:03:11.094Z"
   },
   {
    "duration": 3635,
    "start_time": "2024-12-17T15:03:14.864Z"
   },
   {
    "duration": 3968,
    "start_time": "2024-12-17T15:03:18.501Z"
   },
   {
    "duration": 5,
    "start_time": "2024-12-17T15:03:22.470Z"
   },
   {
    "duration": 1601,
    "start_time": "2024-12-17T15:03:22.476Z"
   },
   {
    "duration": 35,
    "start_time": "2024-12-17T15:03:24.078Z"
   },
   {
    "duration": 46,
    "start_time": "2024-12-17T15:03:24.116Z"
   },
   {
    "duration": 33,
    "start_time": "2024-12-17T15:03:24.164Z"
   },
   {
    "duration": 103,
    "start_time": "2024-12-17T15:03:24.199Z"
   },
   {
    "duration": 454,
    "start_time": "2024-12-17T15:03:24.304Z"
   },
   {
    "duration": 94,
    "start_time": "2024-12-17T15:03:24.762Z"
   },
   {
    "duration": 33,
    "start_time": "2024-12-17T15:03:24.858Z"
   },
   {
    "duration": 4,
    "start_time": "2024-12-17T15:03:24.892Z"
   },
   {
    "duration": 165,
    "start_time": "2024-12-17T15:03:24.898Z"
   },
   {
    "duration": 0,
    "start_time": "2024-12-17T15:03:25.065Z"
   },
   {
    "duration": 0,
    "start_time": "2024-12-17T15:03:25.066Z"
   },
   {
    "duration": 0,
    "start_time": "2024-12-17T15:03:25.067Z"
   },
   {
    "duration": 5,
    "start_time": "2024-12-17T15:08:15.942Z"
   },
   {
    "duration": 18,
    "start_time": "2024-12-17T15:08:17.248Z"
   },
   {
    "duration": 5,
    "start_time": "2024-12-17T15:08:35.392Z"
   },
   {
    "duration": 17,
    "start_time": "2024-12-17T15:08:36.720Z"
   },
   {
    "duration": 1621,
    "start_time": "2024-12-17T15:09:04.280Z"
   },
   {
    "duration": 1893,
    "start_time": "2024-12-17T15:12:45.822Z"
   },
   {
    "duration": 1880,
    "start_time": "2024-12-17T15:13:58.988Z"
   },
   {
    "duration": 1826,
    "start_time": "2024-12-17T15:15:15.794Z"
   },
   {
    "duration": 1824,
    "start_time": "2024-12-17T15:24:35.825Z"
   },
   {
    "duration": 1807,
    "start_time": "2024-12-17T15:24:55.440Z"
   },
   {
    "duration": 1798,
    "start_time": "2024-12-17T15:26:23.945Z"
   },
   {
    "duration": 1778,
    "start_time": "2024-12-17T15:29:35.530Z"
   },
   {
    "duration": 19,
    "start_time": "2024-12-17T15:40:07.696Z"
   },
   {
    "duration": 28,
    "start_time": "2024-12-17T15:41:17.422Z"
   },
   {
    "duration": 4973,
    "start_time": "2024-12-17T15:47:36.983Z"
   },
   {
    "duration": 2955,
    "start_time": "2024-12-17T15:47:55.027Z"
   },
   {
    "duration": 1746,
    "start_time": "2024-12-17T15:48:45.433Z"
   },
   {
    "duration": 2975,
    "start_time": "2024-12-17T15:49:23.231Z"
   },
   {
    "duration": 23,
    "start_time": "2024-12-17T15:53:18.009Z"
   },
   {
    "duration": 3171,
    "start_time": "2024-12-17T15:53:54.367Z"
   },
   {
    "duration": 6,
    "start_time": "2024-12-17T15:54:43.065Z"
   },
   {
    "duration": 6,
    "start_time": "2024-12-17T15:55:14.269Z"
   },
   {
    "duration": 17,
    "start_time": "2024-12-17T16:00:35.814Z"
   },
   {
    "duration": 16,
    "start_time": "2024-12-17T16:01:08.081Z"
   },
   {
    "duration": 16,
    "start_time": "2024-12-17T16:01:24.671Z"
   },
   {
    "duration": 24,
    "start_time": "2024-12-17T16:07:52.477Z"
   },
   {
    "duration": 589,
    "start_time": "2024-12-17T16:08:51.015Z"
   },
   {
    "duration": 11,
    "start_time": "2024-12-17T16:10:55.509Z"
   },
   {
    "duration": 11,
    "start_time": "2024-12-17T16:11:10.912Z"
   },
   {
    "duration": 13,
    "start_time": "2024-12-17T16:11:25.801Z"
   },
   {
    "duration": 11,
    "start_time": "2024-12-17T16:11:36.656Z"
   },
   {
    "duration": 11,
    "start_time": "2024-12-17T16:11:48.742Z"
   },
   {
    "duration": 1760,
    "start_time": "2024-12-17T16:12:41.097Z"
   },
   {
    "duration": 7,
    "start_time": "2024-12-17T16:12:55.657Z"
   },
   {
    "duration": 9,
    "start_time": "2024-12-17T20:05:23.406Z"
   },
   {
    "duration": 62,
    "start_time": "2024-12-17T20:10:38.317Z"
   },
   {
    "duration": 19,
    "start_time": "2024-12-17T20:11:34.120Z"
   },
   {
    "duration": 20,
    "start_time": "2024-12-17T20:12:30.942Z"
   },
   {
    "duration": 19,
    "start_time": "2024-12-17T20:18:17.562Z"
   },
   {
    "duration": 40,
    "start_time": "2024-12-17T21:05:02.522Z"
   },
   {
    "duration": 74,
    "start_time": "2024-12-17T21:22:58.262Z"
   },
   {
    "duration": 50,
    "start_time": "2024-12-17T21:30:03.637Z"
   },
   {
    "duration": 0,
    "start_time": "2024-12-17T21:30:03.689Z"
   },
   {
    "duration": 0,
    "start_time": "2024-12-17T21:30:03.690Z"
   },
   {
    "duration": 0,
    "start_time": "2024-12-17T21:30:03.691Z"
   },
   {
    "duration": 0,
    "start_time": "2024-12-17T21:30:03.692Z"
   },
   {
    "duration": 0,
    "start_time": "2024-12-17T21:30:03.693Z"
   },
   {
    "duration": 0,
    "start_time": "2024-12-17T21:30:03.694Z"
   },
   {
    "duration": 0,
    "start_time": "2024-12-17T21:30:03.695Z"
   },
   {
    "duration": 0,
    "start_time": "2024-12-17T21:30:03.695Z"
   },
   {
    "duration": 0,
    "start_time": "2024-12-17T21:30:03.696Z"
   },
   {
    "duration": 0,
    "start_time": "2024-12-17T21:30:03.697Z"
   },
   {
    "duration": 0,
    "start_time": "2024-12-17T21:30:03.698Z"
   },
   {
    "duration": 6,
    "start_time": "2024-12-17T21:30:03.700Z"
   },
   {
    "duration": 0,
    "start_time": "2024-12-17T21:30:03.707Z"
   },
   {
    "duration": 0,
    "start_time": "2024-12-17T21:30:03.708Z"
   },
   {
    "duration": 0,
    "start_time": "2024-12-17T21:30:03.709Z"
   },
   {
    "duration": 0,
    "start_time": "2024-12-17T21:30:03.710Z"
   },
   {
    "duration": 0,
    "start_time": "2024-12-17T21:30:03.711Z"
   },
   {
    "duration": 44,
    "start_time": "2024-12-17T21:30:03.715Z"
   },
   {
    "duration": 0,
    "start_time": "2024-12-17T21:30:03.760Z"
   },
   {
    "duration": 0,
    "start_time": "2024-12-17T21:30:03.761Z"
   },
   {
    "duration": 0,
    "start_time": "2024-12-17T21:30:03.762Z"
   },
   {
    "duration": 0,
    "start_time": "2024-12-17T21:30:03.763Z"
   },
   {
    "duration": 0,
    "start_time": "2024-12-17T21:30:03.764Z"
   },
   {
    "duration": 54,
    "start_time": "2024-12-17T21:30:51.829Z"
   },
   {
    "duration": 0,
    "start_time": "2024-12-17T21:30:51.886Z"
   },
   {
    "duration": 0,
    "start_time": "2024-12-17T21:30:51.887Z"
   },
   {
    "duration": 0,
    "start_time": "2024-12-17T21:30:51.889Z"
   },
   {
    "duration": 0,
    "start_time": "2024-12-17T21:30:51.890Z"
   },
   {
    "duration": 0,
    "start_time": "2024-12-17T21:30:51.891Z"
   },
   {
    "duration": 0,
    "start_time": "2024-12-17T21:30:51.892Z"
   },
   {
    "duration": 1,
    "start_time": "2024-12-17T21:30:51.893Z"
   },
   {
    "duration": 0,
    "start_time": "2024-12-17T21:30:51.895Z"
   },
   {
    "duration": 0,
    "start_time": "2024-12-17T21:30:51.896Z"
   },
   {
    "duration": 0,
    "start_time": "2024-12-17T21:30:51.898Z"
   },
   {
    "duration": 0,
    "start_time": "2024-12-17T21:30:51.899Z"
   },
   {
    "duration": 0,
    "start_time": "2024-12-17T21:30:51.900Z"
   },
   {
    "duration": 0,
    "start_time": "2024-12-17T21:30:51.901Z"
   },
   {
    "duration": 0,
    "start_time": "2024-12-17T21:30:51.903Z"
   },
   {
    "duration": 0,
    "start_time": "2024-12-17T21:30:51.904Z"
   },
   {
    "duration": 0,
    "start_time": "2024-12-17T21:30:51.905Z"
   },
   {
    "duration": 38,
    "start_time": "2024-12-17T21:30:51.917Z"
   },
   {
    "duration": 0,
    "start_time": "2024-12-17T21:30:51.956Z"
   },
   {
    "duration": 0,
    "start_time": "2024-12-17T21:30:51.957Z"
   },
   {
    "duration": 0,
    "start_time": "2024-12-17T21:30:51.958Z"
   },
   {
    "duration": 0,
    "start_time": "2024-12-17T21:30:51.959Z"
   },
   {
    "duration": 10,
    "start_time": "2024-12-17T21:30:51.961Z"
   },
   {
    "duration": 0,
    "start_time": "2024-12-17T21:30:51.973Z"
   },
   {
    "duration": 6988,
    "start_time": "2024-12-17T21:31:28.943Z"
   },
   {
    "duration": 342,
    "start_time": "2024-12-17T21:31:35.933Z"
   },
   {
    "duration": 4,
    "start_time": "2024-12-17T21:31:36.277Z"
   },
   {
    "duration": 128,
    "start_time": "2024-12-17T21:31:36.283Z"
   },
   {
    "duration": 106,
    "start_time": "2024-12-17T21:31:36.414Z"
   },
   {
    "duration": 110,
    "start_time": "2024-12-17T21:31:36.521Z"
   },
   {
    "duration": 19,
    "start_time": "2024-12-17T21:31:36.633Z"
   },
   {
    "duration": 3585,
    "start_time": "2024-12-17T21:31:36.654Z"
   },
   {
    "duration": 3572,
    "start_time": "2024-12-17T21:31:40.240Z"
   },
   {
    "duration": 3938,
    "start_time": "2024-12-17T21:31:43.813Z"
   },
   {
    "duration": 44,
    "start_time": "2024-12-17T21:31:47.752Z"
   },
   {
    "duration": 0,
    "start_time": "2024-12-17T21:31:47.797Z"
   },
   {
    "duration": 0,
    "start_time": "2024-12-17T21:31:47.798Z"
   },
   {
    "duration": 0,
    "start_time": "2024-12-17T21:31:47.799Z"
   },
   {
    "duration": 0,
    "start_time": "2024-12-17T21:31:47.800Z"
   },
   {
    "duration": 0,
    "start_time": "2024-12-17T21:31:47.801Z"
   },
   {
    "duration": 0,
    "start_time": "2024-12-17T21:31:47.803Z"
   },
   {
    "duration": 0,
    "start_time": "2024-12-17T21:31:47.803Z"
   },
   {
    "duration": 0,
    "start_time": "2024-12-17T21:31:47.805Z"
   },
   {
    "duration": 0,
    "start_time": "2024-12-17T21:31:47.805Z"
   },
   {
    "duration": 0,
    "start_time": "2024-12-17T21:31:47.807Z"
   },
   {
    "duration": 0,
    "start_time": "2024-12-17T21:31:47.807Z"
   },
   {
    "duration": 0,
    "start_time": "2024-12-17T21:31:47.808Z"
   },
   {
    "duration": 0,
    "start_time": "2024-12-17T21:31:47.809Z"
   },
   {
    "duration": 5,
    "start_time": "2024-12-17T21:31:58.219Z"
   },
   {
    "duration": 1543,
    "start_time": "2024-12-17T21:31:58.410Z"
   },
   {
    "duration": 32,
    "start_time": "2024-12-17T21:31:59.955Z"
   },
   {
    "duration": 25,
    "start_time": "2024-12-17T21:31:59.988Z"
   },
   {
    "duration": 59,
    "start_time": "2024-12-17T21:32:00.015Z"
   },
   {
    "duration": 117,
    "start_time": "2024-12-17T21:32:00.075Z"
   },
   {
    "duration": 25,
    "start_time": "2024-12-17T21:32:00.581Z"
   },
   {
    "duration": 218,
    "start_time": "2024-12-17T21:32:00.738Z"
   },
   {
    "duration": 5,
    "start_time": "2024-12-17T21:32:01.419Z"
   },
   {
    "duration": 18,
    "start_time": "2024-12-17T21:32:01.581Z"
   },
   {
    "duration": 3,
    "start_time": "2024-12-17T21:32:02.236Z"
   },
   {
    "duration": 1781,
    "start_time": "2024-12-17T21:32:02.545Z"
   },
   {
    "duration": 6,
    "start_time": "2024-12-17T21:32:04.327Z"
   },
   {
    "duration": 1784,
    "start_time": "2024-12-17T21:34:56.956Z"
   },
   {
    "duration": 1758,
    "start_time": "2024-12-17T21:35:09.486Z"
   },
   {
    "duration": 1830,
    "start_time": "2024-12-17T21:37:22.354Z"
   },
   {
    "duration": 1780,
    "start_time": "2024-12-17T21:37:27.036Z"
   },
   {
    "duration": 1777,
    "start_time": "2024-12-17T21:42:13.467Z"
   },
   {
    "duration": 7,
    "start_time": "2024-12-17T21:42:49.309Z"
   },
   {
    "duration": 7066,
    "start_time": "2024-12-17T21:44:32.369Z"
   },
   {
    "duration": 340,
    "start_time": "2024-12-17T21:44:39.437Z"
   },
   {
    "duration": 4,
    "start_time": "2024-12-17T21:44:39.778Z"
   },
   {
    "duration": 114,
    "start_time": "2024-12-17T21:44:39.784Z"
   },
   {
    "duration": 110,
    "start_time": "2024-12-17T21:44:39.900Z"
   },
   {
    "duration": 115,
    "start_time": "2024-12-17T21:44:40.011Z"
   },
   {
    "duration": 6,
    "start_time": "2024-12-17T21:44:40.128Z"
   },
   {
    "duration": 3623,
    "start_time": "2024-12-17T21:44:40.136Z"
   },
   {
    "duration": 3549,
    "start_time": "2024-12-17T21:44:43.761Z"
   },
   {
    "duration": 3934,
    "start_time": "2024-12-17T21:44:47.312Z"
   },
   {
    "duration": 5,
    "start_time": "2024-12-17T21:44:51.248Z"
   },
   {
    "duration": 1604,
    "start_time": "2024-12-17T21:44:51.254Z"
   },
   {
    "duration": 32,
    "start_time": "2024-12-17T21:44:52.860Z"
   },
   {
    "duration": 24,
    "start_time": "2024-12-17T21:44:52.894Z"
   },
   {
    "duration": 51,
    "start_time": "2024-12-17T21:44:52.920Z"
   },
   {
    "duration": 108,
    "start_time": "2024-12-17T21:44:52.972Z"
   },
   {
    "duration": 27,
    "start_time": "2024-12-17T21:44:53.081Z"
   },
   {
    "duration": 247,
    "start_time": "2024-12-17T21:44:53.110Z"
   },
   {
    "duration": 95,
    "start_time": "2024-12-17T21:44:53.359Z"
   },
   {
    "duration": 29,
    "start_time": "2024-12-17T21:44:53.455Z"
   },
   {
    "duration": 5,
    "start_time": "2024-12-17T21:44:53.485Z"
   },
   {
    "duration": 1814,
    "start_time": "2024-12-17T21:44:53.491Z"
   },
   {
    "duration": 7,
    "start_time": "2024-12-17T21:44:55.306Z"
   },
   {
    "duration": 831,
    "start_time": "2024-12-17T21:51:13.853Z"
   },
   {
    "duration": 11846,
    "start_time": "2024-12-18T15:07:38.443Z"
   },
   {
    "duration": 664,
    "start_time": "2024-12-18T15:07:50.291Z"
   },
   {
    "duration": 5,
    "start_time": "2024-12-18T15:07:50.956Z"
   },
   {
    "duration": 134,
    "start_time": "2024-12-18T15:07:50.963Z"
   },
   {
    "duration": 131,
    "start_time": "2024-12-18T15:07:51.099Z"
   },
   {
    "duration": 140,
    "start_time": "2024-12-18T15:07:51.231Z"
   },
   {
    "duration": 7,
    "start_time": "2024-12-18T15:07:51.373Z"
   },
   {
    "duration": 4231,
    "start_time": "2024-12-18T15:07:51.381Z"
   },
   {
    "duration": 4328,
    "start_time": "2024-12-18T15:07:55.614Z"
   },
   {
    "duration": 4834,
    "start_time": "2024-12-18T15:07:59.943Z"
   },
   {
    "duration": 5,
    "start_time": "2024-12-18T15:08:04.778Z"
   },
   {
    "duration": 1886,
    "start_time": "2024-12-18T15:08:04.786Z"
   },
   {
    "duration": 39,
    "start_time": "2024-12-18T15:08:06.674Z"
   },
   {
    "duration": 30,
    "start_time": "2024-12-18T15:08:06.715Z"
   },
   {
    "duration": 47,
    "start_time": "2024-12-18T15:08:06.747Z"
   },
   {
    "duration": 128,
    "start_time": "2024-12-18T15:08:06.796Z"
   },
   {
    "duration": 31,
    "start_time": "2024-12-18T15:08:06.926Z"
   },
   {
    "duration": 319,
    "start_time": "2024-12-18T15:08:06.958Z"
   },
   {
    "duration": 94,
    "start_time": "2024-12-18T15:08:07.279Z"
   },
   {
    "duration": 87,
    "start_time": "2024-12-18T15:08:07.375Z"
   },
   {
    "duration": 83,
    "start_time": "2024-12-18T15:08:07.463Z"
   },
   {
    "duration": 2624,
    "start_time": "2024-12-18T15:08:07.549Z"
   },
   {
    "duration": 8,
    "start_time": "2024-12-18T15:08:10.175Z"
   },
   {
    "duration": 54,
    "start_time": "2024-12-19T07:48:30.603Z"
   },
   {
    "duration": 11381,
    "start_time": "2024-12-19T07:49:07.981Z"
   },
   {
    "duration": 1561,
    "start_time": "2024-12-19T07:49:19.364Z"
   },
   {
    "duration": 5,
    "start_time": "2024-12-19T07:49:20.927Z"
   },
   {
    "duration": 123,
    "start_time": "2024-12-19T07:49:20.933Z"
   },
   {
    "duration": 107,
    "start_time": "2024-12-19T07:49:21.058Z"
   },
   {
    "duration": 121,
    "start_time": "2024-12-19T07:49:21.166Z"
   },
   {
    "duration": 7,
    "start_time": "2024-12-19T07:49:21.289Z"
   },
   {
    "duration": 3636,
    "start_time": "2024-12-19T07:49:21.298Z"
   },
   {
    "duration": 3644,
    "start_time": "2024-12-19T07:49:24.935Z"
   },
   {
    "duration": 3961,
    "start_time": "2024-12-19T07:49:28.581Z"
   },
   {
    "duration": 4,
    "start_time": "2024-12-19T07:49:32.544Z"
   },
   {
    "duration": 1735,
    "start_time": "2024-12-19T07:49:32.550Z"
   },
   {
    "duration": 34,
    "start_time": "2024-12-19T07:49:34.286Z"
   },
   {
    "duration": 48,
    "start_time": "2024-12-19T07:49:34.322Z"
   },
   {
    "duration": 40,
    "start_time": "2024-12-19T07:49:34.371Z"
   },
   {
    "duration": 126,
    "start_time": "2024-12-19T07:49:34.413Z"
   },
   {
    "duration": 310,
    "start_time": "2024-12-19T07:49:34.546Z"
   },
   {
    "duration": 5,
    "start_time": "2024-12-19T07:49:34.947Z"
   },
   {
    "duration": 145,
    "start_time": "2024-12-19T07:49:34.955Z"
   },
   {
    "duration": 5,
    "start_time": "2024-12-19T07:49:35.102Z"
   },
   {
    "duration": 1778,
    "start_time": "2024-12-19T07:49:35.109Z"
   },
   {
    "duration": 7,
    "start_time": "2024-12-19T07:49:36.889Z"
   },
   {
    "duration": 53,
    "start_time": "2024-12-19T07:56:08.364Z"
   },
   {
    "duration": 4,
    "start_time": "2024-12-19T08:00:48.230Z"
   },
   {
    "duration": 9,
    "start_time": "2024-12-19T08:03:34.405Z"
   },
   {
    "duration": 7298,
    "start_time": "2024-12-19T08:16:37.665Z"
   },
   {
    "duration": 362,
    "start_time": "2024-12-19T08:16:44.965Z"
   },
   {
    "duration": 4,
    "start_time": "2024-12-19T08:16:45.329Z"
   },
   {
    "duration": 126,
    "start_time": "2024-12-19T08:16:45.334Z"
   },
   {
    "duration": 105,
    "start_time": "2024-12-19T08:16:45.462Z"
   },
   {
    "duration": 112,
    "start_time": "2024-12-19T08:16:45.569Z"
   },
   {
    "duration": 6,
    "start_time": "2024-12-19T08:16:45.683Z"
   },
   {
    "duration": 3867,
    "start_time": "2024-12-19T08:16:45.691Z"
   },
   {
    "duration": 3704,
    "start_time": "2024-12-19T08:16:49.559Z"
   },
   {
    "duration": 4096,
    "start_time": "2024-12-19T08:16:53.265Z"
   },
   {
    "duration": 4,
    "start_time": "2024-12-19T08:16:57.363Z"
   },
   {
    "duration": 1599,
    "start_time": "2024-12-19T08:16:57.368Z"
   },
   {
    "duration": 32,
    "start_time": "2024-12-19T08:16:58.969Z"
   },
   {
    "duration": 26,
    "start_time": "2024-12-19T08:16:59.003Z"
   },
   {
    "duration": 36,
    "start_time": "2024-12-19T08:16:59.046Z"
   },
   {
    "duration": 127,
    "start_time": "2024-12-19T08:16:59.083Z"
   },
   {
    "duration": 4,
    "start_time": "2024-12-19T08:16:59.212Z"
   },
   {
    "duration": 336,
    "start_time": "2024-12-19T08:16:59.218Z"
   },
   {
    "duration": 7,
    "start_time": "2024-12-19T08:16:59.645Z"
   },
   {
    "duration": 97,
    "start_time": "2024-12-19T08:16:59.654Z"
   },
   {
    "duration": 3,
    "start_time": "2024-12-19T08:16:59.753Z"
   },
   {
    "duration": 1872,
    "start_time": "2024-12-19T08:16:59.758Z"
   },
   {
    "duration": 6,
    "start_time": "2024-12-19T08:17:01.632Z"
   }
  ],
  "kernelspec": {
   "display_name": "Python 3 (ipykernel)",
   "language": "python",
   "name": "python3"
  },
  "language_info": {
   "codemirror_mode": {
    "name": "ipython",
    "version": 3
   },
   "file_extension": ".py",
   "mimetype": "text/x-python",
   "name": "python",
   "nbconvert_exporter": "python",
   "pygments_lexer": "ipython3",
   "version": "3.12.4"
  },
  "toc": {
   "base_numbering": 1,
   "nav_menu": {},
   "number_sections": true,
   "sideBar": true,
   "skip_h1_title": true,
   "title_cell": "Table of Contents",
   "title_sidebar": "Contents",
   "toc_cell": false,
   "toc_position": {},
   "toc_section_display": true,
   "toc_window_display": true
  }
 },
 "nbformat": 4,
 "nbformat_minor": 4
}
