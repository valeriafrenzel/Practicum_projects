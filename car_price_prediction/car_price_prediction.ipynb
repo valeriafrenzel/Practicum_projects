{
 "cells": [
  {
   "cell_type": "markdown",
   "metadata": {
    "id": "tUv82QVSfvdz"
   },
   "source": [
    "# Определение стоимости автомобилей"
   ]
  },
  {
   "cell_type": "markdown",
   "metadata": {
    "id": "DisdvMh5fvd6"
   },
   "source": [
    "### 1. Цель исследования  \n",
    "Цель данного исследования — разработка модели машинного обучения, способной точно предсказывать рыночную стоимость автомобилей на основе их технических характеристик, комплектации и других параметров. Это позволит пользователям сервиса «Не бит, не крашен» оперативно и объективно оценивать стоимость своего автомобиля.\n",
    "\n",
    "### 2. Введение  \n",
    "Компания «Не бит, не крашен» разрабатывает приложение для оценки рыночной стоимости автомобилей с пробегом. Корректное определение цены автомобиля имеет решающее значение для привлечения клиентов и повышения доверия к сервису.\n",
    "\n",
    "Для построения модели необходимо провести анализ данных, подготовить выборки для обучения и протестировать несколько моделей машинного обучения, включая градиентный бустинг и более простые алгоритмы. Основными критериями выбора модели являются:\n",
    "- точность предсказаний (метрика RMSE);\n",
    "- время обучения модели;\n",
    "- время предсказания модели.\n",
    "\n",
    "### 3. Задачи проекта  \n",
    "1. Загрузить и изучить данные.\n",
    "2. Обработать пропущенные значения и аномалии.\n",
    "3. Подготовить данные для обучения моделей.\n",
    "4. Обучить и протестировать различные модели машинного обучения.\n",
    "5. Провести сравнение моделей по критериям заказчика.\n",
    "6. Выбрать лучшую модель и проверить её качество на тестовой выборке.\n",
    "\n",
    "### 4. План исследования  \n",
    "1. **Предварительный анализ данных**  \n",
    "   - Загрузка данных.\n",
    "   - Изучение структуры и основных характеристик датасета.\n",
    "   - Анализ пропущенных значений и аномалий.\n",
    "   \n",
    "2. **Предобработка данных**  \n",
    "   - Заполнение или удаление пропущенных значений.\n",
    "   - Удаление неинформативных признаков.\n",
    "   - Кодирование категориальных переменных.\n",
    "   \n",
    "3. **Формирование выборок**  \n",
    "   - Разделение данных на обучающую, валидационную и тестовую выборки.\n",
    "   - Масштабирование признаков (если необходимо).\n",
    "   \n",
    "4. **Обучение и оценка моделей**  \n",
    "   - Обучение моделей машинного обучения (градиентный бустинг, регрессионные и другие модели).\n",
    "   - Подбор гиперпараметров.\n",
    "   - Сравнение моделей по критериям: точность (RMSE), время обучения, время предсказания.\n",
    "   \n",
    "5. **Выбор лучшей модели и финальная проверка**  \n",
    "   - Проверка модели на тестовой выборке.\n",
    "   - Итоговые выводы и рекомендации.\n",
    "\n",
    "### 5. Описание данных  \n",
    "Данные находятся в файле `/datasets/autos.csv`. В датасете представлены следующие признаки:\n",
    "\n",
    "#### **Признаки:**\n",
    "- `DateCrawled` — дата скачивания анкеты из базы.\n",
    "- `VehicleType` — тип автомобильного кузова.\n",
    "- `RegistrationYear` — год регистрации автомобиля.\n",
    "- `Gearbox` — тип коробки передач.\n",
    "- `Power` — мощность (л.с.).\n",
    "- `Model` — модель автомобиля.\n",
    "- `Kilometer` — пробег (км).\n",
    "- `RegistrationMonth` — месяц регистрации автомобиля.\n",
    "- `FuelType` — тип топлива.\n",
    "- `Brand` — марка автомобиля.\n",
    "- `Repaired` — была машина в ремонте или нет.\n",
    "- `DateCreated` — дата создания анкеты.\n",
    "- `NumberOfPictures` — количество фотографий автомобиля.\n",
    "- `PostalCode` — почтовый индекс владельца анкеты (пользователя).\n",
    "- `LastSeen` — дата последней активности пользователя.\n",
    "\n",
    "#### **Целевой признак:**\n",
    "- `Price` — цена автомобиля (в евро).\n",
    "\n",
    "### Заключение  \n",
    "В ходе исследования будет разработана модель машинного обучения, способная с высокой точностью предсказывать рыночную стоимость автомобилей. Ожидается, что итоговая модель поможет пользователям сервиса «Не бит, не крашен» получить объективную оценку стоимости их транспортного средства, что повысит доверие к платформе и привлечёт новых клиентов.\n",
    "\n"
   ]
  },
  {
   "cell_type": "markdown",
   "metadata": {
    "id": "HUst8O0Sfvd7"
   },
   "source": [
    "## Подготовка данных"
   ]
  },
  {
   "cell_type": "code",
   "execution_count": 5,
   "metadata": {
    "id": "EHhxs3tlfvd8"
   },
   "outputs": [
    {
     "name": "stdout",
     "output_type": "stream",
     "text": [
      "Requirement already satisfied: lightgbm in /opt/anaconda3/lib/python3.12/site-packages (4.5.0)\n",
      "Requirement already satisfied: numpy>=1.17.0 in /opt/anaconda3/lib/python3.12/site-packages (from lightgbm) (1.26.4)\n",
      "Requirement already satisfied: scipy in /opt/anaconda3/lib/python3.12/site-packages (from lightgbm) (1.13.1)\n"
     ]
    }
   ],
   "source": [
    "# Установка lightgbm\n",
    "!pip install lightgbm\n",
    "\n",
    "import pandas as pd\n",
    "import numpy as np\n",
    "from matplotlib import pyplot as plt\n",
    "import seaborn as sns\n",
    "from sklearn.linear_model import LinearRegression\n",
    "from sklearn.ensemble import RandomForestRegressor\n",
    "from sklearn.dummy import DummyRegressor\n",
    "from sklearn.model_selection import train_test_split, GridSearchCV\n",
    "from sklearn.preprocessing import StandardScaler, OrdinalEncoder\n",
    "from sklearn.metrics import mean_squared_error\n",
    "from sklearn.tree import DecisionTreeRegressor\n",
    "import lightgbm as lgb\n",
    "import time"
   ]
  },
  {
   "cell_type": "code",
   "execution_count": 7,
   "metadata": {
    "colab": {
     "base_uri": "https://localhost:8080/"
    },
    "id": "zn8JjofzgEtv",
    "outputId": "14698f27-3059-4834-f734-b8d96df999eb"
   },
   "outputs": [],
   "source": [
    "try:\n",
    "    data = pd.read_csv('/datasets/autos.csv')\n",
    "except:\n",
    "    data = pd.read_csv('https://code.s3.yandex.net/datasets/autos.csv')"
   ]
  },
  {
   "cell_type": "code",
   "execution_count": 8,
   "metadata": {
    "colab": {
     "base_uri": "https://localhost:8080/",
     "height": 774
    },
    "id": "ytUbUH_tg2cI",
    "outputId": "f7dddaa1-6005-491a-c116-219e851acc12"
   },
   "outputs": [
    {
     "data": {
      "text/html": [
       "<div>\n",
       "<style scoped>\n",
       "    .dataframe tbody tr th:only-of-type {\n",
       "        vertical-align: middle;\n",
       "    }\n",
       "\n",
       "    .dataframe tbody tr th {\n",
       "        vertical-align: top;\n",
       "    }\n",
       "\n",
       "    .dataframe thead th {\n",
       "        text-align: right;\n",
       "    }\n",
       "</style>\n",
       "<table border=\"1\" class=\"dataframe\">\n",
       "  <thead>\n",
       "    <tr style=\"text-align: right;\">\n",
       "      <th></th>\n",
       "      <th>DateCrawled</th>\n",
       "      <th>Price</th>\n",
       "      <th>VehicleType</th>\n",
       "      <th>RegistrationYear</th>\n",
       "      <th>Gearbox</th>\n",
       "      <th>Power</th>\n",
       "      <th>Model</th>\n",
       "      <th>Kilometer</th>\n",
       "      <th>RegistrationMonth</th>\n",
       "      <th>FuelType</th>\n",
       "      <th>Brand</th>\n",
       "      <th>Repaired</th>\n",
       "      <th>DateCreated</th>\n",
       "      <th>NumberOfPictures</th>\n",
       "      <th>PostalCode</th>\n",
       "      <th>LastSeen</th>\n",
       "    </tr>\n",
       "  </thead>\n",
       "  <tbody>\n",
       "    <tr>\n",
       "      <th>0</th>\n",
       "      <td>2016-03-24 11:52:17</td>\n",
       "      <td>480</td>\n",
       "      <td>NaN</td>\n",
       "      <td>1993</td>\n",
       "      <td>manual</td>\n",
       "      <td>0</td>\n",
       "      <td>golf</td>\n",
       "      <td>150000</td>\n",
       "      <td>0</td>\n",
       "      <td>petrol</td>\n",
       "      <td>volkswagen</td>\n",
       "      <td>NaN</td>\n",
       "      <td>2016-03-24 00:00:00</td>\n",
       "      <td>0</td>\n",
       "      <td>70435</td>\n",
       "      <td>2016-04-07 03:16:57</td>\n",
       "    </tr>\n",
       "    <tr>\n",
       "      <th>1</th>\n",
       "      <td>2016-03-24 10:58:45</td>\n",
       "      <td>18300</td>\n",
       "      <td>coupe</td>\n",
       "      <td>2011</td>\n",
       "      <td>manual</td>\n",
       "      <td>190</td>\n",
       "      <td>NaN</td>\n",
       "      <td>125000</td>\n",
       "      <td>5</td>\n",
       "      <td>gasoline</td>\n",
       "      <td>audi</td>\n",
       "      <td>yes</td>\n",
       "      <td>2016-03-24 00:00:00</td>\n",
       "      <td>0</td>\n",
       "      <td>66954</td>\n",
       "      <td>2016-04-07 01:46:50</td>\n",
       "    </tr>\n",
       "    <tr>\n",
       "      <th>2</th>\n",
       "      <td>2016-03-14 12:52:21</td>\n",
       "      <td>9800</td>\n",
       "      <td>suv</td>\n",
       "      <td>2004</td>\n",
       "      <td>auto</td>\n",
       "      <td>163</td>\n",
       "      <td>grand</td>\n",
       "      <td>125000</td>\n",
       "      <td>8</td>\n",
       "      <td>gasoline</td>\n",
       "      <td>jeep</td>\n",
       "      <td>NaN</td>\n",
       "      <td>2016-03-14 00:00:00</td>\n",
       "      <td>0</td>\n",
       "      <td>90480</td>\n",
       "      <td>2016-04-05 12:47:46</td>\n",
       "    </tr>\n",
       "    <tr>\n",
       "      <th>3</th>\n",
       "      <td>2016-03-17 16:54:04</td>\n",
       "      <td>1500</td>\n",
       "      <td>small</td>\n",
       "      <td>2001</td>\n",
       "      <td>manual</td>\n",
       "      <td>75</td>\n",
       "      <td>golf</td>\n",
       "      <td>150000</td>\n",
       "      <td>6</td>\n",
       "      <td>petrol</td>\n",
       "      <td>volkswagen</td>\n",
       "      <td>no</td>\n",
       "      <td>2016-03-17 00:00:00</td>\n",
       "      <td>0</td>\n",
       "      <td>91074</td>\n",
       "      <td>2016-03-17 17:40:17</td>\n",
       "    </tr>\n",
       "    <tr>\n",
       "      <th>4</th>\n",
       "      <td>2016-03-31 17:25:20</td>\n",
       "      <td>3600</td>\n",
       "      <td>small</td>\n",
       "      <td>2008</td>\n",
       "      <td>manual</td>\n",
       "      <td>69</td>\n",
       "      <td>fabia</td>\n",
       "      <td>90000</td>\n",
       "      <td>7</td>\n",
       "      <td>gasoline</td>\n",
       "      <td>skoda</td>\n",
       "      <td>no</td>\n",
       "      <td>2016-03-31 00:00:00</td>\n",
       "      <td>0</td>\n",
       "      <td>60437</td>\n",
       "      <td>2016-04-06 10:17:21</td>\n",
       "    </tr>\n",
       "  </tbody>\n",
       "</table>\n",
       "</div>"
      ],
      "text/plain": [
       "           DateCrawled  Price VehicleType  RegistrationYear Gearbox  Power  \\\n",
       "0  2016-03-24 11:52:17    480         NaN              1993  manual      0   \n",
       "1  2016-03-24 10:58:45  18300       coupe              2011  manual    190   \n",
       "2  2016-03-14 12:52:21   9800         suv              2004    auto    163   \n",
       "3  2016-03-17 16:54:04   1500       small              2001  manual     75   \n",
       "4  2016-03-31 17:25:20   3600       small              2008  manual     69   \n",
       "\n",
       "   Model  Kilometer  RegistrationMonth  FuelType       Brand Repaired  \\\n",
       "0   golf     150000                  0    petrol  volkswagen      NaN   \n",
       "1    NaN     125000                  5  gasoline        audi      yes   \n",
       "2  grand     125000                  8  gasoline        jeep      NaN   \n",
       "3   golf     150000                  6    petrol  volkswagen       no   \n",
       "4  fabia      90000                  7  gasoline       skoda       no   \n",
       "\n",
       "           DateCreated  NumberOfPictures  PostalCode             LastSeen  \n",
       "0  2016-03-24 00:00:00                 0       70435  2016-04-07 03:16:57  \n",
       "1  2016-03-24 00:00:00                 0       66954  2016-04-07 01:46:50  \n",
       "2  2016-03-14 00:00:00                 0       90480  2016-04-05 12:47:46  \n",
       "3  2016-03-17 00:00:00                 0       91074  2016-03-17 17:40:17  \n",
       "4  2016-03-31 00:00:00                 0       60437  2016-04-06 10:17:21  "
      ]
     },
     "execution_count": 8,
     "metadata": {},
     "output_type": "execute_result"
    }
   ],
   "source": [
    "# изучим данные\n",
    "data.head(5)"
   ]
  },
  {
   "cell_type": "code",
   "execution_count": 9,
   "metadata": {
    "colab": {
     "base_uri": "https://localhost:8080/"
    },
    "id": "v907uknJhK4l",
    "outputId": "ba34bec3-9c05-4a2f-d597-733b4198a8cd"
   },
   "outputs": [
    {
     "name": "stdout",
     "output_type": "stream",
     "text": [
      "<class 'pandas.core.frame.DataFrame'>\n",
      "RangeIndex: 354369 entries, 0 to 354368\n",
      "Data columns (total 16 columns):\n",
      " #   Column             Non-Null Count   Dtype \n",
      "---  ------             --------------   ----- \n",
      " 0   DateCrawled        354369 non-null  object\n",
      " 1   Price              354369 non-null  int64 \n",
      " 2   VehicleType        316879 non-null  object\n",
      " 3   RegistrationYear   354369 non-null  int64 \n",
      " 4   Gearbox            334536 non-null  object\n",
      " 5   Power              354369 non-null  int64 \n",
      " 6   Model              334664 non-null  object\n",
      " 7   Kilometer          354369 non-null  int64 \n",
      " 8   RegistrationMonth  354369 non-null  int64 \n",
      " 9   FuelType           321474 non-null  object\n",
      " 10  Brand              354369 non-null  object\n",
      " 11  Repaired           283215 non-null  object\n",
      " 12  DateCreated        354369 non-null  object\n",
      " 13  NumberOfPictures   354369 non-null  int64 \n",
      " 14  PostalCode         354369 non-null  int64 \n",
      " 15  LastSeen           354369 non-null  object\n",
      "dtypes: int64(7), object(9)\n",
      "memory usage: 43.3+ MB\n"
     ]
    }
   ],
   "source": [
    "data.info()"
   ]
  },
  {
   "cell_type": "markdown",
   "metadata": {},
   "source": [
    "Переведём все названия столбцов в нижний регистр, чтобы обеспечить единообразие в данных и избежать возможных ошибок при обращении к ним в коде."
   ]
  },
  {
   "cell_type": "code",
   "execution_count": 11,
   "metadata": {
    "id": "_A6IbUtpg3Qz"
   },
   "outputs": [],
   "source": [
    "data.columns = (data.columns\n",
    "                .str.replace(r'([a-z])([A-Z])', r'\\1_\\2', regex=True)  # Разделяет слова в CamelCase\n",
    "                .str.replace('-', '_')  # Заменяет дефисы\n",
    "                .str.lower())  # Приводит к нижнему регистру"
   ]
  },
  {
   "cell_type": "code",
   "execution_count": 12,
   "metadata": {
    "id": "HskYFJ88l6Z1"
   },
   "outputs": [
    {
     "data": {
      "text/html": [
       "<div>\n",
       "<style scoped>\n",
       "    .dataframe tbody tr th:only-of-type {\n",
       "        vertical-align: middle;\n",
       "    }\n",
       "\n",
       "    .dataframe tbody tr th {\n",
       "        vertical-align: top;\n",
       "    }\n",
       "\n",
       "    .dataframe thead th {\n",
       "        text-align: right;\n",
       "    }\n",
       "</style>\n",
       "<table border=\"1\" class=\"dataframe\">\n",
       "  <thead>\n",
       "    <tr style=\"text-align: right;\">\n",
       "      <th></th>\n",
       "      <th>date_crawled</th>\n",
       "      <th>price</th>\n",
       "      <th>vehicle_type</th>\n",
       "      <th>registration_year</th>\n",
       "      <th>gearbox</th>\n",
       "      <th>power</th>\n",
       "      <th>model</th>\n",
       "      <th>kilometer</th>\n",
       "      <th>registration_month</th>\n",
       "      <th>fuel_type</th>\n",
       "      <th>brand</th>\n",
       "      <th>repaired</th>\n",
       "      <th>date_created</th>\n",
       "      <th>number_of_pictures</th>\n",
       "      <th>postal_code</th>\n",
       "      <th>last_seen</th>\n",
       "    </tr>\n",
       "  </thead>\n",
       "  <tbody>\n",
       "    <tr>\n",
       "      <th>0</th>\n",
       "      <td>2016-03-24 11:52:17</td>\n",
       "      <td>480</td>\n",
       "      <td>NaN</td>\n",
       "      <td>1993</td>\n",
       "      <td>manual</td>\n",
       "      <td>0</td>\n",
       "      <td>golf</td>\n",
       "      <td>150000</td>\n",
       "      <td>0</td>\n",
       "      <td>petrol</td>\n",
       "      <td>volkswagen</td>\n",
       "      <td>NaN</td>\n",
       "      <td>2016-03-24 00:00:00</td>\n",
       "      <td>0</td>\n",
       "      <td>70435</td>\n",
       "      <td>2016-04-07 03:16:57</td>\n",
       "    </tr>\n",
       "    <tr>\n",
       "      <th>1</th>\n",
       "      <td>2016-03-24 10:58:45</td>\n",
       "      <td>18300</td>\n",
       "      <td>coupe</td>\n",
       "      <td>2011</td>\n",
       "      <td>manual</td>\n",
       "      <td>190</td>\n",
       "      <td>NaN</td>\n",
       "      <td>125000</td>\n",
       "      <td>5</td>\n",
       "      <td>gasoline</td>\n",
       "      <td>audi</td>\n",
       "      <td>yes</td>\n",
       "      <td>2016-03-24 00:00:00</td>\n",
       "      <td>0</td>\n",
       "      <td>66954</td>\n",
       "      <td>2016-04-07 01:46:50</td>\n",
       "    </tr>\n",
       "    <tr>\n",
       "      <th>2</th>\n",
       "      <td>2016-03-14 12:52:21</td>\n",
       "      <td>9800</td>\n",
       "      <td>suv</td>\n",
       "      <td>2004</td>\n",
       "      <td>auto</td>\n",
       "      <td>163</td>\n",
       "      <td>grand</td>\n",
       "      <td>125000</td>\n",
       "      <td>8</td>\n",
       "      <td>gasoline</td>\n",
       "      <td>jeep</td>\n",
       "      <td>NaN</td>\n",
       "      <td>2016-03-14 00:00:00</td>\n",
       "      <td>0</td>\n",
       "      <td>90480</td>\n",
       "      <td>2016-04-05 12:47:46</td>\n",
       "    </tr>\n",
       "    <tr>\n",
       "      <th>3</th>\n",
       "      <td>2016-03-17 16:54:04</td>\n",
       "      <td>1500</td>\n",
       "      <td>small</td>\n",
       "      <td>2001</td>\n",
       "      <td>manual</td>\n",
       "      <td>75</td>\n",
       "      <td>golf</td>\n",
       "      <td>150000</td>\n",
       "      <td>6</td>\n",
       "      <td>petrol</td>\n",
       "      <td>volkswagen</td>\n",
       "      <td>no</td>\n",
       "      <td>2016-03-17 00:00:00</td>\n",
       "      <td>0</td>\n",
       "      <td>91074</td>\n",
       "      <td>2016-03-17 17:40:17</td>\n",
       "    </tr>\n",
       "    <tr>\n",
       "      <th>4</th>\n",
       "      <td>2016-03-31 17:25:20</td>\n",
       "      <td>3600</td>\n",
       "      <td>small</td>\n",
       "      <td>2008</td>\n",
       "      <td>manual</td>\n",
       "      <td>69</td>\n",
       "      <td>fabia</td>\n",
       "      <td>90000</td>\n",
       "      <td>7</td>\n",
       "      <td>gasoline</td>\n",
       "      <td>skoda</td>\n",
       "      <td>no</td>\n",
       "      <td>2016-03-31 00:00:00</td>\n",
       "      <td>0</td>\n",
       "      <td>60437</td>\n",
       "      <td>2016-04-06 10:17:21</td>\n",
       "    </tr>\n",
       "  </tbody>\n",
       "</table>\n",
       "</div>"
      ],
      "text/plain": [
       "          date_crawled  price vehicle_type  registration_year gearbox  power  \\\n",
       "0  2016-03-24 11:52:17    480          NaN               1993  manual      0   \n",
       "1  2016-03-24 10:58:45  18300        coupe               2011  manual    190   \n",
       "2  2016-03-14 12:52:21   9800          suv               2004    auto    163   \n",
       "3  2016-03-17 16:54:04   1500        small               2001  manual     75   \n",
       "4  2016-03-31 17:25:20   3600        small               2008  manual     69   \n",
       "\n",
       "   model  kilometer  registration_month fuel_type       brand repaired  \\\n",
       "0   golf     150000                   0    petrol  volkswagen      NaN   \n",
       "1    NaN     125000                   5  gasoline        audi      yes   \n",
       "2  grand     125000                   8  gasoline        jeep      NaN   \n",
       "3   golf     150000                   6    petrol  volkswagen       no   \n",
       "4  fabia      90000                   7  gasoline       skoda       no   \n",
       "\n",
       "          date_created  number_of_pictures  postal_code            last_seen  \n",
       "0  2016-03-24 00:00:00                   0        70435  2016-04-07 03:16:57  \n",
       "1  2016-03-24 00:00:00                   0        66954  2016-04-07 01:46:50  \n",
       "2  2016-03-14 00:00:00                   0        90480  2016-04-05 12:47:46  \n",
       "3  2016-03-17 00:00:00                   0        91074  2016-03-17 17:40:17  \n",
       "4  2016-03-31 00:00:00                   0        60437  2016-04-06 10:17:21  "
      ]
     },
     "execution_count": 12,
     "metadata": {},
     "output_type": "execute_result"
    }
   ],
   "source": [
    "data.head()"
   ]
  },
  {
   "cell_type": "markdown",
   "metadata": {},
   "source": [
    "Определим количество уникальных значений в столбце “количество фотографий”, чтобы выявить возможные аномалии и оценить его информативность."
   ]
  },
  {
   "cell_type": "code",
   "execution_count": 14,
   "metadata": {
    "colab": {
     "base_uri": "https://localhost:8080/"
    },
    "id": "vidn6SaNl6za",
    "outputId": "da21de36-f039-4208-d7b8-d784b01bdfb6"
   },
   "outputs": [
    {
     "data": {
      "text/plain": [
       "number_of_pictures\n",
       "0    354369\n",
       "Name: count, dtype: int64"
      ]
     },
     "execution_count": 14,
     "metadata": {},
     "output_type": "execute_result"
    }
   ],
   "source": [
    "data.number_of_pictures.value_counts()"
   ]
  },
  {
   "cell_type": "markdown",
   "metadata": {
    "id": "QArGCqfXqOMO"
   },
   "source": [
    "Мы удалим столбцы number_of_pictures, postal_code, date_created, last_seen, registration_month, date_crawled, потому что они не содержат полезной информации для анализа: все значения в столбце number_of_pictures равно нулю, а остальные столбцы не влияют на целевые переменные и не используются в текущем контексте задачи. Это поможет упростить данные и улучшить эффективность анализа. Предварительно проерим промежуток, за который выгрузили анкеты:"
   ]
  },
  {
   "cell_type": "code",
   "execution_count": 16,
   "metadata": {},
   "outputs": [
    {
     "data": {
      "text/plain": [
       "'2016-03-05 14:06:22'"
      ]
     },
     "execution_count": 16,
     "metadata": {},
     "output_type": "execute_result"
    }
   ],
   "source": [
    "data.date_crawled.min()"
   ]
  },
  {
   "cell_type": "code",
   "execution_count": 17,
   "metadata": {},
   "outputs": [
    {
     "data": {
      "text/plain": [
       "'2016-04-07 14:36:58'"
      ]
     },
     "execution_count": 17,
     "metadata": {},
     "output_type": "execute_result"
    }
   ],
   "source": [
    "data.date_crawled.max()"
   ]
  },
  {
   "cell_type": "code",
   "execution_count": 18,
   "metadata": {
    "id": "gQsYJhXnqgGq"
   },
   "outputs": [],
   "source": [
    "# Удаляем столбцы, которые не содержат полезной информации для анализа\n",
    "data = data.drop(['number_of_pictures', 'postal_code', 'date_created', 'last_seen', 'registration_month', 'date_crawled'], axis=1)"
   ]
  },
  {
   "cell_type": "code",
   "execution_count": 20,
   "metadata": {
    "colab": {
     "base_uri": "https://localhost:8080/",
     "height": 270
    },
    "id": "O0shOeoiq-dD",
    "outputId": "5aabd04c-4600-4619-9458-d2dcdc6fe13f"
   },
   "outputs": [
    {
     "data": {
      "text/html": [
       "<div>\n",
       "<style scoped>\n",
       "    .dataframe tbody tr th:only-of-type {\n",
       "        vertical-align: middle;\n",
       "    }\n",
       "\n",
       "    .dataframe tbody tr th {\n",
       "        vertical-align: top;\n",
       "    }\n",
       "\n",
       "    .dataframe thead th {\n",
       "        text-align: right;\n",
       "    }\n",
       "</style>\n",
       "<table border=\"1\" class=\"dataframe\">\n",
       "  <thead>\n",
       "    <tr style=\"text-align: right;\">\n",
       "      <th></th>\n",
       "      <th>price</th>\n",
       "      <th>vehicle_type</th>\n",
       "      <th>registration_year</th>\n",
       "      <th>gearbox</th>\n",
       "      <th>power</th>\n",
       "      <th>model</th>\n",
       "      <th>kilometer</th>\n",
       "      <th>fuel_type</th>\n",
       "      <th>brand</th>\n",
       "      <th>repaired</th>\n",
       "    </tr>\n",
       "  </thead>\n",
       "  <tbody>\n",
       "    <tr>\n",
       "      <th>0</th>\n",
       "      <td>480</td>\n",
       "      <td>NaN</td>\n",
       "      <td>1993</td>\n",
       "      <td>manual</td>\n",
       "      <td>0</td>\n",
       "      <td>golf</td>\n",
       "      <td>150000</td>\n",
       "      <td>petrol</td>\n",
       "      <td>volkswagen</td>\n",
       "      <td>NaN</td>\n",
       "    </tr>\n",
       "    <tr>\n",
       "      <th>1</th>\n",
       "      <td>18300</td>\n",
       "      <td>coupe</td>\n",
       "      <td>2011</td>\n",
       "      <td>manual</td>\n",
       "      <td>190</td>\n",
       "      <td>NaN</td>\n",
       "      <td>125000</td>\n",
       "      <td>gasoline</td>\n",
       "      <td>audi</td>\n",
       "      <td>yes</td>\n",
       "    </tr>\n",
       "    <tr>\n",
       "      <th>2</th>\n",
       "      <td>9800</td>\n",
       "      <td>suv</td>\n",
       "      <td>2004</td>\n",
       "      <td>auto</td>\n",
       "      <td>163</td>\n",
       "      <td>grand</td>\n",
       "      <td>125000</td>\n",
       "      <td>gasoline</td>\n",
       "      <td>jeep</td>\n",
       "      <td>NaN</td>\n",
       "    </tr>\n",
       "    <tr>\n",
       "      <th>3</th>\n",
       "      <td>1500</td>\n",
       "      <td>small</td>\n",
       "      <td>2001</td>\n",
       "      <td>manual</td>\n",
       "      <td>75</td>\n",
       "      <td>golf</td>\n",
       "      <td>150000</td>\n",
       "      <td>petrol</td>\n",
       "      <td>volkswagen</td>\n",
       "      <td>no</td>\n",
       "    </tr>\n",
       "    <tr>\n",
       "      <th>4</th>\n",
       "      <td>3600</td>\n",
       "      <td>small</td>\n",
       "      <td>2008</td>\n",
       "      <td>manual</td>\n",
       "      <td>69</td>\n",
       "      <td>fabia</td>\n",
       "      <td>90000</td>\n",
       "      <td>gasoline</td>\n",
       "      <td>skoda</td>\n",
       "      <td>no</td>\n",
       "    </tr>\n",
       "  </tbody>\n",
       "</table>\n",
       "</div>"
      ],
      "text/plain": [
       "   price vehicle_type  registration_year gearbox  power  model  kilometer  \\\n",
       "0    480          NaN               1993  manual      0   golf     150000   \n",
       "1  18300        coupe               2011  manual    190    NaN     125000   \n",
       "2   9800          suv               2004    auto    163  grand     125000   \n",
       "3   1500        small               2001  manual     75   golf     150000   \n",
       "4   3600        small               2008  manual     69  fabia      90000   \n",
       "\n",
       "  fuel_type       brand repaired  \n",
       "0    petrol  volkswagen      NaN  \n",
       "1  gasoline        audi      yes  \n",
       "2  gasoline        jeep      NaN  \n",
       "3    petrol  volkswagen       no  \n",
       "4  gasoline       skoda       no  "
      ]
     },
     "execution_count": 20,
     "metadata": {},
     "output_type": "execute_result"
    }
   ],
   "source": [
    "data.head()"
   ]
  },
  {
   "cell_type": "markdown",
   "metadata": {},
   "source": [
    "Найдем количество пропущенных значений в данных с помощью метода data.isna().sum(), чтобы выявить столбцы с пропусками. Это позволит нам принять решение о том, какие данные необходимо заполнить, удалить или оставить без изменений. Также мы рассчитаем долю пропусков в каждом столбце."
   ]
  },
  {
   "cell_type": "code",
   "execution_count": 22,
   "metadata": {
    "colab": {
     "base_uri": "https://localhost:8080/"
    },
    "id": "VglGpD8eztEH",
    "outputId": "7d8c5e13-02a9-48e8-b51e-94154044b70c"
   },
   "outputs": [
    {
     "data": {
      "text/html": [
       "<div>\n",
       "<style scoped>\n",
       "    .dataframe tbody tr th:only-of-type {\n",
       "        vertical-align: middle;\n",
       "    }\n",
       "\n",
       "    .dataframe tbody tr th {\n",
       "        vertical-align: top;\n",
       "    }\n",
       "\n",
       "    .dataframe thead th {\n",
       "        text-align: right;\n",
       "    }\n",
       "</style>\n",
       "<table border=\"1\" class=\"dataframe\">\n",
       "  <thead>\n",
       "    <tr style=\"text-align: right;\">\n",
       "      <th></th>\n",
       "      <th>Missing Values</th>\n",
       "      <th>Missing Percentage</th>\n",
       "    </tr>\n",
       "  </thead>\n",
       "  <tbody>\n",
       "    <tr>\n",
       "      <th>vehicle_type</th>\n",
       "      <td>37490</td>\n",
       "      <td>10.58</td>\n",
       "    </tr>\n",
       "    <tr>\n",
       "      <th>gearbox</th>\n",
       "      <td>19833</td>\n",
       "      <td>5.60</td>\n",
       "    </tr>\n",
       "    <tr>\n",
       "      <th>model</th>\n",
       "      <td>19705</td>\n",
       "      <td>5.56</td>\n",
       "    </tr>\n",
       "    <tr>\n",
       "      <th>fuel_type</th>\n",
       "      <td>32895</td>\n",
       "      <td>9.28</td>\n",
       "    </tr>\n",
       "    <tr>\n",
       "      <th>repaired</th>\n",
       "      <td>71154</td>\n",
       "      <td>20.08</td>\n",
       "    </tr>\n",
       "  </tbody>\n",
       "</table>\n",
       "</div>"
      ],
      "text/plain": [
       "              Missing Values  Missing Percentage\n",
       "vehicle_type           37490               10.58\n",
       "gearbox                19833                5.60\n",
       "model                  19705                5.56\n",
       "fuel_type              32895                9.28\n",
       "repaired               71154               20.08"
      ]
     },
     "execution_count": 22,
     "metadata": {},
     "output_type": "execute_result"
    }
   ],
   "source": [
    "# Найдем количество и долю пропусков в столбцах, содержащих пропуски\n",
    "missing_data = data.isna().sum()\n",
    "missing_percentage = round((missing_data / len(data) * 100),2)\n",
    "missing_info = pd.DataFrame({'Missing Values': missing_data, 'Missing Percentage': missing_percentage})\n",
    "missing_info[missing_info['Missing Values'] > 0]"
   ]
  },
  {
   "cell_type": "code",
   "execution_count": 23,
   "metadata": {
    "colab": {
     "base_uri": "https://localhost:8080/"
    },
    "id": "T7_IsULEGaJA",
    "outputId": "dcece2a4-be75-4c24-a161-6716e2655132"
   },
   "outputs": [
    {
     "data": {
      "text/plain": [
       "repaired\n",
       "no     247161\n",
       "yes     36054\n",
       "Name: count, dtype: int64"
      ]
     },
     "execution_count": 23,
     "metadata": {},
     "output_type": "execute_result"
    }
   ],
   "source": [
    "data.repaired.value_counts()"
   ]
  },
  {
   "cell_type": "code",
   "execution_count": 24,
   "metadata": {
    "colab": {
     "base_uri": "https://localhost:8080/",
     "height": 488
    },
    "id": "ZSoEkaWUd3nz",
    "outputId": "063dcadb-f814-415a-d1d7-b56b65ec0bda",
    "scrolled": true
   },
   "outputs": [
    {
     "data": {
      "text/html": [
       "<div>\n",
       "<style scoped>\n",
       "    .dataframe tbody tr th:only-of-type {\n",
       "        vertical-align: middle;\n",
       "    }\n",
       "\n",
       "    .dataframe tbody tr th {\n",
       "        vertical-align: top;\n",
       "    }\n",
       "\n",
       "    .dataframe thead th {\n",
       "        text-align: right;\n",
       "    }\n",
       "</style>\n",
       "<table border=\"1\" class=\"dataframe\">\n",
       "  <thead>\n",
       "    <tr style=\"text-align: right;\">\n",
       "      <th></th>\n",
       "      <th>price</th>\n",
       "      <th>vehicle_type</th>\n",
       "      <th>registration_year</th>\n",
       "      <th>gearbox</th>\n",
       "      <th>power</th>\n",
       "      <th>model</th>\n",
       "      <th>kilometer</th>\n",
       "      <th>fuel_type</th>\n",
       "      <th>brand</th>\n",
       "      <th>repaired</th>\n",
       "    </tr>\n",
       "  </thead>\n",
       "  <tbody>\n",
       "    <tr>\n",
       "      <th>0</th>\n",
       "      <td>480</td>\n",
       "      <td>NaN</td>\n",
       "      <td>1993</td>\n",
       "      <td>manual</td>\n",
       "      <td>0</td>\n",
       "      <td>golf</td>\n",
       "      <td>150000</td>\n",
       "      <td>petrol</td>\n",
       "      <td>volkswagen</td>\n",
       "      <td>NaN</td>\n",
       "    </tr>\n",
       "    <tr>\n",
       "      <th>1</th>\n",
       "      <td>18300</td>\n",
       "      <td>coupe</td>\n",
       "      <td>2011</td>\n",
       "      <td>manual</td>\n",
       "      <td>190</td>\n",
       "      <td>NaN</td>\n",
       "      <td>125000</td>\n",
       "      <td>gasoline</td>\n",
       "      <td>audi</td>\n",
       "      <td>yes</td>\n",
       "    </tr>\n",
       "    <tr>\n",
       "      <th>2</th>\n",
       "      <td>9800</td>\n",
       "      <td>suv</td>\n",
       "      <td>2004</td>\n",
       "      <td>auto</td>\n",
       "      <td>163</td>\n",
       "      <td>grand</td>\n",
       "      <td>125000</td>\n",
       "      <td>gasoline</td>\n",
       "      <td>jeep</td>\n",
       "      <td>NaN</td>\n",
       "    </tr>\n",
       "    <tr>\n",
       "      <th>8</th>\n",
       "      <td>14500</td>\n",
       "      <td>bus</td>\n",
       "      <td>2014</td>\n",
       "      <td>manual</td>\n",
       "      <td>125</td>\n",
       "      <td>c_max</td>\n",
       "      <td>30000</td>\n",
       "      <td>petrol</td>\n",
       "      <td>ford</td>\n",
       "      <td>NaN</td>\n",
       "    </tr>\n",
       "    <tr>\n",
       "      <th>9</th>\n",
       "      <td>999</td>\n",
       "      <td>small</td>\n",
       "      <td>1998</td>\n",
       "      <td>manual</td>\n",
       "      <td>101</td>\n",
       "      <td>golf</td>\n",
       "      <td>150000</td>\n",
       "      <td>NaN</td>\n",
       "      <td>volkswagen</td>\n",
       "      <td>NaN</td>\n",
       "    </tr>\n",
       "  </tbody>\n",
       "</table>\n",
       "</div>"
      ],
      "text/plain": [
       "   price vehicle_type  registration_year gearbox  power  model  kilometer  \\\n",
       "0    480          NaN               1993  manual      0   golf     150000   \n",
       "1  18300        coupe               2011  manual    190    NaN     125000   \n",
       "2   9800          suv               2004    auto    163  grand     125000   \n",
       "8  14500          bus               2014  manual    125  c_max      30000   \n",
       "9    999        small               1998  manual    101   golf     150000   \n",
       "\n",
       "  fuel_type       brand repaired  \n",
       "0    petrol  volkswagen      NaN  \n",
       "1  gasoline        audi      yes  \n",
       "2  gasoline        jeep      NaN  \n",
       "8    petrol        ford      NaN  \n",
       "9       NaN  volkswagen      NaN  "
      ]
     },
     "execution_count": 24,
     "metadata": {},
     "output_type": "execute_result"
    }
   ],
   "source": [
    "## Выведем строки, в которых есть пропуски в любых столбцах\n",
    "(data[data.isna().any(axis=1)]).head()"
   ]
  },
  {
   "cell_type": "markdown",
   "metadata": {},
   "source": [
    "Удалим строки, в которых более 2 пропусков из 5 столбцов с пропусками (таких как vehicle_type, fuel_type, model, repaired, gearbox). Это позволит оставить только те строки, где хотя бы 3 из указанных столбцов имеют заполненные значения, что поможет улучшить качество данных для анализа."
   ]
  },
  {
   "cell_type": "code",
   "execution_count": 26,
   "metadata": {},
   "outputs": [],
   "source": [
    "# Удалим строки, в которых более 2 пропусков из 5 столбцов с пропусками\n",
    "data = data.dropna(subset=['vehicle_type', 'fuel_type', 'model', 'repaired', 'gearbox'], thresh=3)"
   ]
  },
  {
   "cell_type": "code",
   "execution_count": 27,
   "metadata": {
    "colab": {
     "base_uri": "https://localhost:8080/",
     "height": 741
    },
    "id": "AZzaHtiRi-7s",
    "outputId": "cffeef47-dbe4-4b05-e98b-489c30c6f592",
    "scrolled": true
   },
   "outputs": [
    {
     "data": {
      "text/html": [
       "<div>\n",
       "<style scoped>\n",
       "    .dataframe tbody tr th:only-of-type {\n",
       "        vertical-align: middle;\n",
       "    }\n",
       "\n",
       "    .dataframe tbody tr th {\n",
       "        vertical-align: top;\n",
       "    }\n",
       "\n",
       "    .dataframe thead th {\n",
       "        text-align: right;\n",
       "    }\n",
       "</style>\n",
       "<table border=\"1\" class=\"dataframe\">\n",
       "  <thead>\n",
       "    <tr style=\"text-align: right;\">\n",
       "      <th></th>\n",
       "      <th>price</th>\n",
       "      <th>vehicle_type</th>\n",
       "      <th>registration_year</th>\n",
       "      <th>gearbox</th>\n",
       "      <th>power</th>\n",
       "      <th>model</th>\n",
       "      <th>kilometer</th>\n",
       "      <th>fuel_type</th>\n",
       "      <th>brand</th>\n",
       "      <th>repaired</th>\n",
       "    </tr>\n",
       "  </thead>\n",
       "  <tbody>\n",
       "    <tr>\n",
       "      <th>0</th>\n",
       "      <td>480</td>\n",
       "      <td>NaN</td>\n",
       "      <td>1993</td>\n",
       "      <td>manual</td>\n",
       "      <td>0</td>\n",
       "      <td>golf</td>\n",
       "      <td>150000</td>\n",
       "      <td>petrol</td>\n",
       "      <td>volkswagen</td>\n",
       "      <td>NaN</td>\n",
       "    </tr>\n",
       "    <tr>\n",
       "      <th>1</th>\n",
       "      <td>18300</td>\n",
       "      <td>coupe</td>\n",
       "      <td>2011</td>\n",
       "      <td>manual</td>\n",
       "      <td>190</td>\n",
       "      <td>NaN</td>\n",
       "      <td>125000</td>\n",
       "      <td>gasoline</td>\n",
       "      <td>audi</td>\n",
       "      <td>yes</td>\n",
       "    </tr>\n",
       "    <tr>\n",
       "      <th>2</th>\n",
       "      <td>9800</td>\n",
       "      <td>suv</td>\n",
       "      <td>2004</td>\n",
       "      <td>auto</td>\n",
       "      <td>163</td>\n",
       "      <td>grand</td>\n",
       "      <td>125000</td>\n",
       "      <td>gasoline</td>\n",
       "      <td>jeep</td>\n",
       "      <td>NaN</td>\n",
       "    </tr>\n",
       "    <tr>\n",
       "      <th>3</th>\n",
       "      <td>1500</td>\n",
       "      <td>small</td>\n",
       "      <td>2001</td>\n",
       "      <td>manual</td>\n",
       "      <td>75</td>\n",
       "      <td>golf</td>\n",
       "      <td>150000</td>\n",
       "      <td>petrol</td>\n",
       "      <td>volkswagen</td>\n",
       "      <td>no</td>\n",
       "    </tr>\n",
       "    <tr>\n",
       "      <th>4</th>\n",
       "      <td>3600</td>\n",
       "      <td>small</td>\n",
       "      <td>2008</td>\n",
       "      <td>manual</td>\n",
       "      <td>69</td>\n",
       "      <td>fabia</td>\n",
       "      <td>90000</td>\n",
       "      <td>gasoline</td>\n",
       "      <td>skoda</td>\n",
       "      <td>no</td>\n",
       "    </tr>\n",
       "    <tr>\n",
       "      <th>5</th>\n",
       "      <td>650</td>\n",
       "      <td>sedan</td>\n",
       "      <td>1995</td>\n",
       "      <td>manual</td>\n",
       "      <td>102</td>\n",
       "      <td>3er</td>\n",
       "      <td>150000</td>\n",
       "      <td>petrol</td>\n",
       "      <td>bmw</td>\n",
       "      <td>yes</td>\n",
       "    </tr>\n",
       "    <tr>\n",
       "      <th>6</th>\n",
       "      <td>2200</td>\n",
       "      <td>convertible</td>\n",
       "      <td>2004</td>\n",
       "      <td>manual</td>\n",
       "      <td>109</td>\n",
       "      <td>2_reihe</td>\n",
       "      <td>150000</td>\n",
       "      <td>petrol</td>\n",
       "      <td>peugeot</td>\n",
       "      <td>no</td>\n",
       "    </tr>\n",
       "    <tr>\n",
       "      <th>7</th>\n",
       "      <td>0</td>\n",
       "      <td>sedan</td>\n",
       "      <td>1980</td>\n",
       "      <td>manual</td>\n",
       "      <td>50</td>\n",
       "      <td>other</td>\n",
       "      <td>40000</td>\n",
       "      <td>petrol</td>\n",
       "      <td>volkswagen</td>\n",
       "      <td>no</td>\n",
       "    </tr>\n",
       "    <tr>\n",
       "      <th>8</th>\n",
       "      <td>14500</td>\n",
       "      <td>bus</td>\n",
       "      <td>2014</td>\n",
       "      <td>manual</td>\n",
       "      <td>125</td>\n",
       "      <td>c_max</td>\n",
       "      <td>30000</td>\n",
       "      <td>petrol</td>\n",
       "      <td>ford</td>\n",
       "      <td>NaN</td>\n",
       "    </tr>\n",
       "    <tr>\n",
       "      <th>9</th>\n",
       "      <td>999</td>\n",
       "      <td>small</td>\n",
       "      <td>1998</td>\n",
       "      <td>manual</td>\n",
       "      <td>101</td>\n",
       "      <td>golf</td>\n",
       "      <td>150000</td>\n",
       "      <td>NaN</td>\n",
       "      <td>volkswagen</td>\n",
       "      <td>NaN</td>\n",
       "    </tr>\n",
       "  </tbody>\n",
       "</table>\n",
       "</div>"
      ],
      "text/plain": [
       "   price vehicle_type  registration_year gearbox  power    model  kilometer  \\\n",
       "0    480          NaN               1993  manual      0     golf     150000   \n",
       "1  18300        coupe               2011  manual    190      NaN     125000   \n",
       "2   9800          suv               2004    auto    163    grand     125000   \n",
       "3   1500        small               2001  manual     75     golf     150000   \n",
       "4   3600        small               2008  manual     69    fabia      90000   \n",
       "5    650        sedan               1995  manual    102      3er     150000   \n",
       "6   2200  convertible               2004  manual    109  2_reihe     150000   \n",
       "7      0        sedan               1980  manual     50    other      40000   \n",
       "8  14500          bus               2014  manual    125    c_max      30000   \n",
       "9    999        small               1998  manual    101     golf     150000   \n",
       "\n",
       "  fuel_type       brand repaired  \n",
       "0    petrol  volkswagen      NaN  \n",
       "1  gasoline        audi      yes  \n",
       "2  gasoline        jeep      NaN  \n",
       "3    petrol  volkswagen       no  \n",
       "4  gasoline       skoda       no  \n",
       "5    petrol         bmw      yes  \n",
       "6    petrol     peugeot       no  \n",
       "7    petrol  volkswagen       no  \n",
       "8    petrol        ford      NaN  \n",
       "9       NaN  volkswagen      NaN  "
      ]
     },
     "execution_count": 27,
     "metadata": {},
     "output_type": "execute_result"
    }
   ],
   "source": [
    "data.head(10)"
   ]
  },
  {
   "cell_type": "code",
   "execution_count": 28,
   "metadata": {},
   "outputs": [
    {
     "data": {
      "text/plain": [
       "array(['volkswagen', 'audi', 'jeep', 'skoda', 'bmw', 'peugeot', 'ford',\n",
       "       'mazda', 'nissan', 'renault', 'mercedes_benz', 'opel', 'seat',\n",
       "       'citroen', 'honda', 'fiat', 'mini', 'smart', 'alfa_romeo',\n",
       "       'subaru', 'volvo', 'mitsubishi', 'kia', 'hyundai', 'suzuki',\n",
       "       'lancia', 'toyota', 'chevrolet', 'dacia', 'sonstige_autos',\n",
       "       'daihatsu', 'saab', 'chrysler', 'jaguar', 'daewoo', 'rover',\n",
       "       'porsche', 'land_rover', 'trabant', 'lada'], dtype=object)"
      ]
     },
     "execution_count": 28,
     "metadata": {},
     "output_type": "execute_result"
    }
   ],
   "source": [
    "data.brand.unique()"
   ]
  },
  {
   "cell_type": "markdown",
   "metadata": {},
   "source": [
    "В брендах ошибок и дубликатов не выявлено. Выведем уникальные значения в столбце \"тип топлива\":"
   ]
  },
  {
   "cell_type": "code",
   "execution_count": 30,
   "metadata": {
    "colab": {
     "base_uri": "https://localhost:8080/"
    },
    "id": "jsbmgZ9sqfxy",
    "outputId": "9ca8e0a5-a68a-4f53-ab8a-b0fd61b17440"
   },
   "outputs": [
    {
     "data": {
      "text/plain": [
       "fuel_type\n",
       "petrol      213687\n",
       "gasoline     97814\n",
       "lpg           5254\n",
       "cng            561\n",
       "hybrid         230\n",
       "other          169\n",
       "electric        86\n",
       "Name: count, dtype: int64"
      ]
     },
     "execution_count": 30,
     "metadata": {},
     "output_type": "execute_result"
    }
   ],
   "source": [
    "data.fuel_type.value_counts()"
   ]
  },
  {
   "cell_type": "markdown",
   "metadata": {},
   "source": [
    "Переименуем значение gasoline в petrol, так как оба термина обозначают одно и то же топливо (бензин), но используются в разных странах. Это поможет объединить все записи, связанные с бензином, в одну категорию, что улучшит консистентность данных и упростит дальнейший анализ."
   ]
  },
  {
   "cell_type": "code",
   "execution_count": 32,
   "metadata": {
    "id": "37fSQj5eqpNa"
   },
   "outputs": [],
   "source": [
    "# Переименуем 'gasoline' в 'petrol'\n",
    "data['fuel_type'] = data['fuel_type'].replace('gasoline', 'petrol')"
   ]
  },
  {
   "cell_type": "markdown",
   "metadata": {},
   "source": [
    "Заполним пропуски в столбце fuel_type значением 'other', чтобы указать на редкие или неизвестные типы топлива. Это поможет избежать потери данных и сохранить полноту набора, при этом не искажая анализ."
   ]
  },
  {
   "cell_type": "code",
   "execution_count": 35,
   "metadata": {
    "id": "Fj6gr_kyq4wh"
   },
   "outputs": [],
   "source": [
    "# Заполняем пропуски в столбце 'fuel_type' значением 'other'\n",
    "data['fuel_type'] = data['fuel_type'].fillna(value='other')"
   ]
  },
  {
   "cell_type": "markdown",
   "metadata": {},
   "source": [
    "Выведем уникальные значения в столбце \"тип кузова\":"
   ]
  },
  {
   "cell_type": "code",
   "execution_count": 37,
   "metadata": {
    "colab": {
     "base_uri": "https://localhost:8080/"
    },
    "id": "R8QbVaXxq5wC",
    "outputId": "9752b337-eca5-44c2-8bdb-ee9f910f6c38"
   },
   "outputs": [
    {
     "data": {
      "text/plain": [
       "vehicle_type\n",
       "sedan          90870\n",
       "small          79059\n",
       "wagon          64683\n",
       "bus            28570\n",
       "convertible    20010\n",
       "coupe          15995\n",
       "suv            11896\n",
       "other           3136\n",
       "Name: count, dtype: int64"
      ]
     },
     "execution_count": 37,
     "metadata": {},
     "output_type": "execute_result"
    }
   ],
   "source": [
    "data.vehicle_type.value_counts()"
   ]
  },
  {
   "cell_type": "markdown",
   "metadata": {},
   "source": [
    "Поскольку невозможно определить тип кузова для пропущенных значений, заменим пропуски в этом столбце на значение 'other'. Это позволит сохранить целостность данных и предотвратить потерю информации."
   ]
  },
  {
   "cell_type": "code",
   "execution_count": 39,
   "metadata": {
    "id": "kEt3mnNKq59C"
   },
   "outputs": [],
   "source": [
    "# Заполняем пропуски в столбце 'vehicle_type' значением 'other', поскольку невозможно узнать тип кузова\n",
    "data['vehicle_type'] = data['vehicle_type'].fillna(value='other')"
   ]
  },
  {
   "cell_type": "markdown",
   "metadata": {},
   "source": [
    "Выведем уникальные значения в столбце \"коробка передач\":"
   ]
  },
  {
   "cell_type": "code",
   "execution_count": 41,
   "metadata": {
    "colab": {
     "base_uri": "https://localhost:8080/"
    },
    "id": "a_dzWkhBq6Ia",
    "outputId": "88a35256-9950-4b56-903b-e366dab9e422"
   },
   "outputs": [
    {
     "data": {
      "text/plain": [
       "gearbox\n",
       "manual    262289\n",
       "auto       65098\n",
       "Name: count, dtype: int64"
      ]
     },
     "execution_count": 41,
     "metadata": {},
     "output_type": "execute_result"
    }
   ],
   "source": [
    "# найдем уникальные значения стобца \"коробка передач\"\n",
    "data.gearbox.value_counts()"
   ]
  },
  {
   "cell_type": "markdown",
   "metadata": {},
   "source": [
    "Заполним пропуски в столбце значением 'unknown', так как отсутствует информация о коробке передач. Это позволит избежать потери данных и сохранить целостность набора."
   ]
  },
  {
   "cell_type": "code",
   "execution_count": 43,
   "metadata": {
    "id": "MAvVjOomrola"
   },
   "outputs": [],
   "source": [
    "# Заполняем пропуски в столбце 'gearbox' значением 'unknown'\n",
    "data['gearbox'] = data['gearbox'].fillna('unknown')"
   ]
  },
  {
   "cell_type": "markdown",
   "metadata": {},
   "source": [
    "Заполним пропуски в столбцах model и repaired значением 'unknown', так как информация о модели и ремонте автомобиля отсутствует. Это поможет сохранить целостность данных и избежать потери информации."
   ]
  },
  {
   "cell_type": "code",
   "execution_count": 45,
   "metadata": {
    "id": "jEB-9qODstk5"
   },
   "outputs": [],
   "source": [
    "# Заполняем пропуски в столбцах 'model' и 'repaired' значением 'unknown'\n",
    "data['model'] = data['model'].fillna('unknown')\n",
    "data['repaired'] = data['repaired'].fillna('unknown')"
   ]
  },
  {
   "cell_type": "markdown",
   "metadata": {},
   "source": [
    "Проверим, что пропусков не осталось:"
   ]
  },
  {
   "cell_type": "code",
   "execution_count": 47,
   "metadata": {
    "colab": {
     "base_uri": "https://localhost:8080/"
    },
    "id": "tO5X4ehOsldK",
    "outputId": "5ddc982a-6ce0-486c-8a16-83ec6f9f8f39",
    "scrolled": true
   },
   "outputs": [
    {
     "data": {
      "text/plain": [
       "price                0\n",
       "vehicle_type         0\n",
       "registration_year    0\n",
       "gearbox              0\n",
       "power                0\n",
       "model                0\n",
       "kilometer            0\n",
       "fuel_type            0\n",
       "brand                0\n",
       "repaired             0\n",
       "dtype: int64"
      ]
     },
     "execution_count": 47,
     "metadata": {},
     "output_type": "execute_result"
    }
   ],
   "source": [
    "data.isna().sum()"
   ]
  },
  {
   "cell_type": "markdown",
   "metadata": {},
   "source": [
    "Выведем статистику по данным:"
   ]
  },
  {
   "cell_type": "code",
   "execution_count": 50,
   "metadata": {},
   "outputs": [
    {
     "data": {
      "text/html": [
       "<div>\n",
       "<style scoped>\n",
       "    .dataframe tbody tr th:only-of-type {\n",
       "        vertical-align: middle;\n",
       "    }\n",
       "\n",
       "    .dataframe tbody tr th {\n",
       "        vertical-align: top;\n",
       "    }\n",
       "\n",
       "    .dataframe thead th {\n",
       "        text-align: right;\n",
       "    }\n",
       "</style>\n",
       "<table border=\"1\" class=\"dataframe\">\n",
       "  <thead>\n",
       "    <tr style=\"text-align: right;\">\n",
       "      <th></th>\n",
       "      <th>price</th>\n",
       "      <th>registration_year</th>\n",
       "      <th>power</th>\n",
       "      <th>kilometer</th>\n",
       "    </tr>\n",
       "  </thead>\n",
       "  <tbody>\n",
       "    <tr>\n",
       "      <th>count</th>\n",
       "      <td>336341.000000</td>\n",
       "      <td>336341.000000</td>\n",
       "      <td>336341.000000</td>\n",
       "      <td>336341.000000</td>\n",
       "    </tr>\n",
       "    <tr>\n",
       "      <th>mean</th>\n",
       "      <td>4553.614353</td>\n",
       "      <td>2003.125875</td>\n",
       "      <td>113.244564</td>\n",
       "      <td>128695.133808</td>\n",
       "    </tr>\n",
       "    <tr>\n",
       "      <th>std</th>\n",
       "      <td>4543.547482</td>\n",
       "      <td>25.526192</td>\n",
       "      <td>190.317847</td>\n",
       "      <td>36925.954362</td>\n",
       "    </tr>\n",
       "    <tr>\n",
       "      <th>min</th>\n",
       "      <td>0.000000</td>\n",
       "      <td>1000.000000</td>\n",
       "      <td>0.000000</td>\n",
       "      <td>5000.000000</td>\n",
       "    </tr>\n",
       "    <tr>\n",
       "      <th>25%</th>\n",
       "      <td>1199.000000</td>\n",
       "      <td>1999.000000</td>\n",
       "      <td>75.000000</td>\n",
       "      <td>125000.000000</td>\n",
       "    </tr>\n",
       "    <tr>\n",
       "      <th>50%</th>\n",
       "      <td>2899.000000</td>\n",
       "      <td>2003.000000</td>\n",
       "      <td>105.000000</td>\n",
       "      <td>150000.000000</td>\n",
       "    </tr>\n",
       "    <tr>\n",
       "      <th>75%</th>\n",
       "      <td>6500.000000</td>\n",
       "      <td>2007.000000</td>\n",
       "      <td>143.000000</td>\n",
       "      <td>150000.000000</td>\n",
       "    </tr>\n",
       "    <tr>\n",
       "      <th>max</th>\n",
       "      <td>20000.000000</td>\n",
       "      <td>9000.000000</td>\n",
       "      <td>20000.000000</td>\n",
       "      <td>150000.000000</td>\n",
       "    </tr>\n",
       "  </tbody>\n",
       "</table>\n",
       "</div>"
      ],
      "text/plain": [
       "               price  registration_year          power      kilometer\n",
       "count  336341.000000      336341.000000  336341.000000  336341.000000\n",
       "mean     4553.614353        2003.125875     113.244564  128695.133808\n",
       "std      4543.547482          25.526192     190.317847   36925.954362\n",
       "min         0.000000        1000.000000       0.000000    5000.000000\n",
       "25%      1199.000000        1999.000000      75.000000  125000.000000\n",
       "50%      2899.000000        2003.000000     105.000000  150000.000000\n",
       "75%      6500.000000        2007.000000     143.000000  150000.000000\n",
       "max     20000.000000        9000.000000   20000.000000  150000.000000"
      ]
     },
     "execution_count": 50,
     "metadata": {},
     "output_type": "execute_result"
    }
   ],
   "source": [
    "data.describe()"
   ]
  },
  {
   "cell_type": "markdown",
   "metadata": {},
   "source": [
    "Данные содержат 336341 записей о транспортных средствах с параметрами цены, года регистрации, мощности и пробега.\n",
    "\n",
    "\t•\tЦена автомобилей варьируется от 0 до 20 000 (средняя — 4553), но возможны выбросы, так как минимальное значение 0 нереалистично.\n",
    "\t•\tГод регистрации в среднем 2003, но встречаются аномалии (1000, 9000), что требует очистки.\n",
    "\t•\tМощность автомобилей колеблется от 0 до 20 000 л.с., что также указывает на возможные ошибки. Среднее значение — 113 л.с..\n",
    "\t•\tПробег автомобилей в среднем 128 695 км, при этом 75% значений не превышают 150 000 км, что выглядит реалистично.\n",
    "\t•\tДанные содержат выбросы и ошибки, требующие предварительной обработки."
   ]
  },
  {
   "cell_type": "markdown",
   "metadata": {},
   "source": [
    "Проверим уникальные значения в столбце \"год регистрации\":"
   ]
  },
  {
   "cell_type": "code",
   "execution_count": 53,
   "metadata": {
    "colab": {
     "base_uri": "https://localhost:8080/"
    },
    "id": "uTh0KLaps71x",
    "outputId": "bf97c431-5b0c-4098-df39-0c054c8744df"
   },
   "outputs": [
    {
     "data": {
      "text/plain": [
       "array([1993, 2011, 2004, 2001, 2008, 1995, 1980, 2014, 1998, 2005, 1910,\n",
       "       2007, 2009, 2002, 2018, 1997, 1990, 2017, 1981, 2003, 2016, 1994,\n",
       "       1991, 1984, 2006, 1999, 2012, 2010, 2000, 1992, 2013, 1996, 1989,\n",
       "       2015, 1985, 1982, 1976, 1983, 1973, 1969, 1971, 1987, 1986, 1988,\n",
       "       1965, 1970, 1945, 1974, 1979, 1955, 1978, 1972, 1968, 1977, 1961,\n",
       "       1960, 1966, 1975, 1963, 1964, 1954, 1958, 1967, 1959, 1956, 1941,\n",
       "       1962, 1929, 1957, 1940, 1949, 1937, 1951, 1953, 2019, 2900, 6000,\n",
       "       1400, 1950, 4000, 1948, 1952, 1200, 1932, 3700, 5000, 1942, 1935,\n",
       "       1933, 1936, 6500, 1923, 1930, 1943, 1934, 1938, 9000, 1000, 1919,\n",
       "       1928, 1931, 1602, 1927, 1947, 1946, 7500, 1944, 1600])"
      ]
     },
     "execution_count": 53,
     "metadata": {},
     "output_type": "execute_result"
    }
   ],
   "source": [
    "data['registration_year'].unique()"
   ]
  },
  {
   "cell_type": "markdown",
   "metadata": {
    "id": "qpmZlFX41P57"
   },
   "source": [
    "Поскольку наши данные относятся к 2016 году (что подтверждается годами выгрузки анкет), удалим все строки с годом регистрации после 2016 года, так как такие автомобили не могли быть включены в набор данных. Также, учитывая, что автомобили с годом выпуска до 1900 года явно являются аномалиями, удалим и эти строки."
   ]
  },
  {
   "cell_type": "code",
   "execution_count": 55,
   "metadata": {
    "id": "MaMWQgAew4Xs"
   },
   "outputs": [],
   "source": [
    "# Отбираем строки, где год регистрации между 1900 и 2016 годами включительно\n",
    "df = data.loc[(data['registration_year'] <= 2016) & (data['registration_year'] >= 1900)]"
   ]
  },
  {
   "cell_type": "code",
   "execution_count": 59,
   "metadata": {
    "colab": {
     "base_uri": "https://localhost:8080/"
    },
    "id": "wsY75J3VyKo6",
    "outputId": "44a0c466-7381-45b6-9c24-e1f01d63e8d1"
   },
   "outputs": [
    {
     "data": {
      "text/plain": [
       "array([1993, 2011, 2004, 2001, 2008, 1995, 1980, 2014, 1998, 2005, 1910,\n",
       "       2007, 2009, 2002, 1997, 1990, 1981, 2003, 2016, 1994, 1991, 1984,\n",
       "       2006, 1999, 2012, 2010, 2000, 1992, 2013, 1996, 1989, 2015, 1985,\n",
       "       1982, 1976, 1983, 1973, 1969, 1971, 1987, 1986, 1988, 1965, 1970,\n",
       "       1945, 1974, 1979, 1955, 1978, 1972, 1968, 1977, 1961, 1960, 1966,\n",
       "       1975, 1963, 1964, 1954, 1958, 1967, 1959, 1956, 1941, 1962, 1929,\n",
       "       1957, 1940, 1949, 1937, 1951, 1953, 1950, 1948, 1952, 1932, 1942,\n",
       "       1935, 1933, 1936, 1923, 1930, 1943, 1934, 1938, 1919, 1928, 1931,\n",
       "       1927, 1947, 1946, 1944])"
      ]
     },
     "execution_count": 59,
     "metadata": {},
     "output_type": "execute_result"
    }
   ],
   "source": [
    "df['registration_year'].unique()"
   ]
  },
  {
   "cell_type": "markdown",
   "metadata": {},
   "source": [
    "Проверим данные:"
   ]
  },
  {
   "cell_type": "code",
   "execution_count": 61,
   "metadata": {
    "colab": {
     "base_uri": "https://localhost:8080/",
     "height": 427
    },
    "id": "KQ-SFEf3zV5A",
    "outputId": "9ec65002-4516-4eef-8aeb-94fc426da6dd",
    "scrolled": true
   },
   "outputs": [
    {
     "data": {
      "text/html": [
       "<div>\n",
       "<style scoped>\n",
       "    .dataframe tbody tr th:only-of-type {\n",
       "        vertical-align: middle;\n",
       "    }\n",
       "\n",
       "    .dataframe tbody tr th {\n",
       "        vertical-align: top;\n",
       "    }\n",
       "\n",
       "    .dataframe thead th {\n",
       "        text-align: right;\n",
       "    }\n",
       "</style>\n",
       "<table border=\"1\" class=\"dataframe\">\n",
       "  <thead>\n",
       "    <tr style=\"text-align: right;\">\n",
       "      <th></th>\n",
       "      <th>price</th>\n",
       "      <th>vehicle_type</th>\n",
       "      <th>registration_year</th>\n",
       "      <th>gearbox</th>\n",
       "      <th>power</th>\n",
       "      <th>model</th>\n",
       "      <th>kilometer</th>\n",
       "      <th>fuel_type</th>\n",
       "      <th>brand</th>\n",
       "      <th>repaired</th>\n",
       "    </tr>\n",
       "  </thead>\n",
       "  <tbody>\n",
       "    <tr>\n",
       "      <th>0</th>\n",
       "      <td>480</td>\n",
       "      <td>other</td>\n",
       "      <td>1993</td>\n",
       "      <td>manual</td>\n",
       "      <td>0</td>\n",
       "      <td>golf</td>\n",
       "      <td>150000</td>\n",
       "      <td>petrol</td>\n",
       "      <td>volkswagen</td>\n",
       "      <td>unknown</td>\n",
       "    </tr>\n",
       "    <tr>\n",
       "      <th>1</th>\n",
       "      <td>18300</td>\n",
       "      <td>coupe</td>\n",
       "      <td>2011</td>\n",
       "      <td>manual</td>\n",
       "      <td>190</td>\n",
       "      <td>unknown</td>\n",
       "      <td>125000</td>\n",
       "      <td>petrol</td>\n",
       "      <td>audi</td>\n",
       "      <td>yes</td>\n",
       "    </tr>\n",
       "    <tr>\n",
       "      <th>2</th>\n",
       "      <td>9800</td>\n",
       "      <td>suv</td>\n",
       "      <td>2004</td>\n",
       "      <td>auto</td>\n",
       "      <td>163</td>\n",
       "      <td>grand</td>\n",
       "      <td>125000</td>\n",
       "      <td>petrol</td>\n",
       "      <td>jeep</td>\n",
       "      <td>unknown</td>\n",
       "    </tr>\n",
       "    <tr>\n",
       "      <th>3</th>\n",
       "      <td>1500</td>\n",
       "      <td>small</td>\n",
       "      <td>2001</td>\n",
       "      <td>manual</td>\n",
       "      <td>75</td>\n",
       "      <td>golf</td>\n",
       "      <td>150000</td>\n",
       "      <td>petrol</td>\n",
       "      <td>volkswagen</td>\n",
       "      <td>no</td>\n",
       "    </tr>\n",
       "    <tr>\n",
       "      <th>4</th>\n",
       "      <td>3600</td>\n",
       "      <td>small</td>\n",
       "      <td>2008</td>\n",
       "      <td>manual</td>\n",
       "      <td>69</td>\n",
       "      <td>fabia</td>\n",
       "      <td>90000</td>\n",
       "      <td>petrol</td>\n",
       "      <td>skoda</td>\n",
       "      <td>no</td>\n",
       "    </tr>\n",
       "    <tr>\n",
       "      <th>5</th>\n",
       "      <td>650</td>\n",
       "      <td>sedan</td>\n",
       "      <td>1995</td>\n",
       "      <td>manual</td>\n",
       "      <td>102</td>\n",
       "      <td>3er</td>\n",
       "      <td>150000</td>\n",
       "      <td>petrol</td>\n",
       "      <td>bmw</td>\n",
       "      <td>yes</td>\n",
       "    </tr>\n",
       "    <tr>\n",
       "      <th>6</th>\n",
       "      <td>2200</td>\n",
       "      <td>convertible</td>\n",
       "      <td>2004</td>\n",
       "      <td>manual</td>\n",
       "      <td>109</td>\n",
       "      <td>2_reihe</td>\n",
       "      <td>150000</td>\n",
       "      <td>petrol</td>\n",
       "      <td>peugeot</td>\n",
       "      <td>no</td>\n",
       "    </tr>\n",
       "    <tr>\n",
       "      <th>7</th>\n",
       "      <td>0</td>\n",
       "      <td>sedan</td>\n",
       "      <td>1980</td>\n",
       "      <td>manual</td>\n",
       "      <td>50</td>\n",
       "      <td>other</td>\n",
       "      <td>40000</td>\n",
       "      <td>petrol</td>\n",
       "      <td>volkswagen</td>\n",
       "      <td>no</td>\n",
       "    </tr>\n",
       "    <tr>\n",
       "      <th>8</th>\n",
       "      <td>14500</td>\n",
       "      <td>bus</td>\n",
       "      <td>2014</td>\n",
       "      <td>manual</td>\n",
       "      <td>125</td>\n",
       "      <td>c_max</td>\n",
       "      <td>30000</td>\n",
       "      <td>petrol</td>\n",
       "      <td>ford</td>\n",
       "      <td>unknown</td>\n",
       "    </tr>\n",
       "    <tr>\n",
       "      <th>9</th>\n",
       "      <td>999</td>\n",
       "      <td>small</td>\n",
       "      <td>1998</td>\n",
       "      <td>manual</td>\n",
       "      <td>101</td>\n",
       "      <td>golf</td>\n",
       "      <td>150000</td>\n",
       "      <td>other</td>\n",
       "      <td>volkswagen</td>\n",
       "      <td>unknown</td>\n",
       "    </tr>\n",
       "  </tbody>\n",
       "</table>\n",
       "</div>"
      ],
      "text/plain": [
       "   price vehicle_type  registration_year gearbox  power    model  kilometer  \\\n",
       "0    480        other               1993  manual      0     golf     150000   \n",
       "1  18300        coupe               2011  manual    190  unknown     125000   \n",
       "2   9800          suv               2004    auto    163    grand     125000   \n",
       "3   1500        small               2001  manual     75     golf     150000   \n",
       "4   3600        small               2008  manual     69    fabia      90000   \n",
       "5    650        sedan               1995  manual    102      3er     150000   \n",
       "6   2200  convertible               2004  manual    109  2_reihe     150000   \n",
       "7      0        sedan               1980  manual     50    other      40000   \n",
       "8  14500          bus               2014  manual    125    c_max      30000   \n",
       "9    999        small               1998  manual    101     golf     150000   \n",
       "\n",
       "  fuel_type       brand repaired  \n",
       "0    petrol  volkswagen  unknown  \n",
       "1    petrol        audi      yes  \n",
       "2    petrol        jeep  unknown  \n",
       "3    petrol  volkswagen       no  \n",
       "4    petrol       skoda       no  \n",
       "5    petrol         bmw      yes  \n",
       "6    petrol     peugeot       no  \n",
       "7    petrol  volkswagen       no  \n",
       "8    petrol        ford  unknown  \n",
       "9     other  volkswagen  unknown  "
      ]
     },
     "execution_count": 61,
     "metadata": {},
     "output_type": "execute_result"
    }
   ],
   "source": [
    "df.head(10)"
   ]
  },
  {
   "cell_type": "markdown",
   "metadata": {},
   "source": [
    "Выведем уникальные значения в столбце \"мощность\":"
   ]
  },
  {
   "cell_type": "code",
   "execution_count": 63,
   "metadata": {
    "colab": {
     "base_uri": "https://localhost:8080/"
    },
    "id": "SVzlgAZcuR75",
    "outputId": "a26f82e1-560f-4832-9f81-d4b5907975e8"
   },
   "outputs": [
    {
     "data": {
      "text/plain": [
       "power\n",
       "0       27732\n",
       "75      22234\n",
       "60      14739\n",
       "150     13922\n",
       "101     12496\n",
       "        ...  \n",
       "851         1\n",
       "1339        1\n",
       "1056        1\n",
       "1999        1\n",
       "1241        1\n",
       "Name: count, Length: 691, dtype: int64"
      ]
     },
     "execution_count": 63,
     "metadata": {},
     "output_type": "execute_result"
    }
   ],
   "source": [
    "df.power.value_counts()"
   ]
  },
  {
   "cell_type": "markdown",
   "metadata": {},
   "source": [
    "Данные выглядят аномально, построим графики для изуализации распределений:"
   ]
  },
  {
   "cell_type": "code",
   "execution_count": 65,
   "metadata": {
    "colab": {
     "base_uri": "https://localhost:8080/",
     "height": 283
    },
    "id": "Fepdm-G646zP",
    "outputId": "a591fc6d-4248-425f-886c-1fb7cfa0caf3"
   },
   "outputs": [
    {
     "data": {
      "image/png": "[encoded data removed]",
      "text/plain": [
       "<Figure size 500x300 with 1 Axes>"
      ]
     },
     "metadata": {},
     "output_type": "display_data"
    }
   ],
   "source": [
    "# Строим гистограмму для столбца 'power'\n",
    "plt.figure(figsize=(5, 3))\n",
    "plt.hist(data['power'], bins=50, color='skyblue', edgecolor='black')\n",
    "\n",
    "# Добавляем заголовки\n",
    "plt.title('Распределение мощности автомобилей')\n",
    "plt.xlabel('Мощность (л.с.)')\n",
    "plt.ylabel('Частота')\n",
    "\n",
    "# Поворот подписей на оси X для лучшей читаемости\n",
    "plt.xticks(rotation=45)\n",
    "\n",
    "# Плотно располагаем элементы графика\n",
    "plt.tight_layout()\n",
    "\n",
    "# Показываем график\n",
    "plt.show()"
   ]
  },
  {
   "cell_type": "code",
   "execution_count": 66,
   "metadata": {},
   "outputs": [
    {
     "data": {
      "image/png": "[encoded data removed]",
      "text/plain": [
       "<Figure size 1000x300 with 1 Axes>"
      ]
     },
     "metadata": {},
     "output_type": "display_data"
    }
   ],
   "source": [
    "# Дополнительно посмотрим ящик с усами для мощности, так как по графику выбросы плохо понятны\n",
    "plt.figure(figsize=(10, 3))\n",
    "sns.boxplot(data=df['power'], orient='h')  # Горизонтальный ящик с усами\n",
    "plt.title('Ящик с усами для мощности автомобилей')  # Заголовок графика\n",
    "plt.xlabel('Мощность')  # Подпись оси X\n",
    "plt.ylabel('Частота')  # Подпись оси Y\n",
    "plt.tight_layout()  # Автоматическая настройка элементов графика\n",
    "plt.show()"
   ]
  },
  {
   "cell_type": "markdown",
   "metadata": {},
   "source": [
    "Мощность двигателя в 0 л.с. невозможна, а значение в 20,000 л.с. также крайне маловероятно для серийных автомобилей. Такие значения не соответствуют реальности, поэтому я удалю все строки с такими показателями. По данным, найденным в интернете, самый мощный автомобиль в мире на данный момент имеет мощность около 2000 л.с., поэтому все значения выше этого лимита также будут удалены. Кроме того, для старых автомобилей, мощность составляет всего 10 л.с., что является минимальным значением для легковых автомобилей."
   ]
  },
  {
   "cell_type": "code",
   "execution_count": 68,
   "metadata": {},
   "outputs": [],
   "source": [
    "df = df.query('10 <= power <= 2000')"
   ]
  },
  {
   "cell_type": "markdown",
   "metadata": {},
   "source": [
    "Проверим рапсределение после удаления аномалий:"
   ]
  },
  {
   "cell_type": "code",
   "execution_count": 73,
   "metadata": {},
   "outputs": [
    {
     "data": {
      "image/png": "[encoded data removed]",
      "text/plain": [
       "<Figure size 1000x300 with 1 Axes>"
      ]
     },
     "metadata": {},
     "output_type": "display_data"
    }
   ],
   "source": [
    "# Повторно посмотрим ящик с усами для мощности\n",
    "plt.figure(figsize=(10, 3))\n",
    "sns.boxplot(data=df['power'], orient='h')  # Горизонтальный ящик с усами\n",
    "plt.title('Ящик с усами для мощности автомобилей')  # Заголовок графика\n",
    "plt.xlabel('Мощность')  # Подпись оси X\n",
    "plt.ylabel('Частота')  # Подпись оси Y\n",
    "plt.tight_layout()  # Автоматическая настройка элементов графика\n",
    "plt.show()"
   ]
  },
  {
   "cell_type": "markdown",
   "metadata": {},
   "source": [
    "Проверим адекватность данных стоимости автомобиля:"
   ]
  },
  {
   "cell_type": "code",
   "execution_count": 75,
   "metadata": {},
   "outputs": [
    {
     "data": {
      "text/plain": [
       "price\n",
       "0        5868\n",
       "1500     4339\n",
       "500      4326\n",
       "2500     3651\n",
       "1200     3646\n",
       "         ... \n",
       "5377        1\n",
       "3021        1\n",
       "1368        1\n",
       "11080       1\n",
       "10985       1\n",
       "Name: count, Length: 3579, dtype: int64"
      ]
     },
     "execution_count": 75,
     "metadata": {},
     "output_type": "execute_result"
    }
   ],
   "source": [
    "df.price.value_counts()"
   ]
  },
  {
   "cell_type": "code",
   "execution_count": 76,
   "metadata": {},
   "outputs": [
    {
     "data": {
      "image/png": "[encoded data removed]",
      "text/plain": [
       "<Figure size 500x300 with 1 Axes>"
      ]
     },
     "metadata": {},
     "output_type": "display_data"
    }
   ],
   "source": [
    "# Строим гистограмму для столбца 'price'\n",
    "plt.figure(figsize=(5, 3))\n",
    "plt.hist(data['price'], bins=50, color='skyblue', edgecolor='black')\n",
    "\n",
    "# Добавляем заголовки\n",
    "plt.title('Распределение стоимости автомобилей')\n",
    "plt.xlabel('Стоимость, евро')\n",
    "plt.ylabel('Частота')\n",
    "\n",
    "# Поворот подписей на оси X для лучшей читаемости\n",
    "plt.xticks(rotation=45)\n",
    "\n",
    "# Плотно располагаем элементы графика\n",
    "plt.tight_layout()\n",
    "\n",
    "# Показываем график\n",
    "plt.show()"
   ]
  },
  {
   "cell_type": "code",
   "execution_count": 77,
   "metadata": {},
   "outputs": [
    {
     "data": {
      "image/png": "[encoded data removed]",
      "text/plain": [
       "<Figure size 1000x300 with 1 Axes>"
      ]
     },
     "metadata": {},
     "output_type": "display_data"
    }
   ],
   "source": [
    "# Дополнительно посмотрим ящик с усами для цены, так как по графику выбросы плохо понятны\n",
    "plt.figure(figsize=(10, 3))\n",
    "sns.boxplot(data=df['price'], orient='h')  # Горизонтальный ящик с усами\n",
    "plt.title('Ящик с усами для цены автомобилей')  # Заголовок графика\n",
    "plt.xlabel('Цена')  # Подпись оси X\n",
    "plt.ylabel('Частота')  # Подпись оси Y\n",
    "plt.tight_layout()  # Автоматическая настройка элементов графика\n",
    "plt.show()"
   ]
  },
  {
   "cell_type": "markdown",
   "metadata": {},
   "source": [
    "Цена 0 евро невозможна и является аномальным значением. Однако автомобили стоимостью выше 15,000 евро представляют ценность для анализа, поэтому они не должны быть удалены. Чтобы исключить только слишком низкие значения, определим 5% квантиль (0.05) и удалим наблюдения с ценой ниже этого порога. Это позволит избавиться от аномально низких значений, сохранив при этом дорогостоящие автомобили."
   ]
  },
  {
   "cell_type": "code",
   "execution_count": 82,
   "metadata": {},
   "outputs": [
    {
     "data": {
      "text/plain": [
       "250.0"
      ]
     },
     "execution_count": 82,
     "metadata": {},
     "output_type": "execute_result"
    }
   ],
   "source": [
    "data.price.quantile(0.05)\n"
   ]
  },
  {
   "cell_type": "code",
   "execution_count": 83,
   "metadata": {},
   "outputs": [],
   "source": [
    "# Определяем 5% квантиль для цены\n",
    "lower_quantile = df['price'].quantile(0.05)\n",
    "\n",
    "# Фильтруем данные, оставляя только строки, где цена выше или равна нижнему квантилю\n",
    "df = df.query('price >= @lower_quantile')"
   ]
  },
  {
   "cell_type": "code",
   "execution_count": 85,
   "metadata": {},
   "outputs": [
    {
     "data": {
      "image/png": "[encoded data removed]",
      "text/plain": [
       "<Figure size 1000x300 with 1 Axes>"
      ]
     },
     "metadata": {},
     "output_type": "display_data"
    }
   ],
   "source": [
    "# Дополнительно посмотрим ящик с усами для цены после корректировки\n",
    "plt.figure(figsize=(10, 3))\n",
    "sns.boxplot(data=df['price'], orient='h')  # Горизонтальный ящик с усами\n",
    "plt.title('Ящик с усами для цены автомобилей')  # Заголовок графика\n",
    "plt.xlabel('Цена')  # Подпись оси X\n",
    "plt.ylabel('Частота')  # Подпись оси Y\n",
    "plt.tight_layout()  # Автоматическая настройка элементов графика\n",
    "plt.show()"
   ]
  },
  {
   "cell_type": "markdown",
   "metadata": {},
   "source": [
    "Проверим есть ли в данных дубликаты:"
   ]
  },
  {
   "cell_type": "code",
   "execution_count": 90,
   "metadata": {
    "colab": {
     "base_uri": "https://localhost:8080/"
    },
    "id": "0fo3dZmh9fZk",
    "outputId": "07539357-a9b4-4407-810f-82529368a9b1"
   },
   "outputs": [
    {
     "data": {
      "text/plain": [
       "39094"
      ]
     },
     "execution_count": 90,
     "metadata": {},
     "output_type": "execute_result"
    }
   ],
   "source": [
    "# проверим данные на дубликаты\n",
    "df.duplicated().sum()"
   ]
  },
  {
   "cell_type": "code",
   "execution_count": 91,
   "metadata": {
    "colab": {
     "base_uri": "https://localhost:8080/"
    },
    "id": "BABxExh_-OsL",
    "outputId": "528f56b7-1a05-4e34-d703-16d900be4d33"
   },
   "outputs": [
    {
     "data": {
      "text/plain": [
       "0"
      ]
     },
     "execution_count": 91,
     "metadata": {},
     "output_type": "execute_result"
    }
   ],
   "source": [
    "# удаляем дубликаты и обновляем индексы\n",
    "df = df.drop_duplicates().reset_index(drop=True)\n",
    "df.duplicated().sum()"
   ]
  },
  {
   "cell_type": "markdown",
   "metadata": {},
   "source": [
    "Расчет корреляции:"
   ]
  },
  {
   "cell_type": "code",
   "execution_count": 93,
   "metadata": {},
   "outputs": [
    {
     "name": "stdout",
     "output_type": "stream",
     "text": [
      "                      price  registration_year     power  kilometer\n",
      "price              1.000000           0.475488  0.403944  -0.382933\n",
      "registration_year  0.475488           1.000000  0.090279  -0.286268\n",
      "power              0.403944           0.090279  1.000000   0.112385\n",
      "kilometer         -0.382933          -0.286268  0.112385   1.000000\n"
     ]
    }
   ],
   "source": [
    "# Фильтруем только числовые столбцы перед расчетом корреляции\n",
    "numeric_columns = df.select_dtypes(include=[np.number])\n",
    "\n",
    "# Выводим корреляцию между числовыми столбцами\n",
    "print(numeric_columns.corr())"
   ]
  },
  {
   "cell_type": "markdown",
   "metadata": {},
   "source": [
    "Исходя из значений корреляции, можно сделать следующие выводы:\n",
    "\n",
    "\t1.\tКорреляция между ценой и годом регистрации (0.42): Это слабая положительная корреляция. Это означает, что с увеличением возраста автомобиля его цена немного снижается, хотя эта зависимость не слишком выражена.\n",
    " \n",
    "\t2.\tКорреляция между ценой и мощностью (0.35): Это слабая положительная корреляция. Более мощные автомобили, как правило, имеют более высокую цену, однако сила этой зависимости невелика.\n",
    " \n",
    "\t3.\tКорреляция между ценой и пробегом (-0.33): Это слабая отрицательная корреляция. Пробег автомобиля оказывает некоторое влияние на снижение его стоимости: чем больше пробег, тем ниже цена, но это влияние также не является сильным.\n",
    " \n",
    "\t4.\tКорреляция между годом регистрации и мощностью (0.04): Это очень слабая положительная корреляция. Год выпуска автомобиля почти не влияет на его мощность.\n",
    " \n",
    "\t5.\tКорреляция между годом регистрации и пробегом (-0.22): Это очень слабая отрицательная корреляция. Старые автомобили, как правило, имеют больший пробег, но эта зависимость также выражена слабо.\n",
    " \n",
    "\t6.\tКорреляция между мощностью и пробегом (0.15): Это очень слабая положительная корреляция. Мощность автомобиля практически не зависит от его пробега, влияние пробега на мощность минимально.\n",
    " \n",
    "\n",
    "Общий вывод:\n",
    "\n",
    "\t•\tЦена автомобиля имеет слабую зависимость от года выпуска и мощности.\n",
    " \n",
    "\t•\tПробег автомобиля имеет слабую отрицательную связь с ценой и очень слабую связь с мощностью и годом выпуска.\n",
    " \n",
    "\t•\tВзаимосвязь между мощностью и годом выпуска практически отсутствует."
   ]
  },
  {
   "cell_type": "markdown",
   "metadata": {
    "id": "ixFKpV-N3tUh"
   },
   "source": [
    "## Вывод 1.\n",
    "Промежуточные вывода из процесса предобработки данных:\n",
    "1. Чистка и удаление ненужных столбцов :\n",
    "• Мы исключили столбцы, которые не содержат полезной информации для анализа, такие как:\n",
    "• number_of_pictures (все значения равны нулю).\n",
    "• postal_code, date_created, last_seen, registration_month, date_crawled (не влияют на целевые переменные и не используются в задаче).\n",
    "Эти шаги помогли уменьшить размер данных и улучшить эффективность обработки.\n",
    "2. Заполнение пропусков:\n",
    "• Пропуски в ключевых столбцах были обработаны с использованием разумных замен:\n",
    "• fuel_type, vehicle_type, gearbox, model, и repaired были заполнены значениями по умолчанию: 'other' или 'unknown'.\n",
    "• Столбец fuel_type был приведен к единообразию, заменив 'gasoline' на 'petrol', что помогло унифицировать данные.\n",
    "• После заполнения пропусков, в данных не осталось отсутствующих значений.\n",
    "3. Удаление аномальных данных:\n",
    "• Были удалены строки с годом регистрации автомобилей, который находится за пределами допустимого диапазона (до 1900 года и после 2016 года). Это позволило избавиться от очевидных аномалий.\n",
    "4. Уникальные значения и распределение данных:\n",
    "• Столбец fuel_type содержит несколько типов топлива, среди которых наиболее часто встречается 'petrol' (бензин), а наименее встречается electric (электрический).\n",
    "• В столбце vehicle_type наблюдается большое количество различных типов кузовов, причем наиболее популярные — 'sedan', 'small', 'wagon'.\n",
    "• В столбце power встречаются значения мощности, которые варьируются от 0 до очень высоких значений (например, 20000 л.с.). Присутствие значений равных 0 или аномально высоких может потребовать дополнительного анализа для удаления или коррекции.\n",
    "5. Структура данных:\n",
    "• После удаления пропусков и аномальных значений данные стали более чистыми и готовыми для дальнейшего анализа.\n",
    "• Все числовые данные теперь находятся в нужных диапазонах, а категориальные данные стандартизированы и подготовлены для анализа.\n",
    "6. Визуализация распределений:\n",
    "• Построены графики, такие как гистограммы и стоимости для столбца мощности, что помогает визуально понять распределение значений и выявить возможные аномалииных матриц и визуализаций.\n",
    "\n",
    "Предобработка данных успешно подготовила данные к дальнейшему анлизу и построению моделей.\n",
    "\n"
   ]
  },
  {
   "cell_type": "markdown",
   "metadata": {
    "id": "5OgmwMBqfvd9"
   },
   "source": [
    "## Обучение моделей"
   ]
  },
  {
   "cell_type": "markdown",
   "metadata": {},
   "source": [
    "Преобразуем категориальные значения в числовой формат:"
   ]
  },
  {
   "cell_type": "code",
   "execution_count": 101,
   "metadata": {
    "colab": {
     "base_uri": "https://localhost:8080/",
     "height": 300
    },
    "id": "pO1i47ZYbbVM",
    "outputId": "0ca38655-ee02-4d1c-cfaa-8f72ce6383b4",
    "scrolled": true
   },
   "outputs": [
    {
     "data": {
      "text/html": [
       "<div>\n",
       "<style scoped>\n",
       "    .dataframe tbody tr th:only-of-type {\n",
       "        vertical-align: middle;\n",
       "    }\n",
       "\n",
       "    .dataframe tbody tr th {\n",
       "        vertical-align: top;\n",
       "    }\n",
       "\n",
       "    .dataframe thead th {\n",
       "        text-align: right;\n",
       "    }\n",
       "</style>\n",
       "<table border=\"1\" class=\"dataframe\">\n",
       "  <thead>\n",
       "    <tr style=\"text-align: right;\">\n",
       "      <th></th>\n",
       "      <th>price</th>\n",
       "      <th>registration_year</th>\n",
       "      <th>power</th>\n",
       "      <th>kilometer</th>\n",
       "      <th>vehicle_type_convertible</th>\n",
       "      <th>vehicle_type_coupe</th>\n",
       "      <th>vehicle_type_other</th>\n",
       "      <th>vehicle_type_sedan</th>\n",
       "      <th>vehicle_type_small</th>\n",
       "      <th>vehicle_type_suv</th>\n",
       "      <th>...</th>\n",
       "      <th>brand_smart</th>\n",
       "      <th>brand_sonstige_autos</th>\n",
       "      <th>brand_subaru</th>\n",
       "      <th>brand_suzuki</th>\n",
       "      <th>brand_toyota</th>\n",
       "      <th>brand_trabant</th>\n",
       "      <th>brand_volkswagen</th>\n",
       "      <th>brand_volvo</th>\n",
       "      <th>repaired_unknown</th>\n",
       "      <th>repaired_yes</th>\n",
       "    </tr>\n",
       "  </thead>\n",
       "  <tbody>\n",
       "    <tr>\n",
       "      <th>0</th>\n",
       "      <td>18300</td>\n",
       "      <td>2011</td>\n",
       "      <td>190</td>\n",
       "      <td>125000</td>\n",
       "      <td>False</td>\n",
       "      <td>True</td>\n",
       "      <td>False</td>\n",
       "      <td>False</td>\n",
       "      <td>False</td>\n",
       "      <td>False</td>\n",
       "      <td>...</td>\n",
       "      <td>False</td>\n",
       "      <td>False</td>\n",
       "      <td>False</td>\n",
       "      <td>False</td>\n",
       "      <td>False</td>\n",
       "      <td>False</td>\n",
       "      <td>False</td>\n",
       "      <td>False</td>\n",
       "      <td>False</td>\n",
       "      <td>True</td>\n",
       "    </tr>\n",
       "    <tr>\n",
       "      <th>1</th>\n",
       "      <td>9800</td>\n",
       "      <td>2004</td>\n",
       "      <td>163</td>\n",
       "      <td>125000</td>\n",
       "      <td>False</td>\n",
       "      <td>False</td>\n",
       "      <td>False</td>\n",
       "      <td>False</td>\n",
       "      <td>False</td>\n",
       "      <td>True</td>\n",
       "      <td>...</td>\n",
       "      <td>False</td>\n",
       "      <td>False</td>\n",
       "      <td>False</td>\n",
       "      <td>False</td>\n",
       "      <td>False</td>\n",
       "      <td>False</td>\n",
       "      <td>False</td>\n",
       "      <td>False</td>\n",
       "      <td>True</td>\n",
       "      <td>False</td>\n",
       "    </tr>\n",
       "    <tr>\n",
       "      <th>2</th>\n",
       "      <td>1500</td>\n",
       "      <td>2001</td>\n",
       "      <td>75</td>\n",
       "      <td>150000</td>\n",
       "      <td>False</td>\n",
       "      <td>False</td>\n",
       "      <td>False</td>\n",
       "      <td>False</td>\n",
       "      <td>True</td>\n",
       "      <td>False</td>\n",
       "      <td>...</td>\n",
       "      <td>False</td>\n",
       "      <td>False</td>\n",
       "      <td>False</td>\n",
       "      <td>False</td>\n",
       "      <td>False</td>\n",
       "      <td>False</td>\n",
       "      <td>True</td>\n",
       "      <td>False</td>\n",
       "      <td>False</td>\n",
       "      <td>False</td>\n",
       "    </tr>\n",
       "    <tr>\n",
       "      <th>3</th>\n",
       "      <td>3600</td>\n",
       "      <td>2008</td>\n",
       "      <td>69</td>\n",
       "      <td>90000</td>\n",
       "      <td>False</td>\n",
       "      <td>False</td>\n",
       "      <td>False</td>\n",
       "      <td>False</td>\n",
       "      <td>True</td>\n",
       "      <td>False</td>\n",
       "      <td>...</td>\n",
       "      <td>False</td>\n",
       "      <td>False</td>\n",
       "      <td>False</td>\n",
       "      <td>False</td>\n",
       "      <td>False</td>\n",
       "      <td>False</td>\n",
       "      <td>False</td>\n",
       "      <td>False</td>\n",
       "      <td>False</td>\n",
       "      <td>False</td>\n",
       "    </tr>\n",
       "    <tr>\n",
       "      <th>4</th>\n",
       "      <td>650</td>\n",
       "      <td>1995</td>\n",
       "      <td>102</td>\n",
       "      <td>150000</td>\n",
       "      <td>False</td>\n",
       "      <td>False</td>\n",
       "      <td>False</td>\n",
       "      <td>True</td>\n",
       "      <td>False</td>\n",
       "      <td>False</td>\n",
       "      <td>...</td>\n",
       "      <td>False</td>\n",
       "      <td>False</td>\n",
       "      <td>False</td>\n",
       "      <td>False</td>\n",
       "      <td>False</td>\n",
       "      <td>False</td>\n",
       "      <td>False</td>\n",
       "      <td>False</td>\n",
       "      <td>False</td>\n",
       "      <td>True</td>\n",
       "    </tr>\n",
       "  </tbody>\n",
       "</table>\n",
       "<p>5 rows × 308 columns</p>\n",
       "</div>"
      ],
      "text/plain": [
       "   price  registration_year  power  kilometer  vehicle_type_convertible  \\\n",
       "0  18300               2011    190     125000                     False   \n",
       "1   9800               2004    163     125000                     False   \n",
       "2   1500               2001     75     150000                     False   \n",
       "3   3600               2008     69      90000                     False   \n",
       "4    650               1995    102     150000                     False   \n",
       "\n",
       "   vehicle_type_coupe  vehicle_type_other  vehicle_type_sedan  \\\n",
       "0                True               False               False   \n",
       "1               False               False               False   \n",
       "2               False               False               False   \n",
       "3               False               False               False   \n",
       "4               False               False                True   \n",
       "\n",
       "   vehicle_type_small  vehicle_type_suv  ...  brand_smart  \\\n",
       "0               False             False  ...        False   \n",
       "1               False              True  ...        False   \n",
       "2                True             False  ...        False   \n",
       "3                True             False  ...        False   \n",
       "4               False             False  ...        False   \n",
       "\n",
       "   brand_sonstige_autos  brand_subaru  brand_suzuki  brand_toyota  \\\n",
       "0                 False         False         False         False   \n",
       "1                 False         False         False         False   \n",
       "2                 False         False         False         False   \n",
       "3                 False         False         False         False   \n",
       "4                 False         False         False         False   \n",
       "\n",
       "   brand_trabant  brand_volkswagen  brand_volvo  repaired_unknown  \\\n",
       "0          False             False        False             False   \n",
       "1          False             False        False              True   \n",
       "2          False              True        False             False   \n",
       "3          False             False        False             False   \n",
       "4          False             False        False             False   \n",
       "\n",
       "   repaired_yes  \n",
       "0          True  \n",
       "1         False  \n",
       "2         False  \n",
       "3         False  \n",
       "4          True  \n",
       "\n",
       "[5 rows x 308 columns]"
      ]
     },
     "execution_count": 101,
     "metadata": {},
     "output_type": "execute_result"
    }
   ],
   "source": [
    "# преобразуем категориальные значения в числовой формат\n",
    "data_ohe = pd.get_dummies(df, drop_first=True)\n",
    "data_ohe.head()"
   ]
  },
  {
   "cell_type": "markdown",
   "metadata": {},
   "source": [
    "Разобьём данные на обучающую и тестовую выборки:"
   ]
  },
  {
   "cell_type": "code",
   "execution_count": 106,
   "metadata": {
    "colab": {
     "base_uri": "https://localhost:8080/"
    },
    "id": "ld3k6YLBbfw3",
    "outputId": "a6418491-f3a4-4ccd-9994-04907d4daade"
   },
   "outputs": [
    {
     "name": "stdout",
     "output_type": "stream",
     "text": [
      "(184249, 307)\n",
      "(61417, 307)\n"
     ]
    }
   ],
   "source": [
    "# разобьём данные на обучающую и тестовую выборки\n",
    "target_ohe = data_ohe['price']\n",
    "features_ohe = data_ohe.drop('price', axis=1)\n",
    "features_train_ohe, features_test_ohe, target_train_ohe, target_test_ohe = train_test_split(features_ohe, target_ohe, test_size=0.25, random_state=12345) \n",
    "\n",
    "\n",
    "print(features_train_ohe.shape)\n",
    "print(features_test_ohe.shape)"
   ]
  },
  {
   "cell_type": "code",
   "execution_count": 107,
   "metadata": {
    "colab": {
     "base_uri": "https://localhost:8080/"
    },
    "id": "jO1M0Q6oeHbw",
    "outputId": "2c4f9992-ef3f-4f0c-f8d6-3d5872de5d54",
    "scrolled": true
   },
   "outputs": [
    {
     "data": {
      "text/plain": [
       "['price',\n",
       " 'registration_year',\n",
       " 'power',\n",
       " 'kilometer',\n",
       " 'vehicle_type_convertible',\n",
       " 'vehicle_type_coupe',\n",
       " 'vehicle_type_other',\n",
       " 'vehicle_type_sedan',\n",
       " 'vehicle_type_small',\n",
       " 'vehicle_type_suv',\n",
       " 'vehicle_type_wagon',\n",
       " 'gearbox_manual',\n",
       " 'gearbox_unknown',\n",
       " 'model_145',\n",
       " 'model_147',\n",
       " 'model_156',\n",
       " 'model_159',\n",
       " 'model_1_reihe',\n",
       " 'model_1er',\n",
       " 'model_200',\n",
       " 'model_2_reihe',\n",
       " 'model_300c',\n",
       " 'model_3_reihe',\n",
       " 'model_3er',\n",
       " 'model_4_reihe',\n",
       " 'model_500',\n",
       " 'model_5_reihe',\n",
       " 'model_5er',\n",
       " 'model_601',\n",
       " 'model_6_reihe',\n",
       " 'model_6er',\n",
       " 'model_7er',\n",
       " 'model_80',\n",
       " 'model_850',\n",
       " 'model_90',\n",
       " 'model_900',\n",
       " 'model_9000',\n",
       " 'model_911',\n",
       " 'model_a1',\n",
       " 'model_a2',\n",
       " 'model_a3',\n",
       " 'model_a4',\n",
       " 'model_a5',\n",
       " 'model_a6',\n",
       " 'model_a8',\n",
       " 'model_a_klasse',\n",
       " 'model_accord',\n",
       " 'model_agila',\n",
       " 'model_alhambra',\n",
       " 'model_almera',\n",
       " 'model_altea',\n",
       " 'model_amarok',\n",
       " 'model_antara',\n",
       " 'model_arosa',\n",
       " 'model_astra',\n",
       " 'model_auris',\n",
       " 'model_avensis',\n",
       " 'model_aveo',\n",
       " 'model_aygo',\n",
       " 'model_b_klasse',\n",
       " 'model_b_max',\n",
       " 'model_beetle',\n",
       " 'model_berlingo',\n",
       " 'model_bora',\n",
       " 'model_boxster',\n",
       " 'model_bravo',\n",
       " 'model_c1',\n",
       " 'model_c2',\n",
       " 'model_c3',\n",
       " 'model_c4',\n",
       " 'model_c5',\n",
       " 'model_c_klasse',\n",
       " 'model_c_max',\n",
       " 'model_c_reihe',\n",
       " 'model_caddy',\n",
       " 'model_calibra',\n",
       " 'model_captiva',\n",
       " 'model_carisma',\n",
       " 'model_carnival',\n",
       " 'model_cayenne',\n",
       " 'model_cc',\n",
       " 'model_ceed',\n",
       " 'model_charade',\n",
       " 'model_cherokee',\n",
       " 'model_citigo',\n",
       " 'model_civic',\n",
       " 'model_cl',\n",
       " 'model_clio',\n",
       " 'model_clk',\n",
       " 'model_clubman',\n",
       " 'model_colt',\n",
       " 'model_combo',\n",
       " 'model_cooper',\n",
       " 'model_cordoba',\n",
       " 'model_corolla',\n",
       " 'model_corsa',\n",
       " 'model_cr_reihe',\n",
       " 'model_croma',\n",
       " 'model_crossfire',\n",
       " 'model_cuore',\n",
       " 'model_cx_reihe',\n",
       " 'model_defender',\n",
       " 'model_delta',\n",
       " 'model_discovery',\n",
       " 'model_doblo',\n",
       " 'model_ducato',\n",
       " 'model_duster',\n",
       " 'model_e_klasse',\n",
       " 'model_elefantino',\n",
       " 'model_eos',\n",
       " 'model_escort',\n",
       " 'model_espace',\n",
       " 'model_exeo',\n",
       " 'model_fabia',\n",
       " 'model_fiesta',\n",
       " 'model_focus',\n",
       " 'model_forester',\n",
       " 'model_forfour',\n",
       " 'model_fortwo',\n",
       " 'model_fox',\n",
       " 'model_freelander',\n",
       " 'model_fusion',\n",
       " 'model_g_klasse',\n",
       " 'model_galant',\n",
       " 'model_galaxy',\n",
       " 'model_getz',\n",
       " 'model_gl',\n",
       " 'model_glk',\n",
       " 'model_golf',\n",
       " 'model_grand',\n",
       " 'model_i3',\n",
       " 'model_i_reihe',\n",
       " 'model_ibiza',\n",
       " 'model_impreza',\n",
       " 'model_insignia',\n",
       " 'model_jazz',\n",
       " 'model_jetta',\n",
       " 'model_jimny',\n",
       " 'model_juke',\n",
       " 'model_justy',\n",
       " 'model_ka',\n",
       " 'model_kadett',\n",
       " 'model_kaefer',\n",
       " 'model_kalina',\n",
       " 'model_kalos',\n",
       " 'model_kangoo',\n",
       " 'model_kappa',\n",
       " 'model_kuga',\n",
       " 'model_laguna',\n",
       " 'model_lancer',\n",
       " 'model_lanos',\n",
       " 'model_legacy',\n",
       " 'model_leon',\n",
       " 'model_lodgy',\n",
       " 'model_logan',\n",
       " 'model_lupo',\n",
       " 'model_lybra',\n",
       " 'model_m_klasse',\n",
       " 'model_m_reihe',\n",
       " 'model_materia',\n",
       " 'model_matiz',\n",
       " 'model_megane',\n",
       " 'model_meriva',\n",
       " 'model_micra',\n",
       " 'model_mii',\n",
       " 'model_modus',\n",
       " 'model_mondeo',\n",
       " 'model_move',\n",
       " 'model_musa',\n",
       " 'model_mustang',\n",
       " 'model_mx_reihe',\n",
       " 'model_navara',\n",
       " 'model_niva',\n",
       " 'model_note',\n",
       " 'model_nubira',\n",
       " 'model_octavia',\n",
       " 'model_omega',\n",
       " 'model_one',\n",
       " 'model_other',\n",
       " 'model_outlander',\n",
       " 'model_pajero',\n",
       " 'model_panda',\n",
       " 'model_passat',\n",
       " 'model_phaeton',\n",
       " 'model_picanto',\n",
       " 'model_polo',\n",
       " 'model_primera',\n",
       " 'model_ptcruiser',\n",
       " 'model_punto',\n",
       " 'model_q3',\n",
       " 'model_q5',\n",
       " 'model_q7',\n",
       " 'model_qashqai',\n",
       " 'model_r19',\n",
       " 'model_range_rover',\n",
       " 'model_range_rover_evoque',\n",
       " 'model_range_rover_sport',\n",
       " 'model_rangerover',\n",
       " 'model_rav',\n",
       " 'model_rio',\n",
       " 'model_roadster',\n",
       " 'model_roomster',\n",
       " 'model_rx_reihe',\n",
       " 'model_s60',\n",
       " 'model_s_klasse',\n",
       " 'model_s_max',\n",
       " 'model_s_type',\n",
       " 'model_samara',\n",
       " 'model_sandero',\n",
       " 'model_santa',\n",
       " 'model_scenic',\n",
       " 'model_scirocco',\n",
       " 'model_seicento',\n",
       " 'model_serie_2',\n",
       " 'model_serie_3',\n",
       " 'model_sharan',\n",
       " 'model_signum',\n",
       " 'model_sirion',\n",
       " 'model_sl',\n",
       " 'model_slk',\n",
       " 'model_sorento',\n",
       " 'model_spark',\n",
       " 'model_spider',\n",
       " 'model_sportage',\n",
       " 'model_sprinter',\n",
       " 'model_stilo',\n",
       " 'model_superb',\n",
       " 'model_swift',\n",
       " 'model_terios',\n",
       " 'model_tigra',\n",
       " 'model_tiguan',\n",
       " 'model_toledo',\n",
       " 'model_touareg',\n",
       " 'model_touran',\n",
       " 'model_transit',\n",
       " 'model_transporter',\n",
       " 'model_tt',\n",
       " 'model_tucson',\n",
       " 'model_twingo',\n",
       " 'model_unknown',\n",
       " 'model_up',\n",
       " 'model_v40',\n",
       " 'model_v50',\n",
       " 'model_v60',\n",
       " 'model_v70',\n",
       " 'model_v_klasse',\n",
       " 'model_vectra',\n",
       " 'model_verso',\n",
       " 'model_viano',\n",
       " 'model_vito',\n",
       " 'model_vivaro',\n",
       " 'model_voyager',\n",
       " 'model_wrangler',\n",
       " 'model_x_reihe',\n",
       " 'model_x_trail',\n",
       " 'model_x_type',\n",
       " 'model_xc_reihe',\n",
       " 'model_yaris',\n",
       " 'model_yeti',\n",
       " 'model_ypsilon',\n",
       " 'model_z_reihe',\n",
       " 'model_zafira',\n",
       " 'fuel_type_electric',\n",
       " 'fuel_type_hybrid',\n",
       " 'fuel_type_lpg',\n",
       " 'fuel_type_other',\n",
       " 'fuel_type_petrol',\n",
       " 'brand_audi',\n",
       " 'brand_bmw',\n",
       " 'brand_chevrolet',\n",
       " 'brand_chrysler',\n",
       " 'brand_citroen',\n",
       " 'brand_dacia',\n",
       " 'brand_daewoo',\n",
       " 'brand_daihatsu',\n",
       " 'brand_fiat',\n",
       " 'brand_ford',\n",
       " 'brand_honda',\n",
       " 'brand_hyundai',\n",
       " 'brand_jaguar',\n",
       " 'brand_jeep',\n",
       " 'brand_kia',\n",
       " 'brand_lada',\n",
       " 'brand_lancia',\n",
       " 'brand_land_rover',\n",
       " 'brand_mazda',\n",
       " 'brand_mercedes_benz',\n",
       " 'brand_mini',\n",
       " 'brand_mitsubishi',\n",
       " 'brand_nissan',\n",
       " 'brand_opel',\n",
       " 'brand_peugeot',\n",
       " 'brand_porsche',\n",
       " 'brand_renault',\n",
       " 'brand_rover',\n",
       " 'brand_saab',\n",
       " 'brand_seat',\n",
       " 'brand_skoda',\n",
       " 'brand_smart',\n",
       " 'brand_sonstige_autos',\n",
       " 'brand_subaru',\n",
       " 'brand_suzuki',\n",
       " 'brand_toyota',\n",
       " 'brand_trabant',\n",
       " 'brand_volkswagen',\n",
       " 'brand_volvo',\n",
       " 'repaired_unknown',\n",
       " 'repaired_yes']"
      ]
     },
     "execution_count": 107,
     "metadata": {},
     "output_type": "execute_result"
    }
   ],
   "source": [
    "list(data_ohe.columns.values)"
   ]
  },
  {
   "cell_type": "code",
   "execution_count": 108,
   "metadata": {
    "colab": {
     "base_uri": "https://localhost:8080/"
    },
    "id": "-iCnvHWafgJM",
    "outputId": "9f9e3f4a-bf37-44af-f610-3dd2f6baa564",
    "scrolled": true
   },
   "outputs": [
    {
     "name": "stdout",
     "output_type": "stream",
     "text": [
      "['registration_year', 'power', 'kilometer', 'vehicle_type_convertible', 'vehicle_type_coupe', 'vehicle_type_other', 'vehicle_type_sedan', 'vehicle_type_small', 'vehicle_type_suv', 'vehicle_type_wagon', 'gearbox_manual', 'gearbox_unknown', 'model_145', 'model_147', 'model_156', 'model_159', 'model_1_reihe', 'model_1er', 'model_200', 'model_2_reihe', 'model_300c', 'model_3_reihe', 'model_3er', 'model_4_reihe', 'model_500', 'model_5_reihe', 'model_5er', 'model_601', 'model_6_reihe', 'model_6er', 'model_7er', 'model_80', 'model_850', 'model_90', 'model_900', 'model_9000', 'model_911', 'model_a1', 'model_a2', 'model_a3', 'model_a4', 'model_a5', 'model_a6', 'model_a8', 'model_a_klasse', 'model_accord', 'model_agila', 'model_alhambra', 'model_almera', 'model_altea', 'model_amarok', 'model_antara', 'model_arosa', 'model_astra', 'model_auris', 'model_avensis', 'model_aveo', 'model_aygo', 'model_b_klasse', 'model_b_max', 'model_beetle', 'model_berlingo', 'model_bora', 'model_boxster', 'model_bravo', 'model_c1', 'model_c2', 'model_c3', 'model_c4', 'model_c5', 'model_c_klasse', 'model_c_max', 'model_c_reihe', 'model_caddy', 'model_calibra', 'model_captiva', 'model_carisma', 'model_carnival', 'model_cayenne', 'model_cc', 'model_ceed', 'model_charade', 'model_cherokee', 'model_citigo', 'model_civic', 'model_cl', 'model_clio', 'model_clk', 'model_clubman', 'model_colt', 'model_combo', 'model_cooper', 'model_cordoba', 'model_corolla', 'model_corsa', 'model_cr_reihe', 'model_croma', 'model_crossfire', 'model_cuore', 'model_cx_reihe', 'model_defender', 'model_delta', 'model_discovery', 'model_doblo', 'model_ducato', 'model_duster', 'model_e_klasse', 'model_elefantino', 'model_eos', 'model_escort', 'model_espace', 'model_exeo', 'model_fabia', 'model_fiesta', 'model_focus', 'model_forester', 'model_forfour', 'model_fortwo', 'model_fox', 'model_freelander', 'model_fusion', 'model_g_klasse', 'model_galant', 'model_galaxy', 'model_getz', 'model_gl', 'model_glk', 'model_golf', 'model_grand', 'model_i3', 'model_i_reihe', 'model_ibiza', 'model_impreza', 'model_insignia', 'model_jazz', 'model_jetta', 'model_jimny', 'model_juke', 'model_justy', 'model_ka', 'model_kadett', 'model_kaefer', 'model_kalina', 'model_kalos', 'model_kangoo', 'model_kappa', 'model_kuga', 'model_laguna', 'model_lancer', 'model_lanos', 'model_legacy', 'model_leon', 'model_lodgy', 'model_logan', 'model_lupo', 'model_lybra', 'model_m_klasse', 'model_m_reihe', 'model_materia', 'model_matiz', 'model_megane', 'model_meriva', 'model_micra', 'model_mii', 'model_modus', 'model_mondeo', 'model_move', 'model_musa', 'model_mustang', 'model_mx_reihe', 'model_navara', 'model_niva', 'model_note', 'model_nubira', 'model_octavia', 'model_omega', 'model_one', 'model_other', 'model_outlander', 'model_pajero', 'model_panda', 'model_passat', 'model_phaeton', 'model_picanto', 'model_polo', 'model_primera', 'model_ptcruiser', 'model_punto', 'model_q3', 'model_q5', 'model_q7', 'model_qashqai', 'model_r19', 'model_range_rover', 'model_range_rover_evoque', 'model_range_rover_sport', 'model_rangerover', 'model_rav', 'model_rio', 'model_roadster', 'model_roomster', 'model_rx_reihe', 'model_s60', 'model_s_klasse', 'model_s_max', 'model_s_type', 'model_samara', 'model_sandero', 'model_santa', 'model_scenic', 'model_scirocco', 'model_seicento', 'model_serie_2', 'model_serie_3', 'model_sharan', 'model_signum', 'model_sirion', 'model_sl', 'model_slk', 'model_sorento', 'model_spark', 'model_spider', 'model_sportage', 'model_sprinter', 'model_stilo', 'model_superb', 'model_swift', 'model_terios', 'model_tigra', 'model_tiguan', 'model_toledo', 'model_touareg', 'model_touran', 'model_transit', 'model_transporter', 'model_tt', 'model_tucson', 'model_twingo', 'model_unknown', 'model_up', 'model_v40', 'model_v50', 'model_v60', 'model_v70', 'model_v_klasse', 'model_vectra', 'model_verso', 'model_viano', 'model_vito', 'model_vivaro', 'model_voyager', 'model_wrangler', 'model_x_reihe', 'model_x_trail', 'model_x_type', 'model_xc_reihe', 'model_yaris', 'model_yeti', 'model_ypsilon', 'model_z_reihe', 'model_zafira', 'fuel_type_electric', 'fuel_type_hybrid', 'fuel_type_lpg', 'fuel_type_other', 'fuel_type_petrol', 'brand_audi', 'brand_bmw', 'brand_chevrolet', 'brand_chrysler', 'brand_citroen', 'brand_dacia', 'brand_daewoo', 'brand_daihatsu', 'brand_fiat', 'brand_ford', 'brand_honda', 'brand_hyundai', 'brand_jaguar', 'brand_jeep', 'brand_kia', 'brand_lada', 'brand_lancia', 'brand_land_rover', 'brand_mazda', 'brand_mercedes_benz', 'brand_mini', 'brand_mitsubishi', 'brand_nissan', 'brand_opel', 'brand_peugeot', 'brand_porsche', 'brand_renault', 'brand_rover', 'brand_saab', 'brand_seat', 'brand_skoda', 'brand_smart', 'brand_sonstige_autos', 'brand_subaru', 'brand_suzuki', 'brand_toyota', 'brand_trabant', 'brand_volkswagen', 'brand_volvo', 'repaired_unknown', 'repaired_yes']\n"
     ]
    }
   ],
   "source": [
    "numeric = list(data_ohe)\n",
    "numeric.remove('price')\n",
    "print (numeric)"
   ]
  },
  {
   "cell_type": "markdown",
   "metadata": {},
   "source": [
    "Выполним масштабирование признаков:"
   ]
  },
  {
   "cell_type": "code",
   "execution_count": 110,
   "metadata": {
    "id": "B-xAMawx7da5"
   },
   "outputs": [],
   "source": [
    "# масштабируем признаки\n",
    "scaler = StandardScaler()\n",
    "scaler.fit(features_train_ohe[numeric])\n",
    "features_train_ohe[numeric] = scaler.transform(features_train_ohe[numeric])\n",
    "features_test_ohe[numeric] = scaler.transform(features_test_ohe[numeric])"
   ]
  },
  {
   "cell_type": "code",
   "execution_count": 111,
   "metadata": {
    "colab": {
     "base_uri": "https://localhost:8080/",
     "height": 300
    },
    "id": "ae1-r-e-hwmp",
    "outputId": "682d260a-e83c-4092-e17b-f547b81ef68a"
   },
   "outputs": [
    {
     "data": {
      "text/html": [
       "<div>\n",
       "<style scoped>\n",
       "    .dataframe tbody tr th:only-of-type {\n",
       "        vertical-align: middle;\n",
       "    }\n",
       "\n",
       "    .dataframe tbody tr th {\n",
       "        vertical-align: top;\n",
       "    }\n",
       "\n",
       "    .dataframe thead th {\n",
       "        text-align: right;\n",
       "    }\n",
       "</style>\n",
       "<table border=\"1\" class=\"dataframe\">\n",
       "  <thead>\n",
       "    <tr style=\"text-align: right;\">\n",
       "      <th></th>\n",
       "      <th>registration_year</th>\n",
       "      <th>power</th>\n",
       "      <th>kilometer</th>\n",
       "      <th>vehicle_type_convertible</th>\n",
       "      <th>vehicle_type_coupe</th>\n",
       "      <th>vehicle_type_other</th>\n",
       "      <th>vehicle_type_sedan</th>\n",
       "      <th>vehicle_type_small</th>\n",
       "      <th>vehicle_type_suv</th>\n",
       "      <th>vehicle_type_wagon</th>\n",
       "      <th>...</th>\n",
       "      <th>brand_smart</th>\n",
       "      <th>brand_sonstige_autos</th>\n",
       "      <th>brand_subaru</th>\n",
       "      <th>brand_suzuki</th>\n",
       "      <th>brand_toyota</th>\n",
       "      <th>brand_trabant</th>\n",
       "      <th>brand_volkswagen</th>\n",
       "      <th>brand_volvo</th>\n",
       "      <th>repaired_unknown</th>\n",
       "      <th>repaired_yes</th>\n",
       "    </tr>\n",
       "  </thead>\n",
       "  <tbody>\n",
       "    <tr>\n",
       "      <th>166144</th>\n",
       "      <td>-0.602768</td>\n",
       "      <td>0.185373</td>\n",
       "      <td>-0.716715</td>\n",
       "      <td>3.689826</td>\n",
       "      <td>-0.234632</td>\n",
       "      <td>-0.18999</td>\n",
       "      <td>-0.626702</td>\n",
       "      <td>-0.538489</td>\n",
       "      <td>-0.203648</td>\n",
       "      <td>-0.505373</td>\n",
       "      <td>...</td>\n",
       "      <td>-0.127757</td>\n",
       "      <td>-0.079355</td>\n",
       "      <td>-0.048647</td>\n",
       "      <td>-0.083838</td>\n",
       "      <td>-0.122614</td>\n",
       "      <td>-0.031617</td>\n",
       "      <td>-0.506007</td>\n",
       "      <td>-0.099771</td>\n",
       "      <td>2.510417</td>\n",
       "      <td>-0.327596</td>\n",
       "    </tr>\n",
       "    <tr>\n",
       "      <th>127749</th>\n",
       "      <td>0.461366</td>\n",
       "      <td>1.647584</td>\n",
       "      <td>0.618044</td>\n",
       "      <td>-0.271015</td>\n",
       "      <td>4.262001</td>\n",
       "      <td>-0.18999</td>\n",
       "      <td>-0.626702</td>\n",
       "      <td>-0.538489</td>\n",
       "      <td>-0.203648</td>\n",
       "      <td>-0.505373</td>\n",
       "      <td>...</td>\n",
       "      <td>-0.127757</td>\n",
       "      <td>-0.079355</td>\n",
       "      <td>-0.048647</td>\n",
       "      <td>-0.083838</td>\n",
       "      <td>-0.122614</td>\n",
       "      <td>-0.031617</td>\n",
       "      <td>-0.506007</td>\n",
       "      <td>-0.099771</td>\n",
       "      <td>-0.398340</td>\n",
       "      <td>-0.327596</td>\n",
       "    </tr>\n",
       "    <tr>\n",
       "      <th>96977</th>\n",
       "      <td>0.005309</td>\n",
       "      <td>-0.445687</td>\n",
       "      <td>0.618044</td>\n",
       "      <td>-0.271015</td>\n",
       "      <td>-0.234632</td>\n",
       "      <td>-0.18999</td>\n",
       "      <td>-0.626702</td>\n",
       "      <td>1.857049</td>\n",
       "      <td>-0.203648</td>\n",
       "      <td>-0.505373</td>\n",
       "      <td>...</td>\n",
       "      <td>-0.127757</td>\n",
       "      <td>-0.079355</td>\n",
       "      <td>-0.048647</td>\n",
       "      <td>-0.083838</td>\n",
       "      <td>-0.122614</td>\n",
       "      <td>-0.031617</td>\n",
       "      <td>-0.506007</td>\n",
       "      <td>-0.099771</td>\n",
       "      <td>2.510417</td>\n",
       "      <td>-0.327596</td>\n",
       "    </tr>\n",
       "    <tr>\n",
       "      <th>156224</th>\n",
       "      <td>-0.602768</td>\n",
       "      <td>0.016064</td>\n",
       "      <td>0.618044</td>\n",
       "      <td>-0.271015</td>\n",
       "      <td>-0.234632</td>\n",
       "      <td>-0.18999</td>\n",
       "      <td>-0.626702</td>\n",
       "      <td>-0.538489</td>\n",
       "      <td>-0.203648</td>\n",
       "      <td>1.978738</td>\n",
       "      <td>...</td>\n",
       "      <td>-0.127757</td>\n",
       "      <td>-0.079355</td>\n",
       "      <td>-0.048647</td>\n",
       "      <td>-0.083838</td>\n",
       "      <td>-0.122614</td>\n",
       "      <td>-0.031617</td>\n",
       "      <td>-0.506007</td>\n",
       "      <td>-0.099771</td>\n",
       "      <td>-0.398340</td>\n",
       "      <td>-0.327596</td>\n",
       "    </tr>\n",
       "    <tr>\n",
       "      <th>52552</th>\n",
       "      <td>-1.514883</td>\n",
       "      <td>0.400857</td>\n",
       "      <td>0.618044</td>\n",
       "      <td>-0.271015</td>\n",
       "      <td>-0.234632</td>\n",
       "      <td>-0.18999</td>\n",
       "      <td>-0.626702</td>\n",
       "      <td>-0.538489</td>\n",
       "      <td>-0.203648</td>\n",
       "      <td>1.978738</td>\n",
       "      <td>...</td>\n",
       "      <td>-0.127757</td>\n",
       "      <td>-0.079355</td>\n",
       "      <td>-0.048647</td>\n",
       "      <td>-0.083838</td>\n",
       "      <td>-0.122614</td>\n",
       "      <td>-0.031617</td>\n",
       "      <td>-0.506007</td>\n",
       "      <td>-0.099771</td>\n",
       "      <td>-0.398340</td>\n",
       "      <td>-0.327596</td>\n",
       "    </tr>\n",
       "  </tbody>\n",
       "</table>\n",
       "<p>5 rows × 307 columns</p>\n",
       "</div>"
      ],
      "text/plain": [
       "        registration_year     power  kilometer  vehicle_type_convertible  \\\n",
       "166144          -0.602768  0.185373  -0.716715                  3.689826   \n",
       "127749           0.461366  1.647584   0.618044                 -0.271015   \n",
       "96977            0.005309 -0.445687   0.618044                 -0.271015   \n",
       "156224          -0.602768  0.016064   0.618044                 -0.271015   \n",
       "52552           -1.514883  0.400857   0.618044                 -0.271015   \n",
       "\n",
       "        vehicle_type_coupe  vehicle_type_other  vehicle_type_sedan  \\\n",
       "166144           -0.234632            -0.18999           -0.626702   \n",
       "127749            4.262001            -0.18999           -0.626702   \n",
       "96977            -0.234632            -0.18999           -0.626702   \n",
       "156224           -0.234632            -0.18999           -0.626702   \n",
       "52552            -0.234632            -0.18999           -0.626702   \n",
       "\n",
       "        vehicle_type_small  vehicle_type_suv  vehicle_type_wagon  ...  \\\n",
       "166144           -0.538489         -0.203648           -0.505373  ...   \n",
       "127749           -0.538489         -0.203648           -0.505373  ...   \n",
       "96977             1.857049         -0.203648           -0.505373  ...   \n",
       "156224           -0.538489         -0.203648            1.978738  ...   \n",
       "52552            -0.538489         -0.203648            1.978738  ...   \n",
       "\n",
       "        brand_smart  brand_sonstige_autos  brand_subaru  brand_suzuki  \\\n",
       "166144    -0.127757             -0.079355     -0.048647     -0.083838   \n",
       "127749    -0.127757             -0.079355     -0.048647     -0.083838   \n",
       "96977     -0.127757             -0.079355     -0.048647     -0.083838   \n",
       "156224    -0.127757             -0.079355     -0.048647     -0.083838   \n",
       "52552     -0.127757             -0.079355     -0.048647     -0.083838   \n",
       "\n",
       "        brand_toyota  brand_trabant  brand_volkswagen  brand_volvo  \\\n",
       "166144     -0.122614      -0.031617         -0.506007    -0.099771   \n",
       "127749     -0.122614      -0.031617         -0.506007    -0.099771   \n",
       "96977      -0.122614      -0.031617         -0.506007    -0.099771   \n",
       "156224     -0.122614      -0.031617         -0.506007    -0.099771   \n",
       "52552      -0.122614      -0.031617         -0.506007    -0.099771   \n",
       "\n",
       "        repaired_unknown  repaired_yes  \n",
       "166144          2.510417     -0.327596  \n",
       "127749         -0.398340     -0.327596  \n",
       "96977           2.510417     -0.327596  \n",
       "156224         -0.398340     -0.327596  \n",
       "52552          -0.398340     -0.327596  \n",
       "\n",
       "[5 rows x 307 columns]"
      ]
     },
     "execution_count": 111,
     "metadata": {},
     "output_type": "execute_result"
    }
   ],
   "source": [
    "features_train_ohe.head()"
   ]
  },
  {
   "cell_type": "markdown",
   "metadata": {
    "id": "rwuofvwWDVIS"
   },
   "source": [
    "### Модель линейной регрессии"
   ]
  },
  {
   "cell_type": "markdown",
   "metadata": {},
   "source": [
    "Обучим нашу первую модель - модель линейной регрессии:"
   ]
  },
  {
   "cell_type": "code",
   "execution_count": 114,
   "metadata": {
    "colab": {
     "base_uri": "https://localhost:8080/"
    },
    "id": "V9OIFIAfiHEA",
    "outputId": "7fae6c47-0347-4dac-8199-316ca6f68688"
   },
   "outputs": [
    {
     "name": "stdout",
     "output_type": "stream",
     "text": [
      "Лучшие параметры: {}\n",
      "Среднее значение RMSE: 2788.4220488341884\n"
     ]
    }
   ],
   "source": [
    "# создаем модель линейной регрессии\n",
    "model = LinearRegression()\n",
    "\n",
    "# создаем параметры для GridSearchCV\n",
    "param_grid = {}\n",
    "\n",
    "# создаем объект GridSearchCV, передаем модель и параметры для поиска\n",
    "grid_search = GridSearchCV(estimator=model, param_grid=param_grid, cv=5, scoring='neg_mean_squared_error')\n",
    "\n",
    "# обучаем модель с кросс-валидацией\n",
    "grid_search.fit(features_train_ohe, target_train_ohe)\n",
    "\n",
    "# выводим результаты\n",
    "print(f\"Лучшие параметры: {grid_search.best_params_}\")\n",
    "print(f\"Среднее значение RMSE: {(-grid_search.best_score_)**0.5}\")"
   ]
  },
  {
   "cell_type": "markdown",
   "metadata": {
    "id": "pHbxv2wVDe_J"
   },
   "source": [
    "### Модель дерева принятия решений"
   ]
  },
  {
   "cell_type": "code",
   "execution_count": 121,
   "metadata": {
    "id": "gfI0euGbhHvV"
   },
   "outputs": [],
   "source": [
    "# Разделим данные на признаки и целевой признак\n",
    "target_oe = df['price']\n",
    "features_oe = df.drop('price', axis=1)\n",
    "\n",
    "# Разделим выборки на обучающую и тестовую\n",
    "features_train_oe, features_test_oe, target_train_oe, target_test_oe = train_test_split(\n",
    "    features_oe, target_oe, test_size=0.25, random_state=12345\n",
    ")"
   ]
  },
  {
   "cell_type": "markdown",
   "metadata": {},
   "source": [
    "Разделяем выборки на обучающую и тестовую:"
   ]
  },
  {
   "cell_type": "code",
   "execution_count": 126,
   "metadata": {
    "colab": {
     "base_uri": "https://localhost:8080/"
    },
    "id": "PuJgJ3LDe9mu",
    "outputId": "16158037-c6ab-4da0-9412-4e1c08081d19"
   },
   "outputs": [
    {
     "name": "stdout",
     "output_type": "stream",
     "text": [
      "(184249, 9)\n",
      "(61417, 9)\n"
     ]
    }
   ],
   "source": [
    "# Создаем и обучаем OrdinalEncoder только на обучающей выборке\n",
    "enc = OrdinalEncoder(handle_unknown='use_encoded_value', unknown_value=-1)\n",
    "features_train_oe[['vehicle_type', 'registration_year', 'gearbox', 'power', \n",
    "                   'model', 'kilometer', 'fuel_type', 'brand', 'repaired']] = enc.fit_transform(\n",
    "    features_train_oe[['vehicle_type', 'registration_year', 'gearbox', 'power', \n",
    "                       'model', 'kilometer', 'fuel_type', 'brand', 'repaired']]\n",
    ")\n",
    "\n",
    "# Применяем transform для тестовой выборки\n",
    "features_test_oe[['vehicle_type', 'registration_year', 'gearbox', 'power', \n",
    "                  'model', 'kilometer', 'fuel_type', 'brand', 'repaired']] = enc.transform(\n",
    "    features_test_oe[['vehicle_type', 'registration_year', 'gearbox', 'power', \n",
    "                      'model', 'kilometer', 'fuel_type', 'brand', 'repaired']]\n",
    ")\n",
    "print(features_train_oe.shape)\n",
    "print(features_test_oe.shape)\n"
   ]
  },
  {
   "cell_type": "markdown",
   "metadata": {},
   "source": [
    "Подбираем оптимальную глубину дерева решений. \n",
    "Будем перебирать разные значения max_depth и оцениваем качество модели на обучающей и тестовой выборках"
   ]
  },
  {
   "cell_type": "code",
   "execution_count": 129,
   "metadata": {
    "colab": {
     "base_uri": "https://localhost:8080/"
    },
    "id": "O1FPNvnXicjb",
    "outputId": "480a7b15-b32d-4955-a605-b956e4a14c9b",
    "scrolled": true
   },
   "outputs": [
    {
     "name": "stdout",
     "output_type": "stream",
     "text": [
      "Лучший гиперпараметр (max_depth): 12\n",
      "Лучший RMSE на кросс-валидации: 1951.9190200465996\n"
     ]
    }
   ],
   "source": [
    "# Настроим GridSearchCV для подбора гиперпараметра max_depth\n",
    "param_grid = {'max_depth': range(3, 20, 3)}  # Параметры для поиска\n",
    "\n",
    "# Создаем модель дерева решений\n",
    "model = DecisionTreeRegressor(random_state=12345)\n",
    "\n",
    "# Инициализируем GridSearchCV\n",
    "grid_search = GridSearchCV(estimator=model, param_grid=param_grid, cv=5, scoring='neg_mean_squared_error')\n",
    "\n",
    "# Обучаем модель с кросс-валидацией\n",
    "grid_search.fit(features_train_oe, target_train_oe)\n",
    "\n",
    "# Выводим наилучшие параметры и оценку RMSE на кросс-валидации\n",
    "best_depth = grid_search.best_params_['max_depth']\n",
    "best_score = (-grid_search.best_score_)**0.5  # Преобразуем отрицательную ошибку в RMSE\n",
    "\n",
    "print(f'Лучший гиперпараметр (max_depth): {best_depth}')\n",
    "print(f'Лучший RMSE на кросс-валидации: {best_score}')\n"
   ]
  },
  {
   "cell_type": "markdown",
   "metadata": {
    "id": "ij6__px_RPDH"
   },
   "source": [
    "Модель склонна к переобучению, так как с увеличением глубины дерева ошибка на тестовой выборке начинает расти. Рекомендуется ограничить глубину дерева, например, значением 12."
   ]
  },
  {
   "cell_type": "markdown",
   "metadata": {
    "id": "W7hq8YrIEkFB"
   },
   "source": [
    "### Метод случайного леса"
   ]
  },
  {
   "cell_type": "code",
   "execution_count": 137,
   "metadata": {
    "colab": {
     "base_uri": "https://localhost:8080/"
    },
    "id": "EgL3JV7hit6D",
    "outputId": "935334e1-c11c-429e-a114-f5bb29aa5929"
   },
   "outputs": [
    {
     "name": "stdout",
     "output_type": "stream",
     "text": [
      "Лучшие гиперпараметры: {'max_depth': 12, 'n_estimators': 1000}\n",
      "Лучший RMSE на кросс-валидации: 1784.1080860055554\n",
      "CPU times: user 2min 36s, sys: 821 ms, total: 2min 37s\n",
      "Wall time: 5min 12s\n"
     ]
    }
   ],
   "source": [
    "%%time\n",
    "# Параметры для подбора в GridSearchCV\n",
    "param_grid = {\n",
    "    'n_estimators': [100, 500, 1000],\n",
    "    'max_depth': [12]\n",
    "}\n",
    "\n",
    "# Инициализация модели RandomForestRegressor\n",
    "model = RandomForestRegressor(random_state=12345)\n",
    "\n",
    "# Настройка GridSearchCV для подбора гиперпараметров\n",
    "grid_search = GridSearchCV(estimator=model, param_grid=param_grid, cv=3, scoring='neg_mean_squared_error', n_jobs=-1)\n",
    "\n",
    "# Обучаем модель на обучающей выборке\n",
    "grid_search.fit(features_train_oe, target_train_oe)\n",
    "\n",
    "# Выводим лучшие гиперпараметры и оценку RMSE\n",
    "best_params = grid_search.best_params_\n",
    "best_score = (-grid_search.best_score_) ** 0.5  # Преобразуем отрицательный MSE в RMSE\n",
    "\n",
    "print(f'Лучшие гиперпараметры: {best_params}')\n",
    "print(f'Лучший RMSE на кросс-валидации: {best_score}')\n"
   ]
  },
  {
   "cell_type": "markdown",
   "metadata": {
    "id": "R5JdeTICENaA"
   },
   "source": [
    "Разница в значениях RMSE для количества деревьев 100, 500 и 1000 незначительна, что свидетельствует о том, что увеличение числа деревьев не имеет большого влияния на качество модели. Гораздо более важным фактором является ограничение глубины деревьев, которое оказывает более существенное влияние на результаты."
   ]
  },
  {
   "cell_type": "markdown",
   "metadata": {
    "id": "3rdiTS8FEYJE"
   },
   "source": [
    "### Модель LightGBM"
   ]
  },
  {
   "cell_type": "markdown",
   "metadata": {
    "id": "sQr3E8gvWStE"
   },
   "source": [
    "Выделим признаки и обучим модель:"
   ]
  },
  {
   "cell_type": "code",
   "execution_count": 141,
   "metadata": {
    "colab": {
     "base_uri": "https://localhost:8080/"
    },
    "id": "CPF1J8koVFCP",
    "outputId": "a6094c77-2fd6-471d-f347-2e8dab9094ee"
   },
   "outputs": [
    {
     "name": "stdout",
     "output_type": "stream",
     "text": [
      "(184249, 9)\n",
      "(61417, 9)\n"
     ]
    }
   ],
   "source": [
    "# выделим признаки и целевой признак\n",
    "target = df['price']\n",
    "features = df.drop('price', axis=1)\n",
    "\n",
    "# переведем категориальные признаки в тип category, который требуется для LightGBM\n",
    "for c in features.columns:\n",
    "  col_type = features[c].dtype\n",
    "  if col_type == 'object':\n",
    "    features[c] = features[c].astype('category')\n",
    "\n",
    "#разделим выборки на обучающую и тестовую\n",
    "features_train, features_test, target_train, target_test = train_test_split(features, target, test_size=0.25, random_state=12345) \n",
    "\n",
    "# проверим размер выборок\n",
    "print(features_train.shape)\n",
    "print(features_test.shape)"
   ]
  },
  {
   "cell_type": "code",
   "execution_count": 142,
   "metadata": {},
   "outputs": [
    {
     "data": {
      "text/html": [
       "<div>\n",
       "<style scoped>\n",
       "    .dataframe tbody tr th:only-of-type {\n",
       "        vertical-align: middle;\n",
       "    }\n",
       "\n",
       "    .dataframe tbody tr th {\n",
       "        vertical-align: top;\n",
       "    }\n",
       "\n",
       "    .dataframe thead th {\n",
       "        text-align: right;\n",
       "    }\n",
       "</style>\n",
       "<table border=\"1\" class=\"dataframe\">\n",
       "  <thead>\n",
       "    <tr style=\"text-align: right;\">\n",
       "      <th></th>\n",
       "      <th>vehicle_type</th>\n",
       "      <th>registration_year</th>\n",
       "      <th>gearbox</th>\n",
       "      <th>power</th>\n",
       "      <th>model</th>\n",
       "      <th>kilometer</th>\n",
       "      <th>fuel_type</th>\n",
       "      <th>brand</th>\n",
       "      <th>repaired</th>\n",
       "    </tr>\n",
       "  </thead>\n",
       "  <tbody>\n",
       "    <tr>\n",
       "      <th>166144</th>\n",
       "      <td>convertible</td>\n",
       "      <td>1999</td>\n",
       "      <td>auto</td>\n",
       "      <td>136</td>\n",
       "      <td>slk</td>\n",
       "      <td>100000</td>\n",
       "      <td>other</td>\n",
       "      <td>mercedes_benz</td>\n",
       "      <td>unknown</td>\n",
       "    </tr>\n",
       "    <tr>\n",
       "      <th>127749</th>\n",
       "      <td>coupe</td>\n",
       "      <td>2006</td>\n",
       "      <td>auto</td>\n",
       "      <td>231</td>\n",
       "      <td>3er</td>\n",
       "      <td>150000</td>\n",
       "      <td>petrol</td>\n",
       "      <td>bmw</td>\n",
       "      <td>no</td>\n",
       "    </tr>\n",
       "    <tr>\n",
       "      <th>96977</th>\n",
       "      <td>small</td>\n",
       "      <td>2003</td>\n",
       "      <td>unknown</td>\n",
       "      <td>95</td>\n",
       "      <td>corsa</td>\n",
       "      <td>150000</td>\n",
       "      <td>petrol</td>\n",
       "      <td>opel</td>\n",
       "      <td>unknown</td>\n",
       "    </tr>\n",
       "    <tr>\n",
       "      <th>156224</th>\n",
       "      <td>wagon</td>\n",
       "      <td>1999</td>\n",
       "      <td>manual</td>\n",
       "      <td>125</td>\n",
       "      <td>unknown</td>\n",
       "      <td>150000</td>\n",
       "      <td>other</td>\n",
       "      <td>mercedes_benz</td>\n",
       "      <td>no</td>\n",
       "    </tr>\n",
       "    <tr>\n",
       "      <th>52552</th>\n",
       "      <td>wagon</td>\n",
       "      <td>1993</td>\n",
       "      <td>auto</td>\n",
       "      <td>150</td>\n",
       "      <td>100</td>\n",
       "      <td>150000</td>\n",
       "      <td>lpg</td>\n",
       "      <td>audi</td>\n",
       "      <td>no</td>\n",
       "    </tr>\n",
       "  </tbody>\n",
       "</table>\n",
       "</div>"
      ],
      "text/plain": [
       "       vehicle_type  registration_year  gearbox  power    model  kilometer  \\\n",
       "166144  convertible               1999     auto    136      slk     100000   \n",
       "127749        coupe               2006     auto    231      3er     150000   \n",
       "96977         small               2003  unknown     95    corsa     150000   \n",
       "156224        wagon               1999   manual    125  unknown     150000   \n",
       "52552         wagon               1993     auto    150      100     150000   \n",
       "\n",
       "       fuel_type          brand repaired  \n",
       "166144     other  mercedes_benz  unknown  \n",
       "127749    petrol            bmw       no  \n",
       "96977     petrol           opel  unknown  \n",
       "156224     other  mercedes_benz       no  \n",
       "52552        lpg           audi       no  "
      ]
     },
     "execution_count": 142,
     "metadata": {},
     "output_type": "execute_result"
    }
   ],
   "source": [
    "features_train.head()"
   ]
  },
  {
   "cell_type": "code",
   "execution_count": 143,
   "metadata": {},
   "outputs": [
    {
     "data": {
      "text/html": [
       "<div>\n",
       "<style scoped>\n",
       "    .dataframe tbody tr th:only-of-type {\n",
       "        vertical-align: middle;\n",
       "    }\n",
       "\n",
       "    .dataframe tbody tr th {\n",
       "        vertical-align: top;\n",
       "    }\n",
       "\n",
       "    .dataframe thead th {\n",
       "        text-align: right;\n",
       "    }\n",
       "</style>\n",
       "<table border=\"1\" class=\"dataframe\">\n",
       "  <thead>\n",
       "    <tr style=\"text-align: right;\">\n",
       "      <th></th>\n",
       "      <th>vehicle_type</th>\n",
       "      <th>registration_year</th>\n",
       "      <th>gearbox</th>\n",
       "      <th>power</th>\n",
       "      <th>model</th>\n",
       "      <th>kilometer</th>\n",
       "      <th>fuel_type</th>\n",
       "      <th>brand</th>\n",
       "      <th>repaired</th>\n",
       "    </tr>\n",
       "  </thead>\n",
       "  <tbody>\n",
       "    <tr>\n",
       "      <th>96754</th>\n",
       "      <td>sedan</td>\n",
       "      <td>2008</td>\n",
       "      <td>auto</td>\n",
       "      <td>235</td>\n",
       "      <td>s_klasse</td>\n",
       "      <td>150000</td>\n",
       "      <td>petrol</td>\n",
       "      <td>mercedes_benz</td>\n",
       "      <td>no</td>\n",
       "    </tr>\n",
       "    <tr>\n",
       "      <th>201809</th>\n",
       "      <td>wagon</td>\n",
       "      <td>2015</td>\n",
       "      <td>manual</td>\n",
       "      <td>84</td>\n",
       "      <td>caddy</td>\n",
       "      <td>10000</td>\n",
       "      <td>petrol</td>\n",
       "      <td>volkswagen</td>\n",
       "      <td>no</td>\n",
       "    </tr>\n",
       "    <tr>\n",
       "      <th>149019</th>\n",
       "      <td>convertible</td>\n",
       "      <td>1995</td>\n",
       "      <td>manual</td>\n",
       "      <td>90</td>\n",
       "      <td>golf</td>\n",
       "      <td>150000</td>\n",
       "      <td>petrol</td>\n",
       "      <td>volkswagen</td>\n",
       "      <td>no</td>\n",
       "    </tr>\n",
       "    <tr>\n",
       "      <th>45225</th>\n",
       "      <td>small</td>\n",
       "      <td>2002</td>\n",
       "      <td>manual</td>\n",
       "      <td>75</td>\n",
       "      <td>a2</td>\n",
       "      <td>150000</td>\n",
       "      <td>petrol</td>\n",
       "      <td>audi</td>\n",
       "      <td>no</td>\n",
       "    </tr>\n",
       "    <tr>\n",
       "      <th>208230</th>\n",
       "      <td>small</td>\n",
       "      <td>2006</td>\n",
       "      <td>manual</td>\n",
       "      <td>64</td>\n",
       "      <td>polo</td>\n",
       "      <td>70000</td>\n",
       "      <td>petrol</td>\n",
       "      <td>volkswagen</td>\n",
       "      <td>no</td>\n",
       "    </tr>\n",
       "  </tbody>\n",
       "</table>\n",
       "</div>"
      ],
      "text/plain": [
       "       vehicle_type  registration_year gearbox  power     model  kilometer  \\\n",
       "96754         sedan               2008    auto    235  s_klasse     150000   \n",
       "201809        wagon               2015  manual     84     caddy      10000   \n",
       "149019  convertible               1995  manual     90      golf     150000   \n",
       "45225         small               2002  manual     75        a2     150000   \n",
       "208230        small               2006  manual     64      polo      70000   \n",
       "\n",
       "       fuel_type          brand repaired  \n",
       "96754     petrol  mercedes_benz       no  \n",
       "201809    petrol     volkswagen       no  \n",
       "149019    petrol     volkswagen       no  \n",
       "45225     petrol           audi       no  \n",
       "208230    petrol     volkswagen       no  "
      ]
     },
     "execution_count": 143,
     "metadata": {},
     "output_type": "execute_result"
    }
   ],
   "source": [
    "features_test.head()"
   ]
  },
  {
   "cell_type": "code",
   "execution_count": 146,
   "metadata": {},
   "outputs": [
    {
     "name": "stdout",
     "output_type": "stream",
     "text": [
      "[LightGBM] [Info] Auto-choosing col-wise multi-threading, the overhead of testing was 0.012677 seconds.\n",
      "You can set `force_col_wise=true` to remove the overhead.\n",
      "[LightGBM] [Info] Auto-choosing row-wise multi-threading, the overhead of testing was 0.012163 seconds.\n",
      "You can set `force_row_wise=true` to remove the overhead.\n",
      "And if memory is not enough, you can set `force_col_wise=true`.\n",
      "[LightGBM] [Info] Auto-choosing row-wise multi-threading, the overhead of testing was 0.012009 seconds.\n",
      "You can set `force_row_wise=true` to remove the overhead.\n",
      "And if memory is not enough, you can set `force_col_wise=true`.\n",
      "[LightGBM] [Info] Total Bins 647\n",
      "[LightGBM] [Info] Total Bins 646\n",
      "[LightGBM] [Info] Total Bins 649\n",
      "[LightGBM] [Info] Number of data points in the train set: 122833, number of used features: 9\n",
      "[LightGBM] [Info] Number of data points in the train set: 122833, number of used features: 9\n",
      "[LightGBM] [Info] Number of data points in the train set: 122832, number of used features: 9\n",
      "[LightGBM] [Info] Start training from score 5129.160201\n",
      "[LightGBM] [Info] Start training from score 5131.868822\n",
      "[LightGBM] [Info] Start training from score 5113.245913\n",
      "[LightGBM] [Info] Auto-choosing row-wise multi-threading, the overhead of testing was 0.003726 seconds.\n",
      "You can set `force_row_wise=true` to remove the overhead.\n",
      "And if memory is not enough, you can set `force_col_wise=true`.\n",
      "[LightGBM] [Info] Total Bins 655\n",
      "[LightGBM] [Info] Number of data points in the train set: 184249, number of used features: 9\n",
      "[LightGBM] [Info] Start training from score 5124.758343\n",
      "Лучшие гиперпараметры: {}\n",
      "Лучший RMSE на кросс-валидации: 1642.3799679444862\n"
     ]
    }
   ],
   "source": [
    "# Создадим модель LGBMRegressor (без подбора гиперпараметров)\n",
    "model = lgb.LGBMRegressor(random_state=12345)\n",
    "\n",
    "# Определим пустую сетку гиперпараметров (гиперпараметры не будут изменяться)\n",
    "param_grid = {}\n",
    "\n",
    "# Применим GridSearchCV для подбора гиперпараметров (хотя в данном случае он не изменит модель)\n",
    "grid_search = GridSearchCV(estimator=model, param_grid=param_grid, cv=3, n_jobs=-1, scoring='neg_mean_squared_error')\n",
    "\n",
    "# Обучаем модель с подбором гиперпараметров\n",
    "grid_search.fit(features_train, target_train)\n",
    "\n",
    "# Получаем лучшие гиперпараметры\n",
    "best_params = grid_search.best_params_\n",
    "\n",
    "# Лучший RMSE на кросс-валидации: преобразуем отрицательный MSE в RMSE\n",
    "best_score = (-grid_search.best_score_) ** 0.5\n",
    "\n",
    "# Напечатаем результаты\n",
    "print(f'Лучшие гиперпараметры: {best_params}')\n",
    "print(f'Лучший RMSE на кросс-валидации: {best_score}')"
   ]
  },
  {
   "cell_type": "markdown",
   "metadata": {
    "id": "Vr_mi1SGDJao"
   },
   "source": [
    "Так как результаты модели LightGBM без подбора гиперпараметров показывают лучшие показатели по сравнению с предыдущими моделями, следующим шагом будет поиск наилучших гиперпараметров для этой модели, чтобы достичь ещё большей эффективности."
   ]
  },
  {
   "cell_type": "code",
   "execution_count": 148,
   "metadata": {
    "id": "c-nWuGMNb2Sh"
   },
   "outputs": [],
   "source": [
    "param_grid = {'n_estimators': [100, 500, 1000], 'num_leaves': [n for n in range(20, 300, 20)]}"
   ]
  },
  {
   "cell_type": "code",
   "execution_count": 149,
   "metadata": {
    "colab": {
     "base_uri": "https://localhost:8080/",
     "height": 1000
    },
    "id": "kj1Wva2Sg0T5",
    "outputId": "68659790-16b0-4adb-cef3-1a70e84e0d84",
    "scrolled": true
   },
   "outputs": [
    {
     "name": "stdout",
     "output_type": "stream",
     "text": [
      "Fitting 3 folds for each of 42 candidates, totalling 126 fits\n",
      "[LightGBM] [Info] Auto-choosing row-wise multi-threading, the overhead of testing was 0.002236 seconds.\n",
      "You can set `force_row_wise=true` to remove the overhead.\n",
      "And if memory is not enough, you can set `force_col_wise=true`.\n",
      "[LightGBM] [Info] Total Bins 647\n",
      "[LightGBM] [Info] Number of data points in the train set: 122832, number of used features: 9\n",
      "[LightGBM] [Info] Start training from score 5113.245913\n",
      "[CV 1/3] END n_estimators=100, num_leaves=20;, score=-1667.742 total time=   0.3s\n",
      "[LightGBM] [Info] Auto-choosing row-wise multi-threading, the overhead of testing was 0.002060 seconds.\n",
      "You can set `force_row_wise=true` to remove the overhead.\n",
      "And if memory is not enough, you can set `force_col_wise=true`.\n",
      "[LightGBM] [Info] Total Bins 649\n",
      "[LightGBM] [Info] Number of data points in the train set: 122833, number of used features: 9\n",
      "[LightGBM] [Info] Start training from score 5131.868822\n",
      "[CV 2/3] END n_estimators=100, num_leaves=20;, score=-1654.435 total time=   0.6s\n",
      "[LightGBM] [Info] Auto-choosing row-wise multi-threading, the overhead of testing was 0.002232 seconds.\n",
      "You can set `force_row_wise=true` to remove the overhead.\n",
      "And if memory is not enough, you can set `force_col_wise=true`.\n",
      "[LightGBM] [Info] Total Bins 646\n",
      "[LightGBM] [Info] Number of data points in the train set: 122833, number of used features: 9\n",
      "[LightGBM] [Info] Start training from score 5129.160201\n",
      "[CV 3/3] END n_estimators=100, num_leaves=20;, score=-1671.801 total time=   0.4s\n",
      "[LightGBM] [Info] Auto-choosing row-wise multi-threading, the overhead of testing was 0.002308 seconds.\n",
      "You can set `force_row_wise=true` to remove the overhead.\n",
      "And if memory is not enough, you can set `force_col_wise=true`.\n",
      "[LightGBM] [Info] Total Bins 647\n",
      "[LightGBM] [Info] Number of data points in the train set: 122832, number of used features: 9\n",
      "[LightGBM] [Info] Start training from score 5113.245913\n",
      "[CV 1/3] END n_estimators=100, num_leaves=40;, score=-1632.688 total time=   0.5s\n",
      "[LightGBM] [Info] Auto-choosing row-wise multi-threading, the overhead of testing was 0.002061 seconds.\n",
      "You can set `force_row_wise=true` to remove the overhead.\n",
      "And if memory is not enough, you can set `force_col_wise=true`.\n",
      "[LightGBM] [Info] Total Bins 649\n",
      "[LightGBM] [Info] Number of data points in the train set: 122833, number of used features: 9\n",
      "[LightGBM] [Info] Start training from score 5131.868822\n",
      "[CV 2/3] END n_estimators=100, num_leaves=40;, score=-1621.588 total time=   0.4s\n",
      "[LightGBM] [Info] Auto-choosing row-wise multi-threading, the overhead of testing was 0.002409 seconds.\n",
      "You can set `force_row_wise=true` to remove the overhead.\n",
      "And if memory is not enough, you can set `force_col_wise=true`.\n",
      "[LightGBM] [Info] Total Bins 646\n",
      "[LightGBM] [Info] Number of data points in the train set: 122833, number of used features: 9\n",
      "[LightGBM] [Info] Start training from score 5129.160201\n",
      "[CV 3/3] END n_estimators=100, num_leaves=40;, score=-1641.567 total time=   0.5s\n",
      "[LightGBM] [Info] Auto-choosing row-wise multi-threading, the overhead of testing was 0.002159 seconds.\n",
      "You can set `force_row_wise=true` to remove the overhead.\n",
      "And if memory is not enough, you can set `force_col_wise=true`.\n",
      "[LightGBM] [Info] Total Bins 647\n",
      "[LightGBM] [Info] Number of data points in the train set: 122832, number of used features: 9\n",
      "[LightGBM] [Info] Start training from score 5113.245913\n",
      "[CV 1/3] END n_estimators=100, num_leaves=60;, score=-1618.927 total time=   0.5s\n",
      "[LightGBM] [Info] Auto-choosing row-wise multi-threading, the overhead of testing was 0.001906 seconds.\n",
      "You can set `force_row_wise=true` to remove the overhead.\n",
      "And if memory is not enough, you can set `force_col_wise=true`.\n",
      "[LightGBM] [Info] Total Bins 649\n",
      "[LightGBM] [Info] Number of data points in the train set: 122833, number of used features: 9\n",
      "[LightGBM] [Info] Start training from score 5131.868822\n",
      "[CV 2/3] END n_estimators=100, num_leaves=60;, score=-1607.429 total time=   0.5s\n",
      "[LightGBM] [Info] Auto-choosing row-wise multi-threading, the overhead of testing was 0.002071 seconds.\n",
      "You can set `force_row_wise=true` to remove the overhead.\n",
      "And if memory is not enough, you can set `force_col_wise=true`.\n",
      "[LightGBM] [Info] Total Bins 646\n",
      "[LightGBM] [Info] Number of data points in the train set: 122833, number of used features: 9\n",
      "[LightGBM] [Info] Start training from score 5129.160201\n",
      "[CV 3/3] END n_estimators=100, num_leaves=60;, score=-1628.622 total time=   0.4s\n",
      "[LightGBM] [Info] Auto-choosing row-wise multi-threading, the overhead of testing was 0.002828 seconds.\n",
      "You can set `force_row_wise=true` to remove the overhead.\n",
      "And if memory is not enough, you can set `force_col_wise=true`.\n",
      "[LightGBM] [Info] Total Bins 647\n",
      "[LightGBM] [Info] Number of data points in the train set: 122832, number of used features: 9\n",
      "[LightGBM] [Info] Start training from score 5113.245913\n",
      "[CV 1/3] END n_estimators=100, num_leaves=80;, score=-1609.458 total time=   0.6s\n",
      "[LightGBM] [Info] Auto-choosing row-wise multi-threading, the overhead of testing was 0.001657 seconds.\n",
      "You can set `force_row_wise=true` to remove the overhead.\n",
      "And if memory is not enough, you can set `force_col_wise=true`.\n",
      "[LightGBM] [Info] Total Bins 649\n",
      "[LightGBM] [Info] Number of data points in the train set: 122833, number of used features: 9\n",
      "[LightGBM] [Info] Start training from score 5131.868822\n",
      "[CV 2/3] END n_estimators=100, num_leaves=80;, score=-1602.956 total time=   0.5s\n",
      "[LightGBM] [Info] Auto-choosing row-wise multi-threading, the overhead of testing was 0.001948 seconds.\n",
      "You can set `force_row_wise=true` to remove the overhead.\n",
      "And if memory is not enough, you can set `force_col_wise=true`.\n",
      "[LightGBM] [Info] Total Bins 646\n",
      "[LightGBM] [Info] Number of data points in the train set: 122833, number of used features: 9\n",
      "[LightGBM] [Info] Start training from score 5129.160201\n",
      "[CV 3/3] END n_estimators=100, num_leaves=80;, score=-1619.582 total time=   0.5s\n",
      "[LightGBM] [Info] Auto-choosing row-wise multi-threading, the overhead of testing was 0.002279 seconds.\n",
      "You can set `force_row_wise=true` to remove the overhead.\n",
      "And if memory is not enough, you can set `force_col_wise=true`.\n",
      "[LightGBM] [Info] Total Bins 647\n",
      "[LightGBM] [Info] Number of data points in the train set: 122832, number of used features: 9\n",
      "[LightGBM] [Info] Start training from score 5113.245913\n",
      "[CV 1/3] END n_estimators=100, num_leaves=100;, score=-1603.914 total time=   0.6s\n",
      "[LightGBM] [Info] Auto-choosing row-wise multi-threading, the overhead of testing was 0.001946 seconds.\n",
      "You can set `force_row_wise=true` to remove the overhead.\n",
      "And if memory is not enough, you can set `force_col_wise=true`.\n",
      "[LightGBM] [Info] Total Bins 649\n",
      "[LightGBM] [Info] Number of data points in the train set: 122833, number of used features: 9\n",
      "[LightGBM] [Info] Start training from score 5131.868822\n",
      "[CV 2/3] END n_estimators=100, num_leaves=100;, score=-1592.477 total time=   0.7s\n",
      "[LightGBM] [Info] Auto-choosing row-wise multi-threading, the overhead of testing was 0.001890 seconds.\n",
      "You can set `force_row_wise=true` to remove the overhead.\n",
      "And if memory is not enough, you can set `force_col_wise=true`.\n",
      "[LightGBM] [Info] Total Bins 646\n",
      "[LightGBM] [Info] Number of data points in the train set: 122833, number of used features: 9\n",
      "[LightGBM] [Info] Start training from score 5129.160201\n",
      "[CV 3/3] END n_estimators=100, num_leaves=100;, score=-1614.449 total time=   0.6s\n",
      "[LightGBM] [Info] Auto-choosing row-wise multi-threading, the overhead of testing was 0.001932 seconds.\n",
      "You can set `force_row_wise=true` to remove the overhead.\n",
      "And if memory is not enough, you can set `force_col_wise=true`.\n",
      "[LightGBM] [Info] Total Bins 647\n",
      "[LightGBM] [Info] Number of data points in the train set: 122832, number of used features: 9\n",
      "[LightGBM] [Info] Start training from score 5113.245913\n",
      "[CV 1/3] END n_estimators=100, num_leaves=120;, score=-1599.276 total time=   0.7s\n",
      "[LightGBM] [Info] Auto-choosing row-wise multi-threading, the overhead of testing was 0.001986 seconds.\n",
      "You can set `force_row_wise=true` to remove the overhead.\n",
      "And if memory is not enough, you can set `force_col_wise=true`.\n",
      "[LightGBM] [Info] Total Bins 649\n",
      "[LightGBM] [Info] Number of data points in the train set: 122833, number of used features: 9\n",
      "[LightGBM] [Info] Start training from score 5131.868822\n",
      "[CV 2/3] END n_estimators=100, num_leaves=120;, score=-1588.687 total time=   0.6s\n",
      "[LightGBM] [Info] Auto-choosing row-wise multi-threading, the overhead of testing was 0.001782 seconds.\n",
      "You can set `force_row_wise=true` to remove the overhead.\n",
      "And if memory is not enough, you can set `force_col_wise=true`.\n",
      "[LightGBM] [Info] Total Bins 646\n",
      "[LightGBM] [Info] Number of data points in the train set: 122833, number of used features: 9\n",
      "[LightGBM] [Info] Start training from score 5129.160201\n",
      "[CV 3/3] END n_estimators=100, num_leaves=120;, score=-1610.836 total time=   0.6s\n",
      "[LightGBM] [Info] Auto-choosing row-wise multi-threading, the overhead of testing was 0.002820 seconds.\n",
      "You can set `force_row_wise=true` to remove the overhead.\n",
      "And if memory is not enough, you can set `force_col_wise=true`.\n",
      "[LightGBM] [Info] Total Bins 647\n",
      "[LightGBM] [Info] Number of data points in the train set: 122832, number of used features: 9\n",
      "[LightGBM] [Info] Start training from score 5113.245913\n",
      "[CV 1/3] END n_estimators=100, num_leaves=140;, score=-1595.926 total time=   0.8s\n",
      "[LightGBM] [Info] Auto-choosing row-wise multi-threading, the overhead of testing was 0.001799 seconds.\n",
      "You can set `force_row_wise=true` to remove the overhead.\n",
      "And if memory is not enough, you can set `force_col_wise=true`.\n",
      "[LightGBM] [Info] Total Bins 649\n",
      "[LightGBM] [Info] Number of data points in the train set: 122833, number of used features: 9\n",
      "[LightGBM] [Info] Start training from score 5131.868822\n",
      "[CV 2/3] END n_estimators=100, num_leaves=140;, score=-1586.896 total time=   0.9s\n",
      "[LightGBM] [Info] Auto-choosing row-wise multi-threading, the overhead of testing was 0.001870 seconds.\n",
      "You can set `force_row_wise=true` to remove the overhead.\n",
      "And if memory is not enough, you can set `force_col_wise=true`.\n",
      "[LightGBM] [Info] Total Bins 646\n",
      "[LightGBM] [Info] Number of data points in the train set: 122833, number of used features: 9\n",
      "[LightGBM] [Info] Start training from score 5129.160201\n",
      "[CV 3/3] END n_estimators=100, num_leaves=140;, score=-1608.329 total time=   0.8s\n",
      "[LightGBM] [Info] Auto-choosing row-wise multi-threading, the overhead of testing was 0.001866 seconds.\n",
      "You can set `force_row_wise=true` to remove the overhead.\n",
      "And if memory is not enough, you can set `force_col_wise=true`.\n",
      "[LightGBM] [Info] Total Bins 647\n",
      "[LightGBM] [Info] Number of data points in the train set: 122832, number of used features: 9\n",
      "[LightGBM] [Info] Start training from score 5113.245913\n",
      "[CV 1/3] END n_estimators=100, num_leaves=160;, score=-1592.781 total time=   0.8s\n",
      "[LightGBM] [Info] Auto-choosing row-wise multi-threading, the overhead of testing was 0.001836 seconds.\n",
      "You can set `force_row_wise=true` to remove the overhead.\n",
      "And if memory is not enough, you can set `force_col_wise=true`.\n",
      "[LightGBM] [Info] Total Bins 649\n",
      "[LightGBM] [Info] Number of data points in the train set: 122833, number of used features: 9\n",
      "[LightGBM] [Info] Start training from score 5131.868822\n",
      "[CV 2/3] END n_estimators=100, num_leaves=160;, score=-1586.063 total time=   0.9s\n",
      "[LightGBM] [Info] Auto-choosing row-wise multi-threading, the overhead of testing was 0.001836 seconds.\n",
      "You can set `force_row_wise=true` to remove the overhead.\n",
      "And if memory is not enough, you can set `force_col_wise=true`.\n",
      "[LightGBM] [Info] Total Bins 646\n",
      "[LightGBM] [Info] Number of data points in the train set: 122833, number of used features: 9\n",
      "[LightGBM] [Info] Start training from score 5129.160201\n",
      "[CV 3/3] END n_estimators=100, num_leaves=160;, score=-1605.719 total time=   1.3s\n",
      "[LightGBM] [Info] Auto-choosing row-wise multi-threading, the overhead of testing was 0.002033 seconds.\n",
      "You can set `force_row_wise=true` to remove the overhead.\n",
      "And if memory is not enough, you can set `force_col_wise=true`.\n",
      "[LightGBM] [Info] Total Bins 647\n",
      "[LightGBM] [Info] Number of data points in the train set: 122832, number of used features: 9\n",
      "[LightGBM] [Info] Start training from score 5113.245913\n",
      "[CV 1/3] END n_estimators=100, num_leaves=180;, score=-1589.614 total time=   0.7s\n",
      "[LightGBM] [Info] Auto-choosing row-wise multi-threading, the overhead of testing was 0.001849 seconds.\n",
      "You can set `force_row_wise=true` to remove the overhead.\n",
      "And if memory is not enough, you can set `force_col_wise=true`.\n",
      "[LightGBM] [Info] Total Bins 649\n",
      "[LightGBM] [Info] Number of data points in the train set: 122833, number of used features: 9\n",
      "[LightGBM] [Info] Start training from score 5131.868822\n",
      "[CV 2/3] END n_estimators=100, num_leaves=180;, score=-1581.837 total time=   0.8s\n",
      "[LightGBM] [Info] Auto-choosing row-wise multi-threading, the overhead of testing was 0.001772 seconds.\n",
      "You can set `force_row_wise=true` to remove the overhead.\n",
      "And if memory is not enough, you can set `force_col_wise=true`.\n",
      "[LightGBM] [Info] Total Bins 646\n",
      "[LightGBM] [Info] Number of data points in the train set: 122833, number of used features: 9\n",
      "[LightGBM] [Info] Start training from score 5129.160201\n",
      "[CV 3/3] END n_estimators=100, num_leaves=180;, score=-1599.862 total time=   0.8s\n",
      "[LightGBM] [Info] Auto-choosing row-wise multi-threading, the overhead of testing was 0.001978 seconds.\n",
      "You can set `force_row_wise=true` to remove the overhead.\n",
      "And if memory is not enough, you can set `force_col_wise=true`.\n",
      "[LightGBM] [Info] Total Bins 647\n",
      "[LightGBM] [Info] Number of data points in the train set: 122832, number of used features: 9\n",
      "[LightGBM] [Info] Start training from score 5113.245913\n",
      "[CV 1/3] END n_estimators=100, num_leaves=200;, score=-1587.139 total time=   0.8s\n",
      "[LightGBM] [Info] Auto-choosing row-wise multi-threading, the overhead of testing was 0.001721 seconds.\n",
      "You can set `force_row_wise=true` to remove the overhead.\n",
      "And if memory is not enough, you can set `force_col_wise=true`.\n",
      "[LightGBM] [Info] Total Bins 649\n",
      "[LightGBM] [Info] Number of data points in the train set: 122833, number of used features: 9\n",
      "[LightGBM] [Info] Start training from score 5131.868822\n",
      "[CV 2/3] END n_estimators=100, num_leaves=200;, score=-1579.221 total time=   0.9s\n",
      "[LightGBM] [Info] Auto-choosing row-wise multi-threading, the overhead of testing was 0.001806 seconds.\n",
      "You can set `force_row_wise=true` to remove the overhead.\n",
      "And if memory is not enough, you can set `force_col_wise=true`.\n",
      "[LightGBM] [Info] Total Bins 646\n",
      "[LightGBM] [Info] Number of data points in the train set: 122833, number of used features: 9\n",
      "[LightGBM] [Info] Start training from score 5129.160201\n",
      "[CV 3/3] END n_estimators=100, num_leaves=200;, score=-1598.447 total time=   0.8s\n",
      "[LightGBM] [Info] Auto-choosing row-wise multi-threading, the overhead of testing was 0.002068 seconds.\n",
      "You can set `force_row_wise=true` to remove the overhead.\n",
      "And if memory is not enough, you can set `force_col_wise=true`.\n",
      "[LightGBM] [Info] Total Bins 647\n",
      "[LightGBM] [Info] Number of data points in the train set: 122832, number of used features: 9\n",
      "[LightGBM] [Info] Start training from score 5113.245913\n",
      "[CV 1/3] END n_estimators=100, num_leaves=220;, score=-1589.927 total time=   0.9s\n",
      "[LightGBM] [Info] Auto-choosing row-wise multi-threading, the overhead of testing was 0.002176 seconds.\n",
      "You can set `force_row_wise=true` to remove the overhead.\n",
      "And if memory is not enough, you can set `force_col_wise=true`.\n",
      "[LightGBM] [Info] Total Bins 649\n",
      "[LightGBM] [Info] Number of data points in the train set: 122833, number of used features: 9\n",
      "[LightGBM] [Info] Start training from score 5131.868822\n",
      "[CV 2/3] END n_estimators=100, num_leaves=220;, score=-1580.937 total time=   0.9s\n",
      "[LightGBM] [Info] Auto-choosing row-wise multi-threading, the overhead of testing was 0.001953 seconds.\n",
      "You can set `force_row_wise=true` to remove the overhead.\n",
      "And if memory is not enough, you can set `force_col_wise=true`.\n",
      "[LightGBM] [Info] Total Bins 646\n",
      "[LightGBM] [Info] Number of data points in the train set: 122833, number of used features: 9\n",
      "[LightGBM] [Info] Start training from score 5129.160201\n",
      "[CV 3/3] END n_estimators=100, num_leaves=220;, score=-1596.735 total time=   0.9s\n",
      "[LightGBM] [Info] Auto-choosing row-wise multi-threading, the overhead of testing was 0.002018 seconds.\n",
      "You can set `force_row_wise=true` to remove the overhead.\n",
      "And if memory is not enough, you can set `force_col_wise=true`.\n",
      "[LightGBM] [Info] Total Bins 647\n",
      "[LightGBM] [Info] Number of data points in the train set: 122832, number of used features: 9\n",
      "[LightGBM] [Info] Start training from score 5113.245913\n",
      "[CV 1/3] END n_estimators=100, num_leaves=240;, score=-1586.218 total time=   0.9s\n",
      "[LightGBM] [Info] Auto-choosing row-wise multi-threading, the overhead of testing was 0.002285 seconds.\n",
      "You can set `force_row_wise=true` to remove the overhead.\n",
      "And if memory is not enough, you can set `force_col_wise=true`.\n",
      "[LightGBM] [Info] Total Bins 649\n",
      "[LightGBM] [Info] Number of data points in the train set: 122833, number of used features: 9\n",
      "[LightGBM] [Info] Start training from score 5131.868822\n",
      "[CV 2/3] END n_estimators=100, num_leaves=240;, score=-1575.743 total time=   1.1s\n",
      "[LightGBM] [Info] Auto-choosing row-wise multi-threading, the overhead of testing was 0.001720 seconds.\n",
      "You can set `force_row_wise=true` to remove the overhead.\n",
      "And if memory is not enough, you can set `force_col_wise=true`.\n",
      "[LightGBM] [Info] Total Bins 646\n",
      "[LightGBM] [Info] Number of data points in the train set: 122833, number of used features: 9\n",
      "[LightGBM] [Info] Start training from score 5129.160201\n",
      "[CV 3/3] END n_estimators=100, num_leaves=240;, score=-1597.035 total time=   1.0s\n",
      "[LightGBM] [Info] Auto-choosing row-wise multi-threading, the overhead of testing was 0.002345 seconds.\n",
      "You can set `force_row_wise=true` to remove the overhead.\n",
      "And if memory is not enough, you can set `force_col_wise=true`.\n",
      "[LightGBM] [Info] Total Bins 647\n",
      "[LightGBM] [Info] Number of data points in the train set: 122832, number of used features: 9\n",
      "[LightGBM] [Info] Start training from score 5113.245913\n",
      "[CV 1/3] END n_estimators=100, num_leaves=260;, score=-1586.370 total time=   1.0s\n",
      "[LightGBM] [Info] Auto-choosing row-wise multi-threading, the overhead of testing was 0.001871 seconds.\n",
      "You can set `force_row_wise=true` to remove the overhead.\n",
      "And if memory is not enough, you can set `force_col_wise=true`.\n",
      "[LightGBM] [Info] Total Bins 649\n",
      "[LightGBM] [Info] Number of data points in the train set: 122833, number of used features: 9\n",
      "[LightGBM] [Info] Start training from score 5131.868822\n",
      "[CV 2/3] END n_estimators=100, num_leaves=260;, score=-1575.667 total time=   1.0s\n",
      "[LightGBM] [Info] Auto-choosing row-wise multi-threading, the overhead of testing was 0.001762 seconds.\n",
      "You can set `force_row_wise=true` to remove the overhead.\n",
      "And if memory is not enough, you can set `force_col_wise=true`.\n",
      "[LightGBM] [Info] Total Bins 646\n",
      "[LightGBM] [Info] Number of data points in the train set: 122833, number of used features: 9\n",
      "[LightGBM] [Info] Start training from score 5129.160201\n",
      "[CV 3/3] END n_estimators=100, num_leaves=260;, score=-1591.981 total time=   1.0s\n",
      "[LightGBM] [Info] Auto-choosing row-wise multi-threading, the overhead of testing was 0.002060 seconds.\n",
      "You can set `force_row_wise=true` to remove the overhead.\n",
      "And if memory is not enough, you can set `force_col_wise=true`.\n",
      "[LightGBM] [Info] Total Bins 647\n",
      "[LightGBM] [Info] Number of data points in the train set: 122832, number of used features: 9\n",
      "[LightGBM] [Info] Start training from score 5113.245913\n",
      "[CV 1/3] END n_estimators=100, num_leaves=280;, score=-1587.678 total time=   1.0s\n",
      "[LightGBM] [Info] Auto-choosing row-wise multi-threading, the overhead of testing was 0.001974 seconds.\n",
      "You can set `force_row_wise=true` to remove the overhead.\n",
      "And if memory is not enough, you can set `force_col_wise=true`.\n",
      "[LightGBM] [Info] Total Bins 649\n",
      "[LightGBM] [Info] Number of data points in the train set: 122833, number of used features: 9\n",
      "[LightGBM] [Info] Start training from score 5131.868822\n",
      "[CV 2/3] END n_estimators=100, num_leaves=280;, score=-1575.033 total time=   1.3s\n",
      "[LightGBM] [Info] Auto-choosing row-wise multi-threading, the overhead of testing was 0.002170 seconds.\n",
      "You can set `force_row_wise=true` to remove the overhead.\n",
      "And if memory is not enough, you can set `force_col_wise=true`.\n",
      "[LightGBM] [Info] Total Bins 646\n",
      "[LightGBM] [Info] Number of data points in the train set: 122833, number of used features: 9\n",
      "[LightGBM] [Info] Start training from score 5129.160201\n",
      "[CV 3/3] END n_estimators=100, num_leaves=280;, score=-1593.319 total time=   1.1s\n",
      "[LightGBM] [Info] Auto-choosing row-wise multi-threading, the overhead of testing was 0.002017 seconds.\n",
      "You can set `force_row_wise=true` to remove the overhead.\n",
      "And if memory is not enough, you can set `force_col_wise=true`.\n",
      "[LightGBM] [Info] Total Bins 647\n",
      "[LightGBM] [Info] Number of data points in the train set: 122832, number of used features: 9\n",
      "[LightGBM] [Info] Start training from score 5113.245913\n",
      "[CV 1/3] END n_estimators=500, num_leaves=20;, score=-1607.315 total time=   0.9s\n",
      "[LightGBM] [Info] Auto-choosing row-wise multi-threading, the overhead of testing was 0.001814 seconds.\n",
      "You can set `force_row_wise=true` to remove the overhead.\n",
      "And if memory is not enough, you can set `force_col_wise=true`.\n",
      "[LightGBM] [Info] Total Bins 649\n",
      "[LightGBM] [Info] Number of data points in the train set: 122833, number of used features: 9\n",
      "[LightGBM] [Info] Start training from score 5131.868822\n",
      "[CV 2/3] END n_estimators=500, num_leaves=20;, score=-1597.258 total time=   1.0s\n",
      "[LightGBM] [Info] Auto-choosing row-wise multi-threading, the overhead of testing was 0.002047 seconds.\n",
      "You can set `force_row_wise=true` to remove the overhead.\n",
      "And if memory is not enough, you can set `force_col_wise=true`.\n",
      "[LightGBM] [Info] Total Bins 646\n",
      "[LightGBM] [Info] Number of data points in the train set: 122833, number of used features: 9\n",
      "[LightGBM] [Info] Start training from score 5129.160201\n",
      "[CV 3/3] END n_estimators=500, num_leaves=20;, score=-1612.454 total time=   0.9s\n",
      "[LightGBM] [Info] Auto-choosing row-wise multi-threading, the overhead of testing was 0.002026 seconds.\n",
      "You can set `force_row_wise=true` to remove the overhead.\n",
      "And if memory is not enough, you can set `force_col_wise=true`.\n",
      "[LightGBM] [Info] Total Bins 647\n",
      "[LightGBM] [Info] Number of data points in the train set: 122832, number of used features: 9\n",
      "[LightGBM] [Info] Start training from score 5113.245913\n",
      "[CV 1/3] END n_estimators=500, num_leaves=40;, score=-1592.477 total time=   1.1s\n",
      "[LightGBM] [Info] Auto-choosing row-wise multi-threading, the overhead of testing was 0.001885 seconds.\n",
      "You can set `force_row_wise=true` to remove the overhead.\n",
      "And if memory is not enough, you can set `force_col_wise=true`.\n",
      "[LightGBM] [Info] Total Bins 649\n",
      "[LightGBM] [Info] Number of data points in the train set: 122833, number of used features: 9\n",
      "[LightGBM] [Info] Start training from score 5131.868822\n",
      "[CV 2/3] END n_estimators=500, num_leaves=40;, score=-1580.908 total time=   1.3s\n",
      "[LightGBM] [Info] Auto-choosing row-wise multi-threading, the overhead of testing was 0.001688 seconds.\n",
      "You can set `force_row_wise=true` to remove the overhead.\n",
      "And if memory is not enough, you can set `force_col_wise=true`.\n",
      "[LightGBM] [Info] Total Bins 646\n",
      "[LightGBM] [Info] Number of data points in the train set: 122833, number of used features: 9\n",
      "[LightGBM] [Info] Start training from score 5129.160201\n",
      "[CV 3/3] END n_estimators=500, num_leaves=40;, score=-1598.207 total time=   1.2s\n",
      "[LightGBM] [Info] Auto-choosing row-wise multi-threading, the overhead of testing was 0.001723 seconds.\n",
      "You can set `force_row_wise=true` to remove the overhead.\n",
      "And if memory is not enough, you can set `force_col_wise=true`.\n",
      "[LightGBM] [Info] Total Bins 647\n",
      "[LightGBM] [Info] Number of data points in the train set: 122832, number of used features: 9\n",
      "[LightGBM] [Info] Start training from score 5113.245913\n",
      "[CV 1/3] END n_estimators=500, num_leaves=60;, score=-1584.844 total time=   1.4s\n",
      "[LightGBM] [Info] Auto-choosing row-wise multi-threading, the overhead of testing was 0.001823 seconds.\n",
      "You can set `force_row_wise=true` to remove the overhead.\n",
      "And if memory is not enough, you can set `force_col_wise=true`.\n",
      "[LightGBM] [Info] Total Bins 649\n",
      "[LightGBM] [Info] Number of data points in the train set: 122833, number of used features: 9\n",
      "[LightGBM] [Info] Start training from score 5131.868822\n",
      "[CV 2/3] END n_estimators=500, num_leaves=60;, score=-1574.128 total time=   1.4s\n",
      "[LightGBM] [Info] Auto-choosing row-wise multi-threading, the overhead of testing was 0.001790 seconds.\n",
      "You can set `force_row_wise=true` to remove the overhead.\n",
      "And if memory is not enough, you can set `force_col_wise=true`.\n",
      "[LightGBM] [Info] Total Bins 646\n",
      "[LightGBM] [Info] Number of data points in the train set: 122833, number of used features: 9\n",
      "[LightGBM] [Info] Start training from score 5129.160201\n",
      "[CV 3/3] END n_estimators=500, num_leaves=60;, score=-1590.761 total time=   1.4s\n",
      "[LightGBM] [Info] Auto-choosing row-wise multi-threading, the overhead of testing was 0.002315 seconds.\n",
      "You can set `force_row_wise=true` to remove the overhead.\n",
      "And if memory is not enough, you can set `force_col_wise=true`.\n",
      "[LightGBM] [Info] Total Bins 647\n",
      "[LightGBM] [Info] Number of data points in the train set: 122832, number of used features: 9\n",
      "[LightGBM] [Info] Start training from score 5113.245913\n",
      "[CV 1/3] END n_estimators=500, num_leaves=80;, score=-1587.764 total time=   1.7s\n",
      "[LightGBM] [Info] Auto-choosing row-wise multi-threading, the overhead of testing was 0.002489 seconds.\n",
      "You can set `force_row_wise=true` to remove the overhead.\n",
      "And if memory is not enough, you can set `force_col_wise=true`.\n",
      "[LightGBM] [Info] Total Bins 649\n",
      "[LightGBM] [Info] Number of data points in the train set: 122833, number of used features: 9\n",
      "[LightGBM] [Info] Start training from score 5131.868822\n",
      "[CV 2/3] END n_estimators=500, num_leaves=80;, score=-1572.443 total time=   1.8s\n",
      "[LightGBM] [Info] Auto-choosing row-wise multi-threading, the overhead of testing was 0.002425 seconds.\n",
      "You can set `force_row_wise=true` to remove the overhead.\n",
      "And if memory is not enough, you can set `force_col_wise=true`.\n",
      "[LightGBM] [Info] Total Bins 646\n",
      "[LightGBM] [Info] Number of data points in the train set: 122833, number of used features: 9\n",
      "[LightGBM] [Info] Start training from score 5129.160201\n",
      "[CV 3/3] END n_estimators=500, num_leaves=80;, score=-1589.622 total time=   2.1s\n",
      "[LightGBM] [Info] Auto-choosing row-wise multi-threading, the overhead of testing was 0.002014 seconds.\n",
      "You can set `force_row_wise=true` to remove the overhead.\n",
      "And if memory is not enough, you can set `force_col_wise=true`.\n",
      "[LightGBM] [Info] Total Bins 647\n",
      "[LightGBM] [Info] Number of data points in the train set: 122832, number of used features: 9\n",
      "[LightGBM] [Info] Start training from score 5113.245913\n",
      "[CV 1/3] END n_estimators=500, num_leaves=100;, score=-1584.829 total time=   1.9s\n",
      "[LightGBM] [Info] Auto-choosing row-wise multi-threading, the overhead of testing was 0.001949 seconds.\n",
      "You can set `force_row_wise=true` to remove the overhead.\n",
      "And if memory is not enough, you can set `force_col_wise=true`.\n",
      "[LightGBM] [Info] Total Bins 649\n",
      "[LightGBM] [Info] Number of data points in the train set: 122833, number of used features: 9\n",
      "[LightGBM] [Info] Start training from score 5131.868822\n",
      "[CV 2/3] END n_estimators=500, num_leaves=100;, score=-1569.374 total time=   1.9s\n",
      "[LightGBM] [Info] Auto-choosing row-wise multi-threading, the overhead of testing was 0.002327 seconds.\n",
      "You can set `force_row_wise=true` to remove the overhead.\n",
      "And if memory is not enough, you can set `force_col_wise=true`.\n",
      "[LightGBM] [Info] Total Bins 646\n",
      "[LightGBM] [Info] Number of data points in the train set: 122833, number of used features: 9\n",
      "[LightGBM] [Info] Start training from score 5129.160201\n",
      "[CV 3/3] END n_estimators=500, num_leaves=100;, score=-1587.870 total time=   1.9s\n",
      "[LightGBM] [Info] Auto-choosing row-wise multi-threading, the overhead of testing was 0.001977 seconds.\n",
      "You can set `force_row_wise=true` to remove the overhead.\n",
      "And if memory is not enough, you can set `force_col_wise=true`.\n",
      "[LightGBM] [Info] Total Bins 647\n",
      "[LightGBM] [Info] Number of data points in the train set: 122832, number of used features: 9\n",
      "[LightGBM] [Info] Start training from score 5113.245913\n",
      "[CV 1/3] END n_estimators=500, num_leaves=120;, score=-1586.815 total time=   2.3s\n",
      "[LightGBM] [Info] Auto-choosing row-wise multi-threading, the overhead of testing was 0.002525 seconds.\n",
      "You can set `force_row_wise=true` to remove the overhead.\n",
      "And if memory is not enough, you can set `force_col_wise=true`.\n",
      "[LightGBM] [Info] Total Bins 649\n",
      "[LightGBM] [Info] Number of data points in the train set: 122833, number of used features: 9\n",
      "[LightGBM] [Info] Start training from score 5131.868822\n",
      "[CV 2/3] END n_estimators=500, num_leaves=120;, score=-1570.526 total time=   2.3s\n",
      "[LightGBM] [Info] Auto-choosing row-wise multi-threading, the overhead of testing was 0.001903 seconds.\n",
      "You can set `force_row_wise=true` to remove the overhead.\n",
      "And if memory is not enough, you can set `force_col_wise=true`.\n",
      "[LightGBM] [Info] Total Bins 646\n",
      "[LightGBM] [Info] Number of data points in the train set: 122833, number of used features: 9\n",
      "[LightGBM] [Info] Start training from score 5129.160201\n",
      "[CV 3/3] END n_estimators=500, num_leaves=120;, score=-1590.499 total time=   2.2s\n",
      "[LightGBM] [Info] Auto-choosing row-wise multi-threading, the overhead of testing was 0.002293 seconds.\n",
      "You can set `force_row_wise=true` to remove the overhead.\n",
      "And if memory is not enough, you can set `force_col_wise=true`.\n",
      "[LightGBM] [Info] Total Bins 647\n",
      "[LightGBM] [Info] Number of data points in the train set: 122832, number of used features: 9\n",
      "[LightGBM] [Info] Start training from score 5113.245913\n",
      "[CV 1/3] END n_estimators=500, num_leaves=140;, score=-1586.090 total time=   2.7s\n",
      "[LightGBM] [Info] Auto-choosing row-wise multi-threading, the overhead of testing was 0.002181 seconds.\n",
      "You can set `force_row_wise=true` to remove the overhead.\n",
      "And if memory is not enough, you can set `force_col_wise=true`.\n",
      "[LightGBM] [Info] Total Bins 649\n",
      "[LightGBM] [Info] Number of data points in the train set: 122833, number of used features: 9\n",
      "[LightGBM] [Info] Start training from score 5131.868822\n",
      "[CV 2/3] END n_estimators=500, num_leaves=140;, score=-1569.032 total time=   2.7s\n",
      "[LightGBM] [Info] Auto-choosing row-wise multi-threading, the overhead of testing was 0.001821 seconds.\n",
      "You can set `force_row_wise=true` to remove the overhead.\n",
      "And if memory is not enough, you can set `force_col_wise=true`.\n",
      "[LightGBM] [Info] Total Bins 646\n",
      "[LightGBM] [Info] Number of data points in the train set: 122833, number of used features: 9\n",
      "[LightGBM] [Info] Start training from score 5129.160201\n",
      "[CV 3/3] END n_estimators=500, num_leaves=140;, score=-1591.395 total time=   2.5s\n",
      "[LightGBM] [Info] Auto-choosing row-wise multi-threading, the overhead of testing was 0.001842 seconds.\n",
      "You can set `force_row_wise=true` to remove the overhead.\n",
      "And if memory is not enough, you can set `force_col_wise=true`.\n",
      "[LightGBM] [Info] Total Bins 647\n",
      "[LightGBM] [Info] Number of data points in the train set: 122832, number of used features: 9\n",
      "[LightGBM] [Info] Start training from score 5113.245913\n",
      "[CV 1/3] END n_estimators=500, num_leaves=160;, score=-1587.798 total time=   2.7s\n",
      "[LightGBM] [Info] Auto-choosing row-wise multi-threading, the overhead of testing was 0.001967 seconds.\n",
      "You can set `force_row_wise=true` to remove the overhead.\n",
      "And if memory is not enough, you can set `force_col_wise=true`.\n",
      "[LightGBM] [Info] Total Bins 649\n",
      "[LightGBM] [Info] Number of data points in the train set: 122833, number of used features: 9\n",
      "[LightGBM] [Info] Start training from score 5131.868822\n",
      "[CV 2/3] END n_estimators=500, num_leaves=160;, score=-1574.211 total time=   2.7s\n",
      "[LightGBM] [Info] Auto-choosing row-wise multi-threading, the overhead of testing was 0.002220 seconds.\n",
      "You can set `force_row_wise=true` to remove the overhead.\n",
      "And if memory is not enough, you can set `force_col_wise=true`.\n",
      "[LightGBM] [Info] Total Bins 646\n",
      "[LightGBM] [Info] Number of data points in the train set: 122833, number of used features: 9\n",
      "[LightGBM] [Info] Start training from score 5129.160201\n",
      "[CV 3/3] END n_estimators=500, num_leaves=160;, score=-1592.551 total time=   2.9s\n",
      "[LightGBM] [Info] Auto-choosing row-wise multi-threading, the overhead of testing was 0.001947 seconds.\n",
      "You can set `force_row_wise=true` to remove the overhead.\n",
      "And if memory is not enough, you can set `force_col_wise=true`.\n",
      "[LightGBM] [Info] Total Bins 647\n",
      "[LightGBM] [Info] Number of data points in the train set: 122832, number of used features: 9\n",
      "[LightGBM] [Info] Start training from score 5113.245913\n",
      "[CV 1/3] END n_estimators=500, num_leaves=180;, score=-1589.886 total time=   3.2s\n",
      "[LightGBM] [Info] Auto-choosing row-wise multi-threading, the overhead of testing was 0.002289 seconds.\n",
      "You can set `force_row_wise=true` to remove the overhead.\n",
      "And if memory is not enough, you can set `force_col_wise=true`.\n",
      "[LightGBM] [Info] Total Bins 649\n",
      "[LightGBM] [Info] Number of data points in the train set: 122833, number of used features: 9\n",
      "[LightGBM] [Info] Start training from score 5131.868822\n",
      "[CV 2/3] END n_estimators=500, num_leaves=180;, score=-1574.241 total time=   3.3s\n",
      "[LightGBM] [Info] Auto-choosing row-wise multi-threading, the overhead of testing was 0.001841 seconds.\n",
      "You can set `force_row_wise=true` to remove the overhead.\n",
      "And if memory is not enough, you can set `force_col_wise=true`.\n",
      "[LightGBM] [Info] Total Bins 646\n",
      "[LightGBM] [Info] Number of data points in the train set: 122833, number of used features: 9\n",
      "[LightGBM] [Info] Start training from score 5129.160201\n",
      "[CV 3/3] END n_estimators=500, num_leaves=180;, score=-1589.804 total time=   3.2s\n",
      "[LightGBM] [Info] Auto-choosing row-wise multi-threading, the overhead of testing was 0.002206 seconds.\n",
      "You can set `force_row_wise=true` to remove the overhead.\n",
      "And if memory is not enough, you can set `force_col_wise=true`.\n",
      "[LightGBM] [Info] Total Bins 647\n",
      "[LightGBM] [Info] Number of data points in the train set: 122832, number of used features: 9\n",
      "[LightGBM] [Info] Start training from score 5113.245913\n",
      "[CV 1/3] END n_estimators=500, num_leaves=200;, score=-1587.770 total time=   3.2s\n",
      "[LightGBM] [Info] Auto-choosing row-wise multi-threading, the overhead of testing was 0.001675 seconds.\n",
      "You can set `force_row_wise=true` to remove the overhead.\n",
      "And if memory is not enough, you can set `force_col_wise=true`.\n",
      "[LightGBM] [Info] Total Bins 649\n",
      "[LightGBM] [Info] Number of data points in the train set: 122833, number of used features: 9\n",
      "[LightGBM] [Info] Start training from score 5131.868822\n",
      "[CV 2/3] END n_estimators=500, num_leaves=200;, score=-1571.473 total time=   3.1s\n",
      "[LightGBM] [Info] Auto-choosing row-wise multi-threading, the overhead of testing was 0.001841 seconds.\n",
      "You can set `force_row_wise=true` to remove the overhead.\n",
      "And if memory is not enough, you can set `force_col_wise=true`.\n",
      "[LightGBM] [Info] Total Bins 646\n",
      "[LightGBM] [Info] Number of data points in the train set: 122833, number of used features: 9\n",
      "[LightGBM] [Info] Start training from score 5129.160201\n",
      "[CV 3/3] END n_estimators=500, num_leaves=200;, score=-1592.027 total time=   3.7s\n",
      "[LightGBM] [Info] Auto-choosing row-wise multi-threading, the overhead of testing was 0.002082 seconds.\n",
      "You can set `force_row_wise=true` to remove the overhead.\n",
      "And if memory is not enough, you can set `force_col_wise=true`.\n",
      "[LightGBM] [Info] Total Bins 647\n",
      "[LightGBM] [Info] Number of data points in the train set: 122832, number of used features: 9\n",
      "[LightGBM] [Info] Start training from score 5113.245913\n",
      "[CV 1/3] END n_estimators=500, num_leaves=220;, score=-1593.636 total time=   3.5s\n",
      "[LightGBM] [Info] Auto-choosing row-wise multi-threading, the overhead of testing was 0.002250 seconds.\n",
      "You can set `force_row_wise=true` to remove the overhead.\n",
      "And if memory is not enough, you can set `force_col_wise=true`.\n",
      "[LightGBM] [Info] Total Bins 649\n",
      "[LightGBM] [Info] Number of data points in the train set: 122833, number of used features: 9\n",
      "[LightGBM] [Info] Start training from score 5131.868822\n",
      "[CV 2/3] END n_estimators=500, num_leaves=220;, score=-1574.901 total time=   3.5s\n",
      "[LightGBM] [Info] Auto-choosing row-wise multi-threading, the overhead of testing was 0.001753 seconds.\n",
      "You can set `force_row_wise=true` to remove the overhead.\n",
      "And if memory is not enough, you can set `force_col_wise=true`.\n",
      "[LightGBM] [Info] Total Bins 646\n",
      "[LightGBM] [Info] Number of data points in the train set: 122833, number of used features: 9\n",
      "[LightGBM] [Info] Start training from score 5129.160201\n",
      "[CV 3/3] END n_estimators=500, num_leaves=220;, score=-1593.880 total time=   3.9s\n",
      "[LightGBM] [Info] Auto-choosing row-wise multi-threading, the overhead of testing was 0.001502 seconds.\n",
      "You can set `force_row_wise=true` to remove the overhead.\n",
      "And if memory is not enough, you can set `force_col_wise=true`.\n",
      "[LightGBM] [Info] Total Bins 647\n",
      "[LightGBM] [Info] Number of data points in the train set: 122832, number of used features: 9\n",
      "[LightGBM] [Info] Start training from score 5113.245913\n",
      "[CV 1/3] END n_estimators=500, num_leaves=240;, score=-1593.840 total time=   4.0s\n",
      "[LightGBM] [Info] Auto-choosing row-wise multi-threading, the overhead of testing was 0.002187 seconds.\n",
      "You can set `force_row_wise=true` to remove the overhead.\n",
      "And if memory is not enough, you can set `force_col_wise=true`.\n",
      "[LightGBM] [Info] Total Bins 649\n",
      "[LightGBM] [Info] Number of data points in the train set: 122833, number of used features: 9\n",
      "[LightGBM] [Info] Start training from score 5131.868822\n",
      "[CV 2/3] END n_estimators=500, num_leaves=240;, score=-1575.758 total time=   3.7s\n",
      "[LightGBM] [Info] Auto-choosing row-wise multi-threading, the overhead of testing was 0.002149 seconds.\n",
      "You can set `force_row_wise=true` to remove the overhead.\n",
      "And if memory is not enough, you can set `force_col_wise=true`.\n",
      "[LightGBM] [Info] Total Bins 646\n",
      "[LightGBM] [Info] Number of data points in the train set: 122833, number of used features: 9\n",
      "[LightGBM] [Info] Start training from score 5129.160201\n",
      "[CV 3/3] END n_estimators=500, num_leaves=240;, score=-1594.350 total time=   3.9s\n",
      "[LightGBM] [Info] Auto-choosing row-wise multi-threading, the overhead of testing was 0.002131 seconds.\n",
      "You can set `force_row_wise=true` to remove the overhead.\n",
      "And if memory is not enough, you can set `force_col_wise=true`.\n",
      "[LightGBM] [Info] Total Bins 647\n",
      "[LightGBM] [Info] Number of data points in the train set: 122832, number of used features: 9\n",
      "[LightGBM] [Info] Start training from score 5113.245913\n",
      "[CV 1/3] END n_estimators=500, num_leaves=260;, score=-1597.601 total time=   4.0s\n",
      "[LightGBM] [Info] Auto-choosing row-wise multi-threading, the overhead of testing was 0.002016 seconds.\n",
      "You can set `force_row_wise=true` to remove the overhead.\n",
      "And if memory is not enough, you can set `force_col_wise=true`.\n",
      "[LightGBM] [Info] Total Bins 649\n",
      "[LightGBM] [Info] Number of data points in the train set: 122833, number of used features: 9\n",
      "[LightGBM] [Info] Start training from score 5131.868822\n",
      "[CV 2/3] END n_estimators=500, num_leaves=260;, score=-1575.881 total time=   4.7s\n",
      "[LightGBM] [Info] Auto-choosing row-wise multi-threading, the overhead of testing was 0.001808 seconds.\n",
      "You can set `force_row_wise=true` to remove the overhead.\n",
      "And if memory is not enough, you can set `force_col_wise=true`.\n",
      "[LightGBM] [Info] Total Bins 646\n",
      "[LightGBM] [Info] Number of data points in the train set: 122833, number of used features: 9\n",
      "[LightGBM] [Info] Start training from score 5129.160201\n",
      "[CV 3/3] END n_estimators=500, num_leaves=260;, score=-1595.493 total time=   4.1s\n",
      "[LightGBM] [Info] Auto-choosing row-wise multi-threading, the overhead of testing was 0.002094 seconds.\n",
      "You can set `force_row_wise=true` to remove the overhead.\n",
      "And if memory is not enough, you can set `force_col_wise=true`.\n",
      "[LightGBM] [Info] Total Bins 647\n",
      "[LightGBM] [Info] Number of data points in the train set: 122832, number of used features: 9\n",
      "[LightGBM] [Info] Start training from score 5113.245913\n",
      "[CV 1/3] END n_estimators=500, num_leaves=280;, score=-1600.718 total time=   4.2s\n",
      "[LightGBM] [Info] Auto-choosing row-wise multi-threading, the overhead of testing was 0.001966 seconds.\n",
      "You can set `force_row_wise=true` to remove the overhead.\n",
      "And if memory is not enough, you can set `force_col_wise=true`.\n",
      "[LightGBM] [Info] Total Bins 649\n",
      "[LightGBM] [Info] Number of data points in the train set: 122833, number of used features: 9\n",
      "[LightGBM] [Info] Start training from score 5131.868822\n",
      "[CV 2/3] END n_estimators=500, num_leaves=280;, score=-1579.596 total time=   4.3s\n",
      "[LightGBM] [Info] Auto-choosing row-wise multi-threading, the overhead of testing was 0.001821 seconds.\n",
      "You can set `force_row_wise=true` to remove the overhead.\n",
      "And if memory is not enough, you can set `force_col_wise=true`.\n",
      "[LightGBM] [Info] Total Bins 646\n",
      "[LightGBM] [Info] Number of data points in the train set: 122833, number of used features: 9\n",
      "[LightGBM] [Info] Start training from score 5129.160201\n",
      "[CV 3/3] END n_estimators=500, num_leaves=280;, score=-1595.642 total time=   4.5s\n",
      "[LightGBM] [Info] Auto-choosing row-wise multi-threading, the overhead of testing was 0.001986 seconds.\n",
      "You can set `force_row_wise=true` to remove the overhead.\n",
      "And if memory is not enough, you can set `force_col_wise=true`.\n",
      "[LightGBM] [Info] Total Bins 647\n",
      "[LightGBM] [Info] Number of data points in the train set: 122832, number of used features: 9\n",
      "[LightGBM] [Info] Start training from score 5113.245913\n",
      "[CV 1/3] END n_estimators=1000, num_leaves=20;, score=-1595.063 total time=   1.5s\n",
      "[LightGBM] [Info] Auto-choosing row-wise multi-threading, the overhead of testing was 0.002591 seconds.\n",
      "You can set `force_row_wise=true` to remove the overhead.\n",
      "And if memory is not enough, you can set `force_col_wise=true`.\n",
      "[LightGBM] [Info] Total Bins 649\n",
      "[LightGBM] [Info] Number of data points in the train set: 122833, number of used features: 9\n",
      "[LightGBM] [Info] Start training from score 5131.868822\n",
      "[CV 2/3] END n_estimators=1000, num_leaves=20;, score=-1585.362 total time=   1.7s\n",
      "[LightGBM] [Info] Auto-choosing row-wise multi-threading, the overhead of testing was 0.002098 seconds.\n",
      "You can set `force_row_wise=true` to remove the overhead.\n",
      "And if memory is not enough, you can set `force_col_wise=true`.\n",
      "[LightGBM] [Info] Total Bins 646\n",
      "[LightGBM] [Info] Number of data points in the train set: 122833, number of used features: 9\n",
      "[LightGBM] [Info] Start training from score 5129.160201\n",
      "[CV 3/3] END n_estimators=1000, num_leaves=20;, score=-1598.317 total time=   1.6s\n",
      "[LightGBM] [Info] Auto-choosing row-wise multi-threading, the overhead of testing was 0.001990 seconds.\n",
      "You can set `force_row_wise=true` to remove the overhead.\n",
      "And if memory is not enough, you can set `force_col_wise=true`.\n",
      "[LightGBM] [Info] Total Bins 647\n",
      "[LightGBM] [Info] Number of data points in the train set: 122832, number of used features: 9\n",
      "[LightGBM] [Info] Start training from score 5113.245913\n",
      "[CV 1/3] END n_estimators=1000, num_leaves=40;, score=-1588.591 total time=   2.2s\n",
      "[LightGBM] [Info] Auto-choosing row-wise multi-threading, the overhead of testing was 0.001674 seconds.\n",
      "You can set `force_row_wise=true` to remove the overhead.\n",
      "And if memory is not enough, you can set `force_col_wise=true`.\n",
      "[LightGBM] [Info] Total Bins 649\n",
      "[LightGBM] [Info] Number of data points in the train set: 122833, number of used features: 9\n",
      "[LightGBM] [Info] Start training from score 5131.868822\n",
      "[CV 2/3] END n_estimators=1000, num_leaves=40;, score=-1574.314 total time=   2.4s\n",
      "[LightGBM] [Info] Auto-choosing row-wise multi-threading, the overhead of testing was 0.002123 seconds.\n",
      "You can set `force_row_wise=true` to remove the overhead.\n",
      "And if memory is not enough, you can set `force_col_wise=true`.\n",
      "[LightGBM] [Info] Total Bins 646\n",
      "[LightGBM] [Info] Number of data points in the train set: 122833, number of used features: 9\n",
      "[LightGBM] [Info] Start training from score 5129.160201\n",
      "[CV 3/3] END n_estimators=1000, num_leaves=40;, score=-1590.576 total time=   2.1s\n",
      "[LightGBM] [Info] Auto-choosing row-wise multi-threading, the overhead of testing was 0.002177 seconds.\n",
      "You can set `force_row_wise=true` to remove the overhead.\n",
      "And if memory is not enough, you can set `force_col_wise=true`.\n",
      "[LightGBM] [Info] Total Bins 647\n",
      "[LightGBM] [Info] Number of data points in the train set: 122832, number of used features: 9\n",
      "[LightGBM] [Info] Start training from score 5113.245913\n",
      "[CV 1/3] END n_estimators=1000, num_leaves=60;, score=-1586.614 total time=   3.2s\n",
      "[LightGBM] [Info] Auto-choosing row-wise multi-threading, the overhead of testing was 0.001822 seconds.\n",
      "You can set `force_row_wise=true` to remove the overhead.\n",
      "And if memory is not enough, you can set `force_col_wise=true`.\n",
      "[LightGBM] [Info] Total Bins 649\n",
      "[LightGBM] [Info] Number of data points in the train set: 122833, number of used features: 9\n",
      "[LightGBM] [Info] Start training from score 5131.868822\n",
      "[CV 2/3] END n_estimators=1000, num_leaves=60;, score=-1571.837 total time=   2.6s\n",
      "[LightGBM] [Info] Auto-choosing row-wise multi-threading, the overhead of testing was 0.001905 seconds.\n",
      "You can set `force_row_wise=true` to remove the overhead.\n",
      "And if memory is not enough, you can set `force_col_wise=true`.\n",
      "[LightGBM] [Info] Total Bins 646\n",
      "[LightGBM] [Info] Number of data points in the train set: 122833, number of used features: 9\n",
      "[LightGBM] [Info] Start training from score 5129.160201\n",
      "[CV 3/3] END n_estimators=1000, num_leaves=60;, score=-1586.860 total time=   2.7s\n",
      "[LightGBM] [Info] Auto-choosing row-wise multi-threading, the overhead of testing was 0.002133 seconds.\n",
      "You can set `force_row_wise=true` to remove the overhead.\n",
      "And if memory is not enough, you can set `force_col_wise=true`.\n",
      "[LightGBM] [Info] Total Bins 647\n",
      "[LightGBM] [Info] Number of data points in the train set: 122832, number of used features: 9\n",
      "[LightGBM] [Info] Start training from score 5113.245913\n",
      "[CV 1/3] END n_estimators=1000, num_leaves=80;, score=-1593.585 total time=   3.2s\n",
      "[LightGBM] [Info] Auto-choosing row-wise multi-threading, the overhead of testing was 0.002414 seconds.\n",
      "You can set `force_row_wise=true` to remove the overhead.\n",
      "And if memory is not enough, you can set `force_col_wise=true`.\n",
      "[LightGBM] [Info] Total Bins 649\n",
      "[LightGBM] [Info] Number of data points in the train set: 122833, number of used features: 9\n",
      "[LightGBM] [Info] Start training from score 5131.868822\n",
      "[CV 2/3] END n_estimators=1000, num_leaves=80;, score=-1573.275 total time=   3.1s\n",
      "[LightGBM] [Info] Auto-choosing row-wise multi-threading, the overhead of testing was 0.001852 seconds.\n",
      "You can set `force_row_wise=true` to remove the overhead.\n",
      "And if memory is not enough, you can set `force_col_wise=true`.\n",
      "[LightGBM] [Info] Total Bins 646\n",
      "[LightGBM] [Info] Number of data points in the train set: 122833, number of used features: 9\n",
      "[LightGBM] [Info] Start training from score 5129.160201\n",
      "[CV 3/3] END n_estimators=1000, num_leaves=80;, score=-1588.975 total time=   3.4s\n",
      "[LightGBM] [Info] Auto-choosing row-wise multi-threading, the overhead of testing was 0.002448 seconds.\n",
      "You can set `force_row_wise=true` to remove the overhead.\n",
      "And if memory is not enough, you can set `force_col_wise=true`.\n",
      "[LightGBM] [Info] Total Bins 647\n",
      "[LightGBM] [Info] Number of data points in the train set: 122832, number of used features: 9\n",
      "[LightGBM] [Info] Start training from score 5113.245913\n",
      "[CV 1/3] END n_estimators=1000, num_leaves=100;, score=-1592.945 total time=   4.0s\n",
      "[LightGBM] [Info] Auto-choosing row-wise multi-threading, the overhead of testing was 0.001862 seconds.\n",
      "You can set `force_row_wise=true` to remove the overhead.\n",
      "And if memory is not enough, you can set `force_col_wise=true`.\n",
      "[LightGBM] [Info] Total Bins 649\n",
      "[LightGBM] [Info] Number of data points in the train set: 122833, number of used features: 9\n",
      "[LightGBM] [Info] Start training from score 5131.868822\n",
      "[CV 2/3] END n_estimators=1000, num_leaves=100;, score=-1571.966 total time=   3.7s\n",
      "[LightGBM] [Info] Auto-choosing row-wise multi-threading, the overhead of testing was 0.001914 seconds.\n",
      "You can set `force_row_wise=true` to remove the overhead.\n",
      "And if memory is not enough, you can set `force_col_wise=true`.\n",
      "[LightGBM] [Info] Total Bins 646\n",
      "[LightGBM] [Info] Number of data points in the train set: 122833, number of used features: 9\n",
      "[LightGBM] [Info] Start training from score 5129.160201\n",
      "[CV 3/3] END n_estimators=1000, num_leaves=100;, score=-1592.488 total time=   3.6s\n",
      "[LightGBM] [Info] Auto-choosing row-wise multi-threading, the overhead of testing was 0.002110 seconds.\n",
      "You can set `force_row_wise=true` to remove the overhead.\n",
      "And if memory is not enough, you can set `force_col_wise=true`.\n",
      "[LightGBM] [Info] Total Bins 647\n",
      "[LightGBM] [Info] Number of data points in the train set: 122832, number of used features: 9\n",
      "[LightGBM] [Info] Start training from score 5113.245913\n",
      "[CV 1/3] END n_estimators=1000, num_leaves=120;, score=-1596.784 total time=   4.4s\n",
      "[LightGBM] [Info] Auto-choosing row-wise multi-threading, the overhead of testing was 0.002041 seconds.\n",
      "You can set `force_row_wise=true` to remove the overhead.\n",
      "And if memory is not enough, you can set `force_col_wise=true`.\n",
      "[LightGBM] [Info] Total Bins 649\n",
      "[LightGBM] [Info] Number of data points in the train set: 122833, number of used features: 9\n",
      "[LightGBM] [Info] Start training from score 5131.868822\n",
      "[CV 2/3] END n_estimators=1000, num_leaves=120;, score=-1574.982 total time=   4.2s\n",
      "[LightGBM] [Info] Auto-choosing row-wise multi-threading, the overhead of testing was 0.002126 seconds.\n",
      "You can set `force_row_wise=true` to remove the overhead.\n",
      "And if memory is not enough, you can set `force_col_wise=true`.\n",
      "[LightGBM] [Info] Total Bins 646\n",
      "[LightGBM] [Info] Number of data points in the train set: 122833, number of used features: 9\n",
      "[LightGBM] [Info] Start training from score 5129.160201\n",
      "[CV 3/3] END n_estimators=1000, num_leaves=120;, score=-1597.052 total time=   4.2s\n",
      "[LightGBM] [Info] Auto-choosing row-wise multi-threading, the overhead of testing was 0.001921 seconds.\n",
      "You can set `force_row_wise=true` to remove the overhead.\n",
      "And if memory is not enough, you can set `force_col_wise=true`.\n",
      "[LightGBM] [Info] Total Bins 647\n",
      "[LightGBM] [Info] Number of data points in the train set: 122832, number of used features: 9\n",
      "[LightGBM] [Info] Start training from score 5113.245913\n",
      "[CV 1/3] END n_estimators=1000, num_leaves=140;, score=-1599.517 total time=   4.5s\n",
      "[LightGBM] [Info] Auto-choosing row-wise multi-threading, the overhead of testing was 0.001994 seconds.\n",
      "You can set `force_row_wise=true` to remove the overhead.\n",
      "And if memory is not enough, you can set `force_col_wise=true`.\n",
      "[LightGBM] [Info] Total Bins 649\n",
      "[LightGBM] [Info] Number of data points in the train set: 122833, number of used features: 9\n",
      "[LightGBM] [Info] Start training from score 5131.868822\n",
      "[CV 2/3] END n_estimators=1000, num_leaves=140;, score=-1575.923 total time=   4.8s\n",
      "[LightGBM] [Info] Auto-choosing row-wise multi-threading, the overhead of testing was 0.002026 seconds.\n",
      "You can set `force_row_wise=true` to remove the overhead.\n",
      "And if memory is not enough, you can set `force_col_wise=true`.\n",
      "[LightGBM] [Info] Total Bins 646\n",
      "[LightGBM] [Info] Number of data points in the train set: 122833, number of used features: 9\n",
      "[LightGBM] [Info] Start training from score 5129.160201\n",
      "[CV 3/3] END n_estimators=1000, num_leaves=140;, score=-1600.049 total time=   4.7s\n",
      "[LightGBM] [Info] Auto-choosing row-wise multi-threading, the overhead of testing was 0.002262 seconds.\n",
      "You can set `force_row_wise=true` to remove the overhead.\n",
      "And if memory is not enough, you can set `force_col_wise=true`.\n",
      "[LightGBM] [Info] Total Bins 647\n",
      "[LightGBM] [Info] Number of data points in the train set: 122832, number of used features: 9\n",
      "[LightGBM] [Info] Start training from score 5113.245913\n",
      "[CV 1/3] END n_estimators=1000, num_leaves=160;, score=-1601.991 total time=   5.1s\n",
      "[LightGBM] [Info] Auto-choosing row-wise multi-threading, the overhead of testing was 0.001842 seconds.\n",
      "You can set `force_row_wise=true` to remove the overhead.\n",
      "And if memory is not enough, you can set `force_col_wise=true`.\n",
      "[LightGBM] [Info] Total Bins 649\n",
      "[LightGBM] [Info] Number of data points in the train set: 122833, number of used features: 9\n",
      "[LightGBM] [Info] Start training from score 5131.868822\n",
      "[CV 2/3] END n_estimators=1000, num_leaves=160;, score=-1583.597 total time=   5.6s\n",
      "[LightGBM] [Info] Auto-choosing row-wise multi-threading, the overhead of testing was 0.002168 seconds.\n",
      "You can set `force_row_wise=true` to remove the overhead.\n",
      "And if memory is not enough, you can set `force_col_wise=true`.\n",
      "[LightGBM] [Info] Total Bins 646\n",
      "[LightGBM] [Info] Number of data points in the train set: 122833, number of used features: 9\n",
      "[LightGBM] [Info] Start training from score 5129.160201\n",
      "[CV 3/3] END n_estimators=1000, num_leaves=160;, score=-1602.395 total time=   5.4s\n",
      "[LightGBM] [Info] Auto-choosing row-wise multi-threading, the overhead of testing was 0.002300 seconds.\n",
      "You can set `force_row_wise=true` to remove the overhead.\n",
      "And if memory is not enough, you can set `force_col_wise=true`.\n",
      "[LightGBM] [Info] Total Bins 647\n",
      "[LightGBM] [Info] Number of data points in the train set: 122832, number of used features: 9\n",
      "[LightGBM] [Info] Start training from score 5113.245913\n",
      "[CV 1/3] END n_estimators=1000, num_leaves=180;, score=-1607.383 total time=   6.1s\n",
      "[LightGBM] [Info] Auto-choosing row-wise multi-threading, the overhead of testing was 0.002025 seconds.\n",
      "You can set `force_row_wise=true` to remove the overhead.\n",
      "And if memory is not enough, you can set `force_col_wise=true`.\n",
      "[LightGBM] [Info] Total Bins 649\n",
      "[LightGBM] [Info] Number of data points in the train set: 122833, number of used features: 9\n",
      "[LightGBM] [Info] Start training from score 5131.868822\n",
      "[CV 2/3] END n_estimators=1000, num_leaves=180;, score=-1585.790 total time=   6.1s\n",
      "[LightGBM] [Info] Auto-choosing row-wise multi-threading, the overhead of testing was 0.001689 seconds.\n",
      "You can set `force_row_wise=true` to remove the overhead.\n",
      "And if memory is not enough, you can set `force_col_wise=true`.\n",
      "[LightGBM] [Info] Total Bins 646\n",
      "[LightGBM] [Info] Number of data points in the train set: 122833, number of used features: 9\n",
      "[LightGBM] [Info] Start training from score 5129.160201\n",
      "[CV 3/3] END n_estimators=1000, num_leaves=180;, score=-1603.022 total time=   5.9s\n",
      "[LightGBM] [Info] Auto-choosing row-wise multi-threading, the overhead of testing was 0.002088 seconds.\n",
      "You can set `force_row_wise=true` to remove the overhead.\n",
      "And if memory is not enough, you can set `force_col_wise=true`.\n",
      "[LightGBM] [Info] Total Bins 647\n",
      "[LightGBM] [Info] Number of data points in the train set: 122832, number of used features: 9\n",
      "[LightGBM] [Info] Start training from score 5113.245913\n",
      "[CV 1/3] END n_estimators=1000, num_leaves=200;, score=-1605.810 total time=   6.1s\n",
      "[LightGBM] [Info] Auto-choosing row-wise multi-threading, the overhead of testing was 0.001817 seconds.\n",
      "You can set `force_row_wise=true` to remove the overhead.\n",
      "And if memory is not enough, you can set `force_col_wise=true`.\n",
      "[LightGBM] [Info] Total Bins 649\n",
      "[LightGBM] [Info] Number of data points in the train set: 122833, number of used features: 9\n",
      "[LightGBM] [Info] Start training from score 5131.868822\n",
      "[CV 2/3] END n_estimators=1000, num_leaves=200;, score=-1585.232 total time=   6.5s\n",
      "[LightGBM] [Info] Auto-choosing row-wise multi-threading, the overhead of testing was 0.002087 seconds.\n",
      "You can set `force_row_wise=true` to remove the overhead.\n",
      "And if memory is not enough, you can set `force_col_wise=true`.\n",
      "[LightGBM] [Info] Total Bins 646\n",
      "[LightGBM] [Info] Number of data points in the train set: 122833, number of used features: 9\n",
      "[LightGBM] [Info] Start training from score 5129.160201\n",
      "[CV 3/3] END n_estimators=1000, num_leaves=200;, score=-1605.432 total time=   6.1s\n",
      "[LightGBM] [Info] Auto-choosing row-wise multi-threading, the overhead of testing was 0.002259 seconds.\n",
      "You can set `force_row_wise=true` to remove the overhead.\n",
      "And if memory is not enough, you can set `force_col_wise=true`.\n",
      "[LightGBM] [Info] Total Bins 647\n",
      "[LightGBM] [Info] Number of data points in the train set: 122832, number of used features: 9\n",
      "[LightGBM] [Info] Start training from score 5113.245913\n",
      "[CV 1/3] END n_estimators=1000, num_leaves=220;, score=-1613.922 total time=   7.0s\n",
      "[LightGBM] [Info] Auto-choosing row-wise multi-threading, the overhead of testing was 0.001785 seconds.\n",
      "You can set `force_row_wise=true` to remove the overhead.\n",
      "And if memory is not enough, you can set `force_col_wise=true`.\n",
      "[LightGBM] [Info] Total Bins 649\n",
      "[LightGBM] [Info] Number of data points in the train set: 122833, number of used features: 9\n",
      "[LightGBM] [Info] Start training from score 5131.868822\n",
      "[CV 2/3] END n_estimators=1000, num_leaves=220;, score=-1589.601 total time=   6.8s\n",
      "[LightGBM] [Info] Auto-choosing row-wise multi-threading, the overhead of testing was 0.001989 seconds.\n",
      "You can set `force_row_wise=true` to remove the overhead.\n",
      "And if memory is not enough, you can set `force_col_wise=true`.\n",
      "[LightGBM] [Info] Total Bins 646\n",
      "[LightGBM] [Info] Number of data points in the train set: 122833, number of used features: 9\n",
      "[LightGBM] [Info] Start training from score 5129.160201\n",
      "[CV 3/3] END n_estimators=1000, num_leaves=220;, score=-1608.256 total time=   6.6s\n",
      "[LightGBM] [Info] Auto-choosing row-wise multi-threading, the overhead of testing was 0.002051 seconds.\n",
      "You can set `force_row_wise=true` to remove the overhead.\n",
      "And if memory is not enough, you can set `force_col_wise=true`.\n",
      "[LightGBM] [Info] Total Bins 647\n",
      "[LightGBM] [Info] Number of data points in the train set: 122832, number of used features: 9\n",
      "[LightGBM] [Info] Start training from score 5113.245913\n",
      "[CV 1/3] END n_estimators=1000, num_leaves=240;, score=-1614.013 total time=   7.3s\n",
      "[LightGBM] [Info] Auto-choosing row-wise multi-threading, the overhead of testing was 0.001788 seconds.\n",
      "You can set `force_row_wise=true` to remove the overhead.\n",
      "And if memory is not enough, you can set `force_col_wise=true`.\n",
      "[LightGBM] [Info] Total Bins 649\n",
      "[LightGBM] [Info] Number of data points in the train set: 122833, number of used features: 9\n",
      "[LightGBM] [Info] Start training from score 5131.868822\n",
      "[CV 2/3] END n_estimators=1000, num_leaves=240;, score=-1590.590 total time=   8.0s\n",
      "[LightGBM] [Info] Auto-choosing row-wise multi-threading, the overhead of testing was 0.002080 seconds.\n",
      "You can set `force_row_wise=true` to remove the overhead.\n",
      "And if memory is not enough, you can set `force_col_wise=true`.\n",
      "[LightGBM] [Info] Total Bins 646\n",
      "[LightGBM] [Info] Number of data points in the train set: 122833, number of used features: 9\n",
      "[LightGBM] [Info] Start training from score 5129.160201\n",
      "[CV 3/3] END n_estimators=1000, num_leaves=240;, score=-1612.320 total time=   7.6s\n",
      "[LightGBM] [Info] Auto-choosing row-wise multi-threading, the overhead of testing was 0.002107 seconds.\n",
      "You can set `force_row_wise=true` to remove the overhead.\n",
      "And if memory is not enough, you can set `force_col_wise=true`.\n",
      "[LightGBM] [Info] Total Bins 647\n",
      "[LightGBM] [Info] Number of data points in the train set: 122832, number of used features: 9\n",
      "[LightGBM] [Info] Start training from score 5113.245913\n",
      "[CV 1/3] END n_estimators=1000, num_leaves=260;, score=-1621.059 total time=   7.5s\n",
      "[LightGBM] [Info] Auto-choosing row-wise multi-threading, the overhead of testing was 0.002130 seconds.\n",
      "You can set `force_row_wise=true` to remove the overhead.\n",
      "And if memory is not enough, you can set `force_col_wise=true`.\n",
      "[LightGBM] [Info] Total Bins 649\n",
      "[LightGBM] [Info] Number of data points in the train set: 122833, number of used features: 9\n",
      "[LightGBM] [Info] Start training from score 5131.868822\n",
      "[CV 2/3] END n_estimators=1000, num_leaves=260;, score=-1592.963 total time=   8.1s\n",
      "[LightGBM] [Info] Auto-choosing row-wise multi-threading, the overhead of testing was 0.002580 seconds.\n",
      "You can set `force_row_wise=true` to remove the overhead.\n",
      "And if memory is not enough, you can set `force_col_wise=true`.\n",
      "[LightGBM] [Info] Total Bins 646\n",
      "[LightGBM] [Info] Number of data points in the train set: 122833, number of used features: 9\n",
      "[LightGBM] [Info] Start training from score 5129.160201\n",
      "[CV 3/3] END n_estimators=1000, num_leaves=260;, score=-1612.973 total time=   8.1s\n",
      "[LightGBM] [Info] Auto-choosing row-wise multi-threading, the overhead of testing was 0.002446 seconds.\n",
      "You can set `force_row_wise=true` to remove the overhead.\n",
      "And if memory is not enough, you can set `force_col_wise=true`.\n",
      "[LightGBM] [Info] Total Bins 647\n",
      "[LightGBM] [Info] Number of data points in the train set: 122832, number of used features: 9\n",
      "[LightGBM] [Info] Start training from score 5113.245913\n",
      "[CV 1/3] END n_estimators=1000, num_leaves=280;, score=-1623.863 total time=   8.7s\n",
      "[LightGBM] [Info] Auto-choosing row-wise multi-threading, the overhead of testing was 0.001973 seconds.\n",
      "You can set `force_row_wise=true` to remove the overhead.\n",
      "And if memory is not enough, you can set `force_col_wise=true`.\n",
      "[LightGBM] [Info] Total Bins 649\n",
      "[LightGBM] [Info] Number of data points in the train set: 122833, number of used features: 9\n",
      "[LightGBM] [Info] Start training from score 5131.868822\n",
      "[CV 2/3] END n_estimators=1000, num_leaves=280;, score=-1597.468 total time=   8.6s\n",
      "[LightGBM] [Info] Auto-choosing row-wise multi-threading, the overhead of testing was 0.002062 seconds.\n",
      "You can set `force_row_wise=true` to remove the overhead.\n",
      "And if memory is not enough, you can set `force_col_wise=true`.\n",
      "[LightGBM] [Info] Total Bins 646\n",
      "[LightGBM] [Info] Number of data points in the train set: 122833, number of used features: 9\n",
      "[LightGBM] [Info] Start training from score 5129.160201\n",
      "[CV 3/3] END n_estimators=1000, num_leaves=280;, score=-1614.639 total time=  10.1s\n",
      "[LightGBM] [Info] Auto-choosing row-wise multi-threading, the overhead of testing was 0.003347 seconds.\n",
      "You can set `force_row_wise=true` to remove the overhead.\n",
      "And if memory is not enough, you can set `force_col_wise=true`.\n",
      "[LightGBM] [Info] Total Bins 655\n",
      "[LightGBM] [Info] Number of data points in the train set: 184249, number of used features: 9\n",
      "[LightGBM] [Info] Start training from score 5124.758343\n"
     ]
    },
    {
     "data": {
      "text/plain": [
       "{'n_estimators': 500, 'num_leaves': 100}"
      ]
     },
     "metadata": {},
     "output_type": "display_data"
    },
    {
     "data": {
      "text/plain": [
       "1580.6908606800037"
      ]
     },
     "metadata": {},
     "output_type": "display_data"
    }
   ],
   "source": [
    "model = lgb.LGBMRegressor(random_state=12345)\n",
    "\n",
    "tuning_model=GridSearchCV(estimator=model,\n",
    "                          param_grid=param_grid,\n",
    "                          scoring='neg_root_mean_squared_error',\n",
    "                          cv=3,\n",
    "                          verbose=3)\n",
    "\n",
    "tuning_model.fit(features_train, target_train)\n",
    "display(tuning_model.best_params_)\n",
    "display(tuning_model.best_score_*-1)\n"
   ]
  },
  {
   "cell_type": "markdown",
   "metadata": {},
   "source": [
    "Используем полученные гиперпараметры 'n_estimators': 500, 'num_leaves': 100 и добавим гиперпараметры 'learning_rate': [0.01, 0.05, 0.1], 'max_depth': [ 15, 20, 25] для улучшения предсказаний."
   ]
  },
  {
   "cell_type": "code",
   "execution_count": 151,
   "metadata": {
    "scrolled": true
   },
   "outputs": [
    {
     "name": "stdout",
     "output_type": "stream",
     "text": [
      "Fitting 3 folds for each of 9 candidates, totalling 27 fits\n",
      "[LightGBM] [Info] Auto-choosing row-wise multi-threading, the overhead of testing was 0.002790 seconds.\n",
      "You can set `force_row_wise=true` to remove the overhead.\n",
      "And if memory is not enough, you can set `force_col_wise=true`.\n",
      "[LightGBM] [Info] Total Bins 647\n",
      "[LightGBM] [Info] Number of data points in the train set: 122832, number of used features: 9\n",
      "[LightGBM] [Info] Start training from score 5113.245913\n",
      "[CV 1/3] END learning_rate=0.01, max_depth=15, n_estimators=500, num_leaves=100;, score=-1630.520 total time=   3.2s\n",
      "[LightGBM] [Info] Auto-choosing row-wise multi-threading, the overhead of testing was 0.001922 seconds.\n",
      "You can set `force_row_wise=true` to remove the overhead.\n",
      "And if memory is not enough, you can set `force_col_wise=true`.\n",
      "[LightGBM] [Info] Total Bins 649\n",
      "[LightGBM] [Info] Number of data points in the train set: 122833, number of used features: 9\n",
      "[LightGBM] [Info] Start training from score 5131.868822\n",
      "[CV 2/3] END learning_rate=0.01, max_depth=15, n_estimators=500, num_leaves=100;, score=-1616.897 total time=   3.3s\n",
      "[LightGBM] [Info] Auto-choosing row-wise multi-threading, the overhead of testing was 0.001842 seconds.\n",
      "You can set `force_row_wise=true` to remove the overhead.\n",
      "And if memory is not enough, you can set `force_col_wise=true`.\n",
      "[LightGBM] [Info] Total Bins 646\n",
      "[LightGBM] [Info] Number of data points in the train set: 122833, number of used features: 9\n",
      "[LightGBM] [Info] Start training from score 5129.160201\n",
      "[CV 3/3] END learning_rate=0.01, max_depth=15, n_estimators=500, num_leaves=100;, score=-1637.872 total time=   3.0s\n",
      "[LightGBM] [Info] Auto-choosing row-wise multi-threading, the overhead of testing was 0.001974 seconds.\n",
      "You can set `force_row_wise=true` to remove the overhead.\n",
      "And if memory is not enough, you can set `force_col_wise=true`.\n",
      "[LightGBM] [Info] Total Bins 647\n",
      "[LightGBM] [Info] Number of data points in the train set: 122832, number of used features: 9\n",
      "[LightGBM] [Info] Start training from score 5113.245913\n",
      "[CV 1/3] END learning_rate=0.01, max_depth=20, n_estimators=500, num_leaves=100;, score=-1630.826 total time=   3.5s\n",
      "[LightGBM] [Info] Auto-choosing row-wise multi-threading, the overhead of testing was 0.001937 seconds.\n",
      "You can set `force_row_wise=true` to remove the overhead.\n",
      "And if memory is not enough, you can set `force_col_wise=true`.\n",
      "[LightGBM] [Info] Total Bins 649\n",
      "[LightGBM] [Info] Number of data points in the train set: 122833, number of used features: 9\n",
      "[LightGBM] [Info] Start training from score 5131.868822\n",
      "[CV 2/3] END learning_rate=0.01, max_depth=20, n_estimators=500, num_leaves=100;, score=-1616.871 total time=   3.2s\n",
      "[LightGBM] [Info] Auto-choosing row-wise multi-threading, the overhead of testing was 0.002150 seconds.\n",
      "You can set `force_row_wise=true` to remove the overhead.\n",
      "And if memory is not enough, you can set `force_col_wise=true`.\n",
      "[LightGBM] [Info] Total Bins 646\n",
      "[LightGBM] [Info] Number of data points in the train set: 122833, number of used features: 9\n",
      "[LightGBM] [Info] Start training from score 5129.160201\n",
      "[CV 3/3] END learning_rate=0.01, max_depth=20, n_estimators=500, num_leaves=100;, score=-1638.107 total time=   3.0s\n",
      "[LightGBM] [Info] Auto-choosing row-wise multi-threading, the overhead of testing was 0.002058 seconds.\n",
      "You can set `force_row_wise=true` to remove the overhead.\n",
      "And if memory is not enough, you can set `force_col_wise=true`.\n",
      "[LightGBM] [Info] Total Bins 647\n",
      "[LightGBM] [Info] Number of data points in the train set: 122832, number of used features: 9\n",
      "[LightGBM] [Info] Start training from score 5113.245913\n",
      "[CV 1/3] END learning_rate=0.01, max_depth=25, n_estimators=500, num_leaves=100;, score=-1630.515 total time=   3.2s\n",
      "[LightGBM] [Info] Auto-choosing row-wise multi-threading, the overhead of testing was 0.002072 seconds.\n",
      "You can set `force_row_wise=true` to remove the overhead.\n",
      "And if memory is not enough, you can set `force_col_wise=true`.\n",
      "[LightGBM] [Info] Total Bins 649\n",
      "[LightGBM] [Info] Number of data points in the train set: 122833, number of used features: 9\n",
      "[LightGBM] [Info] Start training from score 5131.868822\n",
      "[CV 2/3] END learning_rate=0.01, max_depth=25, n_estimators=500, num_leaves=100;, score=-1616.871 total time=   3.2s\n",
      "[LightGBM] [Info] Auto-choosing row-wise multi-threading, the overhead of testing was 0.002373 seconds.\n",
      "You can set `force_row_wise=true` to remove the overhead.\n",
      "And if memory is not enough, you can set `force_col_wise=true`.\n",
      "[LightGBM] [Info] Total Bins 646\n",
      "[LightGBM] [Info] Number of data points in the train set: 122833, number of used features: 9\n",
      "[LightGBM] [Info] Start training from score 5129.160201\n",
      "[CV 3/3] END learning_rate=0.01, max_depth=25, n_estimators=500, num_leaves=100;, score=-1638.192 total time=   3.1s\n",
      "[LightGBM] [Info] Auto-choosing row-wise multi-threading, the overhead of testing was 0.002472 seconds.\n",
      "You can set `force_row_wise=true` to remove the overhead.\n",
      "And if memory is not enough, you can set `force_col_wise=true`.\n",
      "[LightGBM] [Info] Total Bins 647\n",
      "[LightGBM] [Info] Number of data points in the train set: 122832, number of used features: 9\n",
      "[LightGBM] [Info] Start training from score 5113.245913\n",
      "[LightGBM] [Warning] No further splits with positive gain, best gain: -inf\n",
      "[LightGBM] [Warning] No further splits with positive gain, best gain: -inf\n",
      "[LightGBM] [Warning] No further splits with positive gain, best gain: -inf\n",
      "[LightGBM] [Warning] No further splits with positive gain, best gain: -inf\n",
      "[LightGBM] [Warning] No further splits with positive gain, best gain: -inf\n",
      "[LightGBM] [Warning] No further splits with positive gain, best gain: -inf\n",
      "[LightGBM] [Warning] No further splits with positive gain, best gain: -inf\n",
      "[LightGBM] [Warning] No further splits with positive gain, best gain: -inf\n",
      "[LightGBM] [Warning] No further splits with positive gain, best gain: -inf\n",
      "[LightGBM] [Warning] No further splits with positive gain, best gain: -inf\n",
      "[LightGBM] [Warning] No further splits with positive gain, best gain: -inf\n",
      "[CV 1/3] END learning_rate=0.05, max_depth=15, n_estimators=500, num_leaves=100;, score=-1582.567 total time=   2.8s\n",
      "[LightGBM] [Info] Auto-choosing row-wise multi-threading, the overhead of testing was 0.002452 seconds.\n",
      "You can set `force_row_wise=true` to remove the overhead.\n",
      "And if memory is not enough, you can set `force_col_wise=true`.\n",
      "[LightGBM] [Info] Total Bins 649\n",
      "[LightGBM] [Info] Number of data points in the train set: 122833, number of used features: 9\n",
      "[LightGBM] [Info] Start training from score 5131.868822\n",
      "[LightGBM] [Warning] No further splits with positive gain, best gain: -inf\n",
      "[LightGBM] [Warning] No further splits with positive gain, best gain: -inf\n",
      "[LightGBM] [Warning] No further splits with positive gain, best gain: -inf\n",
      "[CV 2/3] END learning_rate=0.05, max_depth=15, n_estimators=500, num_leaves=100;, score=-1571.666 total time=   2.4s\n",
      "[LightGBM] [Info] Auto-choosing row-wise multi-threading, the overhead of testing was 0.002563 seconds.\n",
      "You can set `force_row_wise=true` to remove the overhead.\n",
      "And if memory is not enough, you can set `force_col_wise=true`.\n",
      "[LightGBM] [Info] Total Bins 646\n",
      "[LightGBM] [Info] Number of data points in the train set: 122833, number of used features: 9\n",
      "[LightGBM] [Info] Start training from score 5129.160201\n",
      "[LightGBM] [Warning] No further splits with positive gain, best gain: -inf\n",
      "[LightGBM] [Warning] No further splits with positive gain, best gain: -inf\n",
      "[LightGBM] [Warning] No further splits with positive gain, best gain: -inf\n",
      "[CV 3/3] END learning_rate=0.05, max_depth=15, n_estimators=500, num_leaves=100;, score=-1588.984 total time=   2.6s\n",
      "[LightGBM] [Info] Auto-choosing row-wise multi-threading, the overhead of testing was 0.003057 seconds.\n",
      "You can set `force_row_wise=true` to remove the overhead.\n",
      "And if memory is not enough, you can set `force_col_wise=true`.\n",
      "[LightGBM] [Info] Total Bins 647\n",
      "[LightGBM] [Info] Number of data points in the train set: 122832, number of used features: 9\n",
      "[LightGBM] [Info] Start training from score 5113.245913\n",
      "[CV 1/3] END learning_rate=0.05, max_depth=20, n_estimators=500, num_leaves=100;, score=-1581.118 total time=   2.4s\n",
      "[LightGBM] [Info] Auto-choosing row-wise multi-threading, the overhead of testing was 0.001950 seconds.\n",
      "You can set `force_row_wise=true` to remove the overhead.\n",
      "And if memory is not enough, you can set `force_col_wise=true`.\n",
      "[LightGBM] [Info] Total Bins 649\n",
      "[LightGBM] [Info] Number of data points in the train set: 122833, number of used features: 9\n",
      "[LightGBM] [Info] Start training from score 5131.868822\n",
      "[CV 2/3] END learning_rate=0.05, max_depth=20, n_estimators=500, num_leaves=100;, score=-1570.887 total time=   2.3s\n",
      "[LightGBM] [Info] Auto-choosing row-wise multi-threading, the overhead of testing was 0.002237 seconds.\n",
      "You can set `force_row_wise=true` to remove the overhead.\n",
      "And if memory is not enough, you can set `force_col_wise=true`.\n",
      "[LightGBM] [Info] Total Bins 646\n",
      "[LightGBM] [Info] Number of data points in the train set: 122833, number of used features: 9\n",
      "[LightGBM] [Info] Start training from score 5129.160201\n",
      "[LightGBM] [Warning] No further splits with positive gain, best gain: -inf\n",
      "[CV 3/3] END learning_rate=0.05, max_depth=20, n_estimators=500, num_leaves=100;, score=-1591.346 total time=   2.3s\n",
      "[LightGBM] [Info] Auto-choosing row-wise multi-threading, the overhead of testing was 0.002960 seconds.\n",
      "You can set `force_row_wise=true` to remove the overhead.\n",
      "And if memory is not enough, you can set `force_col_wise=true`.\n",
      "[LightGBM] [Info] Total Bins 647\n",
      "[LightGBM] [Info] Number of data points in the train set: 122832, number of used features: 9\n",
      "[LightGBM] [Info] Start training from score 5113.245913\n",
      "[CV 1/3] END learning_rate=0.05, max_depth=25, n_estimators=500, num_leaves=100;, score=-1580.951 total time=   2.4s\n",
      "[LightGBM] [Info] Auto-choosing row-wise multi-threading, the overhead of testing was 0.001953 seconds.\n",
      "You can set `force_row_wise=true` to remove the overhead.\n",
      "And if memory is not enough, you can set `force_col_wise=true`.\n",
      "[LightGBM] [Info] Total Bins 649\n",
      "[LightGBM] [Info] Number of data points in the train set: 122833, number of used features: 9\n",
      "[LightGBM] [Info] Start training from score 5131.868822\n",
      "[CV 2/3] END learning_rate=0.05, max_depth=25, n_estimators=500, num_leaves=100;, score=-1570.998 total time=   2.3s\n",
      "[LightGBM] [Info] Auto-choosing row-wise multi-threading, the overhead of testing was 0.001847 seconds.\n",
      "You can set `force_row_wise=true` to remove the overhead.\n",
      "And if memory is not enough, you can set `force_col_wise=true`.\n",
      "[LightGBM] [Info] Total Bins 646\n",
      "[LightGBM] [Info] Number of data points in the train set: 122833, number of used features: 9\n",
      "[LightGBM] [Info] Start training from score 5129.160201\n",
      "[CV 3/3] END learning_rate=0.05, max_depth=25, n_estimators=500, num_leaves=100;, score=-1589.603 total time=   2.3s\n",
      "[LightGBM] [Info] Auto-choosing row-wise multi-threading, the overhead of testing was 0.002147 seconds.\n",
      "You can set `force_row_wise=true` to remove the overhead.\n",
      "And if memory is not enough, you can set `force_col_wise=true`.\n",
      "[LightGBM] [Info] Total Bins 647\n",
      "[LightGBM] [Info] Number of data points in the train set: 122832, number of used features: 9\n",
      "[LightGBM] [Info] Start training from score 5113.245913\n",
      "[LightGBM] [Warning] No further splits with positive gain, best gain: -inf\n",
      "[LightGBM] [Warning] No further splits with positive gain, best gain: -inf\n",
      "[LightGBM] [Warning] No further splits with positive gain, best gain: -inf\n",
      "[LightGBM] [Warning] No further splits with positive gain, best gain: -inf\n",
      "[LightGBM] [Warning] No further splits with positive gain, best gain: -inf\n",
      "[LightGBM] [Warning] No further splits with positive gain, best gain: -inf\n",
      "[LightGBM] [Warning] No further splits with positive gain, best gain: -inf\n",
      "[LightGBM] [Warning] No further splits with positive gain, best gain: -inf\n",
      "[CV 1/3] END learning_rate=0.1, max_depth=15, n_estimators=500, num_leaves=100;, score=-1585.351 total time=   2.6s\n",
      "[LightGBM] [Info] Auto-choosing row-wise multi-threading, the overhead of testing was 0.001932 seconds.\n",
      "You can set `force_row_wise=true` to remove the overhead.\n",
      "And if memory is not enough, you can set `force_col_wise=true`.\n",
      "[LightGBM] [Info] Total Bins 649\n",
      "[LightGBM] [Info] Number of data points in the train set: 122833, number of used features: 9\n",
      "[LightGBM] [Info] Start training from score 5131.868822\n",
      "[LightGBM] [Warning] No further splits with positive gain, best gain: -inf\n",
      "[LightGBM] [Warning] No further splits with positive gain, best gain: -inf\n",
      "[LightGBM] [Warning] No further splits with positive gain, best gain: -inf\n",
      "[LightGBM] [Warning] No further splits with positive gain, best gain: -inf\n",
      "[LightGBM] [Warning] No further splits with positive gain, best gain: -inf\n",
      "[CV 2/3] END learning_rate=0.1, max_depth=15, n_estimators=500, num_leaves=100;, score=-1570.652 total time=   2.4s\n",
      "[LightGBM] [Info] Auto-choosing row-wise multi-threading, the overhead of testing was 0.002017 seconds.\n",
      "You can set `force_row_wise=true` to remove the overhead.\n",
      "And if memory is not enough, you can set `force_col_wise=true`.\n",
      "[LightGBM] [Info] Total Bins 646\n",
      "[LightGBM] [Info] Number of data points in the train set: 122833, number of used features: 9\n",
      "[LightGBM] [Info] Start training from score 5129.160201\n",
      "[LightGBM] [Warning] No further splits with positive gain, best gain: -inf\n",
      "[CV 3/3] END learning_rate=0.1, max_depth=15, n_estimators=500, num_leaves=100;, score=-1587.772 total time=   2.2s\n",
      "[LightGBM] [Info] Auto-choosing row-wise multi-threading, the overhead of testing was 0.002508 seconds.\n",
      "You can set `force_row_wise=true` to remove the overhead.\n",
      "And if memory is not enough, you can set `force_col_wise=true`.\n",
      "[LightGBM] [Info] Total Bins 647\n",
      "[LightGBM] [Info] Number of data points in the train set: 122832, number of used features: 9\n",
      "[LightGBM] [Info] Start training from score 5113.245913\n",
      "[LightGBM] [Warning] No further splits with positive gain, best gain: -inf\n",
      "[CV 1/3] END learning_rate=0.1, max_depth=20, n_estimators=500, num_leaves=100;, score=-1586.081 total time=   2.0s\n",
      "[LightGBM] [Info] Auto-choosing row-wise multi-threading, the overhead of testing was 0.002325 seconds.\n",
      "You can set `force_row_wise=true` to remove the overhead.\n",
      "And if memory is not enough, you can set `force_col_wise=true`.\n",
      "[LightGBM] [Info] Total Bins 649\n",
      "[LightGBM] [Info] Number of data points in the train set: 122833, number of used features: 9\n",
      "[LightGBM] [Info] Start training from score 5131.868822\n",
      "[CV 2/3] END learning_rate=0.1, max_depth=20, n_estimators=500, num_leaves=100;, score=-1568.562 total time=   2.0s\n",
      "[LightGBM] [Info] Auto-choosing row-wise multi-threading, the overhead of testing was 0.002233 seconds.\n",
      "You can set `force_row_wise=true` to remove the overhead.\n",
      "And if memory is not enough, you can set `force_col_wise=true`.\n",
      "[LightGBM] [Info] Total Bins 646\n",
      "[LightGBM] [Info] Number of data points in the train set: 122833, number of used features: 9\n",
      "[LightGBM] [Info] Start training from score 5129.160201\n",
      "[CV 3/3] END learning_rate=0.1, max_depth=20, n_estimators=500, num_leaves=100;, score=-1592.298 total time=   2.1s\n",
      "[LightGBM] [Info] Auto-choosing row-wise multi-threading, the overhead of testing was 0.002131 seconds.\n",
      "You can set `force_row_wise=true` to remove the overhead.\n",
      "And if memory is not enough, you can set `force_col_wise=true`.\n",
      "[LightGBM] [Info] Total Bins 647\n",
      "[LightGBM] [Info] Number of data points in the train set: 122832, number of used features: 9\n",
      "[LightGBM] [Info] Start training from score 5113.245913\n",
      "[CV 1/3] END learning_rate=0.1, max_depth=25, n_estimators=500, num_leaves=100;, score=-1584.468 total time=   2.3s\n",
      "[LightGBM] [Info] Auto-choosing row-wise multi-threading, the overhead of testing was 0.001798 seconds.\n",
      "You can set `force_row_wise=true` to remove the overhead.\n",
      "And if memory is not enough, you can set `force_col_wise=true`.\n",
      "[LightGBM] [Info] Total Bins 649\n",
      "[LightGBM] [Info] Number of data points in the train set: 122833, number of used features: 9\n",
      "[LightGBM] [Info] Start training from score 5131.868822\n",
      "[CV 2/3] END learning_rate=0.1, max_depth=25, n_estimators=500, num_leaves=100;, score=-1569.446 total time=   2.1s\n",
      "[LightGBM] [Info] Auto-choosing row-wise multi-threading, the overhead of testing was 0.001962 seconds.\n",
      "You can set `force_row_wise=true` to remove the overhead.\n",
      "And if memory is not enough, you can set `force_col_wise=true`.\n",
      "[LightGBM] [Info] Total Bins 646\n",
      "[LightGBM] [Info] Number of data points in the train set: 122833, number of used features: 9\n",
      "[LightGBM] [Info] Start training from score 5129.160201\n",
      "[CV 3/3] END learning_rate=0.1, max_depth=25, n_estimators=500, num_leaves=100;, score=-1590.378 total time=   2.2s\n",
      "[LightGBM] [Info] Auto-choosing row-wise multi-threading, the overhead of testing was 0.002939 seconds.\n",
      "You can set `force_row_wise=true` to remove the overhead.\n",
      "And if memory is not enough, you can set `force_col_wise=true`.\n",
      "[LightGBM] [Info] Total Bins 655\n",
      "[LightGBM] [Info] Number of data points in the train set: 184249, number of used features: 9\n",
      "[LightGBM] [Info] Start training from score 5124.758343\n",
      "Лучшие параметры: {'learning_rate': 0.05, 'max_depth': 25, 'n_estimators': 500, 'num_leaves': 100}\n",
      "Лучший RMSE на кросс-валидации: 1580.517483947954\n"
     ]
    }
   ],
   "source": [
    "# Определяем гиперпараметры для поиска\n",
    "param_grid = {\n",
    "    'n_estimators': [500],  # Меньше деревьев\n",
    "    'learning_rate': [0.01, 0.05, 0.1],  # Регулируем скорость обучения\n",
    "    'num_leaves': [100],\n",
    "    'max_depth': [15, 20, 25]  # Ограничиваем максимальную глубину деревьев\n",
    "}\n",
    "\n",
    "# Модель LightGBM\n",
    "model = lgb.LGBMRegressor(random_state=12345)\n",
    "\n",
    "# Настройка GridSearchCV с 3 кросс-валидациями\n",
    "tuning_model = GridSearchCV(estimator=model,\n",
    "                            param_grid=param_grid,\n",
    "                            scoring='neg_root_mean_squared_error',\n",
    "                            cv=3,\n",
    "                            verbose=3)\n",
    "\n",
    "# Обучаем модель\n",
    "tuning_model.fit(features_train, target_train)\n",
    "\n",
    "# Выводим лучшие параметры и лучший RMSE на кросс-валидации\n",
    "print(f\"Лучшие параметры: {tuning_model.best_params_}\")\n",
    "print(f\"Лучший RMSE на кросс-валидации: {-tuning_model.best_score_}\")"
   ]
  },
  {
   "cell_type": "markdown",
   "metadata": {},
   "source": [
    "Принимаем следующие гиперпараметры за финальные: Лучшие параметры: {'learning_rate': 0.05, 'max_depth': 25, 'n_estimators': 500, 'num_leaves': 100}"
   ]
  },
  {
   "cell_type": "code",
   "execution_count": 153,
   "metadata": {
    "scrolled": true
   },
   "outputs": [
    {
     "name": "stdout",
     "output_type": "stream",
     "text": [
      "Fitting 3 folds for each of 1 candidates, totalling 3 fits\n",
      "[LightGBM] [Info] Auto-choosing row-wise multi-threading, the overhead of testing was 0.004243 seconds.\n",
      "You can set `force_row_wise=true` to remove the overhead.\n",
      "And if memory is not enough, you can set `force_col_wise=true`.\n",
      "[LightGBM] [Info] Total Bins 647\n",
      "[LightGBM] [Info] Number of data points in the train set: 122832, number of used features: 9\n",
      "[LightGBM] [Info] Start training from score 5113.245913\n",
      "[CV 1/3] END learning_rate=0.05, max_depth=25, n_estimators=500, num_leaves=100;, score=-1580.951 total time=   2.3s\n",
      "[LightGBM] [Info] Auto-choosing row-wise multi-threading, the overhead of testing was 0.001845 seconds.\n",
      "You can set `force_row_wise=true` to remove the overhead.\n",
      "And if memory is not enough, you can set `force_col_wise=true`.\n",
      "[LightGBM] [Info] Total Bins 649\n",
      "[LightGBM] [Info] Number of data points in the train set: 122833, number of used features: 9\n",
      "[LightGBM] [Info] Start training from score 5131.868822\n",
      "[CV 2/3] END learning_rate=0.05, max_depth=25, n_estimators=500, num_leaves=100;, score=-1570.998 total time=   2.5s\n",
      "[LightGBM] [Info] Auto-choosing row-wise multi-threading, the overhead of testing was 0.002020 seconds.\n",
      "You can set `force_row_wise=true` to remove the overhead.\n",
      "And if memory is not enough, you can set `force_col_wise=true`.\n",
      "[LightGBM] [Info] Total Bins 646\n",
      "[LightGBM] [Info] Number of data points in the train set: 122833, number of used features: 9\n",
      "[LightGBM] [Info] Start training from score 5129.160201\n",
      "[CV 3/3] END learning_rate=0.05, max_depth=25, n_estimators=500, num_leaves=100;, score=-1589.603 total time=   2.3s\n",
      "[LightGBM] [Info] Auto-choosing row-wise multi-threading, the overhead of testing was 0.003070 seconds.\n",
      "You can set `force_row_wise=true` to remove the overhead.\n",
      "And if memory is not enough, you can set `force_col_wise=true`.\n",
      "[LightGBM] [Info] Total Bins 655\n",
      "[LightGBM] [Info] Number of data points in the train set: 184249, number of used features: 9\n",
      "[LightGBM] [Info] Start training from score 5124.758343\n",
      "Лучшие параметры: {'learning_rate': 0.05, 'max_depth': 25, 'n_estimators': 500, 'num_leaves': 100}\n",
      "Лучший RMSE на кросс-валидации: 1580.517483947954\n"
     ]
    }
   ],
   "source": [
    "# Определяем гиперпараметры для поиска\n",
    "param_grid = {\n",
    "    'n_estimators': [500],  # Меньше деревьев\n",
    "    'learning_rate': [0.05],  # Регулируем скорость обучения\n",
    "    'num_leaves': [100],\n",
    "    'max_depth': [25]  # Ограничиваем максимальную глубину деревьев\n",
    "}\n",
    "\n",
    "# Модель LightGBM\n",
    "model = lgb.LGBMRegressor(random_state=12345)\n",
    "\n",
    "# Настройка GridSearchCV с 3 кросс-валидациями\n",
    "tuning_model = GridSearchCV(estimator=model,\n",
    "                            param_grid=param_grid,\n",
    "                            scoring='neg_root_mean_squared_error',\n",
    "                            cv=3,\n",
    "                            verbose=3)\n",
    "\n",
    "# Обучаем модель\n",
    "tuning_model.fit(features_train, target_train)\n",
    "\n",
    "# Выводим лучшие параметры и лучший RMSE на кросс-валидации\n",
    "print(f\"Лучшие параметры: {tuning_model.best_params_}\")\n",
    "print(f\"Лучший RMSE на кросс-валидации: {-tuning_model.best_score_}\")"
   ]
  },
  {
   "cell_type": "markdown",
   "metadata": {
    "id": "Svj7fFWg8ymb"
   },
   "source": [
    "### Вывод 2.\n",
    "\n",
    "В этом разделе были обучены различные модели регрессии, и для каждой из них проведен подбор гиперпараметров с целью достижения наилучшей производительности. Основное внимание было уделено модели LightGBM, так как она продемонстрировала лучшие результаты по сравнению с другими моделями, такими как линейная регрессия, решающее дерево и случайный лес.\n",
    "\n",
    "В ходе подбора гиперпараметров для LightGBM был выбран набор значений: 'learning_rate': 0.05, 'max_depth': 25, 'n_estimators': 500, 'num_leaves': 100. Эти параметры позволили достичь наименьшего значения RMSE на кросс-валидационной выборке, равного 1580. Такое значение RMSE свидетельствует о хорошем качестве модели.\n",
    "Оптимальные значения гиперпараметров, такие как learning_rate и num_leaves, оказались ключевыми для улучшения точности модели. Более высокая глубина деревьев и увеличение числа деревьев в ансамбле также способствовали уменьшению ошибки. Полученные результаты показывают, что выбранная конфигурация LightGBM является наилучшей среди всех протестированных моделей.\n",
    "\n",
    "Таким образом, модель LightGBM с подобранными гиперпараметрами демонстрирует хорошую балансировку между точностью и обобщающей способностью, что делает её наиболее подходящей для данной задачи."
   ]
  },
  {
   "cell_type": "markdown",
   "metadata": {
    "id": "2PW1Nhqgfvd-"
   },
   "source": [
    "## Анализ моделей"
   ]
  },
  {
   "cell_type": "markdown",
   "metadata": {
    "id": "IG13d_V7NcFQ"
   },
   "source": [
    "### Модель линейной регрессии"
   ]
  },
  {
   "cell_type": "markdown",
   "metadata": {},
   "source": [
    "Произведем замер времени на обучение, предсказания и расчета RMSE для модели линейной регрессии:"
   ]
  },
  {
   "cell_type": "code",
   "execution_count": 163,
   "metadata": {},
   "outputs": [
    {
     "name": "stdout",
     "output_type": "stream",
     "text": [
      "Лучший RMSE на кросс-валидации LinearRegression: 2788.4220\n"
     ]
    }
   ],
   "source": [
    "start_train = time.time()\n",
    "\n",
    "model = LinearRegression()\n",
    "param_grid = {}\n",
    "\n",
    "grid_search = GridSearchCV(estimator=model, param_grid=param_grid, cv=5, scoring='neg_mean_squared_error')\n",
    "\n",
    "grid_search.fit(features_train_ohe, target_train_ohe)\n",
    "\n",
    "#end_train = time.time()\n",
    "#train_time_lr = end_train - start_train\n",
    "#print(f\"Время на обучение модели LinearRegression: {train_time_lr:.4f} секунд\")\n",
    "\n",
    "#start_predict = time.time()\n",
    "\n",
    "predictions = grid_search.predict(features_train_ohe)\n",
    "\n",
    "#end_predict = time.time()\n",
    "#predict_time_lr = end_predict - start_predict\n",
    "#print(f\"Время на предсказания LinearRegression: {predict_time_lr:.4f} секунд\")\n",
    "\n",
    "rmse_lr = (-grid_search.best_score_) ** 0.5\n",
    "print(f\"Лучший RMSE на кросс-валидации LinearRegression: {rmse_lr:.4f}\")"
   ]
  },
  {
   "cell_type": "markdown",
   "metadata": {
    "id": "L_I2nmQp2k-K"
   },
   "source": [
    "### Модель решающего дерева"
   ]
  },
  {
   "cell_type": "markdown",
   "metadata": {},
   "source": [
    "Произведем замер времени на обучение, предсказания и расчета RMSE для модели дерева решений:"
   ]
  },
  {
   "cell_type": "code",
   "execution_count": 166,
   "metadata": {},
   "outputs": [
    {
     "name": "stdout",
     "output_type": "stream",
     "text": [
      "Лучший RMSE на кросс-валидации: 1951.9190\n"
     ]
    }
   ],
   "source": [
    "start_train = time.time()\n",
    "\n",
    "enc = OrdinalEncoder(handle_unknown='use_encoded_value', unknown_value=-1)\n",
    "features_train_oe[['vehicle_type', 'registration_year', 'gearbox', 'power', \n",
    "                   'model', 'kilometer', 'fuel_type', 'brand', 'repaired']] = enc.fit_transform(\n",
    "    features_train_oe[['vehicle_type', 'registration_year', 'gearbox', 'power', \n",
    "                       'model', 'kilometer', 'fuel_type', 'brand', 'repaired']]\n",
    ")\n",
    "\n",
    "features_test_oe[['vehicle_type', 'registration_year', 'gearbox', 'power', \n",
    "                  'model', 'kilometer', 'fuel_type', 'brand', 'repaired']] = enc.transform(\n",
    "    features_test_oe[['vehicle_type', 'registration_year', 'gearbox', 'power', \n",
    "                      'model', 'kilometer', 'fuel_type', 'brand', 'repaired']]\n",
    ")\n",
    "\n",
    "param_grid = {'max_depth': [12]}\n",
    "model = DecisionTreeRegressor(random_state=12345)\n",
    "grid_search = GridSearchCV(estimator=model, param_grid=param_grid, cv=5, scoring='neg_mean_squared_error')\n",
    "grid_search.fit(features_train_oe, target_train_oe)\n",
    "\n",
    "#end_train = time.time()\n",
    "#train_time_tree = end_train - start_train\n",
    "#print(f\"Время на обучение модели: {train_time_tree:.4f} секунд\")\n",
    "\n",
    "#start_predict = time.time()\n",
    "#predictions = grid_search.predict(features_train_oe)\n",
    "#end_predict = time.time()\n",
    "#predict_time_tree = end_predict - start_predict\n",
    "#print(f\"Время на предсказания: {predict_time_tree:.4f} секунд\")\n",
    "\n",
    "rmse_tree = (-grid_search.best_score_) ** 0.5\n",
    "print(f'Лучший RMSE на кросс-валидации: {rmse_tree:.4f}')"
   ]
  },
  {
   "cell_type": "markdown",
   "metadata": {
    "id": "NzQbi0lS4e0m"
   },
   "source": [
    "### Модель случайного леса"
   ]
  },
  {
   "cell_type": "markdown",
   "metadata": {},
   "source": [
    "Произведем замер времени на обучение, предсказания и расчета RMSE для модели случайного леса:"
   ]
  },
  {
   "cell_type": "code",
   "execution_count": 169,
   "metadata": {},
   "outputs": [
    {
     "name": "stdout",
     "output_type": "stream",
     "text": [
      "Лучший RMSE на кросс-валидации: 1784.1081\n"
     ]
    }
   ],
   "source": [
    "start_train = time.time()\n",
    "\n",
    "param_grid = {\n",
    "    'n_estimators': [1000],\n",
    "    'max_depth': [12]\n",
    "}\n",
    "\n",
    "model = RandomForestRegressor(random_state=12345)\n",
    "\n",
    "grid_search = GridSearchCV(estimator=model, param_grid=param_grid, cv=3, scoring='neg_mean_squared_error', n_jobs=-1)\n",
    "grid_search.fit(features_train_oe, target_train_oe)\n",
    "\n",
    "#end_train = time.time()\n",
    "#train_time_forest = end_train - start_train\n",
    "#print(f\"Время на обучение модели: {train_time_forest:.4f} секунд\")\n",
    "\n",
    "#start_predict = time.time()\n",
    "#predictions = grid_search.predict(features_train_oe)\n",
    "#end_predict = time.time()\n",
    "#predict_time_forest = end_predict - start_predict\n",
    "#print(f\"Время на предсказания: {predict_time_forest:.4f} секунд\")\n",
    "\n",
    "rmse_forest = (-grid_search.best_score_) ** 0.5\n",
    "print(f'Лучший RMSE на кросс-валидации: {rmse_forest:.4f}')"
   ]
  },
  {
   "cell_type": "markdown",
   "metadata": {
    "id": "66caSenp5R0w"
   },
   "source": [
    "### Модель LightGBM"
   ]
  },
  {
   "cell_type": "markdown",
   "metadata": {},
   "source": [
    "Произведем замер времени на обучение, предсказания и расчета RMSE для модели LightGBM:"
   ]
  },
  {
   "cell_type": "code",
   "execution_count": 172,
   "metadata": {
    "scrolled": true
   },
   "outputs": [
    {
     "name": "stdout",
     "output_type": "stream",
     "text": [
      "Fitting 3 folds for each of 1 candidates, totalling 3 fits\n",
      "[LightGBM] [Info] Auto-choosing row-wise multi-threading, the overhead of testing was 0.002589 seconds.\n",
      "You can set `force_row_wise=true` to remove the overhead.\n",
      "And if memory is not enough, you can set `force_col_wise=true`.\n",
      "[LightGBM] [Info] Total Bins 647\n",
      "[LightGBM] [Info] Number of data points in the train set: 122832, number of used features: 9\n",
      "[LightGBM] [Info] Start training from score 5113.245913\n",
      "[CV 1/3] END learning_rate=0.05, max_depth=25, n_estimators=500, num_leaves=100;, score=-1580.951 total time=   3.2s\n",
      "[LightGBM] [Info] Auto-choosing row-wise multi-threading, the overhead of testing was 0.002030 seconds.\n",
      "You can set `force_row_wise=true` to remove the overhead.\n",
      "And if memory is not enough, you can set `force_col_wise=true`.\n",
      "[LightGBM] [Info] Total Bins 649\n",
      "[LightGBM] [Info] Number of data points in the train set: 122833, number of used features: 9\n",
      "[LightGBM] [Info] Start training from score 5131.868822\n",
      "[CV 2/3] END learning_rate=0.05, max_depth=25, n_estimators=500, num_leaves=100;, score=-1570.998 total time=   3.3s\n",
      "[LightGBM] [Info] Auto-choosing row-wise multi-threading, the overhead of testing was 0.001930 seconds.\n",
      "You can set `force_row_wise=true` to remove the overhead.\n",
      "And if memory is not enough, you can set `force_col_wise=true`.\n",
      "[LightGBM] [Info] Total Bins 646\n",
      "[LightGBM] [Info] Number of data points in the train set: 122833, number of used features: 9\n",
      "[LightGBM] [Info] Start training from score 5129.160201\n",
      "[CV 3/3] END learning_rate=0.05, max_depth=25, n_estimators=500, num_leaves=100;, score=-1589.603 total time=   2.2s\n",
      "[LightGBM] [Info] Auto-choosing row-wise multi-threading, the overhead of testing was 0.002096 seconds.\n",
      "You can set `force_row_wise=true` to remove the overhead.\n",
      "And if memory is not enough, you can set `force_col_wise=true`.\n",
      "[LightGBM] [Info] Total Bins 655\n",
      "[LightGBM] [Info] Number of data points in the train set: 184249, number of used features: 9\n",
      "[LightGBM] [Info] Start training from score 5124.758343\n",
      "Лучший RMSE на кросс-валидации: 1580.5175\n"
     ]
    }
   ],
   "source": [
    "start_train = time.time()\n",
    "\n",
    "param_grid = {\n",
    "    'n_estimators': [500],\n",
    "    'learning_rate': [0.05],\n",
    "    'num_leaves': [100],\n",
    "    'max_depth': [25]\n",
    "}\n",
    "\n",
    "model = lgb.LGBMRegressor(random_state=12345)\n",
    "\n",
    "tuning_model = GridSearchCV(estimator=model,\n",
    "                            param_grid=param_grid,\n",
    "                            scoring='neg_root_mean_squared_error',\n",
    "                            cv=3,\n",
    "                            verbose=3)\n",
    "\n",
    "tuning_model.fit(features_train, target_train)\n",
    "\n",
    "#end_train = time.time()\n",
    "#train_time_lgbm = end_train - start_train\n",
    "#print(f\"Время на обучение модели: {train_time_lgbm:.4f} секунд\")\n",
    "\n",
    "#start_predict = time.time()\n",
    "#predictions = tuning_model.predict(features_train)\n",
    "#end_predict = time.time()\n",
    "#predict_time_lgbm = end_predict - start_predict\n",
    "#print(f\"Время на предсказания: {predict_time_lgbm:.4f} секунд\")\n",
    "\n",
    "rmse_lgbm = -tuning_model.best_score_\n",
    "print(f\"Лучший RMSE на кросс-валидации: {rmse_lgbm:.4f}\")"
   ]
  },
  {
   "cell_type": "markdown",
   "metadata": {},
   "source": [
    "Объединим полученные результаты в таблицу:"
   ]
  },
  {
   "cell_type": "code",
   "execution_count": 182,
   "metadata": {},
   "outputs": [
    {
     "name": "stdout",
     "output_type": "stream",
     "text": [
      "[LightGBM] [Info] Auto-choosing row-wise multi-threading, the overhead of testing was 0.004352 seconds.\n",
      "You can set `force_row_wise=true` to remove the overhead.\n",
      "And if memory is not enough, you can set `force_col_wise=true`.\n",
      "[LightGBM] [Info] Total Bins 655\n",
      "[LightGBM] [Info] Number of data points in the train set: 184249, number of used features: 9\n",
      "[LightGBM] [Info] Start training from score 5124.758343\n",
      "⏳ Таблица времени:\n"
     ]
    },
    {
     "data": {
      "text/html": [
       "<div>\n",
       "<style scoped>\n",
       "    .dataframe tbody tr th:only-of-type {\n",
       "        vertical-align: middle;\n",
       "    }\n",
       "\n",
       "    .dataframe tbody tr th {\n",
       "        vertical-align: top;\n",
       "    }\n",
       "\n",
       "    .dataframe thead th {\n",
       "        text-align: right;\n",
       "    }\n",
       "</style>\n",
       "<table border=\"1\" class=\"dataframe\">\n",
       "  <thead>\n",
       "    <tr style=\"text-align: right;\">\n",
       "      <th></th>\n",
       "      <th>CPU Time</th>\n",
       "      <th>Wall Time</th>\n",
       "    </tr>\n",
       "    <tr>\n",
       "      <th>Этап</th>\n",
       "      <th></th>\n",
       "      <th></th>\n",
       "    </tr>\n",
       "  </thead>\n",
       "  <tbody>\n",
       "    <tr>\n",
       "      <th>Линейная регрессия: обучение</th>\n",
       "      <td>17.83 s</td>\n",
       "      <td>3.99 s</td>\n",
       "    </tr>\n",
       "    <tr>\n",
       "      <th>Линейная регрессия: предсказание</th>\n",
       "      <td>0.45 s</td>\n",
       "      <td>0.07 s</td>\n",
       "    </tr>\n",
       "    <tr>\n",
       "      <th>Решающее дерево: обучение</th>\n",
       "      <td>1.84 s</td>\n",
       "      <td>0.38 s</td>\n",
       "    </tr>\n",
       "    <tr>\n",
       "      <th>Решающее дерево: предсказание</th>\n",
       "      <td>0.01 s</td>\n",
       "      <td>0.01 s</td>\n",
       "    </tr>\n",
       "    <tr>\n",
       "      <th>Случайный лес: обучение</th>\n",
       "      <td>189.04 s</td>\n",
       "      <td>189.46 s</td>\n",
       "    </tr>\n",
       "    <tr>\n",
       "      <th>Случайный лес: предсказание</th>\n",
       "      <td>6.35 s</td>\n",
       "      <td>6.47 s</td>\n",
       "    </tr>\n",
       "    <tr>\n",
       "      <th>LightGBM: обучение</th>\n",
       "      <td>17.74 s</td>\n",
       "      <td>3.06 s</td>\n",
       "    </tr>\n",
       "    <tr>\n",
       "      <th>LightGBM: предсказание</th>\n",
       "      <td>2.26 s</td>\n",
       "      <td>0.32 s</td>\n",
       "    </tr>\n",
       "  </tbody>\n",
       "</table>\n",
       "</div>"
      ],
      "text/plain": [
       "                                  CPU Time Wall Time\n",
       "Этап                                                \n",
       "Линейная регрессия: обучение       17.83 s    3.99 s\n",
       "Линейная регрессия: предсказание    0.45 s    0.07 s\n",
       "Решающее дерево: обучение           1.84 s    0.38 s\n",
       "Решающее дерево: предсказание       0.01 s    0.01 s\n",
       "Случайный лес: обучение           189.04 s  189.46 s\n",
       "Случайный лес: предсказание         6.35 s    6.47 s\n",
       "LightGBM: обучение                 17.74 s    3.06 s\n",
       "LightGBM: предсказание              2.26 s    0.32 s"
      ]
     },
     "metadata": {},
     "output_type": "display_data"
    }
   ],
   "source": [
    "# Словари для хранения результатов\n",
    "time_results = []\n",
    "\n",
    "# Функция для измерения времени выполнения\n",
    "def measure_time(model, model_name, features_train, target_train):\n",
    "    # Замер времени обучения\n",
    "    start_cpu = time.process_time()\n",
    "    start_wall = time.time()\n",
    "    \n",
    "    model.fit(features_train, target_train)\n",
    "    \n",
    "    end_cpu = time.process_time()\n",
    "    end_wall = time.time()\n",
    "    \n",
    "    train_cpu_time = end_cpu - start_cpu\n",
    "    train_wall_time = end_wall - start_wall\n",
    "    \n",
    "    # Замер времени предсказания\n",
    "    start_cpu = time.process_time()\n",
    "    start_wall = time.time()\n",
    "    \n",
    "    predictions_train = model.predict(features_train)\n",
    "    \n",
    "    end_cpu = time.process_time()\n",
    "    end_wall = time.time()\n",
    "    \n",
    "    predict_cpu_time = end_cpu - start_cpu\n",
    "    predict_wall_time = end_wall - start_wall\n",
    "    \n",
    "    # Сохранение времени выполнения\n",
    "    time_results.append([f\"{model_name}: обучение\", f\"{train_cpu_time:.2f} s\", f\"{train_wall_time:.2f} s\"])\n",
    "    time_results.append([f\"{model_name}: предсказание\", f\"{predict_cpu_time:.2f} s\", f\"{predict_wall_time:.2f} s\"])\n",
    "    \n",
    "\n",
    "# Список моделей с параметрами\n",
    "models = [\n",
    "    (\"Линейная регрессия\", LinearRegression(), features_train_ohe, target_train_ohe),\n",
    "    (\"Решающее дерево\", DecisionTreeRegressor(random_state=12345, max_depth=15), features_train_oe, target_train_oe),\n",
    "    (\"Случайный лес\", RandomForestRegressor(random_state=12345, max_depth=15, n_estimators=1000), features_train_oe, target_train_oe, ),\n",
    "    (\"LightGBM\", lgb.LGBMRegressor(random_state=12345, n_estimators=500, learning_rate=0.1, max_depth=-1, num_leaves=120), features_train, target_train)\n",
    "]\n",
    "\n",
    "# Запуск тестов для всех моделей\n",
    "for model_name, model, features_train, target_train in models:\n",
    "    measure_time(model, model_name, features_train, target_train)\n",
    "\n",
    "# Создание таблицы времени\n",
    "df_time = pd.DataFrame(time_results, columns=[\"Этап\", \"CPU Time\", \"Wall Time\"])\n",
    "df_time = df_time.set_index(\"Этап\")\n",
    "\n",
    "# Вывод результатов\n",
    "print(\"⏳ Таблица времени:\")\n",
    "display(df_time)\n",
    "\n"
   ]
  },
  {
   "cell_type": "markdown",
   "metadata": {},
   "source": [
    "Объединим полученные результаты в таблицу:"
   ]
  },
  {
   "cell_type": "code",
   "execution_count": 186,
   "metadata": {},
   "outputs": [
    {
     "name": "stdout",
     "output_type": "stream",
     "text": [
      "\n",
      "Таблица RMSE на кросс-валидации:\n"
     ]
    },
    {
     "data": {
      "text/html": [
       "<div>\n",
       "<style scoped>\n",
       "    .dataframe tbody tr th:only-of-type {\n",
       "        vertical-align: middle;\n",
       "    }\n",
       "\n",
       "    .dataframe tbody tr th {\n",
       "        vertical-align: top;\n",
       "    }\n",
       "\n",
       "    .dataframe thead th {\n",
       "        text-align: right;\n",
       "    }\n",
       "</style>\n",
       "<table border=\"1\" class=\"dataframe\">\n",
       "  <thead>\n",
       "    <tr style=\"text-align: right;\">\n",
       "      <th></th>\n",
       "      <th>Модель</th>\n",
       "      <th>Лучший RMSE на кросс-валидации</th>\n",
       "    </tr>\n",
       "  </thead>\n",
       "  <tbody>\n",
       "    <tr>\n",
       "      <th>0</th>\n",
       "      <td>Линейная регрессия</td>\n",
       "      <td>2788.42</td>\n",
       "    </tr>\n",
       "    <tr>\n",
       "      <th>1</th>\n",
       "      <td>Дерево решений</td>\n",
       "      <td>1951.92</td>\n",
       "    </tr>\n",
       "    <tr>\n",
       "      <th>2</th>\n",
       "      <td>Случайный лес</td>\n",
       "      <td>1784.11</td>\n",
       "    </tr>\n",
       "    <tr>\n",
       "      <th>3</th>\n",
       "      <td>LightGBM</td>\n",
       "      <td>1580.52</td>\n",
       "    </tr>\n",
       "  </tbody>\n",
       "</table>\n",
       "</div>"
      ],
      "text/plain": [
       "               Модель  Лучший RMSE на кросс-валидации\n",
       "0  Линейная регрессия                         2788.42\n",
       "1      Дерево решений                         1951.92\n",
       "2       Случайный лес                         1784.11\n",
       "3            LightGBM                         1580.52"
      ]
     },
     "metadata": {},
     "output_type": "display_data"
    }
   ],
   "source": [
    "# RMSE на кросс-валидации, округленное до двух знаков\n",
    "data_rmse = {\n",
    "    'Модель': ['Линейная регрессия', 'Дерево решений', 'Случайный лес', 'LightGBM'],\n",
    "    'Лучший RMSE на кросс-валидации': [round(rmse_lr, 2), round(rmse_tree, 2), round(rmse_forest, 2), round(rmse_lgbm, 2)]\n",
    "}\n",
    "\n",
    "df_rmse = pd.DataFrame(data_rmse)\n",
    "\n",
    "print(\"\\nТаблица RMSE на кросс-валидации:\")\n",
    "display(df_rmse)"
   ]
  },
  {
   "cell_type": "markdown",
   "metadata": {},
   "source": [
    "LightGBM — оптимальный выбор для данной задачи, так как эта модель демонстрирует отличный баланс между временем обучения, временем предсказания и точностью. Она значительно быстрее, чем случайный лес, при этом ошибка (RMSE) остаётся на приемлемом уровне. В отличие от более сложных моделей, таких как случайный лес, которые требуют больше времени на обучение и предсказания, LightGBM работает эффективно и быстро, что особенно важно при обработке больших объемов данных.\n",
    "\n",
    "Эта модель идеально подходит для задач, где важны не только высокие показатели точности, но и быстрый отклик системы. Учитывая все эти факторы, LightGBM является наиболее эффективным решением для текущей задачи.\n",
    "\n",
    "Теперь проведем тестирование выбранной модели на тестовой выборке, чтобы окончательно оценить её производительность на реальных данных."
   ]
  },
  {
   "cell_type": "code",
   "execution_count": 190,
   "metadata": {},
   "outputs": [
    {
     "name": "stdout",
     "output_type": "stream",
     "text": [
      "[LightGBM] [Info] Auto-choosing row-wise multi-threading, the overhead of testing was 0.002606 seconds.\n",
      "You can set `force_row_wise=true` to remove the overhead.\n",
      "And if memory is not enough, you can set `force_col_wise=true`.\n",
      "[LightGBM] [Info] Total Bins 655\n",
      "[LightGBM] [Info] Number of data points in the train set: 184249, number of used features: 9\n",
      "[LightGBM] [Info] Start training from score 5124.758343\n",
      "CPU times: user 11.8 s, sys: 2.58 s, total: 14.4 s\n",
      "Wall time: 2.01 s\n"
     ]
    },
    {
     "data": {
      "text/html": [
       "<style>#sk-container-id-1 {\n",
       "  /* Definition of color scheme common for light and dark mode */\n",
       "  --sklearn-color-text: #000;\n",
       "  --sklearn-color-text-muted: #666;\n",
       "  --sklearn-color-line: gray;\n",
       "  /* Definition of color scheme for unfitted estimators */\n",
       "  --sklearn-color-unfitted-level-0: #fff5e6;\n",
       "  --sklearn-color-unfitted-level-1: #f6e4d2;\n",
       "  --sklearn-color-unfitted-level-2: #ffe0b3;\n",
       "  --sklearn-color-unfitted-level-3: chocolate;\n",
       "  /* Definition of color scheme for fitted estimators */\n",
       "  --sklearn-color-fitted-level-0: #f0f8ff;\n",
       "  --sklearn-color-fitted-level-1: #d4ebff;\n",
       "  --sklearn-color-fitted-level-2: #b3dbfd;\n",
       "  --sklearn-color-fitted-level-3: cornflowerblue;\n",
       "\n",
       "  /* Specific color for light theme */\n",
       "  --sklearn-color-text-on-default-background: var(--sg-text-color, var(--theme-code-foreground, var(--jp-content-font-color1, black)));\n",
       "  --sklearn-color-background: var(--sg-background-color, var(--theme-background, var(--jp-layout-color0, white)));\n",
       "  --sklearn-color-border-box: var(--sg-text-color, var(--theme-code-foreground, var(--jp-content-font-color1, black)));\n",
       "  --sklearn-color-icon: #696969;\n",
       "\n",
       "  @media (prefers-color-scheme: dark) {\n",
       "    /* Redefinition of color scheme for dark theme */\n",
       "    --sklearn-color-text-on-default-background: var(--sg-text-color, var(--theme-code-foreground, var(--jp-content-font-color1, white)));\n",
       "    --sklearn-color-background: var(--sg-background-color, var(--theme-background, var(--jp-layout-color0, #111)));\n",
       "    --sklearn-color-border-box: var(--sg-text-color, var(--theme-code-foreground, var(--jp-content-font-color1, white)));\n",
       "    --sklearn-color-icon: #878787;\n",
       "  }\n",
       "}\n",
       "\n",
       "#sk-container-id-1 {\n",
       "  color: var(--sklearn-color-text);\n",
       "}\n",
       "\n",
       "#sk-container-id-1 pre {\n",
       "  padding: 0;\n",
       "}\n",
       "\n",
       "#sk-container-id-1 input.sk-hidden--visually {\n",
       "  border: 0;\n",
       "  clip: rect(1px 1px 1px 1px);\n",
       "  clip: rect(1px, 1px, 1px, 1px);\n",
       "  height: 1px;\n",
       "  margin: -1px;\n",
       "  overflow: hidden;\n",
       "  padding: 0;\n",
       "  position: absolute;\n",
       "  width: 1px;\n",
       "}\n",
       "\n",
       "#sk-container-id-1 div.sk-dashed-wrapped {\n",
       "  border: 1px dashed var(--sklearn-color-line);\n",
       "  margin: 0 0.4em 0.5em 0.4em;\n",
       "  box-sizing: border-box;\n",
       "  padding-bottom: 0.4em;\n",
       "  background-color: var(--sklearn-color-background);\n",
       "}\n",
       "\n",
       "#sk-container-id-1 div.sk-container {\n",
       "  /* jupyter's `normalize.less` sets `[hidden] { display: none; }`\n",
       "     but bootstrap.min.css set `[hidden] { display: none !important; }`\n",
       "     so we also need the `!important` here to be able to override the\n",
       "     default hidden behavior on the sphinx rendered scikit-learn.org.\n",
       "     See: https://github.com/scikit-learn/scikit-learn/issues/21755 */\n",
       "  display: inline-block !important;\n",
       "  position: relative;\n",
       "}\n",
       "\n",
       "#sk-container-id-1 div.sk-text-repr-fallback {\n",
       "  display: none;\n",
       "}\n",
       "\n",
       "div.sk-parallel-item,\n",
       "div.sk-serial,\n",
       "div.sk-item {\n",
       "  /* draw centered vertical line to link estimators */\n",
       "  background-image: linear-gradient(var(--sklearn-color-text-on-default-background), var(--sklearn-color-text-on-default-background));\n",
       "  background-size: 2px 100%;\n",
       "  background-repeat: no-repeat;\n",
       "  background-position: center center;\n",
       "}\n",
       "\n",
       "/* Parallel-specific style estimator block */\n",
       "\n",
       "#sk-container-id-1 div.sk-parallel-item::after {\n",
       "  content: \"\";\n",
       "  width: 100%;\n",
       "  border-bottom: 2px solid var(--sklearn-color-text-on-default-background);\n",
       "  flex-grow: 1;\n",
       "}\n",
       "\n",
       "#sk-container-id-1 div.sk-parallel {\n",
       "  display: flex;\n",
       "  align-items: stretch;\n",
       "  justify-content: center;\n",
       "  background-color: var(--sklearn-color-background);\n",
       "  position: relative;\n",
       "}\n",
       "\n",
       "#sk-container-id-1 div.sk-parallel-item {\n",
       "  display: flex;\n",
       "  flex-direction: column;\n",
       "}\n",
       "\n",
       "#sk-container-id-1 div.sk-parallel-item:first-child::after {\n",
       "  align-self: flex-end;\n",
       "  width: 50%;\n",
       "}\n",
       "\n",
       "#sk-container-id-1 div.sk-parallel-item:last-child::after {\n",
       "  align-self: flex-start;\n",
       "  width: 50%;\n",
       "}\n",
       "\n",
       "#sk-container-id-1 div.sk-parallel-item:only-child::after {\n",
       "  width: 0;\n",
       "}\n",
       "\n",
       "/* Serial-specific style estimator block */\n",
       "\n",
       "#sk-container-id-1 div.sk-serial {\n",
       "  display: flex;\n",
       "  flex-direction: column;\n",
       "  align-items: center;\n",
       "  background-color: var(--sklearn-color-background);\n",
       "  padding-right: 1em;\n",
       "  padding-left: 1em;\n",
       "}\n",
       "\n",
       "\n",
       "/* Toggleable style: style used for estimator/Pipeline/ColumnTransformer box that is\n",
       "clickable and can be expanded/collapsed.\n",
       "- Pipeline and ColumnTransformer use this feature and define the default style\n",
       "- Estimators will overwrite some part of the style using the `sk-estimator` class\n",
       "*/\n",
       "\n",
       "/* Pipeline and ColumnTransformer style (default) */\n",
       "\n",
       "#sk-container-id-1 div.sk-toggleable {\n",
       "  /* Default theme specific background. It is overwritten whether we have a\n",
       "  specific estimator or a Pipeline/ColumnTransformer */\n",
       "  background-color: var(--sklearn-color-background);\n",
       "}\n",
       "\n",
       "/* Toggleable label */\n",
       "#sk-container-id-1 label.sk-toggleable__label {\n",
       "  cursor: pointer;\n",
       "  display: flex;\n",
       "  width: 100%;\n",
       "  margin-bottom: 0;\n",
       "  padding: 0.5em;\n",
       "  box-sizing: border-box;\n",
       "  text-align: center;\n",
       "  align-items: start;\n",
       "  justify-content: space-between;\n",
       "  gap: 0.5em;\n",
       "}\n",
       "\n",
       "#sk-container-id-1 label.sk-toggleable__label .caption {\n",
       "  font-size: 0.6rem;\n",
       "  font-weight: lighter;\n",
       "  color: var(--sklearn-color-text-muted);\n",
       "}\n",
       "\n",
       "#sk-container-id-1 label.sk-toggleable__label-arrow:before {\n",
       "  /* Arrow on the left of the label */\n",
       "  content: \"▸\";\n",
       "  float: left;\n",
       "  margin-right: 0.25em;\n",
       "  color: var(--sklearn-color-icon);\n",
       "}\n",
       "\n",
       "#sk-container-id-1 label.sk-toggleable__label-arrow:hover:before {\n",
       "  color: var(--sklearn-color-text);\n",
       "}\n",
       "\n",
       "/* Toggleable content - dropdown */\n",
       "\n",
       "#sk-container-id-1 div.sk-toggleable__content {\n",
       "  max-height: 0;\n",
       "  max-width: 0;\n",
       "  overflow: hidden;\n",
       "  text-align: left;\n",
       "  /* unfitted */\n",
       "  background-color: var(--sklearn-color-unfitted-level-0);\n",
       "}\n",
       "\n",
       "#sk-container-id-1 div.sk-toggleable__content.fitted {\n",
       "  /* fitted */\n",
       "  background-color: var(--sklearn-color-fitted-level-0);\n",
       "}\n",
       "\n",
       "#sk-container-id-1 div.sk-toggleable__content pre {\n",
       "  margin: 0.2em;\n",
       "  border-radius: 0.25em;\n",
       "  color: var(--sklearn-color-text);\n",
       "  /* unfitted */\n",
       "  background-color: var(--sklearn-color-unfitted-level-0);\n",
       "}\n",
       "\n",
       "#sk-container-id-1 div.sk-toggleable__content.fitted pre {\n",
       "  /* unfitted */\n",
       "  background-color: var(--sklearn-color-fitted-level-0);\n",
       "}\n",
       "\n",
       "#sk-container-id-1 input.sk-toggleable__control:checked~div.sk-toggleable__content {\n",
       "  /* Expand drop-down */\n",
       "  max-height: 200px;\n",
       "  max-width: 100%;\n",
       "  overflow: auto;\n",
       "}\n",
       "\n",
       "#sk-container-id-1 input.sk-toggleable__control:checked~label.sk-toggleable__label-arrow:before {\n",
       "  content: \"▾\";\n",
       "}\n",
       "\n",
       "/* Pipeline/ColumnTransformer-specific style */\n",
       "\n",
       "#sk-container-id-1 div.sk-label input.sk-toggleable__control:checked~label.sk-toggleable__label {\n",
       "  color: var(--sklearn-color-text);\n",
       "  background-color: var(--sklearn-color-unfitted-level-2);\n",
       "}\n",
       "\n",
       "#sk-container-id-1 div.sk-label.fitted input.sk-toggleable__control:checked~label.sk-toggleable__label {\n",
       "  background-color: var(--sklearn-color-fitted-level-2);\n",
       "}\n",
       "\n",
       "/* Estimator-specific style */\n",
       "\n",
       "/* Colorize estimator box */\n",
       "#sk-container-id-1 div.sk-estimator input.sk-toggleable__control:checked~label.sk-toggleable__label {\n",
       "  /* unfitted */\n",
       "  background-color: var(--sklearn-color-unfitted-level-2);\n",
       "}\n",
       "\n",
       "#sk-container-id-1 div.sk-estimator.fitted input.sk-toggleable__control:checked~label.sk-toggleable__label {\n",
       "  /* fitted */\n",
       "  background-color: var(--sklearn-color-fitted-level-2);\n",
       "}\n",
       "\n",
       "#sk-container-id-1 div.sk-label label.sk-toggleable__label,\n",
       "#sk-container-id-1 div.sk-label label {\n",
       "  /* The background is the default theme color */\n",
       "  color: var(--sklearn-color-text-on-default-background);\n",
       "}\n",
       "\n",
       "/* On hover, darken the color of the background */\n",
       "#sk-container-id-1 div.sk-label:hover label.sk-toggleable__label {\n",
       "  color: var(--sklearn-color-text);\n",
       "  background-color: var(--sklearn-color-unfitted-level-2);\n",
       "}\n",
       "\n",
       "/* Label box, darken color on hover, fitted */\n",
       "#sk-container-id-1 div.sk-label.fitted:hover label.sk-toggleable__label.fitted {\n",
       "  color: var(--sklearn-color-text);\n",
       "  background-color: var(--sklearn-color-fitted-level-2);\n",
       "}\n",
       "\n",
       "/* Estimator label */\n",
       "\n",
       "#sk-container-id-1 div.sk-label label {\n",
       "  font-family: monospace;\n",
       "  font-weight: bold;\n",
       "  display: inline-block;\n",
       "  line-height: 1.2em;\n",
       "}\n",
       "\n",
       "#sk-container-id-1 div.sk-label-container {\n",
       "  text-align: center;\n",
       "}\n",
       "\n",
       "/* Estimator-specific */\n",
       "#sk-container-id-1 div.sk-estimator {\n",
       "  font-family: monospace;\n",
       "  border: 1px dotted var(--sklearn-color-border-box);\n",
       "  border-radius: 0.25em;\n",
       "  box-sizing: border-box;\n",
       "  margin-bottom: 0.5em;\n",
       "  /* unfitted */\n",
       "  background-color: var(--sklearn-color-unfitted-level-0);\n",
       "}\n",
       "\n",
       "#sk-container-id-1 div.sk-estimator.fitted {\n",
       "  /* fitted */\n",
       "  background-color: var(--sklearn-color-fitted-level-0);\n",
       "}\n",
       "\n",
       "/* on hover */\n",
       "#sk-container-id-1 div.sk-estimator:hover {\n",
       "  /* unfitted */\n",
       "  background-color: var(--sklearn-color-unfitted-level-2);\n",
       "}\n",
       "\n",
       "#sk-container-id-1 div.sk-estimator.fitted:hover {\n",
       "  /* fitted */\n",
       "  background-color: var(--sklearn-color-fitted-level-2);\n",
       "}\n",
       "\n",
       "/* Specification for estimator info (e.g. \"i\" and \"?\") */\n",
       "\n",
       "/* Common style for \"i\" and \"?\" */\n",
       "\n",
       ".sk-estimator-doc-link,\n",
       "a:link.sk-estimator-doc-link,\n",
       "a:visited.sk-estimator-doc-link {\n",
       "  float: right;\n",
       "  font-size: smaller;\n",
       "  line-height: 1em;\n",
       "  font-family: monospace;\n",
       "  background-color: var(--sklearn-color-background);\n",
       "  border-radius: 1em;\n",
       "  height: 1em;\n",
       "  width: 1em;\n",
       "  text-decoration: none !important;\n",
       "  margin-left: 0.5em;\n",
       "  text-align: center;\n",
       "  /* unfitted */\n",
       "  border: var(--sklearn-color-unfitted-level-1) 1pt solid;\n",
       "  color: var(--sklearn-color-unfitted-level-1);\n",
       "}\n",
       "\n",
       ".sk-estimator-doc-link.fitted,\n",
       "a:link.sk-estimator-doc-link.fitted,\n",
       "a:visited.sk-estimator-doc-link.fitted {\n",
       "  /* fitted */\n",
       "  border: var(--sklearn-color-fitted-level-1) 1pt solid;\n",
       "  color: var(--sklearn-color-fitted-level-1);\n",
       "}\n",
       "\n",
       "/* On hover */\n",
       "div.sk-estimator:hover .sk-estimator-doc-link:hover,\n",
       ".sk-estimator-doc-link:hover,\n",
       "div.sk-label-container:hover .sk-estimator-doc-link:hover,\n",
       ".sk-estimator-doc-link:hover {\n",
       "  /* unfitted */\n",
       "  background-color: var(--sklearn-color-unfitted-level-3);\n",
       "  color: var(--sklearn-color-background);\n",
       "  text-decoration: none;\n",
       "}\n",
       "\n",
       "div.sk-estimator.fitted:hover .sk-estimator-doc-link.fitted:hover,\n",
       ".sk-estimator-doc-link.fitted:hover,\n",
       "div.sk-label-container:hover .sk-estimator-doc-link.fitted:hover,\n",
       ".sk-estimator-doc-link.fitted:hover {\n",
       "  /* fitted */\n",
       "  background-color: var(--sklearn-color-fitted-level-3);\n",
       "  color: var(--sklearn-color-background);\n",
       "  text-decoration: none;\n",
       "}\n",
       "\n",
       "/* Span, style for the box shown on hovering the info icon */\n",
       ".sk-estimator-doc-link span {\n",
       "  display: none;\n",
       "  z-index: 9999;\n",
       "  position: relative;\n",
       "  font-weight: normal;\n",
       "  right: .2ex;\n",
       "  padding: .5ex;\n",
       "  margin: .5ex;\n",
       "  width: min-content;\n",
       "  min-width: 20ex;\n",
       "  max-width: 50ex;\n",
       "  color: var(--sklearn-color-text);\n",
       "  box-shadow: 2pt 2pt 4pt #999;\n",
       "  /* unfitted */\n",
       "  background: var(--sklearn-color-unfitted-level-0);\n",
       "  border: .5pt solid var(--sklearn-color-unfitted-level-3);\n",
       "}\n",
       "\n",
       ".sk-estimator-doc-link.fitted span {\n",
       "  /* fitted */\n",
       "  background: var(--sklearn-color-fitted-level-0);\n",
       "  border: var(--sklearn-color-fitted-level-3);\n",
       "}\n",
       "\n",
       ".sk-estimator-doc-link:hover span {\n",
       "  display: block;\n",
       "}\n",
       "\n",
       "/* \"?\"-specific style due to the `<a>` HTML tag */\n",
       "\n",
       "#sk-container-id-1 a.estimator_doc_link {\n",
       "  float: right;\n",
       "  font-size: 1rem;\n",
       "  line-height: 1em;\n",
       "  font-family: monospace;\n",
       "  background-color: var(--sklearn-color-background);\n",
       "  border-radius: 1rem;\n",
       "  height: 1rem;\n",
       "  width: 1rem;\n",
       "  text-decoration: none;\n",
       "  /* unfitted */\n",
       "  color: var(--sklearn-color-unfitted-level-1);\n",
       "  border: var(--sklearn-color-unfitted-level-1) 1pt solid;\n",
       "}\n",
       "\n",
       "#sk-container-id-1 a.estimator_doc_link.fitted {\n",
       "  /* fitted */\n",
       "  border: var(--sklearn-color-fitted-level-1) 1pt solid;\n",
       "  color: var(--sklearn-color-fitted-level-1);\n",
       "}\n",
       "\n",
       "/* On hover */\n",
       "#sk-container-id-1 a.estimator_doc_link:hover {\n",
       "  /* unfitted */\n",
       "  background-color: var(--sklearn-color-unfitted-level-3);\n",
       "  color: var(--sklearn-color-background);\n",
       "  text-decoration: none;\n",
       "}\n",
       "\n",
       "#sk-container-id-1 a.estimator_doc_link.fitted:hover {\n",
       "  /* fitted */\n",
       "  background-color: var(--sklearn-color-fitted-level-3);\n",
       "}\n",
       "</style><div id=\"sk-container-id-1\" class=\"sk-top-container\"><div class=\"sk-text-repr-fallback\"><pre>LGBMRegressor(max_depth=20, n_estimators=500, num_leaves=100,\n",
       "              random_state=12345)</pre><b>In a Jupyter environment, please rerun this cell to show the HTML representation or trust the notebook. <br />On GitHub, the HTML representation is unable to render, please try loading this page with nbviewer.org.</b></div><div class=\"sk-container\" hidden><div class=\"sk-item\"><div class=\"sk-estimator fitted sk-toggleable\"><input class=\"sk-toggleable__control sk-hidden--visually\" id=\"sk-estimator-id-1\" type=\"checkbox\" checked><label for=\"sk-estimator-id-1\" class=\"sk-toggleable__label fitted sk-toggleable__label-arrow\"><div><div>LGBMRegressor</div></div><div><span class=\"sk-estimator-doc-link fitted\">i<span>Fitted</span></span></div></label><div class=\"sk-toggleable__content fitted\"><pre>LGBMRegressor(max_depth=20, n_estimators=500, num_leaves=100,\n",
       "              random_state=12345)</pre></div> </div></div></div></div>"
      ],
      "text/plain": [
       "LGBMRegressor(max_depth=20, n_estimators=500, num_leaves=100,\n",
       "              random_state=12345)"
      ]
     },
     "execution_count": 190,
     "metadata": {},
     "output_type": "execute_result"
    }
   ],
   "source": [
    "%%time\n",
    "model = lgb.LGBMRegressor(random_state=12345,\n",
    "                          n_estimators=500,\n",
    "                          learning_rate=0.1,\n",
    "                          max_depth=20,\n",
    "                          num_leaves=100) \n",
    "model.fit(features_train, target_train)"
   ]
  },
  {
   "cell_type": "code",
   "execution_count": 191,
   "metadata": {},
   "outputs": [
    {
     "name": "stdout",
     "output_type": "stream",
     "text": [
      "CPU times: user 2.12 s, sys: 49.3 ms, total: 2.17 s\n",
      "Wall time: 300 ms\n"
     ]
    }
   ],
   "source": [
    "%%time\n",
    "# Предсказания на тестовой выборке\n",
    "predictions_test = model.predict(features_test)\n"
   ]
  },
  {
   "cell_type": "code",
   "execution_count": 192,
   "metadata": {},
   "outputs": [
    {
     "name": "stdout",
     "output_type": "stream",
     "text": [
      "RMSE для тестовой выборки: 1554.5962477793748\n"
     ]
    }
   ],
   "source": [
    "# Вычисляем RMSE для тестовой выборки\n",
    "rmse_test = mean_squared_error(target_test, predictions_test)**0.5\n",
    "\n",
    "# Выводим RMSE для тестовой выборки\n",
    "print(f\"RMSE для тестовой выборки: {rmse_test}\")"
   ]
  },
  {
   "cell_type": "markdown",
   "metadata": {},
   "source": [
    "Результаты тестирования модели LightGBM на тестовой выборке показывают, что модель демонстрирует хорошие результаты по времени и точности. Время предсказания составило 2.39 секунды по CPU и 0.405 секунды по Wall time, что свидетельствует о быстрой работе модели. При этом RMSE для тестовой выборки составил 1554.60, что является приемлемым результатом для данной задачи. Таким образом, модель LightGBM эффективно балансирует между временем работы и точностью предсказаний."
   ]
  },
  {
   "cell_type": "markdown",
   "metadata": {},
   "source": [
    "Построим визуализацию важности признаков, чтобы проанализировать, какие из исходных признаков оказывают наибольшее влияние на предсказания модели LightGBM. Этот график позволит нам выделить ключевые признаки с высоким уровнем важности и менее значимые признаки с низкими значениями важности."
   ]
  },
  {
   "cell_type": "code",
   "execution_count": 195,
   "metadata": {
    "colab": {
     "base_uri": "https://localhost:8080/",
     "height": 313
    },
    "id": "09zMuxtu5eGo",
    "outputId": "84ed1b7d-b4d4-4ec5-9875-bb28f74eb82a",
    "scrolled": true
   },
   "outputs": [
    {
     "data": {
      "text/plain": [
       "<Axes: title={'center': 'Feature importance'}, xlabel='Feature importance', ylabel='Features'>"
      ]
     },
     "execution_count": 195,
     "metadata": {},
     "output_type": "execute_result"
    },
    {
     "data": {
      "image/png": "[encoded data removed]",
      "text/plain": [
       "<Figure size 640x480 with 1 Axes>"
      ]
     },
     "metadata": {},
     "output_type": "display_data"
    }
   ],
   "source": [
    "# посмотрим на то, какие признаки влияют больше всего\n",
    "lgb.plot_importance(model, height=.5)"
   ]
  },
  {
   "cell_type": "markdown",
   "metadata": {},
   "source": [
    "Исходя из графика важности признаков, можно выделить три наиболее значимых фактора, влияющих на формирование цены автомобиля:\n",
    "\n",
    "\t1.\tМощность — этот признак оказывает наибольшее влияние на цену автомобиля, что связано с тем, что более мощные автомобили часто имеют более высокую стоимость.\n",
    "\t2.\tГод регистрации — возраст автомобиля также важен при оценке его стоимости, так как более новые автомобили, как правило, стоят дороже.\n",
    "\t3.\tПробег (км) — пробег автомобиля является важным показателем для оценки его состояния и влияет на цену: машины с меньшим пробегом обычно стоят дороже.\n",
    "\n",
    "Модель и бренд автомобиля также играют важную роль, однако по графику важности их вклад в цену оказался несколько ниже по сравнению с вышеупомянутыми факторами."
   ]
  },
  {
   "cell_type": "markdown",
   "metadata": {},
   "source": [
    "Сравним предсказанные и истинные значения на графике:"
   ]
  },
  {
   "cell_type": "code",
   "execution_count": 199,
   "metadata": {
    "colab": {
     "base_uri": "https://localhost:8080/",
     "height": 404
    },
    "id": "wNBAjqQm6A9i",
    "outputId": "818fe5d5-04e0-4dbe-f430-0d853a7aa4ba"
   },
   "outputs": [
    {
     "data": {
      "image/png": "[encoded data removed]",
      "text/plain": [
       "<Figure size 1200x600 with 1 Axes>"
      ]
     },
     "metadata": {},
     "output_type": "display_data"
    }
   ],
   "source": [
    "# visualizing in a plot\n",
    "x_ax = range(len(target_test))\n",
    "plt.figure(figsize=(12, 6))\n",
    "plt.plot(x_ax, target_test, label=\"original\")\n",
    "plt.plot(x_ax, predictions_test, label=\"predicted\")\n",
    "plt.title(\"Определение стоимости автомобилей: тестовые и предсказанные данные\")\n",
    "plt.xlabel('features')\n",
    "plt.ylabel('Price')\n",
    "plt.legend(loc='best',fancybox=True, shadow=True)\n",
    "plt.grid(True)\n",
    "plt.show()  "
   ]
  },
  {
   "cell_type": "markdown",
   "metadata": {},
   "source": [
    "Видим, что предсказанные моделью данные достаточно близки к истинным."
   ]
  },
  {
   "cell_type": "markdown",
   "metadata": {
    "id": "6LNfmXuQ89fQ"
   },
   "source": [
    "### Вывод 3."
   ]
  },
  {
   "cell_type": "markdown",
   "metadata": {
    "id": "XnbCV8o2GWFl"
   },
   "source": [
    "Промежуточный вывод по анализу моделей:\n",
    "\n",
    "В данном разделе были протестированы четыре модели: **Линейная регрессия, Дерево решений, Случайный лес и LightGBM**.  \n",
    "Для каждой модели измерено **время обучения**, **время предсказания** и рассчитано значение **RMSE** на кросс-валидации.\n",
    "Рассмотрим результаты:\n",
    "\n",
    "**1️⃣ Линейная регрессия**\n",
    "- ⏳ *Время обучения:* **3.99 с**\n",
    "- ⏱️ *Время предсказания:* **0.07 с**\n",
    "- 📉 *RMSE:* **2788.42**\n",
    "- 📌 Линейная регрессия обучается и предсказывает очень быстро, однако ошибка RMSE остается самой высокой среди всех моделей, что делает ее наименее подходящей для данной задачи.\n",
    "\n",
    "**2️⃣ Дерево решений**\n",
    "- ⏳ *Время обучения:* **0.38 с**\n",
    "- ⏱️ *Время предсказания:* **0.01 с**\n",
    "- 📉 *RMSE:* **1951.92**\n",
    "- 📌 Дерево решений обучается и делает предсказания быстрее всех, но его ошибка RMSE значительно выше, чем у более сложных моделей. Может быть полезным для задач, где приоритетом является скорость, а не точность.\n",
    "\n",
    "**3️⃣ Случайный лес**\n",
    "- ⏳ *Время обучения:* **189.46 с**\n",
    "- ⏱️ *Время предсказания:* **6.47 с**\n",
    "- 📉 *RMSE:* **1784.11**\n",
    "- 📌 Случайный лес показывает лучшую точность, чем линейная регрессия и дерево решений, но значительно уступает LightGBM.  \n",
    "  Его основной недостаток — **очень длительное время обучения и предсказания**.\n",
    "\n",
    "**4️⃣ LightGBM**\n",
    "- ⏳ *Время обучения:* **3.06 с**\n",
    "- ⏱️ *Время предсказания:* **0.32 с**\n",
    "- 📉 *RMSE:* **1580.52**\n",
    "- ✅ **LightGBM оказался лучшей моделью:** он достигает самой низкой ошибки RMSE при относительно быстром обучении и предсказаниях.\n",
    "\n",
    "---\n",
    "\n",
    "### 🏆 Вывод:\n",
    "\n",
    "💡 **LightGBM — оптимальная модель для данной задачи.**  \n",
    "Он показывает **лучшее соотношение между точностью и скоростью работы**.  \n",
    "С учетом того, что **RMSE у LightGBM ниже**, чем у других моделей, и его обучение занимает всего **3.06 секунды** (намного меньше, чем у случайного леса), **эта модель рекомендуется к использованию**.\n",
    "\n",
    "🔥 Таким образом, **LightGBM — лучший выбор**, так как он обеспечивает **наилучший баланс между точностью и скоростью работы.**\n",
    " С учетом того, что RMSE у LightGBM ниже, чем у других моделей, и его обучение занимает всего 13.33 секунд (намного меньше, чем у случайного леса), эта модель рекомендуется к использованию.\n",
    "Таким образом, LightGBM — лучший выбор, так как он обеспечивает наилучший баланс между точностью и скоростью работы."
   ]
  },
  {
   "cell_type": "markdown",
   "metadata": {
    "id": "ONM81aarY7Z5"
   },
   "source": [
    "## Общий вывод\n",
    "\n",
    "\n",
    "В ходе работы были выполнены следующие этапы, направленные на построение модели для прогнозирования цены автомобилей:\n",
    "\n",
    "   1. Предобработка данных:\n",
    "\n",
    "\t•\tЧистка и удаление ненужных столбцов: Были исключены неинформативные данные, такие как number_of_pictures (все значения равны нулю) и другие столбцы, которые не влияли на целевые переменные.\n",
    "\t•\tЗаполнение пропусков: Пропуски в ключевых признаках, таких как fuel_type, vehicle_type, gearbox, model и repaired, были заполнены разумными значениями по умолчанию.\n",
    "\t•\tУдаление аномальных данных: Были удалены строки с годами регистрации автомобилей, которые находились за пределами допустимого диапазона (до 1900 года и после 2016 года).\n",
    "\t•\tСтандартизация и визуализация данных: Данные были подготовлены для обучения моделей, а также были построены графики для визуализации распределения значений, таких как мощность и цена.\n",
    "\n",
    "  2. Анализ корреляции между признаками:\n",
    "\n",
    "\t•\tБыло выявлено, что цена автомобиля имеет слабую положительную корреляцию с годом регистрации (0.42) и мощностью (0.35), а также слабую отрицательную корреляцию с пробегом (-0.33).\n",
    "\t•\tКорреляция между мощностью и пробегом оказалась минимальной (0.15), что означает, что эти признаки не взаимосвязаны напрямую.\n",
    "\n",
    "  3. Обучение и тестирование моделей: \n",
    "Мы протестировали четыре модели регрессии: Линейная регрессия, Решающее дерево, Случайный лес и LightGBM. \n",
    "Для каждой модели были проведены следующие этапы:\n",
    "\n",
    "\t•\tПодбор гиперпараметров: Для каждой модели были оптимизированы параметры для достижения наилучших результатов.\n",
    "\t•\tИзмерение времени выполнения: Были зафиксированы времена на этапах обучения и предсказания для каждой модели.\n",
    "\t•\tОценка RMSE: Модели были оценены с использованием метрики RMSE на обучающей выборке.\n",
    "\n",
    "  5. Результаты:\n",
    "    \n",
    "    Время работы моделей:\n",
    "    \n",
    "\t•\tЛинейная регрессия показала наименьшее время работы как на этапе обучения, так и на этапе предсказания.\n",
    "\t•\tРешающее дерево продемонстрировало хорошие результаты по времени, работая значительно быстрее, чем более сложные модели.\n",
    "\t•\tСлучайный лес показал наибольшее время обучения, что связано с большим количеством деревьев.\n",
    "\t•\tLightGBM продемонстрировал хорошие результаты по скорости, уступая по времени только линейной регрессии.\n",
    "\n",
    " \n",
    "     RMSE на кросс-валидационной выборке:\n",
    "     \n",
    "\t•\tЛинейная регрессия продемонстрировала наибольшую ошибку предсказания с RMSE = 2788.42, что указывает на ограниченные возможности этой модели для точного предсказания цены автомобиля.\n",
    "\t•\tРешающее дерево показало RMSE = 1951.92, но всё ещё отставало от более сложных моделей.\n",
    "\t•\tСлучайный лес дал хорошие результаты с RMSE = 1784.11, но не смог превзойти LightGBM.\n",
    "\t•\tLightGBM продемонстрировала наилучший результат с RMSE = 1580.52, что делает её наиболее точной моделью среди всех протестированных.\n",
    "\n",
    "\n",
    "     RMSE на тестовой выборке:\n",
    "     Результаты тестирования модели LightGBM на тестовой выборке показывают, что модель демонстрирует хорошие результаты по времени и точности. Время предсказания составило 2.39 секунды по CPU и 0.405 секунды по Wall time, что свидетельствует о быстрой работе модели. При этом RMSE для тестовой выборки составил 1554.60, что является приемлемым результатом для данной задачи. Таким образом, модель LightGBM эффективно балансирует между временем работы и точностью предсказани\n",
    "\n",
    "\n",
    "   5. Анализ важности признаков:\n",
    "      \n",
    "\t•\tМощность оказалась наиболее значимым фактором при прогнозировании цены автомобиля. Это логично, так как более мощные автомобили часто имеют более высокую цену.\n",
    "\t•\tГод регистрации также оказался важным признаком, поскольку более новые автомобили имеют более высокую стоимость.\n",
    "\t•\tПробег также имеет значительное влияние на цену: автомобили с меньшим пробегом стоят дороже.\n",
    "\n",
    "  6. Рекомендации :\n",
    "\n",
    "На основе анализа результатов, модель LightGBM с подобранными гиперпараметрами продемонстрировала наилучшие результаты по точности прогнозирования (RMSE) и достаточно хорошие характеристики по времени обучения и предсказания. Поэтому для задачи прогнозирования цены автомобиля рекомендуется использовать именно LightGBM.\n",
    "\n",
    "Важные признаки, которые существенно влияют на цену автомобиля, — это мощность, год регистрации и пробег. Эти факторы должны учитываться при дальнейшем улучшении моделей, а также могут быть полезными при принятии решений о включении дополнительных признаков или изменении формата данных.\n",
    "\n",
    "Таким образом, модель LightGBM является оптимальной для прогнозирования цены автомобиля в данной задаче и может быть рекомендована заказчику для дальнейшего использования."
   ]
  },
  {
   "cell_type": "markdown",
   "metadata": {},
   "source": [
    "## Чек-лист проверки"
   ]
  },
  {
   "cell_type": "markdown",
   "metadata": {},
   "source": [
    "Поставьте 'x' в выполненных пунктах. Далее нажмите Shift+Enter."
   ]
  },
  {
   "cell_type": "markdown",
   "metadata": {},
   "source": [
    "- [x]  Jupyter Notebook открыт\n",
    "- [x]  Весь код выполняется без ошибок\n",
    "- [x]  Ячейки с кодом расположены в порядке исполнения\n",
    "- [x]  Выполнена загрузка и подготовка данных\n",
    "- [x]  Выполнено обучение моделей\n",
    "- [x]  Есть анализ скорости работы и качества моделей"
   ]
  }
 ],
 "metadata": {
  "ExecuteTimeLog": [
   {
    "duration": 5195,
    "start_time": "2025-02-07T21:02:02.715Z"
   },
   {
    "duration": 1499,
    "start_time": "2025-02-07T21:02:07.912Z"
   },
   {
    "duration": 18,
    "start_time": "2025-02-07T21:02:09.413Z"
   },
   {
    "duration": 185,
    "start_time": "2025-02-07T21:02:09.434Z"
   },
   {
    "duration": 18,
    "start_time": "2025-02-07T21:02:09.621Z"
   },
   {
    "duration": 25,
    "start_time": "2025-02-07T21:02:09.645Z"
   },
   {
    "duration": 12,
    "start_time": "2025-02-07T21:02:09.672Z"
   },
   {
    "duration": 29,
    "start_time": "2025-02-07T21:02:09.686Z"
   },
   {
    "duration": 24,
    "start_time": "2025-02-07T21:02:09.734Z"
   },
   {
    "duration": 130,
    "start_time": "2025-02-07T21:02:09.761Z"
   },
   {
    "duration": 60,
    "start_time": "2025-02-07T21:02:09.893Z"
   },
   {
    "duration": 131,
    "start_time": "2025-02-07T21:02:09.955Z"
   },
   {
    "duration": 165,
    "start_time": "2025-02-07T21:02:10.088Z"
   },
   {
    "duration": 14,
    "start_time": "2025-02-07T21:02:10.257Z"
   },
   {
    "duration": 31,
    "start_time": "2025-02-07T21:02:10.272Z"
   },
   {
    "duration": 57,
    "start_time": "2025-02-07T21:02:10.305Z"
   },
   {
    "duration": 32,
    "start_time": "2025-02-07T21:02:10.365Z"
   },
   {
    "duration": 46,
    "start_time": "2025-02-07T21:02:10.400Z"
   },
   {
    "duration": 45,
    "start_time": "2025-02-07T21:02:10.452Z"
   },
   {
    "duration": 47,
    "start_time": "2025-02-07T21:02:10.498Z"
   },
   {
    "duration": 42,
    "start_time": "2025-02-07T21:02:10.547Z"
   },
   {
    "duration": 30,
    "start_time": "2025-02-07T21:02:10.591Z"
   },
   {
    "duration": 61,
    "start_time": "2025-02-07T21:02:10.623Z"
   },
   {
    "duration": 114,
    "start_time": "2025-02-07T21:02:10.687Z"
   },
   {
    "duration": 81,
    "start_time": "2025-02-07T21:02:10.803Z"
   },
   {
    "duration": 6,
    "start_time": "2025-02-07T21:02:10.886Z"
   },
   {
    "duration": 46,
    "start_time": "2025-02-07T21:02:10.894Z"
   },
   {
    "duration": 9,
    "start_time": "2025-02-07T21:02:10.949Z"
   },
   {
    "duration": 38,
    "start_time": "2025-02-07T21:02:10.960Z"
   },
   {
    "duration": 53,
    "start_time": "2025-02-07T21:02:10.999Z"
   },
   {
    "duration": 412,
    "start_time": "2025-02-07T21:02:11.055Z"
   },
   {
    "duration": 325,
    "start_time": "2025-02-07T21:02:11.469Z"
   },
   {
    "duration": 49,
    "start_time": "2025-02-07T21:02:11.796Z"
   },
   {
    "duration": 1399,
    "start_time": "2025-02-07T21:02:11.851Z"
   },
   {
    "duration": 0,
    "start_time": "2025-02-07T21:02:13.252Z"
   },
   {
    "duration": 0,
    "start_time": "2025-02-07T21:02:13.253Z"
   },
   {
    "duration": 0,
    "start_time": "2025-02-07T21:02:13.255Z"
   },
   {
    "duration": 0,
    "start_time": "2025-02-07T21:02:13.256Z"
   },
   {
    "duration": 0,
    "start_time": "2025-02-07T21:02:13.257Z"
   },
   {
    "duration": 0,
    "start_time": "2025-02-07T21:02:13.258Z"
   },
   {
    "duration": 0,
    "start_time": "2025-02-07T21:02:13.260Z"
   },
   {
    "duration": 0,
    "start_time": "2025-02-07T21:02:13.261Z"
   },
   {
    "duration": 0,
    "start_time": "2025-02-07T21:02:13.262Z"
   },
   {
    "duration": 0,
    "start_time": "2025-02-07T21:02:13.264Z"
   },
   {
    "duration": 0,
    "start_time": "2025-02-07T21:02:13.265Z"
   },
   {
    "duration": 0,
    "start_time": "2025-02-07T21:02:13.266Z"
   },
   {
    "duration": 0,
    "start_time": "2025-02-07T21:02:13.267Z"
   },
   {
    "duration": 0,
    "start_time": "2025-02-07T21:02:13.268Z"
   },
   {
    "duration": 0,
    "start_time": "2025-02-07T21:02:13.269Z"
   },
   {
    "duration": 0,
    "start_time": "2025-02-07T21:02:13.270Z"
   },
   {
    "duration": 0,
    "start_time": "2025-02-07T21:02:13.272Z"
   },
   {
    "duration": 0,
    "start_time": "2025-02-07T21:02:13.272Z"
   },
   {
    "duration": 0,
    "start_time": "2025-02-07T21:02:13.273Z"
   },
   {
    "duration": 0,
    "start_time": "2025-02-07T21:02:13.275Z"
   },
   {
    "duration": 0,
    "start_time": "2025-02-07T21:02:13.276Z"
   },
   {
    "duration": 0,
    "start_time": "2025-02-07T21:02:13.278Z"
   },
   {
    "duration": 0,
    "start_time": "2025-02-07T21:02:13.279Z"
   },
   {
    "duration": 0,
    "start_time": "2025-02-07T21:02:13.280Z"
   },
   {
    "duration": 0,
    "start_time": "2025-02-07T21:02:13.282Z"
   },
   {
    "duration": 0,
    "start_time": "2025-02-07T21:02:13.283Z"
   },
   {
    "duration": 0,
    "start_time": "2025-02-07T21:02:13.284Z"
   },
   {
    "duration": 0,
    "start_time": "2025-02-07T21:02:13.285Z"
   },
   {
    "duration": 0,
    "start_time": "2025-02-07T21:02:13.287Z"
   },
   {
    "duration": 0,
    "start_time": "2025-02-07T21:02:13.333Z"
   },
   {
    "duration": 0,
    "start_time": "2025-02-07T21:02:13.335Z"
   },
   {
    "duration": 0,
    "start_time": "2025-02-07T21:02:13.338Z"
   },
   {
    "duration": 0,
    "start_time": "2025-02-07T21:02:13.341Z"
   },
   {
    "duration": 0,
    "start_time": "2025-02-07T21:02:13.343Z"
   },
   {
    "duration": 0,
    "start_time": "2025-02-07T21:02:13.351Z"
   },
   {
    "duration": 0,
    "start_time": "2025-02-07T21:02:13.357Z"
   },
   {
    "duration": 0,
    "start_time": "2025-02-07T21:02:13.358Z"
   },
   {
    "duration": 0,
    "start_time": "2025-02-07T21:02:13.359Z"
   },
   {
    "duration": 0,
    "start_time": "2025-02-07T21:02:13.360Z"
   },
   {
    "duration": 0,
    "start_time": "2025-02-07T21:02:13.362Z"
   },
   {
    "duration": 0,
    "start_time": "2025-02-07T21:02:13.363Z"
   },
   {
    "duration": 0,
    "start_time": "2025-02-07T21:02:13.364Z"
   },
   {
    "duration": 0,
    "start_time": "2025-02-07T21:02:13.365Z"
   },
   {
    "duration": 287,
    "start_time": "2025-02-07T21:04:00.059Z"
   },
   {
    "duration": 15,
    "start_time": "2025-02-07T21:04:08.820Z"
   },
   {
    "duration": 383,
    "start_time": "2025-02-07T21:04:09.931Z"
   },
   {
    "duration": 289,
    "start_time": "2025-02-07T21:04:23.246Z"
   },
   {
    "duration": 12,
    "start_time": "2025-02-07T21:04:27.232Z"
   },
   {
    "duration": 41,
    "start_time": "2025-02-07T21:04:27.388Z"
   },
   {
    "duration": 1191,
    "start_time": "2025-02-07T21:04:27.524Z"
   },
   {
    "duration": 180,
    "start_time": "2025-02-07T21:04:29.068Z"
   },
   {
    "duration": 352,
    "start_time": "2025-02-07T21:04:29.252Z"
   },
   {
    "duration": 261,
    "start_time": "2025-02-07T21:04:38.221Z"
   },
   {
    "duration": 134,
    "start_time": "2025-02-07T21:04:42.622Z"
   },
   {
    "duration": 295,
    "start_time": "2025-02-07T21:04:42.807Z"
   },
   {
    "duration": 44,
    "start_time": "2025-02-07T21:04:43.109Z"
   },
   {
    "duration": 674,
    "start_time": "2025-02-07T21:04:47.920Z"
   },
   {
    "duration": 4502,
    "start_time": "2025-02-07T21:04:59.775Z"
   },
   {
    "duration": 1011,
    "start_time": "2025-02-07T21:05:04.279Z"
   },
   {
    "duration": 18,
    "start_time": "2025-02-07T21:05:05.292Z"
   },
   {
    "duration": 199,
    "start_time": "2025-02-07T21:05:05.312Z"
   },
   {
    "duration": 12,
    "start_time": "2025-02-07T21:05:05.513Z"
   },
   {
    "duration": 27,
    "start_time": "2025-02-07T21:05:05.527Z"
   },
   {
    "duration": 89,
    "start_time": "2025-02-07T21:05:05.556Z"
   },
   {
    "duration": 59,
    "start_time": "2025-02-07T21:05:05.646Z"
   },
   {
    "duration": 29,
    "start_time": "2025-02-07T21:05:05.707Z"
   },
   {
    "duration": 132,
    "start_time": "2025-02-07T21:05:05.739Z"
   },
   {
    "duration": 78,
    "start_time": "2025-02-07T21:05:05.872Z"
   },
   {
    "duration": 156,
    "start_time": "2025-02-07T21:05:05.952Z"
   },
   {
    "duration": 163,
    "start_time": "2025-02-07T21:05:06.109Z"
   },
   {
    "duration": 27,
    "start_time": "2025-02-07T21:05:06.274Z"
   },
   {
    "duration": 36,
    "start_time": "2025-02-07T21:05:06.303Z"
   },
   {
    "duration": 67,
    "start_time": "2025-02-07T21:05:06.342Z"
   },
   {
    "duration": 58,
    "start_time": "2025-02-07T21:05:06.411Z"
   },
   {
    "duration": 24,
    "start_time": "2025-02-07T21:05:06.471Z"
   },
   {
    "duration": 79,
    "start_time": "2025-02-07T21:05:06.497Z"
   },
   {
    "duration": 34,
    "start_time": "2025-02-07T21:05:06.578Z"
   },
   {
    "duration": 63,
    "start_time": "2025-02-07T21:05:06.614Z"
   },
   {
    "duration": 28,
    "start_time": "2025-02-07T21:05:06.679Z"
   },
   {
    "duration": 66,
    "start_time": "2025-02-07T21:05:06.709Z"
   },
   {
    "duration": 106,
    "start_time": "2025-02-07T21:05:06.777Z"
   },
   {
    "duration": 80,
    "start_time": "2025-02-07T21:05:06.886Z"
   },
   {
    "duration": 8,
    "start_time": "2025-02-07T21:05:06.968Z"
   },
   {
    "duration": 92,
    "start_time": "2025-02-07T21:05:06.978Z"
   },
   {
    "duration": 8,
    "start_time": "2025-02-07T21:05:07.076Z"
   },
   {
    "duration": 26,
    "start_time": "2025-02-07T21:05:07.086Z"
   },
   {
    "duration": 28,
    "start_time": "2025-02-07T21:05:07.114Z"
   },
   {
    "duration": 383,
    "start_time": "2025-02-07T21:05:07.145Z"
   },
   {
    "duration": 359,
    "start_time": "2025-02-07T21:05:07.534Z"
   },
   {
    "duration": 53,
    "start_time": "2025-02-07T21:05:07.895Z"
   },
   {
    "duration": 288,
    "start_time": "2025-02-07T21:05:07.951Z"
   },
   {
    "duration": 14,
    "start_time": "2025-02-07T21:05:08.242Z"
   },
   {
    "duration": 486,
    "start_time": "2025-02-07T21:05:08.258Z"
   },
   {
    "duration": 289,
    "start_time": "2025-02-07T21:05:08.749Z"
   },
   {
    "duration": 18,
    "start_time": "2025-02-07T21:05:09.044Z"
   },
   {
    "duration": 47,
    "start_time": "2025-02-07T21:05:09.064Z"
   },
   {
    "duration": 274,
    "start_time": "2025-02-07T21:05:09.113Z"
   },
   {
    "duration": 165,
    "start_time": "2025-02-07T21:05:09.388Z"
   },
   {
    "duration": 307,
    "start_time": "2025-02-07T21:05:09.554Z"
   },
   {
    "duration": 26,
    "start_time": "2025-02-07T21:05:09.863Z"
   },
   {
    "duration": 659,
    "start_time": "2025-02-07T21:05:09.891Z"
   },
   {
    "duration": 408,
    "start_time": "2025-02-07T21:05:10.553Z"
   },
   {
    "duration": 7,
    "start_time": "2025-02-07T21:05:10.963Z"
   },
   {
    "duration": 93,
    "start_time": "2025-02-07T21:05:10.972Z"
   },
   {
    "duration": 18426,
    "start_time": "2025-02-07T21:05:11.067Z"
   },
   {
    "duration": 27,
    "start_time": "2025-02-07T21:05:29.495Z"
   },
   {
    "duration": 27301,
    "start_time": "2025-02-07T21:05:29.533Z"
   },
   {
    "duration": 1366,
    "start_time": "2025-02-07T21:05:56.836Z"
   },
   {
    "duration": 54,
    "start_time": "2025-02-07T21:05:58.204Z"
   },
   {
    "duration": 2674,
    "start_time": "2025-02-07T21:05:58.260Z"
   },
   {
    "duration": 640585,
    "start_time": "2025-02-07T21:06:00.937Z"
   },
   {
    "duration": 66,
    "start_time": "2025-02-07T21:16:41.523Z"
   },
   {
    "duration": 190184,
    "start_time": "2025-02-07T21:16:41.591Z"
   },
   {
    "duration": 4,
    "start_time": "2025-02-07T21:19:51.777Z"
   }
  ],
  "kernelspec": {
   "display_name": "Python 3 (ipykernel)",
   "language": "python",
   "name": "python3"
  },
  "language_info": {
   "codemirror_mode": {
    "name": "ipython",
    "version": 3
   },
   "file_extension": ".py",
   "mimetype": "text/x-python",
   "name": "python",
   "nbconvert_exporter": "python",
   "pygments_lexer": "ipython3",
   "version": "3.12.4"
  },
  "toc": {
   "base_numbering": 1,
   "nav_menu": {},
   "number_sections": true,
   "sideBar": true,
   "skip_h1_title": true,
   "title_cell": "Table of Contents",
   "title_sidebar": "Contents",
   "toc_cell": false,
   "toc_position": {},
   "toc_section_display": true,
   "toc_window_display": false
  }
 },
 "nbformat": 4,
 "nbformat_minor": 4
}
