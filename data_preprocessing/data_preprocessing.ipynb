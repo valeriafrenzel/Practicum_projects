{
 "cells": [
  {
   "cell_type": "markdown",
   "id": "2fdff297",
   "metadata": {
    "deletable": false,
    "editable": false,
    "id": "c81daeeb"
   },
   "source": [
    "# Исследование надежности заемщиков\n"
   ]
  },
  {
   "cell_type": "markdown",
   "id": "4d516324",
   "metadata": {
    "deletable": false,
    "editable": false,
    "id": "827c20bf"
   },
   "source": [
    "Во второй части проекта вы выполните шаги 3 и 4. Их вручную проверит ревьюер.\n",
    "Чтобы вам не пришлось писать код заново для шагов 1 и 2, мы добавили авторские решения в ячейки с кодом. \n",
    "\n"
   ]
  },
  {
   "cell_type": "markdown",
   "id": "c454fdb1",
   "metadata": {
    "deletable": false,
    "editable": false,
    "id": "744d7639"
   },
   "source": [
    "## Откройте таблицу и изучите общую информацию о данных"
   ]
  },
  {
   "cell_type": "markdown",
   "id": "e2bff4eb",
   "metadata": {
    "deletable": false,
    "editable": false,
    "id": "e7a14c31"
   },
   "source": [
    "**Задание 1. Импортируйте библиотеку pandas. Считайте данные из csv-файла в датафрейм и сохраните в переменную `data`. Путь к файлу:**\n",
    "\n",
    "`/datasets/data.csv`"
   ]
  },
  {
   "cell_type": "code",
   "execution_count": 1,
   "id": "d86b1069",
   "metadata": {
    "deletable": false,
    "id": "7bcf75c9"
   },
   "outputs": [],
   "source": [
    "import pandas as pd\n",
    "\n",
    "try:\n",
    "    data = pd.read_csv('/datasets/data.csv')\n",
    "except:\n",
    "    data = pd.read_csv('https://code.s3.yandex.net/datasets/data.csv')"
   ]
  },
  {
   "cell_type": "markdown",
   "id": "7f8928d2",
   "metadata": {
    "deletable": false,
    "editable": false,
    "id": "b8038fe3"
   },
   "source": [
    "**Задание 2. Выведите первые 20 строчек датафрейма `data` на экран.**"
   ]
  },
  {
   "cell_type": "code",
   "execution_count": 2,
   "id": "1e88ab67",
   "metadata": {
    "deletable": false,
    "id": "2a7cab99",
    "outputId": "1a8f3ef2-d323-4ec2-ddf7-89670b5944c4"
   },
   "outputs": [
    {
     "data": {
      "text/html": [
       "<div>\n",
       "<style scoped>\n",
       "    .dataframe tbody tr th:only-of-type {\n",
       "        vertical-align: middle;\n",
       "    }\n",
       "\n",
       "    .dataframe tbody tr th {\n",
       "        vertical-align: top;\n",
       "    }\n",
       "\n",
       "    .dataframe thead th {\n",
       "        text-align: right;\n",
       "    }\n",
       "</style>\n",
       "<table border=\"1\" class=\"dataframe\">\n",
       "  <thead>\n",
       "    <tr style=\"text-align: right;\">\n",
       "      <th></th>\n",
       "      <th>children</th>\n",
       "      <th>days_employed</th>\n",
       "      <th>dob_years</th>\n",
       "      <th>education</th>\n",
       "      <th>education_id</th>\n",
       "      <th>family_status</th>\n",
       "      <th>family_status_id</th>\n",
       "      <th>gender</th>\n",
       "      <th>income_type</th>\n",
       "      <th>debt</th>\n",
       "      <th>total_income</th>\n",
       "      <th>purpose</th>\n",
       "    </tr>\n",
       "  </thead>\n",
       "  <tbody>\n",
       "    <tr>\n",
       "      <th>0</th>\n",
       "      <td>1</td>\n",
       "      <td>-8437.673028</td>\n",
       "      <td>42</td>\n",
       "      <td>высшее</td>\n",
       "      <td>0</td>\n",
       "      <td>женат / замужем</td>\n",
       "      <td>0</td>\n",
       "      <td>F</td>\n",
       "      <td>сотрудник</td>\n",
       "      <td>0</td>\n",
       "      <td>253875.639453</td>\n",
       "      <td>покупка жилья</td>\n",
       "    </tr>\n",
       "    <tr>\n",
       "      <th>1</th>\n",
       "      <td>1</td>\n",
       "      <td>-4024.803754</td>\n",
       "      <td>36</td>\n",
       "      <td>среднее</td>\n",
       "      <td>1</td>\n",
       "      <td>женат / замужем</td>\n",
       "      <td>0</td>\n",
       "      <td>F</td>\n",
       "      <td>сотрудник</td>\n",
       "      <td>0</td>\n",
       "      <td>112080.014102</td>\n",
       "      <td>приобретение автомобиля</td>\n",
       "    </tr>\n",
       "    <tr>\n",
       "      <th>2</th>\n",
       "      <td>0</td>\n",
       "      <td>-5623.422610</td>\n",
       "      <td>33</td>\n",
       "      <td>Среднее</td>\n",
       "      <td>1</td>\n",
       "      <td>женат / замужем</td>\n",
       "      <td>0</td>\n",
       "      <td>M</td>\n",
       "      <td>сотрудник</td>\n",
       "      <td>0</td>\n",
       "      <td>145885.952297</td>\n",
       "      <td>покупка жилья</td>\n",
       "    </tr>\n",
       "    <tr>\n",
       "      <th>3</th>\n",
       "      <td>3</td>\n",
       "      <td>-4124.747207</td>\n",
       "      <td>32</td>\n",
       "      <td>среднее</td>\n",
       "      <td>1</td>\n",
       "      <td>женат / замужем</td>\n",
       "      <td>0</td>\n",
       "      <td>M</td>\n",
       "      <td>сотрудник</td>\n",
       "      <td>0</td>\n",
       "      <td>267628.550329</td>\n",
       "      <td>дополнительное образование</td>\n",
       "    </tr>\n",
       "    <tr>\n",
       "      <th>4</th>\n",
       "      <td>0</td>\n",
       "      <td>340266.072047</td>\n",
       "      <td>53</td>\n",
       "      <td>среднее</td>\n",
       "      <td>1</td>\n",
       "      <td>гражданский брак</td>\n",
       "      <td>1</td>\n",
       "      <td>F</td>\n",
       "      <td>пенсионер</td>\n",
       "      <td>0</td>\n",
       "      <td>158616.077870</td>\n",
       "      <td>сыграть свадьбу</td>\n",
       "    </tr>\n",
       "    <tr>\n",
       "      <th>5</th>\n",
       "      <td>0</td>\n",
       "      <td>-926.185831</td>\n",
       "      <td>27</td>\n",
       "      <td>высшее</td>\n",
       "      <td>0</td>\n",
       "      <td>гражданский брак</td>\n",
       "      <td>1</td>\n",
       "      <td>M</td>\n",
       "      <td>компаньон</td>\n",
       "      <td>0</td>\n",
       "      <td>255763.565419</td>\n",
       "      <td>покупка жилья</td>\n",
       "    </tr>\n",
       "    <tr>\n",
       "      <th>6</th>\n",
       "      <td>0</td>\n",
       "      <td>-2879.202052</td>\n",
       "      <td>43</td>\n",
       "      <td>высшее</td>\n",
       "      <td>0</td>\n",
       "      <td>женат / замужем</td>\n",
       "      <td>0</td>\n",
       "      <td>F</td>\n",
       "      <td>компаньон</td>\n",
       "      <td>0</td>\n",
       "      <td>240525.971920</td>\n",
       "      <td>операции с жильем</td>\n",
       "    </tr>\n",
       "    <tr>\n",
       "      <th>7</th>\n",
       "      <td>0</td>\n",
       "      <td>-152.779569</td>\n",
       "      <td>50</td>\n",
       "      <td>СРЕДНЕЕ</td>\n",
       "      <td>1</td>\n",
       "      <td>женат / замужем</td>\n",
       "      <td>0</td>\n",
       "      <td>M</td>\n",
       "      <td>сотрудник</td>\n",
       "      <td>0</td>\n",
       "      <td>135823.934197</td>\n",
       "      <td>образование</td>\n",
       "    </tr>\n",
       "    <tr>\n",
       "      <th>8</th>\n",
       "      <td>2</td>\n",
       "      <td>-6929.865299</td>\n",
       "      <td>35</td>\n",
       "      <td>ВЫСШЕЕ</td>\n",
       "      <td>0</td>\n",
       "      <td>гражданский брак</td>\n",
       "      <td>1</td>\n",
       "      <td>F</td>\n",
       "      <td>сотрудник</td>\n",
       "      <td>0</td>\n",
       "      <td>95856.832424</td>\n",
       "      <td>на проведение свадьбы</td>\n",
       "    </tr>\n",
       "    <tr>\n",
       "      <th>9</th>\n",
       "      <td>0</td>\n",
       "      <td>-2188.756445</td>\n",
       "      <td>41</td>\n",
       "      <td>среднее</td>\n",
       "      <td>1</td>\n",
       "      <td>женат / замужем</td>\n",
       "      <td>0</td>\n",
       "      <td>M</td>\n",
       "      <td>сотрудник</td>\n",
       "      <td>0</td>\n",
       "      <td>144425.938277</td>\n",
       "      <td>покупка жилья для семьи</td>\n",
       "    </tr>\n",
       "    <tr>\n",
       "      <th>10</th>\n",
       "      <td>2</td>\n",
       "      <td>-4171.483647</td>\n",
       "      <td>36</td>\n",
       "      <td>высшее</td>\n",
       "      <td>0</td>\n",
       "      <td>женат / замужем</td>\n",
       "      <td>0</td>\n",
       "      <td>M</td>\n",
       "      <td>компаньон</td>\n",
       "      <td>0</td>\n",
       "      <td>113943.491460</td>\n",
       "      <td>покупка недвижимости</td>\n",
       "    </tr>\n",
       "    <tr>\n",
       "      <th>11</th>\n",
       "      <td>0</td>\n",
       "      <td>-792.701887</td>\n",
       "      <td>40</td>\n",
       "      <td>среднее</td>\n",
       "      <td>1</td>\n",
       "      <td>женат / замужем</td>\n",
       "      <td>0</td>\n",
       "      <td>F</td>\n",
       "      <td>сотрудник</td>\n",
       "      <td>0</td>\n",
       "      <td>77069.234271</td>\n",
       "      <td>покупка коммерческой недвижимости</td>\n",
       "    </tr>\n",
       "    <tr>\n",
       "      <th>12</th>\n",
       "      <td>0</td>\n",
       "      <td>NaN</td>\n",
       "      <td>65</td>\n",
       "      <td>среднее</td>\n",
       "      <td>1</td>\n",
       "      <td>гражданский брак</td>\n",
       "      <td>1</td>\n",
       "      <td>M</td>\n",
       "      <td>пенсионер</td>\n",
       "      <td>0</td>\n",
       "      <td>NaN</td>\n",
       "      <td>сыграть свадьбу</td>\n",
       "    </tr>\n",
       "    <tr>\n",
       "      <th>13</th>\n",
       "      <td>0</td>\n",
       "      <td>-1846.641941</td>\n",
       "      <td>54</td>\n",
       "      <td>неоконченное высшее</td>\n",
       "      <td>2</td>\n",
       "      <td>женат / замужем</td>\n",
       "      <td>0</td>\n",
       "      <td>F</td>\n",
       "      <td>сотрудник</td>\n",
       "      <td>0</td>\n",
       "      <td>130458.228857</td>\n",
       "      <td>приобретение автомобиля</td>\n",
       "    </tr>\n",
       "    <tr>\n",
       "      <th>14</th>\n",
       "      <td>0</td>\n",
       "      <td>-1844.956182</td>\n",
       "      <td>56</td>\n",
       "      <td>высшее</td>\n",
       "      <td>0</td>\n",
       "      <td>гражданский брак</td>\n",
       "      <td>1</td>\n",
       "      <td>F</td>\n",
       "      <td>компаньон</td>\n",
       "      <td>1</td>\n",
       "      <td>165127.911772</td>\n",
       "      <td>покупка жилой недвижимости</td>\n",
       "    </tr>\n",
       "    <tr>\n",
       "      <th>15</th>\n",
       "      <td>1</td>\n",
       "      <td>-972.364419</td>\n",
       "      <td>26</td>\n",
       "      <td>среднее</td>\n",
       "      <td>1</td>\n",
       "      <td>женат / замужем</td>\n",
       "      <td>0</td>\n",
       "      <td>F</td>\n",
       "      <td>сотрудник</td>\n",
       "      <td>0</td>\n",
       "      <td>116820.904450</td>\n",
       "      <td>строительство собственной недвижимости</td>\n",
       "    </tr>\n",
       "    <tr>\n",
       "      <th>16</th>\n",
       "      <td>0</td>\n",
       "      <td>-1719.934226</td>\n",
       "      <td>35</td>\n",
       "      <td>среднее</td>\n",
       "      <td>1</td>\n",
       "      <td>женат / замужем</td>\n",
       "      <td>0</td>\n",
       "      <td>F</td>\n",
       "      <td>сотрудник</td>\n",
       "      <td>0</td>\n",
       "      <td>289202.704229</td>\n",
       "      <td>недвижимость</td>\n",
       "    </tr>\n",
       "    <tr>\n",
       "      <th>17</th>\n",
       "      <td>0</td>\n",
       "      <td>-2369.999720</td>\n",
       "      <td>33</td>\n",
       "      <td>высшее</td>\n",
       "      <td>0</td>\n",
       "      <td>гражданский брак</td>\n",
       "      <td>1</td>\n",
       "      <td>M</td>\n",
       "      <td>сотрудник</td>\n",
       "      <td>0</td>\n",
       "      <td>90410.586745</td>\n",
       "      <td>строительство недвижимости</td>\n",
       "    </tr>\n",
       "    <tr>\n",
       "      <th>18</th>\n",
       "      <td>0</td>\n",
       "      <td>400281.136913</td>\n",
       "      <td>53</td>\n",
       "      <td>среднее</td>\n",
       "      <td>1</td>\n",
       "      <td>вдовец / вдова</td>\n",
       "      <td>2</td>\n",
       "      <td>F</td>\n",
       "      <td>пенсионер</td>\n",
       "      <td>0</td>\n",
       "      <td>56823.777243</td>\n",
       "      <td>на покупку подержанного автомобиля</td>\n",
       "    </tr>\n",
       "    <tr>\n",
       "      <th>19</th>\n",
       "      <td>0</td>\n",
       "      <td>-10038.818549</td>\n",
       "      <td>48</td>\n",
       "      <td>СРЕДНЕЕ</td>\n",
       "      <td>1</td>\n",
       "      <td>в разводе</td>\n",
       "      <td>3</td>\n",
       "      <td>F</td>\n",
       "      <td>сотрудник</td>\n",
       "      <td>0</td>\n",
       "      <td>242831.107982</td>\n",
       "      <td>на покупку своего автомобиля</td>\n",
       "    </tr>\n",
       "  </tbody>\n",
       "</table>\n",
       "</div>"
      ],
      "text/plain": [
       "    children  days_employed  dob_years            education  education_id  \\\n",
       "0          1   -8437.673028         42               высшее             0   \n",
       "1          1   -4024.803754         36              среднее             1   \n",
       "2          0   -5623.422610         33              Среднее             1   \n",
       "3          3   -4124.747207         32              среднее             1   \n",
       "4          0  340266.072047         53              среднее             1   \n",
       "5          0    -926.185831         27               высшее             0   \n",
       "6          0   -2879.202052         43               высшее             0   \n",
       "7          0    -152.779569         50              СРЕДНЕЕ             1   \n",
       "8          2   -6929.865299         35               ВЫСШЕЕ             0   \n",
       "9          0   -2188.756445         41              среднее             1   \n",
       "10         2   -4171.483647         36               высшее             0   \n",
       "11         0    -792.701887         40              среднее             1   \n",
       "12         0            NaN         65              среднее             1   \n",
       "13         0   -1846.641941         54  неоконченное высшее             2   \n",
       "14         0   -1844.956182         56               высшее             0   \n",
       "15         1    -972.364419         26              среднее             1   \n",
       "16         0   -1719.934226         35              среднее             1   \n",
       "17         0   -2369.999720         33               высшее             0   \n",
       "18         0  400281.136913         53              среднее             1   \n",
       "19         0  -10038.818549         48              СРЕДНЕЕ             1   \n",
       "\n",
       "       family_status  family_status_id gender income_type  debt  \\\n",
       "0    женат / замужем                 0      F   сотрудник     0   \n",
       "1    женат / замужем                 0      F   сотрудник     0   \n",
       "2    женат / замужем                 0      M   сотрудник     0   \n",
       "3    женат / замужем                 0      M   сотрудник     0   \n",
       "4   гражданский брак                 1      F   пенсионер     0   \n",
       "5   гражданский брак                 1      M   компаньон     0   \n",
       "6    женат / замужем                 0      F   компаньон     0   \n",
       "7    женат / замужем                 0      M   сотрудник     0   \n",
       "8   гражданский брак                 1      F   сотрудник     0   \n",
       "9    женат / замужем                 0      M   сотрудник     0   \n",
       "10   женат / замужем                 0      M   компаньон     0   \n",
       "11   женат / замужем                 0      F   сотрудник     0   \n",
       "12  гражданский брак                 1      M   пенсионер     0   \n",
       "13   женат / замужем                 0      F   сотрудник     0   \n",
       "14  гражданский брак                 1      F   компаньон     1   \n",
       "15   женат / замужем                 0      F   сотрудник     0   \n",
       "16   женат / замужем                 0      F   сотрудник     0   \n",
       "17  гражданский брак                 1      M   сотрудник     0   \n",
       "18    вдовец / вдова                 2      F   пенсионер     0   \n",
       "19         в разводе                 3      F   сотрудник     0   \n",
       "\n",
       "     total_income                                 purpose  \n",
       "0   253875.639453                           покупка жилья  \n",
       "1   112080.014102                 приобретение автомобиля  \n",
       "2   145885.952297                           покупка жилья  \n",
       "3   267628.550329              дополнительное образование  \n",
       "4   158616.077870                         сыграть свадьбу  \n",
       "5   255763.565419                           покупка жилья  \n",
       "6   240525.971920                       операции с жильем  \n",
       "7   135823.934197                             образование  \n",
       "8    95856.832424                   на проведение свадьбы  \n",
       "9   144425.938277                 покупка жилья для семьи  \n",
       "10  113943.491460                    покупка недвижимости  \n",
       "11   77069.234271       покупка коммерческой недвижимости  \n",
       "12            NaN                         сыграть свадьбу  \n",
       "13  130458.228857                 приобретение автомобиля  \n",
       "14  165127.911772              покупка жилой недвижимости  \n",
       "15  116820.904450  строительство собственной недвижимости  \n",
       "16  289202.704229                            недвижимость  \n",
       "17   90410.586745              строительство недвижимости  \n",
       "18   56823.777243      на покупку подержанного автомобиля  \n",
       "19  242831.107982            на покупку своего автомобиля  "
      ]
     },
     "execution_count": 2,
     "metadata": {},
     "output_type": "execute_result"
    }
   ],
   "source": [
    "data.head(20)"
   ]
  },
  {
   "cell_type": "markdown",
   "id": "275b315d",
   "metadata": {
    "deletable": false,
    "editable": false,
    "id": "1c12e233"
   },
   "source": [
    "**Задание 3. Выведите основную информацию о датафрейме с помощью метода `info()`.**"
   ]
  },
  {
   "cell_type": "code",
   "execution_count": 3,
   "id": "6d9e9ed9",
   "metadata": {
    "deletable": false,
    "id": "2b757bca",
    "outputId": "15376089-8dad-46c9-b520-c05248d43158"
   },
   "outputs": [
    {
     "name": "stdout",
     "output_type": "stream",
     "text": [
      "<class 'pandas.core.frame.DataFrame'>\n",
      "RangeIndex: 21525 entries, 0 to 21524\n",
      "Data columns (total 12 columns):\n",
      " #   Column            Non-Null Count  Dtype  \n",
      "---  ------            --------------  -----  \n",
      " 0   children          21525 non-null  int64  \n",
      " 1   days_employed     19351 non-null  float64\n",
      " 2   dob_years         21525 non-null  int64  \n",
      " 3   education         21525 non-null  object \n",
      " 4   education_id      21525 non-null  int64  \n",
      " 5   family_status     21525 non-null  object \n",
      " 6   family_status_id  21525 non-null  int64  \n",
      " 7   gender            21525 non-null  object \n",
      " 8   income_type       21525 non-null  object \n",
      " 9   debt              21525 non-null  int64  \n",
      " 10  total_income      19351 non-null  float64\n",
      " 11  purpose           21525 non-null  object \n",
      "dtypes: float64(2), int64(5), object(5)\n",
      "memory usage: 2.0+ MB\n"
     ]
    }
   ],
   "source": [
    "data.info()"
   ]
  },
  {
   "cell_type": "markdown",
   "id": "de308d9b",
   "metadata": {
    "deletable": false,
    "editable": false,
    "id": "333ec665"
   },
   "source": [
    "## Предобработка данных"
   ]
  },
  {
   "cell_type": "markdown",
   "id": "330a5246",
   "metadata": {
    "deletable": false,
    "editable": false,
    "id": "02d92d53"
   },
   "source": [
    "### Удаление пропусков"
   ]
  },
  {
   "cell_type": "markdown",
   "id": "91a0bc99",
   "metadata": {
    "deletable": false,
    "editable": false,
    "id": "cd84967c"
   },
   "source": [
    "**Задание 4. Выведите количество пропущенных значений для каждого столбца. Используйте комбинацию двух методов.**"
   ]
  },
  {
   "cell_type": "code",
   "execution_count": 4,
   "id": "c7c23911",
   "metadata": {
    "deletable": false,
    "id": "7f9b2309",
    "outputId": "81f4d817-781c-465c-ed15-91ce4446810d"
   },
   "outputs": [
    {
     "data": {
      "text/plain": [
       "children               0\n",
       "days_employed       2174\n",
       "dob_years              0\n",
       "education              0\n",
       "education_id           0\n",
       "family_status          0\n",
       "family_status_id       0\n",
       "gender                 0\n",
       "income_type            0\n",
       "debt                   0\n",
       "total_income        2174\n",
       "purpose                0\n",
       "dtype: int64"
      ]
     },
     "execution_count": 4,
     "metadata": {},
     "output_type": "execute_result"
    }
   ],
   "source": [
    "data.isna().sum()"
   ]
  },
  {
   "cell_type": "markdown",
   "id": "626391a1",
   "metadata": {
    "deletable": false,
    "editable": false,
    "id": "db86e27b"
   },
   "source": [
    "**Задание 5. В двух столбцах есть пропущенные значения. Один из них — `days_employed`. Пропуски в этом столбце вы обработаете на следующем этапе. Другой столбец с пропущенными значениями — `total_income` — хранит данные о доходах. На сумму дохода сильнее всего влияет тип занятости, поэтому заполнить пропуски в этом столбце нужно медианным значением по каждому типу из столбца `income_type`. Например, у человека с типом занятости `сотрудник` пропуск в столбце `total_income` должен быть заполнен медианным доходом среди всех записей с тем же типом.**"
   ]
  },
  {
   "cell_type": "code",
   "execution_count": 5,
   "id": "70a4f0ff",
   "metadata": {
    "deletable": false,
    "id": "42006a93"
   },
   "outputs": [],
   "source": [
    "for t in data['income_type'].unique():\n",
    "    data.loc[(data['income_type'] == t) & (data['total_income'].isna()), 'total_income'] = \\\n",
    "    data.loc[(data['income_type'] == t), 'total_income'].median()"
   ]
  },
  {
   "cell_type": "markdown",
   "id": "5464a2bb",
   "metadata": {
    "deletable": false,
    "editable": false,
    "id": "89da5ece"
   },
   "source": [
    "### Обработка аномальных значений"
   ]
  },
  {
   "cell_type": "markdown",
   "id": "ad2781e5",
   "metadata": {
    "deletable": false,
    "editable": false,
    "id": "57964554"
   },
   "source": [
    "**Задание 6. В данных могут встречаться артефакты (аномалии) — значения, которые не отражают действительность и появились по какой-то ошибке. таким артефактом будет отрицательное количество дней трудового стажа в столбце `days_employed`. Для реальных данных это нормально. Обработайте значения в этом столбце: замените все отрицательные значения положительными с помощью метода `abs()`.**"
   ]
  },
  {
   "cell_type": "code",
   "execution_count": 6,
   "id": "bc74fc65",
   "metadata": {
    "deletable": false,
    "id": "f6f055bf"
   },
   "outputs": [],
   "source": [
    "data['days_employed'] = data['days_employed'].abs()"
   ]
  },
  {
   "cell_type": "markdown",
   "id": "5bb2eb3f",
   "metadata": {
    "deletable": false,
    "editable": false,
    "id": "6107dd2f"
   },
   "source": [
    "**Задание 7. Для каждого типа занятости выведите медианное значение трудового стажа `days_employed` в днях.**"
   ]
  },
  {
   "cell_type": "code",
   "execution_count": 7,
   "id": "2fff389d",
   "metadata": {
    "deletable": false,
    "id": "85a5faf6",
    "outputId": "801ef80e-522b-4668-f34e-565af7432bcf"
   },
   "outputs": [
    {
     "data": {
      "text/plain": [
       "income_type\n",
       "безработный        366413.652744\n",
       "в декрете            3296.759962\n",
       "госслужащий          2689.368353\n",
       "компаньон            1547.382223\n",
       "пенсионер          365213.306266\n",
       "предприниматель       520.848083\n",
       "сотрудник            1574.202821\n",
       "студент               578.751554\n",
       "Name: days_employed, dtype: float64"
      ]
     },
     "execution_count": 7,
     "metadata": {},
     "output_type": "execute_result"
    }
   ],
   "source": [
    "data.groupby('income_type')['days_employed'].agg('median')"
   ]
  },
  {
   "cell_type": "markdown",
   "id": "3df31d1e",
   "metadata": {
    "deletable": false,
    "editable": false,
    "id": "38d1a030"
   },
   "source": [
    "У двух типов (безработные и пенсионеры) получатся аномально большие значения. Исправить такие значения сложно, поэтому оставьте их как есть. Тем более этот столбец не понадобится вам для исследования."
   ]
  },
  {
   "cell_type": "markdown",
   "id": "c46d3f3e",
   "metadata": {
    "deletable": false,
    "editable": false,
    "id": "d8a9f147"
   },
   "source": [
    "**Задание 8. Выведите перечень уникальных значений столбца `children`.**"
   ]
  },
  {
   "cell_type": "code",
   "execution_count": 8,
   "id": "dcab3cdc",
   "metadata": {
    "deletable": false,
    "id": "ef5056eb",
    "outputId": "6975b15c-7f95-4697-d16d-a0c79b657b03"
   },
   "outputs": [
    {
     "data": {
      "text/plain": [
       "array([ 1,  0,  3,  2, -1,  4, 20,  5])"
      ]
     },
     "execution_count": 8,
     "metadata": {},
     "output_type": "execute_result"
    }
   ],
   "source": [
    "data['children'].unique()"
   ]
  },
  {
   "cell_type": "markdown",
   "id": "eef3b864",
   "metadata": {
    "deletable": false,
    "editable": false,
    "id": "40b9ebf2"
   },
   "source": [
    "**Задание 9. В столбце `children` есть два аномальных значения. Удалите строки, в которых встречаются такие аномальные значения из датафрейма `data`.**"
   ]
  },
  {
   "cell_type": "code",
   "execution_count": 9,
   "id": "86454675",
   "metadata": {
    "deletable": false,
    "id": "3ff9801d"
   },
   "outputs": [],
   "source": [
    "data = data[(data['children'] != -1) & (data['children'] != 20)]"
   ]
  },
  {
   "cell_type": "markdown",
   "id": "33155cbe",
   "metadata": {
    "deletable": false,
    "editable": false,
    "id": "bbc4d0ce"
   },
   "source": [
    "**Задание 10. Ещё раз выведите перечень уникальных значений столбца `children`, чтобы убедиться, что артефакты удалены.**"
   ]
  },
  {
   "cell_type": "code",
   "execution_count": 10,
   "id": "69034ccb",
   "metadata": {
    "deletable": false,
    "id": "ad4fa8b7",
    "outputId": "b2097101-d49d-44d9-901b-32a65c9463d1"
   },
   "outputs": [
    {
     "data": {
      "text/plain": [
       "array([1, 0, 3, 2, 4, 5])"
      ]
     },
     "execution_count": 10,
     "metadata": {},
     "output_type": "execute_result"
    }
   ],
   "source": [
    "data['children'].unique()"
   ]
  },
  {
   "cell_type": "markdown",
   "id": "718fac4b",
   "metadata": {
    "deletable": false,
    "editable": false,
    "id": "75440b63"
   },
   "source": [
    "### Удаление пропусков (продолжение)"
   ]
  },
  {
   "cell_type": "markdown",
   "id": "98883f5c",
   "metadata": {
    "deletable": false,
    "editable": false,
    "id": "f4ea573f"
   },
   "source": [
    "**Задание 11. Заполните пропуски в столбце `days_employed` медианными значениями по каждого типа занятости `income_type`.**"
   ]
  },
  {
   "cell_type": "code",
   "execution_count": 11,
   "id": "34159d2c",
   "metadata": {
    "deletable": false,
    "id": "af6b1a7e"
   },
   "outputs": [],
   "source": [
    "for t in data['income_type'].unique():\n",
    "    data.loc[(data['income_type'] == t) & (data['days_employed'].isna()), 'days_employed'] = \\\n",
    "    data.loc[(data['income_type'] == t), 'days_employed'].median()"
   ]
  },
  {
   "cell_type": "markdown",
   "id": "26a785aa",
   "metadata": {
    "deletable": false,
    "editable": false,
    "id": "2753f40d"
   },
   "source": [
    "**Задание 12. Убедитесь, что все пропуски заполнены. Проверьте себя и ещё раз выведите количество пропущенных значений для каждого столбца с помощью двух методов.**"
   ]
  },
  {
   "cell_type": "code",
   "execution_count": 12,
   "id": "26b1bf48",
   "metadata": {
    "deletable": false,
    "id": "55f78bc2",
    "outputId": "8da1e4e1-358e-4e87-98c9-f261bce0a7b2"
   },
   "outputs": [
    {
     "data": {
      "text/plain": [
       "children            0\n",
       "days_employed       0\n",
       "dob_years           0\n",
       "education           0\n",
       "education_id        0\n",
       "family_status       0\n",
       "family_status_id    0\n",
       "gender              0\n",
       "income_type         0\n",
       "debt                0\n",
       "total_income        0\n",
       "purpose             0\n",
       "dtype: int64"
      ]
     },
     "execution_count": 12,
     "metadata": {},
     "output_type": "execute_result"
    }
   ],
   "source": [
    "data.isna().sum()"
   ]
  },
  {
   "cell_type": "markdown",
   "id": "1aafd31d",
   "metadata": {
    "deletable": false,
    "editable": false,
    "id": "ddc81e43"
   },
   "source": [
    "### Изменение типов данных"
   ]
  },
  {
   "cell_type": "markdown",
   "id": "3108f8f8",
   "metadata": {
    "deletable": false,
    "editable": false,
    "id": "42d19d24"
   },
   "source": [
    "**Задание 13. Замените вещественный тип данных в столбце `total_income` на целочисленный с помощью метода `astype()`.**"
   ]
  },
  {
   "cell_type": "code",
   "execution_count": 13,
   "id": "4a450d1c",
   "metadata": {
    "deletable": false,
    "id": "920b65ad"
   },
   "outputs": [],
   "source": [
    "data['total_income'] = data['total_income'].astype(int)"
   ]
  },
  {
   "cell_type": "markdown",
   "id": "4ede7c21",
   "metadata": {
    "deletable": false,
    "editable": false,
    "id": "80c420ba"
   },
   "source": [
    "### Обработка дубликатов"
   ]
  },
  {
   "cell_type": "markdown",
   "id": "4a7e0ae5",
   "metadata": {
    "deletable": false,
    "editable": false
   },
   "source": [
    "**Задание 14. Обработайте неявные дубликаты в столбце `education`. В этом столбце есть одни и те же значения, но записанные по-разному: с использованием заглавных и строчных букв. Приведите их к нижнему регистру. Проверьте остальные столбцы.**"
   ]
  },
  {
   "cell_type": "code",
   "execution_count": 14,
   "id": "f64c7f4f",
   "metadata": {
    "deletable": false
   },
   "outputs": [],
   "source": [
    "data['education'] = data['education'].str.lower()"
   ]
  },
  {
   "cell_type": "markdown",
   "id": "e9747b4e",
   "metadata": {
    "deletable": false,
    "editable": false,
    "id": "dc587695"
   },
   "source": [
    "**Задание 15. Выведите на экран количество строк-дубликатов в данных. Если такие строки присутствуют, удалите их.**"
   ]
  },
  {
   "cell_type": "code",
   "execution_count": 15,
   "id": "9fb95e97",
   "metadata": {
    "deletable": false,
    "id": "3ee445e4",
    "outputId": "9684deba-1934-42d1-99e1-cda61740f822"
   },
   "outputs": [
    {
     "data": {
      "text/plain": [
       "71"
      ]
     },
     "execution_count": 15,
     "metadata": {},
     "output_type": "execute_result"
    }
   ],
   "source": [
    "data.duplicated().sum()"
   ]
  },
  {
   "cell_type": "code",
   "execution_count": 16,
   "id": "3e670990",
   "metadata": {
    "deletable": false,
    "id": "8575fe05"
   },
   "outputs": [],
   "source": [
    "data = data.drop_duplicates()"
   ]
  },
  {
   "cell_type": "markdown",
   "id": "7add6713",
   "metadata": {
    "deletable": false,
    "editable": false,
    "id": "9904cf55"
   },
   "source": [
    "### Категоризация данных"
   ]
  },
  {
   "cell_type": "markdown",
   "id": "dae6df0b",
   "metadata": {
    "deletable": false,
    "editable": false,
    "id": "72fcc8a2"
   },
   "source": [
    "**Задание 16. На основании диапазонов, указанных ниже, создайте в датафрейме `data` столбец `total_income_category` с категориями:**\n",
    "\n",
    "- 0–30000 — `'E'`;\n",
    "- 30001–50000 — `'D'`;\n",
    "- 50001–200000 — `'C'`;\n",
    "- 200001–1000000 — `'B'`;\n",
    "- 1000001 и выше — `'A'`.\n",
    "\n",
    "\n",
    "**Например, кредитополучателю с доходом 25000 нужно назначить категорию `'E'`, а клиенту, получающему 235000, — `'B'`. Используйте собственную функцию с именем `categorize_income()` и метод `apply()`.**"
   ]
  },
  {
   "cell_type": "code",
   "execution_count": 17,
   "id": "4dd03260",
   "metadata": {
    "deletable": false,
    "id": "e1771346"
   },
   "outputs": [],
   "source": [
    "def categorize_income(income):\n",
    "    try:\n",
    "        if 0 <= income <= 30000:\n",
    "            return 'E'\n",
    "        elif 30001 <= income <= 50000:\n",
    "            return 'D'\n",
    "        elif 50001 <= income <= 200000:\n",
    "            return 'C'\n",
    "        elif 200001 <= income <= 1000000:\n",
    "            return 'B'\n",
    "        elif income >= 1000001:\n",
    "            return 'A'\n",
    "    except:\n",
    "        pass"
   ]
  },
  {
   "cell_type": "code",
   "execution_count": 18,
   "id": "e8dd8c06",
   "metadata": {
    "deletable": false,
    "id": "d5f3586d"
   },
   "outputs": [],
   "source": [
    "data['total_income_category'] = data['total_income'].apply(categorize_income)"
   ]
  },
  {
   "cell_type": "markdown",
   "id": "b68f8ed3",
   "metadata": {
    "deletable": false,
    "editable": false,
    "id": "dde49b5c"
   },
   "source": [
    "**Задание 17. Выведите на экран перечень уникальных целей взятия кредита из столбца `purpose`.**"
   ]
  },
  {
   "cell_type": "code",
   "execution_count": 19,
   "id": "a12d0c11",
   "metadata": {
    "deletable": false,
    "id": "f67ce9b3",
    "outputId": "673c12d9-7d7e-4ae0-9812-c622c89dd244"
   },
   "outputs": [
    {
     "data": {
      "text/plain": [
       "array(['покупка жилья', 'приобретение автомобиля',\n",
       "       'дополнительное образование', 'сыграть свадьбу',\n",
       "       'операции с жильем', 'образование', 'на проведение свадьбы',\n",
       "       'покупка жилья для семьи', 'покупка недвижимости',\n",
       "       'покупка коммерческой недвижимости', 'покупка жилой недвижимости',\n",
       "       'строительство собственной недвижимости', 'недвижимость',\n",
       "       'строительство недвижимости', 'на покупку подержанного автомобиля',\n",
       "       'на покупку своего автомобиля',\n",
       "       'операции с коммерческой недвижимостью',\n",
       "       'строительство жилой недвижимости', 'жилье',\n",
       "       'операции со своей недвижимостью', 'автомобили',\n",
       "       'заняться образованием', 'сделка с подержанным автомобилем',\n",
       "       'получение образования', 'автомобиль', 'свадьба',\n",
       "       'получение дополнительного образования', 'покупка своего жилья',\n",
       "       'операции с недвижимостью', 'получение высшего образования',\n",
       "       'свой автомобиль', 'сделка с автомобилем',\n",
       "       'профильное образование', 'высшее образование',\n",
       "       'покупка жилья для сдачи', 'на покупку автомобиля', 'ремонт жилью',\n",
       "       'заняться высшим образованием'], dtype=object)"
      ]
     },
     "execution_count": 19,
     "metadata": {},
     "output_type": "execute_result"
    }
   ],
   "source": [
    "data['purpose'].unique()"
   ]
  },
  {
   "cell_type": "markdown",
   "id": "a3c261f1",
   "metadata": {
    "deletable": false,
    "editable": false,
    "id": "85d0aef0"
   },
   "source": [
    "**Задание 18. Создайте функцию, которая на основании данных из столбца `purpose` сформирует новый столбец `purpose_category`, в который войдут следующие категории:**\n",
    "\n",
    "- `'операции с автомобилем'`,\n",
    "- `'операции с недвижимостью'`,\n",
    "- `'проведение свадьбы'`,\n",
    "- `'получение образования'`.\n",
    "\n",
    "**Например, если в столбце `purpose` находится подстрока `'на покупку автомобиля'`, то в столбце `purpose_category` должна появиться строка `'операции с автомобилем'`.**\n",
    "\n",
    "**Используйте собственную функцию с именем `categorize_purpose()` и метод `apply()`. Изучите данные в столбце `purpose` и определите, какие подстроки помогут вам правильно определить категорию.**"
   ]
  },
  {
   "cell_type": "code",
   "execution_count": 20,
   "id": "9a3f3e1d",
   "metadata": {
    "deletable": false,
    "id": "e149fab4"
   },
   "outputs": [],
   "source": [
    "def categorize_purpose(row):\n",
    "    try:\n",
    "        if 'автом' in row:\n",
    "            return 'операции с автомобилем'\n",
    "        elif 'жил' in row or 'недвиж' in row:\n",
    "            return 'операции с недвижимостью'\n",
    "        elif 'свад' in row:\n",
    "            return 'проведение свадьбы'\n",
    "        elif 'образов' in row:\n",
    "            return 'получение образования'\n",
    "    except:\n",
    "        return 'нет категории'"
   ]
  },
  {
   "cell_type": "code",
   "execution_count": 21,
   "id": "067ca1b1",
   "metadata": {
    "deletable": false,
    "id": "bf36e69b"
   },
   "outputs": [],
   "source": [
    "data['purpose_category'] = data['purpose'].apply(categorize_purpose)"
   ]
  },
  {
   "cell_type": "markdown",
   "id": "3ab5af11",
   "metadata": {
    "deletable": false,
    "editable": false,
    "id": "09b242bf"
   },
   "source": [
    "### Шаг 3. Исследуйте данные и ответьте на вопросы"
   ]
  },
  {
   "cell_type": "markdown",
   "id": "5c07328e",
   "metadata": {
    "deletable": false,
    "editable": false,
    "id": "c5d66278"
   },
   "source": [
    "#### 3.1 Есть ли зависимость между количеством детей и возвратом кредита в срок?"
   ]
  },
  {
   "cell_type": "code",
   "execution_count": 22,
   "id": "cb0256c0",
   "metadata": {
    "deletable": false,
    "id": "2cacfc4a"
   },
   "outputs": [],
   "source": [
    "# Считаем количество должников в каждой группе по количеству детей\n",
    "debt_count_children = data.groupby('children')['debt'].sum()\n",
    "\n"
   ]
  },
  {
   "cell_type": "code",
   "execution_count": 23,
   "id": "ab728e27",
   "metadata": {
    "deletable": false,
    "id": "2cacfc4a"
   },
   "outputs": [],
   "source": [
    "# Определяем общее количество людей в каждой группе по количеству детей\n",
    "total_count_children = data.groupby('children')['debt'].count()\n",
    "\n"
   ]
  },
  {
   "cell_type": "code",
   "execution_count": 24,
   "id": "3f5fa321",
   "metadata": {},
   "outputs": [],
   "source": [
    "# Вычисляем долю должников в каждой группе\n",
    "debt_ratio_children = debt_count_children / total_count_children\n",
    "\n"
   ]
  },
  {
   "cell_type": "code",
   "execution_count": 25,
   "id": "d7b85bd5",
   "metadata": {},
   "outputs": [
    {
     "name": "stdout",
     "output_type": "stream",
     "text": [
      "children\n",
      "4    0.097561\n",
      "2    0.094542\n",
      "1    0.092346\n",
      "3    0.081818\n",
      "0    0.075438\n",
      "5    0.000000\n",
      "Name: debt, dtype: float64\n"
     ]
    }
   ],
   "source": [
    "# Выводим результат, отсортированный по убыванию доли должников\n",
    "debt_ratio_children = debt_ratio_children.sort_values(ascending=False)\n",
    "print(debt_ratio_children)"
   ]
  },
  {
   "cell_type": "markdown",
   "id": "26dccc3d",
   "metadata": {
    "deletable": false,
    "id": "2cacfc4a"
   },
   "source": []
  },
  {
   "cell_type": "markdown",
   "id": "dedb6440",
   "metadata": {
    "deletable": false,
    "id": "3a6b99ec"
   },
   "source": [
    "**Вывод:** Результаты, которые мы получили, показывают долю должников для каждой категории `children` (количества детей). Можем сделать следующие выводы:\n",
    "\n",
    "- **4 детей: 9.76%** — Доля должников среди людей с 4 детьми составляет 9.76%. Это самая высокая доля среди всех категорий.\n",
    "- **2 детей: 9.45%** — Люди с 2 детьми также имеют относительно высокую долю должников, близкую к 9.45%.\n",
    "- **1 ребенок: 9.23%** — Люди с 1 ребенком имеют чуть более низкую долю должников — 9.23%.\n",
    "- **3 детей: 8.18%** — Доля должников среди людей с 3 детьми составляет 8.18%.\n",
    "- **0 детей: 7.54%** — Самая низкая доля должников наблюдается среди людей без детей — 7.54%.\n",
    "- **5 детей: 0%** — Нет должников среди людей с 5 детьми в предоставленных данных.\n",
    "\n",
    "Как мы можем интерпретировать полученные результаты:\n",
    "\n",
    "1. **Люди с 4 детьми** имеют самую высокую долю должников, что может свидетельствовать о большей финансовой нагрузке, связанной с большим количеством детей.\n",
    "  \n",
    "2. **Люди с 5 детьми** не имеют должников в данных, но это может быть связано с малым количеством наблюдений в этой группе (например, если таких людей очень мало).\n",
    "\n",
    "3. **Отсутствие детей** связано с самой низкой долей должников, что может указывать на меньшие финансовые обязательства.\n",
    "\n",
    "Выводы:\n",
    "\n",
    "Эти данные показывают, что, хотя абсолютное количество должников может быть выше в группах с меньшим количеством детей, группы с 4 детьми потенциально более рискованны для банка с точки зрения вероятности возникновения долга. Информация о доле должников в каждой группе может помочь банку принимать более взвешенные решения при оценке кредитных рисков.\n"
   ]
  },
  {
   "cell_type": "markdown",
   "id": "5372acdb",
   "metadata": {
    "deletable": false,
    "editable": false,
    "id": "97be82ca"
   },
   "source": [
    "#### 3.2 Есть ли зависимость между семейным положением и возвратом кредита в срок?"
   ]
  },
  {
   "cell_type": "code",
   "execution_count": 26,
   "id": "5a34f64b",
   "metadata": {
    "deletable": false,
    "id": "dc3f7ee8"
   },
   "outputs": [],
   "source": [
    "# Считаем количество должников в каждой группе по семейному положению\n",
    "debt_count_status = data.groupby('family_status')['debt'].sum()\n"
   ]
  },
  {
   "cell_type": "code",
   "execution_count": 27,
   "id": "b3e994a7",
   "metadata": {
    "id": "2cacfc4a"
   },
   "outputs": [],
   "source": [
    "# Определяем общее количество людей в каждой группе по по семейному положению\n",
    "total_count_status = data.groupby('family_status')['debt'].count()\n"
   ]
  },
  {
   "cell_type": "code",
   "execution_count": 28,
   "id": "1c03fe2e",
   "metadata": {},
   "outputs": [],
   "source": [
    "# Вычисляем долю должников в каждой группе\n",
    "debt_ratio_status = debt_count_status / total_count_status\n"
   ]
  },
  {
   "cell_type": "code",
   "execution_count": 29,
   "id": "5a53c1a1",
   "metadata": {},
   "outputs": [
    {
     "name": "stdout",
     "output_type": "stream",
     "text": [
      "family_status\n",
      "Не женат / не замужем    0.097639\n",
      "гражданский брак         0.093130\n",
      "женат / замужем          0.075606\n",
      "в разводе                0.070648\n",
      "вдовец / вдова           0.066246\n",
      "Name: debt, dtype: float64\n"
     ]
    }
   ],
   "source": [
    "# Выводим результат, отсортированный по убыванию доли должников\n",
    "debt_ratio_status = debt_ratio_status.sort_values(ascending=False)\n",
    "print(debt_ratio_status)"
   ]
  },
  {
   "cell_type": "markdown",
   "id": "f7403556",
   "metadata": {
    "deletable": false,
    "id": "1cef7837"
   },
   "source": [
    "**Вывод:** Полученные данные показывают, как семейное положение влияет на вероятность наличия долгов:\n",
    "\n",
    "1. **Не женат / не замужем (9.76%)**: У одиноких людей больше шансов иметь долги. Это может быть связано с меньшей финансовой стабильностью.\n",
    "  \n",
    "2. **Гражданский брак (9.31%)**: Люди, живущие вместе без брака, тоже часто имеют долги, хотя и немного реже, чем одинокие.\n",
    "\n",
    "3. **Женат / замужем (7.56%)**: Супруги реже имеют долги, вероятно, благодаря совместной финансовой поддержке и стабильности.\n",
    "\n",
    "4. **В разводе (7.06%)**: Разведённые люди имеют ещё меньше долгов, возможно, они стали осторожнее в финансах.\n",
    "\n",
    "5. **Вдовец / вдова (6.62%)**: Вдовы и вдовцы реже имеют долги, возможно из-за возраста и накопленного опыта.\n",
    "\n",
    "Вероятность наличия долгов снижается по мере перехода от \"не женат / не замужем\" к \"вдовец / вдова\". Это может свидетельствовать о том, что стабильность и ответственность, связанные с браком, а также возраст и жизненный опыт, оказывают значительное влияние на финансовое состояние и способность управлять долгами.\n",
    "\n",
    "Таким образом, семейное положение может быть важным фактором при оценке кредитных рисков. Люди, которые не состоят в браке или находятся в гражданском браке, могут представлять собой более высокий риск для кредиторов по сравнению с теми, кто состоит в зарегистрированном браке, разведены или овдовели."
   ]
  },
  {
   "cell_type": "markdown",
   "id": "2362c947",
   "metadata": {
    "deletable": false,
    "editable": false,
    "id": "1e8b2fca"
   },
   "source": [
    "#### 3.3 Есть ли зависимость между уровнем дохода и возвратом кредита в срок?"
   ]
  },
  {
   "cell_type": "code",
   "execution_count": 30,
   "id": "1017e628",
   "metadata": {
    "deletable": false,
    "id": "dc3f7ee8"
   },
   "outputs": [
    {
     "data": {
      "text/plain": [
       "total_income_category\n",
       "A       2\n",
       "B     354\n",
       "C    1353\n",
       "D      21\n",
       "E       2\n",
       "Name: debt, dtype: int64"
      ]
     },
     "execution_count": 30,
     "metadata": {},
     "output_type": "execute_result"
    }
   ],
   "source": [
    "# Считаем количество должников в каждой группе по уровню дохода\n",
    "debt_count_income = data.groupby('total_income_category')['debt'].sum()\n",
    "debt_count_income"
   ]
  },
  {
   "cell_type": "code",
   "execution_count": 31,
   "id": "a673476b",
   "metadata": {
    "id": "2cacfc4a"
   },
   "outputs": [
    {
     "data": {
      "text/plain": [
       "total_income_category\n",
       "A       25\n",
       "B     5014\n",
       "C    15921\n",
       "D      349\n",
       "E       22\n",
       "Name: debt, dtype: int64"
      ]
     },
     "execution_count": 31,
     "metadata": {},
     "output_type": "execute_result"
    }
   ],
   "source": [
    "# Определяем общее количество людей в каждой группе по уровню дохода\n",
    "total_count_income = data.groupby('total_income_category')['debt'].count()\n",
    "total_count_income\n"
   ]
  },
  {
   "cell_type": "code",
   "execution_count": 32,
   "id": "94e38b09",
   "metadata": {},
   "outputs": [],
   "source": [
    "# Вычисляем долю должников в каждой группе\n",
    "debt_ratio_income = debt_count_income / total_count_income\n"
   ]
  },
  {
   "cell_type": "code",
   "execution_count": 33,
   "id": "4ec6bc82",
   "metadata": {
    "deletable": false,
    "id": "cd7e3720"
   },
   "outputs": [
    {
     "name": "stdout",
     "output_type": "stream",
     "text": [
      "total_income_category\n",
      "E    0.090909\n",
      "C    0.084982\n",
      "A    0.080000\n",
      "B    0.070602\n",
      "D    0.060172\n",
      "Name: debt, dtype: float64\n"
     ]
    }
   ],
   "source": [
    "# Выводим результат, отсортированный по убыванию доли должников\n",
    "debt_ratio_income = debt_ratio_income.sort_values(ascending=False)\n",
    "print(debt_ratio_income)"
   ]
  },
  {
   "cell_type": "markdown",
   "id": "51c2a9bc",
   "metadata": {
    "deletable": false,
    "id": "e8593def"
   },
   "source": [
    "**Вывод:** \n",
    "\n",
    "*Анализ размеров групп и выводы:*\n",
    "\n",
    "1. **Размеры групп**:\n",
    "   - **Категория A** (доход 1,000,001 и выше): 25 человек, из них 2 должника.\n",
    "   - **Категория B** (доход 200,001–1,000,000): 5014 человек, из них 354 должника.\n",
    "   - **Категория C** (доход 50,001–200,000): 15,921 человек, из них 1353 должника.\n",
    "   - **Категория D** (доход 30,001–50,000): 349 человек, из них 21 должник.\n",
    "   - **Категория E** (доход до 30,000): 22 человека, из них 2 должника.\n",
    "   \n",
    "\n",
    "**Выводы:**\n",
    "\n",
    "1. **Достаточность числа клиентов для построения выводов**:\n",
    "   - **Категории B и C** имеют достаточно большие выборки (5014 и 15,921 человек соответственно) для построения надежных выводов о зависимости возврата кредита от уровня доходов.\n",
    "   - **Категории D** (349 человек) также может быть достаточно для анализа, хотя выборка существенно меньше, чем у категорий B и C, что может повлиять на надежность выводов о зависимости.\n",
    "   - **Категории A и E** (25 и 22 человека соответственно) слишком малы для статистически значимых выводов. Только 2 должника в каждой из этих категорий не позволяют делать уверенные заключения о реальной зависимости между уровнем дохода и возвратом кредита.\n",
    "\n",
    "2. **Зависимость между уровнем дохода и возвратом кредита**:\n",
    "   - **Категории B и D** (доход от 30,001 до 1,000,000) показывают более низкую долю должников (7.06% и 6.02% соответственно), что указывает на более ответственное управление кредитами в этих группах.\n",
    "   - **Категория C** (доход 50,001–200,000) имеет более высокую долю должников — 8.50%, что может указывать на повышенные риски в этой группе.\n",
    "   - **Категории A и E** из-за малой выборки не позволяют сделать надежные выводы. Несмотря на то что доля должников в категории E (9.09%) и A (8.00%) выше, чем в категориях B и D, эти данные не показательны из-за малого числа наблюдений.\n",
    "\n",
    "Итог:\n",
    "Зависимость между уровнем дохода и возвратом кредита в срок действительно существует, но она лучше видна в более крупных группах (B и C). Категории B и D, с доходами от 30,001 до 1,000,000, демонстрируют меньшую вероятность просрочки по кредитам. Для категорий A и E выводы нельзя считать надежными из-за малых размеров выборки."
   ]
  },
  {
   "cell_type": "markdown",
   "id": "f5be5e06",
   "metadata": {
    "deletable": false,
    "editable": false,
    "id": "99ecbd1f"
   },
   "source": [
    "#### 3.4 Как разные цели кредита влияют на его возврат в срок?"
   ]
  },
  {
   "cell_type": "code",
   "execution_count": 34,
   "id": "f18d2bc2",
   "metadata": {
    "deletable": false,
    "id": "2b687290"
   },
   "outputs": [],
   "source": [
    "# Считаем количество должников в каждой группе в зависимости от цели кредита\n",
    "debt_count_purpose = data.groupby('purpose_category')['debt'].sum()\n"
   ]
  },
  {
   "cell_type": "code",
   "execution_count": 35,
   "id": "66024e69",
   "metadata": {
    "id": "2cacfc4a"
   },
   "outputs": [],
   "source": [
    "# Определяем общее количество людей в каждой группе в зависимости от цели кредита\n",
    "total_count_purpose = data.groupby('purpose_category')['debt'].count()\n"
   ]
  },
  {
   "cell_type": "code",
   "execution_count": 36,
   "id": "e159b33e",
   "metadata": {},
   "outputs": [],
   "source": [
    "# Вычисляем долю должников в каждой группе\n",
    "debt_ratio_purpose = debt_count_purpose / total_count_purpose\n"
   ]
  },
  {
   "cell_type": "code",
   "execution_count": 37,
   "id": "0ebe72fa",
   "metadata": {},
   "outputs": [
    {
     "name": "stdout",
     "output_type": "stream",
     "text": [
      "purpose_category\n",
      "операции с автомобилем      0.093480\n",
      "получение образования       0.092528\n",
      "проведение свадьбы          0.079118\n",
      "операции с недвижимостью    0.072551\n",
      "Name: debt, dtype: float64\n"
     ]
    }
   ],
   "source": [
    "# Выводим результат, отсортированный по убыванию доли должников\n",
    "debt_ratio_purpose = debt_ratio_purpose.sort_values(ascending=False)\n",
    "print(debt_ratio_purpose)"
   ]
  },
  {
   "cell_type": "markdown",
   "id": "269d1eb7",
   "metadata": {
    "deletable": false,
    "id": "b4bb2ce6"
   },
   "source": [
    "**Вывод:** Данные показывают, как цель кредита влияет на вероятность просрочки:\n",
    "\n",
    "\n",
    "1. **операции с автомобилем (9.35%)**: Самая высокая вероятность просрочки, вероятно, из-за непредвиденных расходов.\n",
    "2. **получение образования (9.25%)**: Часто просрочки, так как доход от образования приходит не сразу.\n",
    "3. **проведение свадьбы (7.91%)**: Реже просрочки, так как расходы планируются заранее.\n",
    "4. **операции с недвижимостью (7.26%)**: Самая низкая вероятность просрочки, это может быть связано с тем, что недвижимость является значимым и долговременным активом, а заемщики более осторожны и ответственны при его покупке.\n",
    "\n",
    "**Итог**:\n",
    "Цель кредита существенно влияет на вероятность его просрочки. Кредиты на автомобиль и образование чаще просрочиваются, вероятно, из-за высокой стоимости и финансовой нагрузки, тогда как кредиты на свадьбу и недвижимость реже приводят к проблемам с возвратом, поскольку эти расходы обычно лучше планируются и связаны с важными жизненными решениями."
   ]
  },
  {
   "cell_type": "markdown",
   "id": "7d991843",
   "metadata": {
    "deletable": false,
    "editable": false,
    "id": "09c3ac4c"
   },
   "source": [
    "#### 3.5 Приведите возможные причины появления пропусков в исходных данных."
   ]
  },
  {
   "cell_type": "markdown",
   "id": "86b70ac5",
   "metadata": {
    "deletable": false,
    "id": "9da2ceda"
   },
   "source": [
    "*Ответ:* Пропуски в данных могут возникать по различным причинам. В нашем случае возможные причины появления пропусков в переменных `days_employed` и `total_income` могут быть следующими:\n",
    "\n",
    "1. **Отсутствие трудового стажа**: Пропуски в `days_employed` могут возникать у людей, у которых нет официального трудового стажа. Это касается людей, которые никогда не работали официально, не имели стабильной работы или, возможно, являются студентами или пенсионерами.\n",
    "\n",
    "2. **Расчет дохода на основании стажа**: Поскольку количество пропусков в `days_employed` и `total_income` идентичны, можно предположить, что доход рассчитывается на основании трудового стажа. Если стаж не указан, то доход также не может быть рассчитан, что приводит к пропускам в обеих переменных.\n",
    "\n",
    "3. **Случайные пропуски или технические ошибки**: Пропуски могут быть связаны с техническими ошибками при сборе или выгрузке данных. Например, данные могли быть не полностью заполнены или не корректно перенесены из одной системы в другую.\n",
    "\n",
    "4. **Ошибки ввода данных**: В некоторых случаях сотрудники, вводящие данные, могли случайно пропустить часть информации, особенно если она не является обязательной для заполнения.\n",
    "\n",
    "5. **Отсутствие актуальной информации**: В некоторых случаях данные могут отсутствовать, потому что клиент не предоставил актуальную информацию о своём стаже или доходе на момент подачи заявки на кредит.\n",
    "\n",
    "Эти причины должны быть учтены при дальнейшей работе с данными, чтобы минимизировать их влияние на результаты анализа."
   ]
  },
  {
   "cell_type": "markdown",
   "id": "030a7956",
   "metadata": {
    "deletable": false,
    "editable": false,
    "id": "7b0487d6"
   },
   "source": [
    "#### 3.6 Объясните, почему заполнить пропуски медианным значением — лучшее решение для количественных переменных."
   ]
  },
  {
   "cell_type": "markdown",
   "id": "e32d7536",
   "metadata": {
    "deletable": false,
    "id": "7ecf2b8e"
   },
   "source": [
    "**Ответ:** Заполнение пропусков медианным значением является предпочтительным решением для количественных переменных по нескольким причинам:\n",
    "\n",
    "Устойчивость к выбросам: Медианное значение устойчиво к аномально высоким или низким значениям (выбросам) в данных. В отличие от среднего значения, которое может сильно сместиться в сторону выбросов, медиана отражает центральное значение распределения, что делает её более надежной для замены пропусков.\n",
    "\n",
    "Представление наиболее частых данных: Медиана разделяет данные на две равные части, таким образом представляя типичное значение, которое находится в середине распределения. Это особенно важно в ситуациях, когда данные имеют смещённое распределение или наличие выбросов, которые искажают среднее значение.\n",
    "\n",
    "Сохранение реальности данных: Заполнение пропусков медианой позволяет сохранить реалистичное представление о данных, особенно в ситуациях, когда данные не распределены нормально. Например, если зарплаты большинства сотрудников находятся на уровне 100 000, а у немногих — значительно выше, медиана лучше отражает типичную зарплату в компании, чем среднее значение.\n",
    "\n",
    "Снижение искажения данных: Заполнение пропусков медианой помогает избежать искажения данных, которое могло бы возникнуть при использовании среднего значения. В результате, медиана помогает сохранить реальную структуру данных и обеспечивает более точные результаты анализа.\n",
    "\n",
    "Таким образом, заполнение пропусков медианным значением помогает избежать искажений, которые могут возникнуть при использовании среднего значения, и обеспечивает более точное и стабильное представление данных, особенно в присутствии выбросов или смещённого распределения."
   ]
  },
  {
   "cell_type": "markdown",
   "id": "6339d85d",
   "metadata": {
    "deletable": false,
    "editable": false,
    "id": "6db5255a"
   },
   "source": [
    "### Шаг 4: общий вывод."
   ]
  },
  {
   "cell_type": "markdown",
   "id": "c1049432",
   "metadata": {
    "deletable": false,
    "id": "bad65432"
   },
   "source": [
    "В ходе исследования нами была проведена предобработка данных - обработаны пропущенные значения, удалены явные и неявные дубликаты, изменены типы данных на необходимый, выделены категории данных для анализа.\n",
    "\n",
    "Анализ показал, что вероятность возникновения долгов и просрочек зависит от ряда факторов: количества детей, семейного положения, уровня дохода и цели кредита.\n",
    "\n",
    "1. **Количество детей**: Люди с большим количеством детей, особенно с четырьмя, имеют более высокую вероятность возникновения долгов, что может быть связано с большей финансовой нагрузкой. Наименьший риск наблюдается у людей без детей.\n",
    "Люди с 4 детьми имеют самую высокую долю должников — 9.76%, что может свидетельствовать о значительной финансовой нагрузке.\n",
    "У людей с 2 детьми также высокая доля должников — 9.45%.\n",
    "Люди с 1 ребенком имеют долю должников 9.23%.\n",
    "С 3 детьми — 8.18% должников.\n",
    "Самая низкая доля должников у людей без детей — 7.54%.\n",
    "У людей с 5 детьми доля должников составляет 0%, что может быть связано с малым количеством наблюдений в этой группе.\n",
    "\n",
    "2. **Семейное положение**: Одинокие люди и те, кто живет в гражданском браке, чаще сталкиваются с долгами, тогда как женатые, разведенные и вдовцы имеют меньший риск, вероятно, из-за стабильности и финансовой поддержки. Наибольший риск долгов у одиноких людей — 9.76%.\n",
    "Люди в гражданском браке имеют долю должников 9.31%.\n",
    "У женатых и замужних людей доля должников составляет 7.56%.\n",
    "Разведенные имеют долю должников 7.06%.\n",
    "Вдовы и вдовцы имеют самую низкую долю должников — 6.62%.\n",
    "\n",
    "3. **Уровень дохода**: Зависимость между уровнем дохода и возвратом кредита в срок действительно существует, но она лучше видна в более крупных группах (B и C). Категории B и D, с доходами от 30,001 до 1,000,000, демонстрируют меньшую вероятность просрочки по кредитам. Для категорий A и E выводы нельзя считать надежными из-за малых размеров выборки и необходимо более тщательное оценивание рисков перед выдачей кредита.\n",
    "\n",
    "4. **Цель кредита**: Кредиты на автомобиль и образование наиболее подвержены просрочкам, что может быть связано с высокими расходами и финансовой нагрузкой. Напротив, кредиты на свадьбу и недвижимость имеют наименьшую вероятность просрочки, что свидетельствует о более ответственном подходе к этим финансовым обязательствам. Кредиты на автомобиль имеют наибольшую долю просрочек — 9.35%.\n",
    "Кредиты на образование также имеют высокую долю просрочек — 9.25%.\n",
    "Кредиты на свадьбу реже просрочиваются — 7.91%.\n",
    "Самая низкая доля просрочек у кредитов на недвижимость — 7.26%.\n",
    "\n",
    "**Заключение**: Результаты показывают, что кредитный риск сильно зависит от сочетания личных и финансовых факторов. Для банков и кредиторов важно учитывать эти зависимости при оценке кредитоспособности клиентов, чтобы минимизировать риски невозврата.\n",
    "\n",
    "Эти выводы могут быть использованы для разработки более точных моделей кредитного скоринга и принятия решений в кредитной политике банков.\n",
    "\n",
    "\n",
    "**На основе проведенного анализа можно предложить следующие рекомендации для компании:**\n",
    "\n",
    "1. **Персонализация кредитных условий**:\n",
    "   - Семейное положение: Для одиноких людей и тех, кто живет в гражданском браке, стоит рассмотреть более строгие условия кредитования, так как они имеют более высокий риск возникновения долгов.\n",
    "   - Количество детей: Особое внимание следует уделить заемщикам с 4 детьми, предлагая им либо более низкие кредитные лимиты, либо обязательные консультации по финансовому планированию.\n",
    "\n",
    "2. **Усиление контроля за высокорисковыми категориями заемщиков**:\n",
    "   - Уровень дохода: Заемщики из категорий A и E требуют более тщательного анализа платежеспособности перед одобрением кредита из-за их малого числа и возможной вероятности просрочек.\n",
    "   - Цель кредита: Кредиты на автомобиль и образование требуют дополнительных мер по снижению рисков, таких как более высокие требования к первоначальному взносу или страхованию кредита.\n",
    "\n",
    "3. **Оптимизация кредитных предложений**:\n",
    "   - Категории с низким риском: Заемщикам из категорий дохода B и D, а также тем, кто берет кредиты на свадьбу или недвижимость, можно предложить более выгодные условия кредитования, чтобы стимулировать их активность.\n",
    "\n",
    "4. **Разработка улучшенных моделей кредитного скоринга**:\n",
    "   - Интегрировать выявленные зависимости (количество детей, семейное положение, уровень дохода и цель кредита) в алгоритмы оценки рисков для более точного прогнозирования вероятности возврата кредита.\n",
    "\n",
    "5. **Повышение финансовой грамотности**:\n",
    "   - Ввести обязательные образовательные программы для высокорисковых групп (например, с низким доходом или большим количеством детей) по управлению личными финансами и планированию бюджета.\n",
    "\n",
    "Эти рекомендации помогут компании снизить риски невозврата кредитов и улучшить качество портфеля клиентов, ориентируясь на выявленные зависимости и особенности различных групп заемщиков.\n",
    "\n",
    "\n"
   ]
  }
 ],
 "metadata": {
  "ExecuteTimeLog": [
   {
    "duration": 49,
    "start_time": "2024-08-28T13:56:48.241Z"
   },
   {
    "duration": 3,
    "start_time": "2024-08-28T13:56:55.541Z"
   },
   {
    "duration": 7,
    "start_time": "2024-08-28T13:57:00.567Z"
   },
   {
    "duration": 5,
    "start_time": "2024-08-28T13:57:07.337Z"
   },
   {
    "duration": 470,
    "start_time": "2024-08-28T13:57:11.374Z"
   },
   {
    "duration": 21,
    "start_time": "2024-08-28T13:57:12.152Z"
   },
   {
    "duration": 16,
    "start_time": "2024-08-28T13:57:12.520Z"
   },
   {
    "duration": 10,
    "start_time": "2024-08-28T13:57:13.246Z"
   },
   {
    "duration": 37,
    "start_time": "2024-08-28T13:57:13.607Z"
   },
   {
    "duration": 3,
    "start_time": "2024-08-28T13:57:14.157Z"
   },
   {
    "duration": 8,
    "start_time": "2024-08-28T13:57:14.531Z"
   },
   {
    "duration": 4,
    "start_time": "2024-08-28T13:57:15.067Z"
   },
   {
    "duration": 6,
    "start_time": "2024-08-28T13:57:15.415Z"
   },
   {
    "duration": 4,
    "start_time": "2024-08-28T13:57:15.786Z"
   },
   {
    "duration": 40,
    "start_time": "2024-08-28T13:57:20.045Z"
   },
   {
    "duration": 10,
    "start_time": "2024-08-28T13:57:20.956Z"
   },
   {
    "duration": 4,
    "start_time": "2024-08-28T13:57:21.748Z"
   },
   {
    "duration": 12,
    "start_time": "2024-08-28T13:57:23.012Z"
   },
   {
    "duration": 20,
    "start_time": "2024-08-28T13:57:23.388Z"
   },
   {
    "duration": 17,
    "start_time": "2024-08-28T13:57:23.573Z"
   },
   {
    "duration": 3,
    "start_time": "2024-08-28T13:57:24.119Z"
   },
   {
    "duration": 11,
    "start_time": "2024-08-28T13:57:24.316Z"
   },
   {
    "duration": 5,
    "start_time": "2024-08-28T13:57:24.922Z"
   },
   {
    "duration": 4,
    "start_time": "2024-08-28T13:57:25.390Z"
   },
   {
    "duration": 10,
    "start_time": "2024-08-28T13:57:25.788Z"
   },
   {
    "duration": 21,
    "start_time": "2024-08-28T13:57:27.314Z"
   },
   {
    "duration": 6,
    "start_time": "2024-08-28T13:59:21.843Z"
   },
   {
    "duration": 5,
    "start_time": "2024-08-28T14:00:13.042Z"
   },
   {
    "duration": 4,
    "start_time": "2024-08-28T14:00:16.096Z"
   },
   {
    "duration": 6,
    "start_time": "2024-08-28T14:00:57.104Z"
   },
   {
    "duration": 5,
    "start_time": "2024-08-28T14:01:32.885Z"
   },
   {
    "duration": 6,
    "start_time": "2024-08-28T14:01:40.244Z"
   },
   {
    "duration": 688,
    "start_time": "2024-08-28T14:02:16.081Z"
   },
   {
    "duration": 6,
    "start_time": "2024-08-28T14:02:25.044Z"
   },
   {
    "duration": 12,
    "start_time": "2024-08-28T14:04:31.513Z"
   },
   {
    "duration": 8,
    "start_time": "2024-08-28T14:05:15.202Z"
   },
   {
    "duration": 7,
    "start_time": "2024-08-28T14:06:25.338Z"
   },
   {
    "duration": 9,
    "start_time": "2024-08-28T14:06:46.504Z"
   },
   {
    "duration": 4,
    "start_time": "2024-08-28T14:08:29.162Z"
   },
   {
    "duration": 4,
    "start_time": "2024-08-28T14:09:08.154Z"
   },
   {
    "duration": 3,
    "start_time": "2024-08-28T14:09:11.362Z"
   },
   {
    "duration": 4,
    "start_time": "2024-08-28T14:11:04.077Z"
   },
   {
    "duration": 671,
    "start_time": "2024-08-28T14:11:18.445Z"
   },
   {
    "duration": 14,
    "start_time": "2024-08-28T14:20:50.482Z"
   },
   {
    "duration": 602,
    "start_time": "2024-08-28T14:21:03.806Z"
   },
   {
    "duration": 8,
    "start_time": "2024-08-28T14:22:01.862Z"
   },
   {
    "duration": 7,
    "start_time": "2024-08-28T14:22:16.050Z"
   },
   {
    "duration": 9,
    "start_time": "2024-08-28T14:22:26.089Z"
   },
   {
    "duration": 8,
    "start_time": "2024-08-28T14:22:36.242Z"
   },
   {
    "duration": 8,
    "start_time": "2024-08-28T14:22:42.209Z"
   },
   {
    "duration": 611,
    "start_time": "2024-08-28T14:29:54.320Z"
   },
   {
    "duration": 644,
    "start_time": "2024-08-28T14:30:19.183Z"
   },
   {
    "duration": 642,
    "start_time": "2024-08-28T14:30:25.667Z"
   },
   {
    "duration": 10,
    "start_time": "2024-08-28T14:33:56.163Z"
   },
   {
    "duration": 3,
    "start_time": "2024-08-28T14:35:09.615Z"
   },
   {
    "duration": 8,
    "start_time": "2024-08-28T14:35:17.789Z"
   },
   {
    "duration": 9,
    "start_time": "2024-08-28T14:35:37.096Z"
   },
   {
    "duration": 9,
    "start_time": "2024-08-28T14:35:43.553Z"
   },
   {
    "duration": 9,
    "start_time": "2024-08-28T14:43:50.347Z"
   },
   {
    "duration": 10,
    "start_time": "2024-08-28T14:44:03.128Z"
   },
   {
    "duration": 13,
    "start_time": "2024-08-28T14:45:34.998Z"
   },
   {
    "duration": 14,
    "start_time": "2024-08-28T14:47:31.819Z"
   },
   {
    "duration": 11,
    "start_time": "2024-08-28T14:48:32.554Z"
   },
   {
    "duration": 11,
    "start_time": "2024-08-28T14:50:10.831Z"
   },
   {
    "duration": 13,
    "start_time": "2024-08-28T14:51:13.407Z"
   },
   {
    "duration": 10,
    "start_time": "2024-08-28T14:51:20.420Z"
   },
   {
    "duration": 16,
    "start_time": "2024-08-28T15:10:52.021Z"
   },
   {
    "duration": 12,
    "start_time": "2024-08-28T15:11:12.573Z"
   },
   {
    "duration": 8,
    "start_time": "2024-08-28T15:12:08.433Z"
   },
   {
    "duration": 20,
    "start_time": "2024-08-28T15:13:14.099Z"
   },
   {
    "duration": 10,
    "start_time": "2024-08-28T15:13:56.501Z"
   },
   {
    "duration": 13,
    "start_time": "2024-08-28T15:16:00.186Z"
   },
   {
    "duration": 9,
    "start_time": "2024-08-28T15:17:36.684Z"
   },
   {
    "duration": 13,
    "start_time": "2024-08-28T15:26:57.242Z"
   },
   {
    "duration": 8,
    "start_time": "2024-08-28T15:27:47.740Z"
   },
   {
    "duration": 553,
    "start_time": "2024-08-28T19:13:26.488Z"
   },
   {
    "duration": 24,
    "start_time": "2024-08-28T19:13:27.043Z"
   },
   {
    "duration": 17,
    "start_time": "2024-08-28T19:13:27.068Z"
   },
   {
    "duration": 25,
    "start_time": "2024-08-28T19:13:27.087Z"
   },
   {
    "duration": 37,
    "start_time": "2024-08-28T19:13:27.114Z"
   },
   {
    "duration": 3,
    "start_time": "2024-08-28T19:13:27.153Z"
   },
   {
    "duration": 79,
    "start_time": "2024-08-28T19:13:27.158Z"
   },
   {
    "duration": 20,
    "start_time": "2024-08-28T19:13:27.238Z"
   },
   {
    "duration": 23,
    "start_time": "2024-08-28T19:13:27.260Z"
   },
   {
    "duration": 10,
    "start_time": "2024-08-28T19:13:27.288Z"
   },
   {
    "duration": 43,
    "start_time": "2024-08-28T19:13:27.300Z"
   },
   {
    "duration": 10,
    "start_time": "2024-08-28T19:13:27.345Z"
   },
   {
    "duration": 5,
    "start_time": "2024-08-28T19:13:27.357Z"
   },
   {
    "duration": 18,
    "start_time": "2024-08-28T19:13:27.363Z"
   },
   {
    "duration": 87,
    "start_time": "2024-08-28T19:13:27.383Z"
   },
   {
    "duration": 20,
    "start_time": "2024-08-28T19:13:27.471Z"
   },
   {
    "duration": 4,
    "start_time": "2024-08-28T19:13:27.492Z"
   },
   {
    "duration": 15,
    "start_time": "2024-08-28T19:13:27.498Z"
   },
   {
    "duration": 6,
    "start_time": "2024-08-28T19:13:27.515Z"
   },
   {
    "duration": 4,
    "start_time": "2024-08-28T19:13:27.523Z"
   },
   {
    "duration": 11,
    "start_time": "2024-08-28T19:13:27.528Z"
   },
   {
    "duration": 16,
    "start_time": "2024-08-28T19:13:27.540Z"
   },
   {
    "duration": 8,
    "start_time": "2024-08-28T19:13:27.558Z"
   },
   {
    "duration": 47,
    "start_time": "2024-08-28T19:13:27.567Z"
   },
   {
    "duration": 9,
    "start_time": "2024-08-28T19:13:27.615Z"
   },
   {
    "duration": 14,
    "start_time": "2024-08-28T19:13:27.625Z"
   },
   {
    "duration": 8,
    "start_time": "2024-08-28T19:13:27.640Z"
   },
   {
    "duration": 15,
    "start_time": "2024-08-28T19:13:27.651Z"
   },
   {
    "duration": 38,
    "start_time": "2024-08-28T19:13:27.668Z"
   },
   {
    "duration": 8,
    "start_time": "2024-08-28T19:14:02.121Z"
   },
   {
    "duration": 51,
    "start_time": "2024-08-29T07:48:17.273Z"
   },
   {
    "duration": 5,
    "start_time": "2024-08-29T07:48:27.655Z"
   },
   {
    "duration": 9,
    "start_time": "2024-08-29T07:48:41.951Z"
   },
   {
    "duration": 562,
    "start_time": "2024-08-29T07:49:11.950Z"
   },
   {
    "duration": 24,
    "start_time": "2024-08-29T07:49:12.514Z"
   },
   {
    "duration": 33,
    "start_time": "2024-08-29T07:49:12.540Z"
   },
   {
    "duration": 28,
    "start_time": "2024-08-29T07:49:12.576Z"
   },
   {
    "duration": 57,
    "start_time": "2024-08-29T07:49:12.607Z"
   },
   {
    "duration": 3,
    "start_time": "2024-08-29T07:49:12.666Z"
   },
   {
    "duration": 10,
    "start_time": "2024-08-29T07:49:12.671Z"
   },
   {
    "duration": 10,
    "start_time": "2024-08-29T07:49:12.683Z"
   },
   {
    "duration": 26,
    "start_time": "2024-08-29T07:49:12.695Z"
   },
   {
    "duration": 14,
    "start_time": "2024-08-29T07:49:12.722Z"
   },
   {
    "duration": 46,
    "start_time": "2024-08-29T07:49:12.737Z"
   },
   {
    "duration": 9,
    "start_time": "2024-08-29T07:49:12.785Z"
   },
   {
    "duration": 13,
    "start_time": "2024-08-29T07:49:12.796Z"
   },
   {
    "duration": 17,
    "start_time": "2024-08-29T07:49:12.811Z"
   },
   {
    "duration": 43,
    "start_time": "2024-08-29T07:49:12.829Z"
   },
   {
    "duration": 16,
    "start_time": "2024-08-29T07:49:12.875Z"
   },
   {
    "duration": 4,
    "start_time": "2024-08-29T07:49:12.893Z"
   },
   {
    "duration": 16,
    "start_time": "2024-08-29T07:49:12.898Z"
   },
   {
    "duration": 6,
    "start_time": "2024-08-29T07:49:12.916Z"
   },
   {
    "duration": 19,
    "start_time": "2024-08-29T07:49:12.923Z"
   },
   {
    "duration": 22,
    "start_time": "2024-08-29T07:49:12.943Z"
   },
   {
    "duration": 20,
    "start_time": "2024-08-29T07:49:12.967Z"
   },
   {
    "duration": 7,
    "start_time": "2024-08-29T07:49:12.988Z"
   },
   {
    "duration": 15,
    "start_time": "2024-08-29T07:49:12.997Z"
   },
   {
    "duration": 8,
    "start_time": "2024-08-29T07:49:13.013Z"
   },
   {
    "duration": 28,
    "start_time": "2024-08-29T07:49:13.022Z"
   },
   {
    "duration": 14,
    "start_time": "2024-08-29T07:49:13.052Z"
   },
   {
    "duration": 19,
    "start_time": "2024-08-29T07:49:13.068Z"
   },
   {
    "duration": 7,
    "start_time": "2024-08-29T07:49:13.089Z"
   },
   {
    "duration": 74,
    "start_time": "2024-08-29T07:49:45.195Z"
   },
   {
    "duration": 14,
    "start_time": "2024-08-29T07:50:30.100Z"
   },
   {
    "duration": 42,
    "start_time": "2024-08-29T07:51:07.189Z"
   },
   {
    "duration": 31,
    "start_time": "2024-08-29T07:51:38.401Z"
   },
   {
    "duration": 224,
    "start_time": "2024-08-29T07:51:54.282Z"
   },
   {
    "duration": 42,
    "start_time": "2024-08-29T07:52:04.657Z"
   },
   {
    "duration": 12,
    "start_time": "2024-08-29T07:52:18.931Z"
   },
   {
    "duration": 6,
    "start_time": "2024-08-29T07:54:20.297Z"
   },
   {
    "duration": 4,
    "start_time": "2024-08-29T07:55:31.148Z"
   },
   {
    "duration": 9,
    "start_time": "2024-08-29T07:55:37.164Z"
   },
   {
    "duration": 4,
    "start_time": "2024-08-29T07:56:10.685Z"
   },
   {
    "duration": 6,
    "start_time": "2024-08-29T07:56:17.057Z"
   },
   {
    "duration": 6,
    "start_time": "2024-08-29T07:56:23.986Z"
   },
   {
    "duration": 6,
    "start_time": "2024-08-29T07:56:34.128Z"
   },
   {
    "duration": 8,
    "start_time": "2024-08-29T07:56:39.820Z"
   },
   {
    "duration": 5,
    "start_time": "2024-08-29T08:00:29.522Z"
   },
   {
    "duration": 8,
    "start_time": "2024-08-29T08:00:48.333Z"
   },
   {
    "duration": 8,
    "start_time": "2024-08-29T08:01:29.747Z"
   },
   {
    "duration": 5,
    "start_time": "2024-08-29T08:08:33.804Z"
   },
   {
    "duration": 4,
    "start_time": "2024-08-29T08:08:35.212Z"
   },
   {
    "duration": 4,
    "start_time": "2024-08-29T08:08:35.882Z"
   },
   {
    "duration": 5,
    "start_time": "2024-08-29T08:08:36.482Z"
   },
   {
    "duration": 5,
    "start_time": "2024-08-29T08:09:43.394Z"
   },
   {
    "duration": 4,
    "start_time": "2024-08-29T08:09:44.235Z"
   },
   {
    "duration": 4,
    "start_time": "2024-08-29T08:09:44.425Z"
   },
   {
    "duration": 5,
    "start_time": "2024-08-29T08:09:45.149Z"
   },
   {
    "duration": 9,
    "start_time": "2024-08-29T08:10:45.957Z"
   },
   {
    "duration": 5,
    "start_time": "2024-08-29T08:11:57.072Z"
   },
   {
    "duration": 4,
    "start_time": "2024-08-29T08:12:53.380Z"
   },
   {
    "duration": 5,
    "start_time": "2024-08-29T08:13:21.044Z"
   },
   {
    "duration": 7,
    "start_time": "2024-08-29T08:13:56.802Z"
   },
   {
    "duration": 8,
    "start_time": "2024-08-29T08:13:57.422Z"
   },
   {
    "duration": 2,
    "start_time": "2024-08-29T08:13:58.037Z"
   },
   {
    "duration": 5,
    "start_time": "2024-08-29T08:13:58.735Z"
   },
   {
    "duration": 6,
    "start_time": "2024-08-29T08:14:26.397Z"
   },
   {
    "duration": 4,
    "start_time": "2024-08-29T08:14:42.379Z"
   },
   {
    "duration": 7,
    "start_time": "2024-08-29T08:28:38.032Z"
   },
   {
    "duration": 6,
    "start_time": "2024-08-29T08:28:38.531Z"
   },
   {
    "duration": 3,
    "start_time": "2024-08-29T08:28:39.076Z"
   },
   {
    "duration": 4,
    "start_time": "2024-08-29T08:28:39.627Z"
   },
   {
    "duration": 6,
    "start_time": "2024-08-29T08:41:52.368Z"
   },
   {
    "duration": 6,
    "start_time": "2024-08-29T08:42:49.028Z"
   },
   {
    "duration": 7,
    "start_time": "2024-08-29T08:42:49.533Z"
   },
   {
    "duration": 3,
    "start_time": "2024-08-29T08:42:50.074Z"
   },
   {
    "duration": 4,
    "start_time": "2024-08-29T08:42:50.660Z"
   },
   {
    "duration": 11,
    "start_time": "2024-08-29T08:43:09.591Z"
   },
   {
    "duration": 528,
    "start_time": "2024-08-29T09:11:56.116Z"
   },
   {
    "duration": 24,
    "start_time": "2024-08-29T09:11:56.646Z"
   },
   {
    "duration": 16,
    "start_time": "2024-08-29T09:11:56.671Z"
   },
   {
    "duration": 10,
    "start_time": "2024-08-29T09:11:56.689Z"
   },
   {
    "duration": 68,
    "start_time": "2024-08-29T09:11:56.701Z"
   },
   {
    "duration": 4,
    "start_time": "2024-08-29T09:11:56.771Z"
   },
   {
    "duration": 9,
    "start_time": "2024-08-29T09:11:56.776Z"
   },
   {
    "duration": 4,
    "start_time": "2024-08-29T09:11:56.787Z"
   },
   {
    "duration": 13,
    "start_time": "2024-08-29T09:11:56.793Z"
   },
   {
    "duration": 5,
    "start_time": "2024-08-29T09:11:56.808Z"
   },
   {
    "duration": 62,
    "start_time": "2024-08-29T09:11:56.814Z"
   },
   {
    "duration": 12,
    "start_time": "2024-08-29T09:11:56.878Z"
   },
   {
    "duration": 4,
    "start_time": "2024-08-29T09:11:56.892Z"
   },
   {
    "duration": 12,
    "start_time": "2024-08-29T09:11:56.900Z"
   },
   {
    "duration": 52,
    "start_time": "2024-08-29T09:11:56.914Z"
   },
   {
    "duration": 23,
    "start_time": "2024-08-29T09:11:56.968Z"
   },
   {
    "duration": 4,
    "start_time": "2024-08-29T09:11:56.992Z"
   },
   {
    "duration": 14,
    "start_time": "2024-08-29T09:11:56.997Z"
   },
   {
    "duration": 9,
    "start_time": "2024-08-29T09:11:57.012Z"
   },
   {
    "duration": 24,
    "start_time": "2024-08-29T09:11:57.022Z"
   },
   {
    "duration": 12,
    "start_time": "2024-08-29T09:11:57.047Z"
   },
   {
    "duration": 6,
    "start_time": "2024-08-29T09:11:57.061Z"
   },
   {
    "duration": 6,
    "start_time": "2024-08-29T09:11:57.069Z"
   },
   {
    "duration": 4,
    "start_time": "2024-08-29T09:11:57.077Z"
   },
   {
    "duration": 6,
    "start_time": "2024-08-29T09:11:57.083Z"
   },
   {
    "duration": 7,
    "start_time": "2024-08-29T09:11:57.091Z"
   },
   {
    "duration": 6,
    "start_time": "2024-08-29T09:11:57.099Z"
   },
   {
    "duration": 3,
    "start_time": "2024-08-29T09:11:57.107Z"
   },
   {
    "duration": 6,
    "start_time": "2024-08-29T09:11:57.145Z"
   },
   {
    "duration": 9,
    "start_time": "2024-08-29T09:11:57.152Z"
   },
   {
    "duration": 6,
    "start_time": "2024-08-29T09:11:57.163Z"
   },
   {
    "duration": 9,
    "start_time": "2024-08-29T09:11:57.170Z"
   },
   {
    "duration": 8,
    "start_time": "2024-08-29T09:11:57.180Z"
   },
   {
    "duration": 13,
    "start_time": "2024-08-29T09:11:57.190Z"
   },
   {
    "duration": 9,
    "start_time": "2024-08-29T09:11:57.204Z"
   },
   {
    "duration": 5,
    "start_time": "2024-08-29T09:11:57.215Z"
   },
   {
    "duration": 25,
    "start_time": "2024-08-29T09:11:57.221Z"
   },
   {
    "duration": 520,
    "start_time": "2024-08-29T09:22:34.936Z"
   },
   {
    "duration": 23,
    "start_time": "2024-08-29T09:22:35.458Z"
   },
   {
    "duration": 46,
    "start_time": "2024-08-29T09:22:35.483Z"
   },
   {
    "duration": 17,
    "start_time": "2024-08-29T09:22:35.530Z"
   },
   {
    "duration": 44,
    "start_time": "2024-08-29T09:22:35.549Z"
   },
   {
    "duration": 4,
    "start_time": "2024-08-29T09:22:35.594Z"
   },
   {
    "duration": 74,
    "start_time": "2024-08-29T09:22:35.599Z"
   },
   {
    "duration": 18,
    "start_time": "2024-08-29T09:22:35.676Z"
   },
   {
    "duration": 25,
    "start_time": "2024-08-29T09:22:35.695Z"
   },
   {
    "duration": 53,
    "start_time": "2024-08-29T09:22:35.722Z"
   },
   {
    "duration": 52,
    "start_time": "2024-08-29T09:22:35.777Z"
   },
   {
    "duration": 12,
    "start_time": "2024-08-29T09:22:35.831Z"
   },
   {
    "duration": 43,
    "start_time": "2024-08-29T09:22:35.844Z"
   },
   {
    "duration": 39,
    "start_time": "2024-08-29T09:22:35.889Z"
   },
   {
    "duration": 56,
    "start_time": "2024-08-29T09:22:35.930Z"
   },
   {
    "duration": 17,
    "start_time": "2024-08-29T09:22:35.988Z"
   },
   {
    "duration": 14,
    "start_time": "2024-08-29T09:22:36.007Z"
   },
   {
    "duration": 24,
    "start_time": "2024-08-29T09:22:36.023Z"
   },
   {
    "duration": 25,
    "start_time": "2024-08-29T09:22:36.049Z"
   },
   {
    "duration": 11,
    "start_time": "2024-08-29T09:22:36.076Z"
   },
   {
    "duration": 22,
    "start_time": "2024-08-29T09:22:36.088Z"
   },
   {
    "duration": 51,
    "start_time": "2024-08-29T09:22:36.112Z"
   },
   {
    "duration": 26,
    "start_time": "2024-08-29T09:22:36.165Z"
   },
   {
    "duration": 15,
    "start_time": "2024-08-29T09:22:36.193Z"
   },
   {
    "duration": 34,
    "start_time": "2024-08-29T09:22:36.210Z"
   },
   {
    "duration": 16,
    "start_time": "2024-08-29T09:22:36.246Z"
   },
   {
    "duration": 14,
    "start_time": "2024-08-29T09:22:36.264Z"
   },
   {
    "duration": 6,
    "start_time": "2024-08-29T09:22:36.280Z"
   },
   {
    "duration": 34,
    "start_time": "2024-08-29T09:22:36.288Z"
   },
   {
    "duration": 16,
    "start_time": "2024-08-29T09:22:36.324Z"
   },
   {
    "duration": 12,
    "start_time": "2024-08-29T09:22:36.342Z"
   },
   {
    "duration": 9,
    "start_time": "2024-08-29T09:22:36.355Z"
   },
   {
    "duration": 18,
    "start_time": "2024-08-29T09:22:36.366Z"
   },
   {
    "duration": 12,
    "start_time": "2024-08-29T09:22:36.385Z"
   },
   {
    "duration": 17,
    "start_time": "2024-08-29T09:22:36.399Z"
   },
   {
    "duration": 6,
    "start_time": "2024-08-29T09:22:36.418Z"
   },
   {
    "duration": 7,
    "start_time": "2024-08-29T09:22:36.426Z"
   },
   {
    "duration": 45,
    "start_time": "2024-08-29T09:22:36.435Z"
   },
   {
    "duration": 8,
    "start_time": "2024-08-29T09:22:36.482Z"
   },
   {
    "duration": 3,
    "start_time": "2024-08-29T09:22:36.492Z"
   },
   {
    "duration": 16,
    "start_time": "2024-08-29T09:22:36.498Z"
   },
   {
    "duration": 475,
    "start_time": "2024-08-29T09:27:13.989Z"
   },
   {
    "duration": 22,
    "start_time": "2024-08-29T09:27:14.466Z"
   },
   {
    "duration": 92,
    "start_time": "2024-08-29T09:27:14.490Z"
   },
   {
    "duration": 15,
    "start_time": "2024-08-29T09:27:14.584Z"
   },
   {
    "duration": 37,
    "start_time": "2024-08-29T09:27:14.603Z"
   },
   {
    "duration": 5,
    "start_time": "2024-08-29T09:27:14.642Z"
   },
   {
    "duration": 13,
    "start_time": "2024-08-29T09:27:14.649Z"
   },
   {
    "duration": 5,
    "start_time": "2024-08-29T09:27:14.664Z"
   },
   {
    "duration": 10,
    "start_time": "2024-08-29T09:27:14.671Z"
   },
   {
    "duration": 13,
    "start_time": "2024-08-29T09:27:14.683Z"
   },
   {
    "duration": 71,
    "start_time": "2024-08-29T09:27:14.698Z"
   },
   {
    "duration": 12,
    "start_time": "2024-08-29T09:27:14.770Z"
   },
   {
    "duration": 19,
    "start_time": "2024-08-29T09:27:14.783Z"
   },
   {
    "duration": 23,
    "start_time": "2024-08-29T09:27:14.805Z"
   },
   {
    "duration": 42,
    "start_time": "2024-08-29T09:27:14.830Z"
   },
   {
    "duration": 18,
    "start_time": "2024-08-29T09:27:14.873Z"
   },
   {
    "duration": 3,
    "start_time": "2024-08-29T09:27:14.893Z"
   },
   {
    "duration": 21,
    "start_time": "2024-08-29T09:27:14.897Z"
   },
   {
    "duration": 17,
    "start_time": "2024-08-29T09:27:14.920Z"
   },
   {
    "duration": 14,
    "start_time": "2024-08-29T09:27:14.939Z"
   },
   {
    "duration": 28,
    "start_time": "2024-08-29T09:27:14.954Z"
   },
   {
    "duration": 5,
    "start_time": "2024-08-29T09:27:14.984Z"
   },
   {
    "duration": 4,
    "start_time": "2024-08-29T09:27:14.990Z"
   },
   {
    "duration": 3,
    "start_time": "2024-08-29T09:27:14.996Z"
   },
   {
    "duration": 34,
    "start_time": "2024-08-29T09:27:15.000Z"
   },
   {
    "duration": 54,
    "start_time": "2024-08-29T09:27:15.035Z"
   },
   {
    "duration": 29,
    "start_time": "2024-08-29T09:27:15.091Z"
   },
   {
    "duration": 7,
    "start_time": "2024-08-29T09:27:15.122Z"
   },
   {
    "duration": 13,
    "start_time": "2024-08-29T09:27:15.130Z"
   },
   {
    "duration": 25,
    "start_time": "2024-08-29T09:27:15.144Z"
   },
   {
    "duration": 53,
    "start_time": "2024-08-29T09:27:15.170Z"
   },
   {
    "duration": 41,
    "start_time": "2024-08-29T09:27:15.225Z"
   },
   {
    "duration": 41,
    "start_time": "2024-08-29T09:27:15.268Z"
   },
   {
    "duration": 29,
    "start_time": "2024-08-29T09:27:15.310Z"
   },
   {
    "duration": 43,
    "start_time": "2024-08-29T09:27:15.340Z"
   },
   {
    "duration": 32,
    "start_time": "2024-08-29T09:27:15.385Z"
   },
   {
    "duration": 34,
    "start_time": "2024-08-29T09:27:15.419Z"
   },
   {
    "duration": 43,
    "start_time": "2024-08-29T09:27:15.455Z"
   },
   {
    "duration": 33,
    "start_time": "2024-08-29T09:27:15.500Z"
   },
   {
    "duration": 134,
    "start_time": "2024-08-29T09:27:15.536Z"
   },
   {
    "duration": 17,
    "start_time": "2024-08-29T09:27:15.675Z"
   },
   {
    "duration": 573,
    "start_time": "2024-08-29T15:34:56.996Z"
   },
   {
    "duration": 30,
    "start_time": "2024-08-29T15:34:57.571Z"
   },
   {
    "duration": 23,
    "start_time": "2024-08-29T15:34:57.604Z"
   },
   {
    "duration": 12,
    "start_time": "2024-08-29T15:34:57.629Z"
   },
   {
    "duration": 55,
    "start_time": "2024-08-29T15:34:57.656Z"
   },
   {
    "duration": 4,
    "start_time": "2024-08-29T15:34:57.713Z"
   },
   {
    "duration": 12,
    "start_time": "2024-08-29T15:34:57.719Z"
   },
   {
    "duration": 5,
    "start_time": "2024-08-29T15:34:57.755Z"
   },
   {
    "duration": 44,
    "start_time": "2024-08-29T15:34:57.762Z"
   },
   {
    "duration": 34,
    "start_time": "2024-08-29T15:34:57.809Z"
   },
   {
    "duration": 41,
    "start_time": "2024-08-29T15:34:57.844Z"
   },
   {
    "duration": 11,
    "start_time": "2024-08-29T15:34:57.887Z"
   },
   {
    "duration": 19,
    "start_time": "2024-08-29T15:34:57.900Z"
   },
   {
    "duration": 35,
    "start_time": "2024-08-29T15:34:57.920Z"
   },
   {
    "duration": 21,
    "start_time": "2024-08-29T15:34:57.957Z"
   },
   {
    "duration": 18,
    "start_time": "2024-08-29T15:34:57.980Z"
   },
   {
    "duration": 4,
    "start_time": "2024-08-29T15:34:58.000Z"
   },
   {
    "duration": 15,
    "start_time": "2024-08-29T15:34:58.005Z"
   },
   {
    "duration": 8,
    "start_time": "2024-08-29T15:34:58.022Z"
   },
   {
    "duration": 3,
    "start_time": "2024-08-29T15:34:58.055Z"
   },
   {
    "duration": 88,
    "start_time": "2024-08-29T15:34:58.060Z"
   },
   {
    "duration": 5,
    "start_time": "2024-08-29T15:34:58.150Z"
   },
   {
    "duration": 4,
    "start_time": "2024-08-29T15:34:58.157Z"
   },
   {
    "duration": 12,
    "start_time": "2024-08-29T15:34:58.163Z"
   },
   {
    "duration": 6,
    "start_time": "2024-08-29T15:34:58.176Z"
   },
   {
    "duration": 26,
    "start_time": "2024-08-29T15:34:58.184Z"
   },
   {
    "duration": 11,
    "start_time": "2024-08-29T15:34:58.212Z"
   },
   {
    "duration": 3,
    "start_time": "2024-08-29T15:34:58.226Z"
   },
   {
    "duration": 7,
    "start_time": "2024-08-29T15:34:58.231Z"
   },
   {
    "duration": 9,
    "start_time": "2024-08-29T15:34:58.240Z"
   },
   {
    "duration": 6,
    "start_time": "2024-08-29T15:34:58.255Z"
   },
   {
    "duration": 6,
    "start_time": "2024-08-29T15:34:58.263Z"
   },
   {
    "duration": 6,
    "start_time": "2024-08-29T15:34:58.270Z"
   },
   {
    "duration": 7,
    "start_time": "2024-08-29T15:34:58.278Z"
   },
   {
    "duration": 6,
    "start_time": "2024-08-29T15:34:58.287Z"
   },
   {
    "duration": 4,
    "start_time": "2024-08-29T15:34:58.294Z"
   },
   {
    "duration": 7,
    "start_time": "2024-08-29T15:34:58.299Z"
   },
   {
    "duration": 9,
    "start_time": "2024-08-29T15:34:58.308Z"
   },
   {
    "duration": 40,
    "start_time": "2024-08-29T15:34:58.319Z"
   },
   {
    "duration": 18,
    "start_time": "2024-08-29T15:34:58.361Z"
   },
   {
    "duration": 7,
    "start_time": "2024-08-29T15:34:58.381Z"
   },
   {
    "duration": 65,
    "start_time": "2024-08-29T17:21:10.963Z"
   },
   {
    "duration": 641,
    "start_time": "2024-08-29T17:21:18.494Z"
   },
   {
    "duration": 23,
    "start_time": "2024-08-29T17:21:19.137Z"
   },
   {
    "duration": 15,
    "start_time": "2024-08-29T17:21:19.161Z"
   },
   {
    "duration": 10,
    "start_time": "2024-08-29T17:21:19.178Z"
   },
   {
    "duration": 45,
    "start_time": "2024-08-29T17:21:19.191Z"
   },
   {
    "duration": 3,
    "start_time": "2024-08-29T17:21:19.238Z"
   },
   {
    "duration": 19,
    "start_time": "2024-08-29T17:21:19.243Z"
   },
   {
    "duration": 4,
    "start_time": "2024-08-29T17:21:19.264Z"
   },
   {
    "duration": 9,
    "start_time": "2024-08-29T17:21:19.269Z"
   },
   {
    "duration": 4,
    "start_time": "2024-08-29T17:21:19.280Z"
   },
   {
    "duration": 36,
    "start_time": "2024-08-29T17:21:19.305Z"
   },
   {
    "duration": 10,
    "start_time": "2024-08-29T17:21:19.343Z"
   },
   {
    "duration": 4,
    "start_time": "2024-08-29T17:21:19.355Z"
   },
   {
    "duration": 11,
    "start_time": "2024-08-29T17:21:19.362Z"
   },
   {
    "duration": 58,
    "start_time": "2024-08-29T17:21:19.375Z"
   },
   {
    "duration": 18,
    "start_time": "2024-08-29T17:21:19.435Z"
   },
   {
    "duration": 4,
    "start_time": "2024-08-29T17:21:19.454Z"
   },
   {
    "duration": 12,
    "start_time": "2024-08-29T17:21:19.459Z"
   },
   {
    "duration": 6,
    "start_time": "2024-08-29T17:21:19.473Z"
   },
   {
    "duration": 4,
    "start_time": "2024-08-29T17:21:19.505Z"
   },
   {
    "duration": 12,
    "start_time": "2024-08-29T17:21:19.510Z"
   },
   {
    "duration": 5,
    "start_time": "2024-08-29T17:21:19.523Z"
   },
   {
    "duration": 5,
    "start_time": "2024-08-29T17:21:19.529Z"
   },
   {
    "duration": 69,
    "start_time": "2024-08-29T17:21:19.536Z"
   },
   {
    "duration": 8,
    "start_time": "2024-08-29T17:21:19.607Z"
   },
   {
    "duration": 22,
    "start_time": "2024-08-29T17:21:19.617Z"
   },
   {
    "duration": 6,
    "start_time": "2024-08-29T17:21:19.641Z"
   },
   {
    "duration": 3,
    "start_time": "2024-08-29T17:21:19.650Z"
   },
   {
    "duration": 5,
    "start_time": "2024-08-29T17:21:19.655Z"
   },
   {
    "duration": 10,
    "start_time": "2024-08-29T17:21:19.662Z"
   },
   {
    "duration": 7,
    "start_time": "2024-08-29T17:21:19.674Z"
   },
   {
    "duration": 22,
    "start_time": "2024-08-29T17:21:19.683Z"
   },
   {
    "duration": 6,
    "start_time": "2024-08-29T17:21:19.707Z"
   },
   {
    "duration": 23,
    "start_time": "2024-08-29T17:21:19.715Z"
   },
   {
    "duration": 6,
    "start_time": "2024-08-29T17:21:19.740Z"
   },
   {
    "duration": 4,
    "start_time": "2024-08-29T17:21:19.748Z"
   },
   {
    "duration": 5,
    "start_time": "2024-08-29T17:21:19.753Z"
   },
   {
    "duration": 6,
    "start_time": "2024-08-29T17:21:19.760Z"
   },
   {
    "duration": 5,
    "start_time": "2024-08-29T17:21:19.767Z"
   },
   {
    "duration": 9,
    "start_time": "2024-08-29T17:21:19.773Z"
   },
   {
    "duration": 5,
    "start_time": "2024-08-29T17:21:19.804Z"
   },
   {
    "duration": 7,
    "start_time": "2024-08-29T17:21:55.186Z"
   },
   {
    "duration": 6,
    "start_time": "2024-08-29T17:22:15.267Z"
   },
   {
    "duration": 520,
    "start_time": "2024-08-29T18:09:51.689Z"
   },
   {
    "duration": 23,
    "start_time": "2024-08-29T18:09:52.211Z"
   },
   {
    "duration": 29,
    "start_time": "2024-08-29T18:09:52.236Z"
   },
   {
    "duration": 35,
    "start_time": "2024-08-29T18:09:52.267Z"
   },
   {
    "duration": 156,
    "start_time": "2024-08-29T18:09:52.305Z"
   },
   {
    "duration": 160,
    "start_time": "2024-08-29T18:09:52.462Z"
   },
   {
    "duration": 49,
    "start_time": "2024-08-29T18:09:52.623Z"
   },
   {
    "duration": 85,
    "start_time": "2024-08-29T18:09:52.674Z"
   },
   {
    "duration": 14,
    "start_time": "2024-08-29T18:09:52.761Z"
   },
   {
    "duration": 12,
    "start_time": "2024-08-29T18:09:52.777Z"
   },
   {
    "duration": 49,
    "start_time": "2024-08-29T18:09:52.791Z"
   },
   {
    "duration": 13,
    "start_time": "2024-08-29T18:09:52.842Z"
   },
   {
    "duration": 8,
    "start_time": "2024-08-29T18:09:52.857Z"
   },
   {
    "duration": 34,
    "start_time": "2024-08-29T18:09:52.869Z"
   },
   {
    "duration": 90,
    "start_time": "2024-08-29T18:09:52.905Z"
   },
   {
    "duration": 19,
    "start_time": "2024-08-29T18:09:52.997Z"
   },
   {
    "duration": 5,
    "start_time": "2024-08-29T18:09:53.018Z"
   },
   {
    "duration": 14,
    "start_time": "2024-08-29T18:09:53.024Z"
   },
   {
    "duration": 14,
    "start_time": "2024-08-29T18:09:53.040Z"
   },
   {
    "duration": 4,
    "start_time": "2024-08-29T18:09:53.056Z"
   },
   {
    "duration": 38,
    "start_time": "2024-08-29T18:09:53.061Z"
   },
   {
    "duration": 23,
    "start_time": "2024-08-29T18:09:53.101Z"
   },
   {
    "duration": 5,
    "start_time": "2024-08-29T18:09:53.125Z"
   },
   {
    "duration": 13,
    "start_time": "2024-08-29T18:09:53.131Z"
   },
   {
    "duration": 6,
    "start_time": "2024-08-29T18:09:53.146Z"
   },
   {
    "duration": 13,
    "start_time": "2024-08-29T18:09:53.154Z"
   },
   {
    "duration": 19,
    "start_time": "2024-08-29T18:09:53.169Z"
   },
   {
    "duration": 10,
    "start_time": "2024-08-29T18:09:53.189Z"
   },
   {
    "duration": 5,
    "start_time": "2024-08-29T18:09:53.201Z"
   },
   {
    "duration": 20,
    "start_time": "2024-08-29T18:09:53.208Z"
   },
   {
    "duration": 25,
    "start_time": "2024-08-29T18:09:53.229Z"
   },
   {
    "duration": 33,
    "start_time": "2024-08-29T18:09:53.256Z"
   },
   {
    "duration": 36,
    "start_time": "2024-08-29T18:09:53.290Z"
   },
   {
    "duration": 8,
    "start_time": "2024-08-29T18:09:53.328Z"
   },
   {
    "duration": 6,
    "start_time": "2024-08-29T18:09:53.337Z"
   },
   {
    "duration": 15,
    "start_time": "2024-08-29T18:09:53.345Z"
   },
   {
    "duration": 9,
    "start_time": "2024-08-29T18:09:53.362Z"
   }
  ],
  "colab": {
   "name": "dpp_template_part2.ipynb",
   "provenance": []
  },
  "kernelspec": {
   "display_name": "Python 3 (ipykernel)",
   "language": "python",
   "name": "python3"
  },
  "language_info": {
   "codemirror_mode": {
    "name": "ipython",
    "version": 3
   },
   "file_extension": ".py",
   "mimetype": "text/x-python",
   "name": "python",
   "nbconvert_exporter": "python",
   "pygments_lexer": "ipython3",
   "version": "3.12.4"
  },
  "toc": {
   "base_numbering": 1,
   "nav_menu": {},
   "number_sections": true,
   "sideBar": true,
   "skip_h1_title": true,
   "title_cell": "Table of Contents",
   "title_sidebar": "Contents",
   "toc_cell": false,
   "toc_position": {},
   "toc_section_display": true,
   "toc_window_display": false
  }
 },
 "nbformat": 4,
 "nbformat_minor": 5
}
